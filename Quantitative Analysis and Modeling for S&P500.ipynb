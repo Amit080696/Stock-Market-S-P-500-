{
 "cells": [
  {
   "cell_type": "markdown",
   "metadata": {},
   "source": [
    "Stock Market S&P 500 - The S&P 500 is a stock market index that measures the stock performance of 506 large companies listed on stock exchanges in the United States"
   ]
  },
  {
   "cell_type": "code",
   "execution_count": 1,
   "metadata": {},
   "outputs": [
    {
     "data": {
      "text/html": [
       "        <script type=\"text/javascript\">\n",
       "        window.PlotlyConfig = {MathJaxConfig: 'local'};\n",
       "        if (window.MathJax) {MathJax.Hub.Config({SVG: {font: \"STIX-Web\"}});}\n",
       "        if (typeof require !== 'undefined') {\n",
       "        require.undef(\"plotly\");\n",
       "        requirejs.config({\n",
       "            paths: {\n",
       "                'plotly': ['https://cdn.plot.ly/plotly-latest.min']\n",
       "            }\n",
       "        });\n",
       "        require(['plotly'], function(Plotly) {\n",
       "            window._Plotly = Plotly;\n",
       "        });\n",
       "        }\n",
       "        </script>\n",
       "        "
      ]
     },
     "metadata": {},
     "output_type": "display_data"
    }
   ],
   "source": [
    "import pandas as pd\n",
    "%matplotlib inline\n",
    "import matplotlib.pyplot as plt\n",
    "import requests\n",
    "import io\n",
    "import seaborn as sns\n",
    "import numpy as np\n",
    "from datetime import datetime, date\n",
    "\n",
    "import plotly\n",
    "import plotly.express as px\n",
    "import plotly.graph_objs as go\n",
    "import chart_studio.plotly as py\n",
    "\n",
    "import cufflinks as cf\n",
    "from plotly.offline import iplot, init_notebook_mode, plot\n",
    "cf.go_offline()\n",
    "\n",
    "import quandl"
   ]
  },
  {
   "cell_type": "code",
   "execution_count": 2,
   "metadata": {},
   "outputs": [],
   "source": [
    "dataset = pd.read_csv('C:/Users/Amit Baghel/Desktop/S&P 500/cs-1.csv')"
   ]
  },
  {
   "cell_type": "code",
   "execution_count": 3,
   "metadata": {},
   "outputs": [
    {
     "data": {
      "text/html": [
       "<div>\n",
       "<style scoped>\n",
       "    .dataframe tbody tr th:only-of-type {\n",
       "        vertical-align: middle;\n",
       "    }\n",
       "\n",
       "    .dataframe tbody tr th {\n",
       "        vertical-align: top;\n",
       "    }\n",
       "\n",
       "    .dataframe thead th {\n",
       "        text-align: right;\n",
       "    }\n",
       "</style>\n",
       "<table border=\"1\" class=\"dataframe\">\n",
       "  <thead>\n",
       "    <tr style=\"text-align: right;\">\n",
       "      <th></th>\n",
       "      <th>date</th>\n",
       "      <th>open</th>\n",
       "      <th>high</th>\n",
       "      <th>low</th>\n",
       "      <th>close</th>\n",
       "      <th>volume</th>\n",
       "      <th>Name</th>\n",
       "    </tr>\n",
       "  </thead>\n",
       "  <tbody>\n",
       "    <tr>\n",
       "      <th>0</th>\n",
       "      <td>2013-02-08</td>\n",
       "      <td>15.07</td>\n",
       "      <td>15.12</td>\n",
       "      <td>14.63</td>\n",
       "      <td>14.75</td>\n",
       "      <td>8407500</td>\n",
       "      <td>AAL</td>\n",
       "    </tr>\n",
       "    <tr>\n",
       "      <th>1</th>\n",
       "      <td>2013-02-11</td>\n",
       "      <td>14.89</td>\n",
       "      <td>15.01</td>\n",
       "      <td>14.26</td>\n",
       "      <td>14.46</td>\n",
       "      <td>8882000</td>\n",
       "      <td>AAL</td>\n",
       "    </tr>\n",
       "    <tr>\n",
       "      <th>2</th>\n",
       "      <td>2013-02-12</td>\n",
       "      <td>14.45</td>\n",
       "      <td>14.51</td>\n",
       "      <td>14.10</td>\n",
       "      <td>14.27</td>\n",
       "      <td>8126000</td>\n",
       "      <td>AAL</td>\n",
       "    </tr>\n",
       "    <tr>\n",
       "      <th>3</th>\n",
       "      <td>2013-02-13</td>\n",
       "      <td>14.30</td>\n",
       "      <td>14.94</td>\n",
       "      <td>14.25</td>\n",
       "      <td>14.66</td>\n",
       "      <td>10259500</td>\n",
       "      <td>AAL</td>\n",
       "    </tr>\n",
       "    <tr>\n",
       "      <th>4</th>\n",
       "      <td>2013-02-14</td>\n",
       "      <td>14.94</td>\n",
       "      <td>14.96</td>\n",
       "      <td>13.16</td>\n",
       "      <td>13.99</td>\n",
       "      <td>31879900</td>\n",
       "      <td>AAL</td>\n",
       "    </tr>\n",
       "  </tbody>\n",
       "</table>\n",
       "</div>"
      ],
      "text/plain": [
       "         date   open   high    low  close    volume Name\n",
       "0  2013-02-08  15.07  15.12  14.63  14.75   8407500  AAL\n",
       "1  2013-02-11  14.89  15.01  14.26  14.46   8882000  AAL\n",
       "2  2013-02-12  14.45  14.51  14.10  14.27   8126000  AAL\n",
       "3  2013-02-13  14.30  14.94  14.25  14.66  10259500  AAL\n",
       "4  2013-02-14  14.94  14.96  13.16  13.99  31879900  AAL"
      ]
     },
     "execution_count": 3,
     "metadata": {},
     "output_type": "execute_result"
    }
   ],
   "source": [
    "dataset.head()"
   ]
  },
  {
   "cell_type": "code",
   "execution_count": 4,
   "metadata": {},
   "outputs": [
    {
     "name": "stdout",
     "output_type": "stream",
     "text": [
      "<class 'pandas.core.frame.DataFrame'>\n",
      "RangeIndex: 619040 entries, 0 to 619039\n",
      "Data columns (total 7 columns):\n",
      " #   Column  Non-Null Count   Dtype  \n",
      "---  ------  --------------   -----  \n",
      " 0   date    619040 non-null  object \n",
      " 1   open    619029 non-null  float64\n",
      " 2   high    619032 non-null  float64\n",
      " 3   low     619032 non-null  float64\n",
      " 4   close   619040 non-null  float64\n",
      " 5   volume  619040 non-null  int64  \n",
      " 6   Name    619040 non-null  object \n",
      "dtypes: float64(4), int64(1), object(2)\n",
      "memory usage: 33.1+ MB\n"
     ]
    }
   ],
   "source": [
    "dataset.info()"
   ]
  },
  {
   "cell_type": "code",
   "execution_count": 5,
   "metadata": {},
   "outputs": [],
   "source": [
    "median_open = dataset['open'].median() \n",
    "dataset['open'].fillna(median_open, inplace = True)\n",
    "median_low = dataset['open'].median() \n",
    "dataset['low'].fillna(median_low, inplace = True)\n",
    "median_high = dataset['open'].median() \n",
    "dataset['high'].fillna(median_high, inplace = True)"
   ]
  },
  {
   "cell_type": "code",
   "execution_count": 6,
   "metadata": {},
   "outputs": [
    {
     "data": {
      "text/plain": [
       "date      0\n",
       "open      0\n",
       "high      0\n",
       "low       0\n",
       "close     0\n",
       "volume    0\n",
       "Name      0\n",
       "dtype: int64"
      ]
     },
     "execution_count": 6,
     "metadata": {},
     "output_type": "execute_result"
    }
   ],
   "source": [
    "dataset.isnull().sum()"
   ]
  },
  {
   "cell_type": "code",
   "execution_count": 7,
   "metadata": {},
   "outputs": [
    {
     "data": {
      "text/plain": [
       "open      1.000000\n",
       "high      0.999939\n",
       "low       0.999927\n",
       "close     0.999853\n",
       "volume   -0.142703\n",
       "Name: open, dtype: float64"
      ]
     },
     "execution_count": 7,
     "metadata": {},
     "output_type": "execute_result"
    }
   ],
   "source": [
    "corr_matrix = dataset.corr()\n",
    "corr_matrix['open'].sort_values(ascending = False)"
   ]
  },
  {
   "cell_type": "code",
   "execution_count": 8,
   "metadata": {},
   "outputs": [
    {
     "data": {
      "text/plain": [
       "<AxesSubplot:>"
      ]
     },
     "execution_count": 8,
     "metadata": {},
     "output_type": "execute_result"
    },
    {
     "data": {
      "image/png": "[encoded data removed]",
      "text/plain": [
       "<Figure size 576x432 with 2 Axes>"
      ]
     },
     "metadata": {
      "needs_background": "light"
     },
     "output_type": "display_data"
    }
   ],
   "source": [
    "plt.figure(figsize=(8,6))\n",
    "corr=corr_matrix.corr(method='pearson')\n",
    "sns.heatmap(corr, annot=True,linewidths=.5,cmap = 'RdPu')"
   ]
  },
  {
   "cell_type": "code",
   "execution_count": 9,
   "metadata": {},
   "outputs": [
    {
     "name": "stdout",
     "output_type": "stream",
     "text": [
      "<class 'pandas.core.frame.DataFrame'>\n",
      "RangeIndex: 619040 entries, 0 to 619039\n",
      "Data columns (total 7 columns):\n",
      " #   Column  Non-Null Count   Dtype  \n",
      "---  ------  --------------   -----  \n",
      " 0   date    619040 non-null  object \n",
      " 1   open    619040 non-null  float64\n",
      " 2   high    619040 non-null  float64\n",
      " 3   low     619040 non-null  float64\n",
      " 4   close   619040 non-null  float64\n",
      " 5   volume  619040 non-null  int64  \n",
      " 6   Name    619040 non-null  object \n",
      "dtypes: float64(4), int64(1), object(2)\n",
      "memory usage: 33.1+ MB\n"
     ]
    }
   ],
   "source": [
    "dataset.info()"
   ]
  },
  {
   "cell_type": "code",
   "execution_count": 10,
   "metadata": {},
   "outputs": [],
   "source": [
    "dataset.loc[:, 'date'] = pd.to_datetime(dataset.loc[:,'date'], format=\"%Y/%m/%d\")"
   ]
  },
  {
   "cell_type": "code",
   "execution_count": 11,
   "metadata": {},
   "outputs": [],
   "source": [
    "#Extracting Year.\n",
    "dataset['Year'] =dataset['date'].dt.year\n",
    "\n",
    "#Extracting Month.\n",
    "dataset['Month'] =dataset['date'].dt.month_name(locale='English')\n",
    "\n",
    "#Extracting Weekdays\n",
    "dataset['Week_Days'] = dataset['date'].dt.day_name(locale = 'English')\n"
   ]
  },
  {
   "cell_type": "code",
   "execution_count": 12,
   "metadata": {},
   "outputs": [],
   "source": [
    "# Replace the column name from name to ticks\n",
    "dataset = dataset.rename(columns={'Name': 'Ticks'})"
   ]
  },
  {
   "cell_type": "code",
   "execution_count": 13,
   "metadata": {},
   "outputs": [
    {
     "data": {
      "text/html": [
       "<div>\n",
       "<style scoped>\n",
       "    .dataframe tbody tr th:only-of-type {\n",
       "        vertical-align: middle;\n",
       "    }\n",
       "\n",
       "    .dataframe tbody tr th {\n",
       "        vertical-align: top;\n",
       "    }\n",
       "\n",
       "    .dataframe thead th {\n",
       "        text-align: right;\n",
       "    }\n",
       "</style>\n",
       "<table border=\"1\" class=\"dataframe\">\n",
       "  <thead>\n",
       "    <tr style=\"text-align: right;\">\n",
       "      <th></th>\n",
       "      <th>date</th>\n",
       "      <th>open</th>\n",
       "      <th>high</th>\n",
       "      <th>low</th>\n",
       "      <th>close</th>\n",
       "      <th>volume</th>\n",
       "      <th>Ticks</th>\n",
       "      <th>Year</th>\n",
       "      <th>Month</th>\n",
       "      <th>Week_Days</th>\n",
       "    </tr>\n",
       "  </thead>\n",
       "  <tbody>\n",
       "    <tr>\n",
       "      <th>46387</th>\n",
       "      <td>2013-02-08</td>\n",
       "      <td>261.40</td>\n",
       "      <td>265.25</td>\n",
       "      <td>260.555</td>\n",
       "      <td>261.95</td>\n",
       "      <td>3879078</td>\n",
       "      <td>AMZN</td>\n",
       "      <td>2013</td>\n",
       "      <td>February</td>\n",
       "      <td>Friday</td>\n",
       "    </tr>\n",
       "    <tr>\n",
       "      <th>46388</th>\n",
       "      <td>2013-02-11</td>\n",
       "      <td>263.20</td>\n",
       "      <td>263.25</td>\n",
       "      <td>256.600</td>\n",
       "      <td>257.21</td>\n",
       "      <td>3403403</td>\n",
       "      <td>AMZN</td>\n",
       "      <td>2013</td>\n",
       "      <td>February</td>\n",
       "      <td>Monday</td>\n",
       "    </tr>\n",
       "    <tr>\n",
       "      <th>46389</th>\n",
       "      <td>2013-02-12</td>\n",
       "      <td>259.19</td>\n",
       "      <td>260.16</td>\n",
       "      <td>257.000</td>\n",
       "      <td>258.70</td>\n",
       "      <td>2938660</td>\n",
       "      <td>AMZN</td>\n",
       "      <td>2013</td>\n",
       "      <td>February</td>\n",
       "      <td>Tuesday</td>\n",
       "    </tr>\n",
       "    <tr>\n",
       "      <th>46390</th>\n",
       "      <td>2013-02-13</td>\n",
       "      <td>261.53</td>\n",
       "      <td>269.96</td>\n",
       "      <td>260.300</td>\n",
       "      <td>269.47</td>\n",
       "      <td>5292996</td>\n",
       "      <td>AMZN</td>\n",
       "      <td>2013</td>\n",
       "      <td>February</td>\n",
       "      <td>Wednesday</td>\n",
       "    </tr>\n",
       "    <tr>\n",
       "      <th>46391</th>\n",
       "      <td>2013-02-14</td>\n",
       "      <td>267.37</td>\n",
       "      <td>270.65</td>\n",
       "      <td>265.400</td>\n",
       "      <td>269.24</td>\n",
       "      <td>3462780</td>\n",
       "      <td>AMZN</td>\n",
       "      <td>2013</td>\n",
       "      <td>February</td>\n",
       "      <td>Thursday</td>\n",
       "    </tr>\n",
       "  </tbody>\n",
       "</table>\n",
       "</div>"
      ],
      "text/plain": [
       "            date    open    high      low   close   volume Ticks  Year  \\\n",
       "46387 2013-02-08  261.40  265.25  260.555  261.95  3879078  AMZN  2013   \n",
       "46388 2013-02-11  263.20  263.25  256.600  257.21  3403403  AMZN  2013   \n",
       "46389 2013-02-12  259.19  260.16  257.000  258.70  2938660  AMZN  2013   \n",
       "46390 2013-02-13  261.53  269.96  260.300  269.47  5292996  AMZN  2013   \n",
       "46391 2013-02-14  267.37  270.65  265.400  269.24  3462780  AMZN  2013   \n",
       "\n",
       "          Month  Week_Days  \n",
       "46387  February     Friday  \n",
       "46388  February     Monday  \n",
       "46389  February    Tuesday  \n",
       "46390  February  Wednesday  \n",
       "46391  February   Thursday  "
      ]
     },
     "execution_count": 13,
     "metadata": {},
     "output_type": "execute_result"
    }
   ],
   "source": [
    "# Let's analyze some of the stocks.\n",
    "amzn = dataset.loc[dataset['Ticks'] == 'AMZN']\n",
    "amzn.head()"
   ]
  },
  {
   "cell_type": "code",
   "execution_count": 14,
   "metadata": {},
   "outputs": [
    {
     "data": {
      "application/vnd.plotly.v1+json": {
       "config": {
        "linkText": "Export to plot.ly",
        "plotlyServerURL": "https://plot.ly",
        "showLink": true
       },
       "data": [
        {
         "marker": {
          "color": "rgba(128, 0, 128, 0.6)",
          "line": {
           "color": "rgba(128, 0, 128, 1.0)",
           "width": 1
          }
         },
         "name": "Week_Days",
         "orientation": "h",
         "text": "",
         "type": "bar",
         "x": [
          260,
          259,
          252,
          252,
          236
         ],
         "y": [
          "Tuesday",
          "Wednesday",
          "Thursday",
          "Friday",
          "Monday"
         ]
        }
       ],
       "layout": {
        "legend": {
         "bgcolor": "#F5F6F9",
         "font": {
          "color": "#4D5663"
         }
        },
        "paper_bgcolor": "#F5F6F9",
        "plot_bgcolor": "#F5F6F9",
        "template": {
         "data": {
          "bar": [
           {
            "error_x": {
             "color": "#2a3f5f"
            },
            "error_y": {
             "color": "#2a3f5f"
            },
            "marker": {
             "line": {
              "color": "#E5ECF6",
              "width": 0.5
             }
            },
            "type": "bar"
           }
          ],
          "barpolar": [
           {
            "marker": {
             "line": {
              "color": "#E5ECF6",
              "width": 0.5
             }
            },
            "type": "barpolar"
           }
          ],
          "carpet": [
           {
            "aaxis": {
             "endlinecolor": "#2a3f5f",
             "gridcolor": "white",
             "linecolor": "white",
             "minorgridcolor": "white",
             "startlinecolor": "#2a3f5f"
            },
            "baxis": {
             "endlinecolor": "#2a3f5f",
             "gridcolor": "white",
             "linecolor": "white",
             "minorgridcolor": "white",
             "startlinecolor": "#2a3f5f"
            },
            "type": "carpet"
           }
          ],
          "choropleth": [
           {
            "colorbar": {
             "outlinewidth": 0,
             "ticks": ""
            },
            "type": "choropleth"
           }
          ],
          "contour": [
           {
            "colorbar": {
             "outlinewidth": 0,
             "ticks": ""
            },
            "colorscale": [
             [
              0,
              "#0d0887"
             ],
             [
              0.1111111111111111,
              "#46039f"
             ],
             [
              0.2222222222222222,
              "#7201a8"
             ],
             [
              0.3333333333333333,
              "#9c179e"
             ],
             [
              0.4444444444444444,
              "#bd3786"
             ],
             [
              0.5555555555555556,
              "#d8576b"
             ],
             [
              0.6666666666666666,
              "#ed7953"
             ],
             [
              0.7777777777777778,
              "#fb9f3a"
             ],
             [
              0.8888888888888888,
              "#fdca26"
             ],
             [
              1,
              "#f0f921"
             ]
            ],
            "type": "contour"
           }
          ],
          "contourcarpet": [
           {
            "colorbar": {
             "outlinewidth": 0,
             "ticks": ""
            },
            "type": "contourcarpet"
           }
          ],
          "heatmap": [
           {
            "colorbar": {
             "outlinewidth": 0,
             "ticks": ""
            },
            "colorscale": [
             [
              0,
              "#0d0887"
             ],
             [
              0.1111111111111111,
              "#46039f"
             ],
             [
              0.2222222222222222,
              "#7201a8"
             ],
             [
              0.3333333333333333,
              "#9c179e"
             ],
             [
              0.4444444444444444,
              "#bd3786"
             ],
             [
              0.5555555555555556,
              "#d8576b"
             ],
             [
              0.6666666666666666,
              "#ed7953"
             ],
             [
              0.7777777777777778,
              "#fb9f3a"
             ],
             [
              0.8888888888888888,
              "#fdca26"
             ],
             [
              1,
              "#f0f921"
             ]
            ],
            "type": "heatmap"
           }
          ],
          "heatmapgl": [
           {
            "colorbar": {
             "outlinewidth": 0,
             "ticks": ""
            },
            "colorscale": [
             [
              0,
              "#0d0887"
             ],
             [
              0.1111111111111111,
              "#46039f"
             ],
             [
              0.2222222222222222,
              "#7201a8"
             ],
             [
              0.3333333333333333,
              "#9c179e"
             ],
             [
              0.4444444444444444,
              "#bd3786"
             ],
             [
              0.5555555555555556,
              "#d8576b"
             ],
             [
              0.6666666666666666,
              "#ed7953"
             ],
             [
              0.7777777777777778,
              "#fb9f3a"
             ],
             [
              0.8888888888888888,
              "#fdca26"
             ],
             [
              1,
              "#f0f921"
             ]
            ],
            "type": "heatmapgl"
           }
          ],
          "histogram": [
           {
            "marker": {
             "colorbar": {
              "outlinewidth": 0,
              "ticks": ""
             }
            },
            "type": "histogram"
           }
          ],
          "histogram2d": [
           {
            "colorbar": {
             "outlinewidth": 0,
             "ticks": ""
            },
            "colorscale": [
             [
              0,
              "#0d0887"
             ],
             [
              0.1111111111111111,
              "#46039f"
             ],
             [
              0.2222222222222222,
              "#7201a8"
             ],
             [
              0.3333333333333333,
              "#9c179e"
             ],
             [
              0.4444444444444444,
              "#bd3786"
             ],
             [
              0.5555555555555556,
              "#d8576b"
             ],
             [
              0.6666666666666666,
              "#ed7953"
             ],
             [
              0.7777777777777778,
              "#fb9f3a"
             ],
             [
              0.8888888888888888,
              "#fdca26"
             ],
             [
              1,
              "#f0f921"
             ]
            ],
            "type": "histogram2d"
           }
          ],
          "histogram2dcontour": [
           {
            "colorbar": {
             "outlinewidth": 0,
             "ticks": ""
            },
            "colorscale": [
             [
              0,
              "#0d0887"
             ],
             [
              0.1111111111111111,
              "#46039f"
             ],
             [
              0.2222222222222222,
              "#7201a8"
             ],
             [
              0.3333333333333333,
              "#9c179e"
             ],
             [
              0.4444444444444444,
              "#bd3786"
             ],
             [
              0.5555555555555556,
              "#d8576b"
             ],
             [
              0.6666666666666666,
              "#ed7953"
             ],
             [
              0.7777777777777778,
              "#fb9f3a"
             ],
             [
              0.8888888888888888,
              "#fdca26"
             ],
             [
              1,
              "#f0f921"
             ]
            ],
            "type": "histogram2dcontour"
           }
          ],
          "mesh3d": [
           {
            "colorbar": {
             "outlinewidth": 0,
             "ticks": ""
            },
            "type": "mesh3d"
           }
          ],
          "parcoords": [
           {
            "line": {
             "colorbar": {
              "outlinewidth": 0,
              "ticks": ""
             }
            },
            "type": "parcoords"
           }
          ],
          "pie": [
           {
            "automargin": true,
            "type": "pie"
           }
          ],
          "scatter": [
           {
            "marker": {
             "colorbar": {
              "outlinewidth": 0,
              "ticks": ""
             }
            },
            "type": "scatter"
           }
          ],
          "scatter3d": [
           {
            "line": {
             "colorbar": {
              "outlinewidth": 0,
              "ticks": ""
             }
            },
            "marker": {
             "colorbar": {
              "outlinewidth": 0,
              "ticks": ""
             }
            },
            "type": "scatter3d"
           }
          ],
          "scattercarpet": [
           {
            "marker": {
             "colorbar": {
              "outlinewidth": 0,
              "ticks": ""
             }
            },
            "type": "scattercarpet"
           }
          ],
          "scattergeo": [
           {
            "marker": {
             "colorbar": {
              "outlinewidth": 0,
              "ticks": ""
             }
            },
            "type": "scattergeo"
           }
          ],
          "scattergl": [
           {
            "marker": {
             "colorbar": {
              "outlinewidth": 0,
              "ticks": ""
             }
            },
            "type": "scattergl"
           }
          ],
          "scattermapbox": [
           {
            "marker": {
             "colorbar": {
              "outlinewidth": 0,
              "ticks": ""
             }
            },
            "type": "scattermapbox"
           }
          ],
          "scatterpolar": [
           {
            "marker": {
             "colorbar": {
              "outlinewidth": 0,
              "ticks": ""
             }
            },
            "type": "scatterpolar"
           }
          ],
          "scatterpolargl": [
           {
            "marker": {
             "colorbar": {
              "outlinewidth": 0,
              "ticks": ""
             }
            },
            "type": "scatterpolargl"
           }
          ],
          "scatterternary": [
           {
            "marker": {
             "colorbar": {
              "outlinewidth": 0,
              "ticks": ""
             }
            },
            "type": "scatterternary"
           }
          ],
          "surface": [
           {
            "colorbar": {
             "outlinewidth": 0,
             "ticks": ""
            },
            "colorscale": [
             [
              0,
              "#0d0887"
             ],
             [
              0.1111111111111111,
              "#46039f"
             ],
             [
              0.2222222222222222,
              "#7201a8"
             ],
             [
              0.3333333333333333,
              "#9c179e"
             ],
             [
              0.4444444444444444,
              "#bd3786"
             ],
             [
              0.5555555555555556,
              "#d8576b"
             ],
             [
              0.6666666666666666,
              "#ed7953"
             ],
             [
              0.7777777777777778,
              "#fb9f3a"
             ],
             [
              0.8888888888888888,
              "#fdca26"
             ],
             [
              1,
              "#f0f921"
             ]
            ],
            "type": "surface"
           }
          ],
          "table": [
           {
            "cells": {
             "fill": {
              "color": "#EBF0F8"
             },
             "line": {
              "color": "white"
             }
            },
            "header": {
             "fill": {
              "color": "#C8D4E3"
             },
             "line": {
              "color": "white"
             }
            },
            "type": "table"
           }
          ]
         },
         "layout": {
          "annotationdefaults": {
           "arrowcolor": "#2a3f5f",
           "arrowhead": 0,
           "arrowwidth": 1
          },
          "coloraxis": {
           "colorbar": {
            "outlinewidth": 0,
            "ticks": ""
           }
          },
          "colorscale": {
           "diverging": [
            [
             0,
             "#8e0152"
            ],
            [
             0.1,
             "#c51b7d"
            ],
            [
             0.2,
             "#de77ae"
            ],
            [
             0.3,
             "#f1b6da"
            ],
            [
             0.4,
             "#fde0ef"
            ],
            [
             0.5,
             "#f7f7f7"
            ],
            [
             0.6,
             "#e6f5d0"
            ],
            [
             0.7,
             "#b8e186"
            ],
            [
             0.8,
             "#7fbc41"
            ],
            [
             0.9,
             "#4d9221"
            ],
            [
             1,
             "#276419"
            ]
           ],
           "sequential": [
            [
             0,
             "#0d0887"
            ],
            [
             0.1111111111111111,
             "#46039f"
            ],
            [
             0.2222222222222222,
             "#7201a8"
            ],
            [
             0.3333333333333333,
             "#9c179e"
            ],
            [
             0.4444444444444444,
             "#bd3786"
            ],
            [
             0.5555555555555556,
             "#d8576b"
            ],
            [
             0.6666666666666666,
             "#ed7953"
            ],
            [
             0.7777777777777778,
             "#fb9f3a"
            ],
            [
             0.8888888888888888,
             "#fdca26"
            ],
            [
             1,
             "#f0f921"
            ]
           ],
           "sequentialminus": [
            [
             0,
             "#0d0887"
            ],
            [
             0.1111111111111111,
             "#46039f"
            ],
            [
             0.2222222222222222,
             "#7201a8"
            ],
            [
             0.3333333333333333,
             "#9c179e"
            ],
            [
             0.4444444444444444,
             "#bd3786"
            ],
            [
             0.5555555555555556,
             "#d8576b"
            ],
            [
             0.6666666666666666,
             "#ed7953"
            ],
            [
             0.7777777777777778,
             "#fb9f3a"
            ],
            [
             0.8888888888888888,
             "#fdca26"
            ],
            [
             1,
             "#f0f921"
            ]
           ]
          },
          "colorway": [
           "#636efa",
           "#EF553B",
           "#00cc96",
           "#ab63fa",
           "#FFA15A",
           "#19d3f3",
           "#FF6692",
           "#B6E880",
           "#FF97FF",
           "#FECB52"
          ],
          "font": {
           "color": "#2a3f5f"
          },
          "geo": {
           "bgcolor": "white",
           "lakecolor": "white",
           "landcolor": "#E5ECF6",
           "showlakes": true,
           "showland": true,
           "subunitcolor": "white"
          },
          "hoverlabel": {
           "align": "left"
          },
          "hovermode": "closest",
          "mapbox": {
           "style": "light"
          },
          "paper_bgcolor": "white",
          "plot_bgcolor": "#E5ECF6",
          "polar": {
           "angularaxis": {
            "gridcolor": "white",
            "linecolor": "white",
            "ticks": ""
           },
           "bgcolor": "#E5ECF6",
           "radialaxis": {
            "gridcolor": "white",
            "linecolor": "white",
            "ticks": ""
           }
          },
          "scene": {
           "xaxis": {
            "backgroundcolor": "#E5ECF6",
            "gridcolor": "white",
            "gridwidth": 2,
            "linecolor": "white",
            "showbackground": true,
            "ticks": "",
            "zerolinecolor": "white"
           },
           "yaxis": {
            "backgroundcolor": "#E5ECF6",
            "gridcolor": "white",
            "gridwidth": 2,
            "linecolor": "white",
            "showbackground": true,
            "ticks": "",
            "zerolinecolor": "white"
           },
           "zaxis": {
            "backgroundcolor": "#E5ECF6",
            "gridcolor": "white",
            "gridwidth": 2,
            "linecolor": "white",
            "showbackground": true,
            "ticks": "",
            "zerolinecolor": "white"
           }
          },
          "shapedefaults": {
           "line": {
            "color": "#2a3f5f"
           }
          },
          "ternary": {
           "aaxis": {
            "gridcolor": "white",
            "linecolor": "white",
            "ticks": ""
           },
           "baxis": {
            "gridcolor": "white",
            "linecolor": "white",
            "ticks": ""
           },
           "bgcolor": "#E5ECF6",
           "caxis": {
            "gridcolor": "white",
            "linecolor": "white",
            "ticks": ""
           }
          },
          "title": {
           "x": 0.05
          },
          "xaxis": {
           "automargin": true,
           "gridcolor": "white",
           "linecolor": "white",
           "ticks": "",
           "title": {
            "standoff": 15
           },
           "zerolinecolor": "white",
           "zerolinewidth": 2
          },
          "yaxis": {
           "automargin": true,
           "gridcolor": "white",
           "linecolor": "white",
           "ticks": "",
           "title": {
            "standoff": 15
           },
           "zerolinecolor": "white",
           "zerolinewidth": 2
          }
         }
        },
        "title": {
         "font": {
          "color": "#4D5663"
         },
         "text": "Weekly"
        },
        "xaxis": {
         "gridcolor": "#E1E5ED",
         "showgrid": true,
         "tickfont": {
          "color": "#4D5663"
         },
         "title": {
          "font": {
           "color": "#4D5663"
          },
          "text": ""
         },
         "zerolinecolor": "#E1E5ED"
        },
        "yaxis": {
         "gridcolor": "#E1E5ED",
         "showgrid": true,
         "tickfont": {
          "color": "#4D5663"
         },
         "title": {
          "font": {
           "color": "#4D5663"
          },
          "text": ""
         },
         "zerolinecolor": "#E1E5ED"
        }
       }
      },
      "text/html": [
       "<div>                            <div id=\"728d765e-345f-4025-8429-74a24273ce51\" class=\"plotly-graph-div\" style=\"height:525px; width:100%;\"></div>            <script type=\"text/javascript\">                require([\"plotly\"], function(Plotly) {                    window.PLOTLYENV=window.PLOTLYENV || {};\n",
       "                    window.PLOTLYENV.BASE_URL='https://plot.ly';                                    if (document.getElementById(\"728d765e-345f-4025-8429-74a24273ce51\")) {                    Plotly.newPlot(                        \"728d765e-345f-4025-8429-74a24273ce51\",                        [{\"marker\": {\"color\": \"rgba(128, 0, 128, 0.6)\", \"line\": {\"color\": \"rgba(128, 0, 128, 1.0)\", \"width\": 1}}, \"name\": \"Week_Days\", \"orientation\": \"h\", \"text\": \"\", \"type\": \"bar\", \"x\": [260, 259, 252, 252, 236], \"y\": [\"Tuesday\", \"Wednesday\", \"Thursday\", \"Friday\", \"Monday\"]}],                        {\"legend\": {\"bgcolor\": \"#F5F6F9\", \"font\": {\"color\": \"#4D5663\"}}, \"paper_bgcolor\": \"#F5F6F9\", \"plot_bgcolor\": \"#F5F6F9\", \"template\": {\"data\": {\"bar\": [{\"error_x\": {\"color\": \"#2a3f5f\"}, \"error_y\": {\"color\": \"#2a3f5f\"}, \"marker\": {\"line\": {\"color\": \"#E5ECF6\", \"width\": 0.5}}, \"type\": \"bar\"}], \"barpolar\": [{\"marker\": {\"line\": {\"color\": \"#E5ECF6\", \"width\": 0.5}}, \"type\": \"barpolar\"}], \"carpet\": [{\"aaxis\": {\"endlinecolor\": \"#2a3f5f\", \"gridcolor\": \"white\", \"linecolor\": \"white\", \"minorgridcolor\": \"white\", \"startlinecolor\": \"#2a3f5f\"}, \"baxis\": {\"endlinecolor\": \"#2a3f5f\", \"gridcolor\": \"white\", \"linecolor\": \"white\", \"minorgridcolor\": \"white\", \"startlinecolor\": \"#2a3f5f\"}, \"type\": \"carpet\"}], \"choropleth\": [{\"colorbar\": {\"outlinewidth\": 0, \"ticks\": \"\"}, \"type\": \"choropleth\"}], \"contour\": [{\"colorbar\": {\"outlinewidth\": 0, \"ticks\": \"\"}, \"colorscale\": [[0.0, \"#0d0887\"], [0.1111111111111111, \"#46039f\"], [0.2222222222222222, \"#7201a8\"], [0.3333333333333333, \"#9c179e\"], [0.4444444444444444, \"#bd3786\"], [0.5555555555555556, \"#d8576b\"], [0.6666666666666666, \"#ed7953\"], [0.7777777777777778, \"#fb9f3a\"], [0.8888888888888888, \"#fdca26\"], [1.0, \"#f0f921\"]], \"type\": \"contour\"}], \"contourcarpet\": [{\"colorbar\": {\"outlinewidth\": 0, \"ticks\": \"\"}, \"type\": \"contourcarpet\"}], \"heatmap\": [{\"colorbar\": {\"outlinewidth\": 0, \"ticks\": \"\"}, \"colorscale\": [[0.0, \"#0d0887\"], [0.1111111111111111, \"#46039f\"], [0.2222222222222222, \"#7201a8\"], [0.3333333333333333, \"#9c179e\"], [0.4444444444444444, \"#bd3786\"], [0.5555555555555556, \"#d8576b\"], [0.6666666666666666, \"#ed7953\"], [0.7777777777777778, \"#fb9f3a\"], [0.8888888888888888, \"#fdca26\"], [1.0, \"#f0f921\"]], \"type\": \"heatmap\"}], \"heatmapgl\": [{\"colorbar\": {\"outlinewidth\": 0, \"ticks\": \"\"}, \"colorscale\": [[0.0, \"#0d0887\"], [0.1111111111111111, \"#46039f\"], [0.2222222222222222, \"#7201a8\"], [0.3333333333333333, \"#9c179e\"], [0.4444444444444444, \"#bd3786\"], [0.5555555555555556, \"#d8576b\"], [0.6666666666666666, \"#ed7953\"], [0.7777777777777778, \"#fb9f3a\"], [0.8888888888888888, \"#fdca26\"], [1.0, \"#f0f921\"]], \"type\": \"heatmapgl\"}], \"histogram\": [{\"marker\": {\"colorbar\": {\"outlinewidth\": 0, \"ticks\": \"\"}}, \"type\": \"histogram\"}], \"histogram2d\": [{\"colorbar\": {\"outlinewidth\": 0, \"ticks\": \"\"}, \"colorscale\": [[0.0, \"#0d0887\"], [0.1111111111111111, \"#46039f\"], [0.2222222222222222, \"#7201a8\"], [0.3333333333333333, \"#9c179e\"], [0.4444444444444444, \"#bd3786\"], [0.5555555555555556, \"#d8576b\"], [0.6666666666666666, \"#ed7953\"], [0.7777777777777778, \"#fb9f3a\"], [0.8888888888888888, \"#fdca26\"], [1.0, \"#f0f921\"]], \"type\": \"histogram2d\"}], \"histogram2dcontour\": [{\"colorbar\": {\"outlinewidth\": 0, \"ticks\": \"\"}, \"colorscale\": [[0.0, \"#0d0887\"], [0.1111111111111111, \"#46039f\"], [0.2222222222222222, \"#7201a8\"], [0.3333333333333333, \"#9c179e\"], [0.4444444444444444, \"#bd3786\"], [0.5555555555555556, \"#d8576b\"], [0.6666666666666666, \"#ed7953\"], [0.7777777777777778, \"#fb9f3a\"], [0.8888888888888888, \"#fdca26\"], [1.0, \"#f0f921\"]], \"type\": \"histogram2dcontour\"}], \"mesh3d\": [{\"colorbar\": {\"outlinewidth\": 0, \"ticks\": \"\"}, \"type\": \"mesh3d\"}], \"parcoords\": [{\"line\": {\"colorbar\": {\"outlinewidth\": 0, \"ticks\": \"\"}}, \"type\": \"parcoords\"}], \"pie\": [{\"automargin\": true, \"type\": \"pie\"}], \"scatter\": [{\"marker\": {\"colorbar\": {\"outlinewidth\": 0, \"ticks\": \"\"}}, \"type\": \"scatter\"}], \"scatter3d\": [{\"line\": {\"colorbar\": {\"outlinewidth\": 0, \"ticks\": \"\"}}, \"marker\": {\"colorbar\": {\"outlinewidth\": 0, \"ticks\": \"\"}}, \"type\": \"scatter3d\"}], \"scattercarpet\": [{\"marker\": {\"colorbar\": {\"outlinewidth\": 0, \"ticks\": \"\"}}, \"type\": \"scattercarpet\"}], \"scattergeo\": [{\"marker\": {\"colorbar\": {\"outlinewidth\": 0, \"ticks\": \"\"}}, \"type\": \"scattergeo\"}], \"scattergl\": [{\"marker\": {\"colorbar\": {\"outlinewidth\": 0, \"ticks\": \"\"}}, \"type\": \"scattergl\"}], \"scattermapbox\": [{\"marker\": {\"colorbar\": {\"outlinewidth\": 0, \"ticks\": \"\"}}, \"type\": \"scattermapbox\"}], \"scatterpolar\": [{\"marker\": {\"colorbar\": {\"outlinewidth\": 0, \"ticks\": \"\"}}, \"type\": \"scatterpolar\"}], \"scatterpolargl\": [{\"marker\": {\"colorbar\": {\"outlinewidth\": 0, \"ticks\": \"\"}}, \"type\": \"scatterpolargl\"}], \"scatterternary\": [{\"marker\": {\"colorbar\": {\"outlinewidth\": 0, \"ticks\": \"\"}}, \"type\": \"scatterternary\"}], \"surface\": [{\"colorbar\": {\"outlinewidth\": 0, \"ticks\": \"\"}, \"colorscale\": [[0.0, \"#0d0887\"], [0.1111111111111111, \"#46039f\"], [0.2222222222222222, \"#7201a8\"], [0.3333333333333333, \"#9c179e\"], [0.4444444444444444, \"#bd3786\"], [0.5555555555555556, \"#d8576b\"], [0.6666666666666666, \"#ed7953\"], [0.7777777777777778, \"#fb9f3a\"], [0.8888888888888888, \"#fdca26\"], [1.0, \"#f0f921\"]], \"type\": \"surface\"}], \"table\": [{\"cells\": {\"fill\": {\"color\": \"#EBF0F8\"}, \"line\": {\"color\": \"white\"}}, \"header\": {\"fill\": {\"color\": \"#C8D4E3\"}, \"line\": {\"color\": \"white\"}}, \"type\": \"table\"}]}, \"layout\": {\"annotationdefaults\": {\"arrowcolor\": \"#2a3f5f\", \"arrowhead\": 0, \"arrowwidth\": 1}, \"coloraxis\": {\"colorbar\": {\"outlinewidth\": 0, \"ticks\": \"\"}}, \"colorscale\": {\"diverging\": [[0, \"#8e0152\"], [0.1, \"#c51b7d\"], [0.2, \"#de77ae\"], [0.3, \"#f1b6da\"], [0.4, \"#fde0ef\"], [0.5, \"#f7f7f7\"], [0.6, \"#e6f5d0\"], [0.7, \"#b8e186\"], [0.8, \"#7fbc41\"], [0.9, \"#4d9221\"], [1, \"#276419\"]], \"sequential\": [[0.0, \"#0d0887\"], [0.1111111111111111, \"#46039f\"], [0.2222222222222222, \"#7201a8\"], [0.3333333333333333, \"#9c179e\"], [0.4444444444444444, \"#bd3786\"], [0.5555555555555556, \"#d8576b\"], [0.6666666666666666, \"#ed7953\"], [0.7777777777777778, \"#fb9f3a\"], [0.8888888888888888, \"#fdca26\"], [1.0, \"#f0f921\"]], \"sequentialminus\": [[0.0, \"#0d0887\"], [0.1111111111111111, \"#46039f\"], [0.2222222222222222, \"#7201a8\"], [0.3333333333333333, \"#9c179e\"], [0.4444444444444444, \"#bd3786\"], [0.5555555555555556, \"#d8576b\"], [0.6666666666666666, \"#ed7953\"], [0.7777777777777778, \"#fb9f3a\"], [0.8888888888888888, \"#fdca26\"], [1.0, \"#f0f921\"]]}, \"colorway\": [\"#636efa\", \"#EF553B\", \"#00cc96\", \"#ab63fa\", \"#FFA15A\", \"#19d3f3\", \"#FF6692\", \"#B6E880\", \"#FF97FF\", \"#FECB52\"], \"font\": {\"color\": \"#2a3f5f\"}, \"geo\": {\"bgcolor\": \"white\", \"lakecolor\": \"white\", \"landcolor\": \"#E5ECF6\", \"showlakes\": true, \"showland\": true, \"subunitcolor\": \"white\"}, \"hoverlabel\": {\"align\": \"left\"}, \"hovermode\": \"closest\", \"mapbox\": {\"style\": \"light\"}, \"paper_bgcolor\": \"white\", \"plot_bgcolor\": \"#E5ECF6\", \"polar\": {\"angularaxis\": {\"gridcolor\": \"white\", \"linecolor\": \"white\", \"ticks\": \"\"}, \"bgcolor\": \"#E5ECF6\", \"radialaxis\": {\"gridcolor\": \"white\", \"linecolor\": \"white\", \"ticks\": \"\"}}, \"scene\": {\"xaxis\": {\"backgroundcolor\": \"#E5ECF6\", \"gridcolor\": \"white\", \"gridwidth\": 2, \"linecolor\": \"white\", \"showbackground\": true, \"ticks\": \"\", \"zerolinecolor\": \"white\"}, \"yaxis\": {\"backgroundcolor\": \"#E5ECF6\", \"gridcolor\": \"white\", \"gridwidth\": 2, \"linecolor\": \"white\", \"showbackground\": true, \"ticks\": \"\", \"zerolinecolor\": \"white\"}, \"zaxis\": {\"backgroundcolor\": \"#E5ECF6\", \"gridcolor\": \"white\", \"gridwidth\": 2, \"linecolor\": \"white\", \"showbackground\": true, \"ticks\": \"\", \"zerolinecolor\": \"white\"}}, \"shapedefaults\": {\"line\": {\"color\": \"#2a3f5f\"}}, \"ternary\": {\"aaxis\": {\"gridcolor\": \"white\", \"linecolor\": \"white\", \"ticks\": \"\"}, \"baxis\": {\"gridcolor\": \"white\", \"linecolor\": \"white\", \"ticks\": \"\"}, \"bgcolor\": \"#E5ECF6\", \"caxis\": {\"gridcolor\": \"white\", \"linecolor\": \"white\", \"ticks\": \"\"}}, \"title\": {\"x\": 0.05}, \"xaxis\": {\"automargin\": true, \"gridcolor\": \"white\", \"linecolor\": \"white\", \"ticks\": \"\", \"title\": {\"standoff\": 15}, \"zerolinecolor\": \"white\", \"zerolinewidth\": 2}, \"yaxis\": {\"automargin\": true, \"gridcolor\": \"white\", \"linecolor\": \"white\", \"ticks\": \"\", \"title\": {\"standoff\": 15}, \"zerolinecolor\": \"white\", \"zerolinewidth\": 2}}}, \"title\": {\"font\": {\"color\": \"#4D5663\"}, \"text\": \"Weekly\"}, \"xaxis\": {\"gridcolor\": \"#E1E5ED\", \"showgrid\": true, \"tickfont\": {\"color\": \"#4D5663\"}, \"title\": {\"font\": {\"color\": \"#4D5663\"}, \"text\": \"\"}, \"zerolinecolor\": \"#E1E5ED\"}, \"yaxis\": {\"gridcolor\": \"#E1E5ED\", \"showgrid\": true, \"tickfont\": {\"color\": \"#4D5663\"}, \"title\": {\"font\": {\"color\": \"#4D5663\"}, \"text\": \"\"}, \"zerolinecolor\": \"#E1E5ED\"}},                        {\"showLink\": true, \"linkText\": \"Export to plot.ly\", \"plotlyServerURL\": \"https://plot.ly\", \"responsive\": true}                    ).then(function(){\n",
       "                            \n",
       "var gd = document.getElementById('728d765e-345f-4025-8429-74a24273ce51');\n",
       "var x = new MutationObserver(function (mutations, observer) {{\n",
       "        var display = window.getComputedStyle(gd).display;\n",
       "        if (!display || display === 'none') {{\n",
       "            console.log([gd, 'removed!']);\n",
       "            Plotly.purge(gd);\n",
       "            observer.disconnect();\n",
       "        }}\n",
       "}});\n",
       "\n",
       "// Listen for the removal of the full notebook cells\n",
       "var notebookContainer = gd.closest('#notebook-container');\n",
       "if (notebookContainer) {{\n",
       "    x.observe(notebookContainer, {childList: true});\n",
       "}}\n",
       "\n",
       "// Listen for the clearing of the current output cell\n",
       "var outputEl = gd.closest('.output');\n",
       "if (outputEl) {{\n",
       "    x.observe(outputEl, {childList: true});\n",
       "}}\n",
       "\n",
       "                        })                };                });            </script>        </div>"
      ]
     },
     "metadata": {},
     "output_type": "display_data"
    }
   ],
   "source": [
    "amzn['Week_Days'].value_counts().iplot(kind ='barh',title ='Weekly', color ='purple')"
   ]
  },
  {
   "cell_type": "code",
   "execution_count": 15,
   "metadata": {},
   "outputs": [
    {
     "data": {
      "application/vnd.plotly.v1+json": {
       "config": {
        "linkText": "Export to plot.ly",
        "plotlyServerURL": "https://plot.ly",
        "showLink": true
       },
       "data": [
        {
         "marker": {
          "color": "rgba(55, 128, 191, 0.6)",
          "line": {
           "color": "rgba(55, 128, 191, 1.0)",
           "width": 1
          }
         },
         "name": "Month",
         "orientation": "v",
         "text": "",
         "type": "bar",
         "x": [
          "October",
          "August",
          "March",
          "June",
          "December",
          "May",
          "July",
          "April",
          "September",
          "November",
          "January",
          "February"
         ],
         "y": [
          111,
          110,
          108,
          107,
          106,
          106,
          106,
          104,
          103,
          101,
          101,
          96
         ]
        }
       ],
       "layout": {
        "legend": {
         "bgcolor": "#F5F6F9",
         "font": {
          "color": "#4D5663"
         }
        },
        "paper_bgcolor": "#F5F6F9",
        "plot_bgcolor": "#F5F6F9",
        "template": {
         "data": {
          "bar": [
           {
            "error_x": {
             "color": "#2a3f5f"
            },
            "error_y": {
             "color": "#2a3f5f"
            },
            "marker": {
             "line": {
              "color": "#E5ECF6",
              "width": 0.5
             }
            },
            "type": "bar"
           }
          ],
          "barpolar": [
           {
            "marker": {
             "line": {
              "color": "#E5ECF6",
              "width": 0.5
             }
            },
            "type": "barpolar"
           }
          ],
          "carpet": [
           {
            "aaxis": {
             "endlinecolor": "#2a3f5f",
             "gridcolor": "white",
             "linecolor": "white",
             "minorgridcolor": "white",
             "startlinecolor": "#2a3f5f"
            },
            "baxis": {
             "endlinecolor": "#2a3f5f",
             "gridcolor": "white",
             "linecolor": "white",
             "minorgridcolor": "white",
             "startlinecolor": "#2a3f5f"
            },
            "type": "carpet"
           }
          ],
          "choropleth": [
           {
            "colorbar": {
             "outlinewidth": 0,
             "ticks": ""
            },
            "type": "choropleth"
           }
          ],
          "contour": [
           {
            "colorbar": {
             "outlinewidth": 0,
             "ticks": ""
            },
            "colorscale": [
             [
              0,
              "#0d0887"
             ],
             [
              0.1111111111111111,
              "#46039f"
             ],
             [
              0.2222222222222222,
              "#7201a8"
             ],
             [
              0.3333333333333333,
              "#9c179e"
             ],
             [
              0.4444444444444444,
              "#bd3786"
             ],
             [
              0.5555555555555556,
              "#d8576b"
             ],
             [
              0.6666666666666666,
              "#ed7953"
             ],
             [
              0.7777777777777778,
              "#fb9f3a"
             ],
             [
              0.8888888888888888,
              "#fdca26"
             ],
             [
              1,
              "#f0f921"
             ]
            ],
            "type": "contour"
           }
          ],
          "contourcarpet": [
           {
            "colorbar": {
             "outlinewidth": 0,
             "ticks": ""
            },
            "type": "contourcarpet"
           }
          ],
          "heatmap": [
           {
            "colorbar": {
             "outlinewidth": 0,
             "ticks": ""
            },
            "colorscale": [
             [
              0,
              "#0d0887"
             ],
             [
              0.1111111111111111,
              "#46039f"
             ],
             [
              0.2222222222222222,
              "#7201a8"
             ],
             [
              0.3333333333333333,
              "#9c179e"
             ],
             [
              0.4444444444444444,
              "#bd3786"
             ],
             [
              0.5555555555555556,
              "#d8576b"
             ],
             [
              0.6666666666666666,
              "#ed7953"
             ],
             [
              0.7777777777777778,
              "#fb9f3a"
             ],
             [
              0.8888888888888888,
              "#fdca26"
             ],
             [
              1,
              "#f0f921"
             ]
            ],
            "type": "heatmap"
           }
          ],
          "heatmapgl": [
           {
            "colorbar": {
             "outlinewidth": 0,
             "ticks": ""
            },
            "colorscale": [
             [
              0,
              "#0d0887"
             ],
             [
              0.1111111111111111,
              "#46039f"
             ],
             [
              0.2222222222222222,
              "#7201a8"
             ],
             [
              0.3333333333333333,
              "#9c179e"
             ],
             [
              0.4444444444444444,
              "#bd3786"
             ],
             [
              0.5555555555555556,
              "#d8576b"
             ],
             [
              0.6666666666666666,
              "#ed7953"
             ],
             [
              0.7777777777777778,
              "#fb9f3a"
             ],
             [
              0.8888888888888888,
              "#fdca26"
             ],
             [
              1,
              "#f0f921"
             ]
            ],
            "type": "heatmapgl"
           }
          ],
          "histogram": [
           {
            "marker": {
             "colorbar": {
              "outlinewidth": 0,
              "ticks": ""
             }
            },
            "type": "histogram"
           }
          ],
          "histogram2d": [
           {
            "colorbar": {
             "outlinewidth": 0,
             "ticks": ""
            },
            "colorscale": [
             [
              0,
              "#0d0887"
             ],
             [
              0.1111111111111111,
              "#46039f"
             ],
             [
              0.2222222222222222,
              "#7201a8"
             ],
             [
              0.3333333333333333,
              "#9c179e"
             ],
             [
              0.4444444444444444,
              "#bd3786"
             ],
             [
              0.5555555555555556,
              "#d8576b"
             ],
             [
              0.6666666666666666,
              "#ed7953"
             ],
             [
              0.7777777777777778,
              "#fb9f3a"
             ],
             [
              0.8888888888888888,
              "#fdca26"
             ],
             [
              1,
              "#f0f921"
             ]
            ],
            "type": "histogram2d"
           }
          ],
          "histogram2dcontour": [
           {
            "colorbar": {
             "outlinewidth": 0,
             "ticks": ""
            },
            "colorscale": [
             [
              0,
              "#0d0887"
             ],
             [
              0.1111111111111111,
              "#46039f"
             ],
             [
              0.2222222222222222,
              "#7201a8"
             ],
             [
              0.3333333333333333,
              "#9c179e"
             ],
             [
              0.4444444444444444,
              "#bd3786"
             ],
             [
              0.5555555555555556,
              "#d8576b"
             ],
             [
              0.6666666666666666,
              "#ed7953"
             ],
             [
              0.7777777777777778,
              "#fb9f3a"
             ],
             [
              0.8888888888888888,
              "#fdca26"
             ],
             [
              1,
              "#f0f921"
             ]
            ],
            "type": "histogram2dcontour"
           }
          ],
          "mesh3d": [
           {
            "colorbar": {
             "outlinewidth": 0,
             "ticks": ""
            },
            "type": "mesh3d"
           }
          ],
          "parcoords": [
           {
            "line": {
             "colorbar": {
              "outlinewidth": 0,
              "ticks": ""
             }
            },
            "type": "parcoords"
           }
          ],
          "pie": [
           {
            "automargin": true,
            "type": "pie"
           }
          ],
          "scatter": [
           {
            "marker": {
             "colorbar": {
              "outlinewidth": 0,
              "ticks": ""
             }
            },
            "type": "scatter"
           }
          ],
          "scatter3d": [
           {
            "line": {
             "colorbar": {
              "outlinewidth": 0,
              "ticks": ""
             }
            },
            "marker": {
             "colorbar": {
              "outlinewidth": 0,
              "ticks": ""
             }
            },
            "type": "scatter3d"
           }
          ],
          "scattercarpet": [
           {
            "marker": {
             "colorbar": {
              "outlinewidth": 0,
              "ticks": ""
             }
            },
            "type": "scattercarpet"
           }
          ],
          "scattergeo": [
           {
            "marker": {
             "colorbar": {
              "outlinewidth": 0,
              "ticks": ""
             }
            },
            "type": "scattergeo"
           }
          ],
          "scattergl": [
           {
            "marker": {
             "colorbar": {
              "outlinewidth": 0,
              "ticks": ""
             }
            },
            "type": "scattergl"
           }
          ],
          "scattermapbox": [
           {
            "marker": {
             "colorbar": {
              "outlinewidth": 0,
              "ticks": ""
             }
            },
            "type": "scattermapbox"
           }
          ],
          "scatterpolar": [
           {
            "marker": {
             "colorbar": {
              "outlinewidth": 0,
              "ticks": ""
             }
            },
            "type": "scatterpolar"
           }
          ],
          "scatterpolargl": [
           {
            "marker": {
             "colorbar": {
              "outlinewidth": 0,
              "ticks": ""
             }
            },
            "type": "scatterpolargl"
           }
          ],
          "scatterternary": [
           {
            "marker": {
             "colorbar": {
              "outlinewidth": 0,
              "ticks": ""
             }
            },
            "type": "scatterternary"
           }
          ],
          "surface": [
           {
            "colorbar": {
             "outlinewidth": 0,
             "ticks": ""
            },
            "colorscale": [
             [
              0,
              "#0d0887"
             ],
             [
              0.1111111111111111,
              "#46039f"
             ],
             [
              0.2222222222222222,
              "#7201a8"
             ],
             [
              0.3333333333333333,
              "#9c179e"
             ],
             [
              0.4444444444444444,
              "#bd3786"
             ],
             [
              0.5555555555555556,
              "#d8576b"
             ],
             [
              0.6666666666666666,
              "#ed7953"
             ],
             [
              0.7777777777777778,
              "#fb9f3a"
             ],
             [
              0.8888888888888888,
              "#fdca26"
             ],
             [
              1,
              "#f0f921"
             ]
            ],
            "type": "surface"
           }
          ],
          "table": [
           {
            "cells": {
             "fill": {
              "color": "#EBF0F8"
             },
             "line": {
              "color": "white"
             }
            },
            "header": {
             "fill": {
              "color": "#C8D4E3"
             },
             "line": {
              "color": "white"
             }
            },
            "type": "table"
           }
          ]
         },
         "layout": {
          "annotationdefaults": {
           "arrowcolor": "#2a3f5f",
           "arrowhead": 0,
           "arrowwidth": 1
          },
          "coloraxis": {
           "colorbar": {
            "outlinewidth": 0,
            "ticks": ""
           }
          },
          "colorscale": {
           "diverging": [
            [
             0,
             "#8e0152"
            ],
            [
             0.1,
             "#c51b7d"
            ],
            [
             0.2,
             "#de77ae"
            ],
            [
             0.3,
             "#f1b6da"
            ],
            [
             0.4,
             "#fde0ef"
            ],
            [
             0.5,
             "#f7f7f7"
            ],
            [
             0.6,
             "#e6f5d0"
            ],
            [
             0.7,
             "#b8e186"
            ],
            [
             0.8,
             "#7fbc41"
            ],
            [
             0.9,
             "#4d9221"
            ],
            [
             1,
             "#276419"
            ]
           ],
           "sequential": [
            [
             0,
             "#0d0887"
            ],
            [
             0.1111111111111111,
             "#46039f"
            ],
            [
             0.2222222222222222,
             "#7201a8"
            ],
            [
             0.3333333333333333,
             "#9c179e"
            ],
            [
             0.4444444444444444,
             "#bd3786"
            ],
            [
             0.5555555555555556,
             "#d8576b"
            ],
            [
             0.6666666666666666,
             "#ed7953"
            ],
            [
             0.7777777777777778,
             "#fb9f3a"
            ],
            [
             0.8888888888888888,
             "#fdca26"
            ],
            [
             1,
             "#f0f921"
            ]
           ],
           "sequentialminus": [
            [
             0,
             "#0d0887"
            ],
            [
             0.1111111111111111,
             "#46039f"
            ],
            [
             0.2222222222222222,
             "#7201a8"
            ],
            [
             0.3333333333333333,
             "#9c179e"
            ],
            [
             0.4444444444444444,
             "#bd3786"
            ],
            [
             0.5555555555555556,
             "#d8576b"
            ],
            [
             0.6666666666666666,
             "#ed7953"
            ],
            [
             0.7777777777777778,
             "#fb9f3a"
            ],
            [
             0.8888888888888888,
             "#fdca26"
            ],
            [
             1,
             "#f0f921"
            ]
           ]
          },
          "colorway": [
           "#636efa",
           "#EF553B",
           "#00cc96",
           "#ab63fa",
           "#FFA15A",
           "#19d3f3",
           "#FF6692",
           "#B6E880",
           "#FF97FF",
           "#FECB52"
          ],
          "font": {
           "color": "#2a3f5f"
          },
          "geo": {
           "bgcolor": "white",
           "lakecolor": "white",
           "landcolor": "#E5ECF6",
           "showlakes": true,
           "showland": true,
           "subunitcolor": "white"
          },
          "hoverlabel": {
           "align": "left"
          },
          "hovermode": "closest",
          "mapbox": {
           "style": "light"
          },
          "paper_bgcolor": "white",
          "plot_bgcolor": "#E5ECF6",
          "polar": {
           "angularaxis": {
            "gridcolor": "white",
            "linecolor": "white",
            "ticks": ""
           },
           "bgcolor": "#E5ECF6",
           "radialaxis": {
            "gridcolor": "white",
            "linecolor": "white",
            "ticks": ""
           }
          },
          "scene": {
           "xaxis": {
            "backgroundcolor": "#E5ECF6",
            "gridcolor": "white",
            "gridwidth": 2,
            "linecolor": "white",
            "showbackground": true,
            "ticks": "",
            "zerolinecolor": "white"
           },
           "yaxis": {
            "backgroundcolor": "#E5ECF6",
            "gridcolor": "white",
            "gridwidth": 2,
            "linecolor": "white",
            "showbackground": true,
            "ticks": "",
            "zerolinecolor": "white"
           },
           "zaxis": {
            "backgroundcolor": "#E5ECF6",
            "gridcolor": "white",
            "gridwidth": 2,
            "linecolor": "white",
            "showbackground": true,
            "ticks": "",
            "zerolinecolor": "white"
           }
          },
          "shapedefaults": {
           "line": {
            "color": "#2a3f5f"
           }
          },
          "ternary": {
           "aaxis": {
            "gridcolor": "white",
            "linecolor": "white",
            "ticks": ""
           },
           "baxis": {
            "gridcolor": "white",
            "linecolor": "white",
            "ticks": ""
           },
           "bgcolor": "#E5ECF6",
           "caxis": {
            "gridcolor": "white",
            "linecolor": "white",
            "ticks": ""
           }
          },
          "title": {
           "x": 0.05
          },
          "xaxis": {
           "automargin": true,
           "gridcolor": "white",
           "linecolor": "white",
           "ticks": "",
           "title": {
            "standoff": 15
           },
           "zerolinecolor": "white",
           "zerolinewidth": 2
          },
          "yaxis": {
           "automargin": true,
           "gridcolor": "white",
           "linecolor": "white",
           "ticks": "",
           "title": {
            "standoff": 15
           },
           "zerolinecolor": "white",
           "zerolinewidth": 2
          }
         }
        },
        "title": {
         "font": {
          "color": "#4D5663"
         },
         "text": "Monthly"
        },
        "xaxis": {
         "gridcolor": "#E1E5ED",
         "showgrid": true,
         "tickfont": {
          "color": "#4D5663"
         },
         "title": {
          "font": {
           "color": "#4D5663"
          },
          "text": ""
         },
         "zerolinecolor": "#E1E5ED"
        },
        "yaxis": {
         "gridcolor": "#E1E5ED",
         "showgrid": true,
         "tickfont": {
          "color": "#4D5663"
         },
         "title": {
          "font": {
           "color": "#4D5663"
          },
          "text": ""
         },
         "zerolinecolor": "#E1E5ED"
        }
       }
      },
      "text/html": [
       "<div>                            <div id=\"94e74a2c-642d-47d5-a7ab-64b2fda141e8\" class=\"plotly-graph-div\" style=\"height:525px; width:100%;\"></div>            <script type=\"text/javascript\">                require([\"plotly\"], function(Plotly) {                    window.PLOTLYENV=window.PLOTLYENV || {};\n",
       "                    window.PLOTLYENV.BASE_URL='https://plot.ly';                                    if (document.getElementById(\"94e74a2c-642d-47d5-a7ab-64b2fda141e8\")) {                    Plotly.newPlot(                        \"94e74a2c-642d-47d5-a7ab-64b2fda141e8\",                        [{\"marker\": {\"color\": \"rgba(55, 128, 191, 0.6)\", \"line\": {\"color\": \"rgba(55, 128, 191, 1.0)\", \"width\": 1}}, \"name\": \"Month\", \"orientation\": \"v\", \"text\": \"\", \"type\": \"bar\", \"x\": [\"October\", \"August\", \"March\", \"June\", \"December\", \"May\", \"July\", \"April\", \"September\", \"November\", \"January\", \"February\"], \"y\": [111, 110, 108, 107, 106, 106, 106, 104, 103, 101, 101, 96]}],                        {\"legend\": {\"bgcolor\": \"#F5F6F9\", \"font\": {\"color\": \"#4D5663\"}}, \"paper_bgcolor\": \"#F5F6F9\", \"plot_bgcolor\": \"#F5F6F9\", \"template\": {\"data\": {\"bar\": [{\"error_x\": {\"color\": \"#2a3f5f\"}, \"error_y\": {\"color\": \"#2a3f5f\"}, \"marker\": {\"line\": {\"color\": \"#E5ECF6\", \"width\": 0.5}}, \"type\": \"bar\"}], \"barpolar\": [{\"marker\": {\"line\": {\"color\": \"#E5ECF6\", \"width\": 0.5}}, \"type\": \"barpolar\"}], \"carpet\": [{\"aaxis\": {\"endlinecolor\": \"#2a3f5f\", \"gridcolor\": \"white\", \"linecolor\": \"white\", \"minorgridcolor\": \"white\", \"startlinecolor\": \"#2a3f5f\"}, \"baxis\": {\"endlinecolor\": \"#2a3f5f\", \"gridcolor\": \"white\", \"linecolor\": \"white\", \"minorgridcolor\": \"white\", \"startlinecolor\": \"#2a3f5f\"}, \"type\": \"carpet\"}], \"choropleth\": [{\"colorbar\": {\"outlinewidth\": 0, \"ticks\": \"\"}, \"type\": \"choropleth\"}], \"contour\": [{\"colorbar\": {\"outlinewidth\": 0, \"ticks\": \"\"}, \"colorscale\": [[0.0, \"#0d0887\"], [0.1111111111111111, \"#46039f\"], [0.2222222222222222, \"#7201a8\"], [0.3333333333333333, \"#9c179e\"], [0.4444444444444444, \"#bd3786\"], [0.5555555555555556, \"#d8576b\"], [0.6666666666666666, \"#ed7953\"], [0.7777777777777778, \"#fb9f3a\"], [0.8888888888888888, \"#fdca26\"], [1.0, \"#f0f921\"]], \"type\": \"contour\"}], \"contourcarpet\": [{\"colorbar\": {\"outlinewidth\": 0, \"ticks\": \"\"}, \"type\": \"contourcarpet\"}], \"heatmap\": [{\"colorbar\": {\"outlinewidth\": 0, \"ticks\": \"\"}, \"colorscale\": [[0.0, \"#0d0887\"], [0.1111111111111111, \"#46039f\"], [0.2222222222222222, \"#7201a8\"], [0.3333333333333333, \"#9c179e\"], [0.4444444444444444, \"#bd3786\"], [0.5555555555555556, \"#d8576b\"], [0.6666666666666666, \"#ed7953\"], [0.7777777777777778, \"#fb9f3a\"], [0.8888888888888888, \"#fdca26\"], [1.0, \"#f0f921\"]], \"type\": \"heatmap\"}], \"heatmapgl\": [{\"colorbar\": {\"outlinewidth\": 0, \"ticks\": \"\"}, \"colorscale\": [[0.0, \"#0d0887\"], [0.1111111111111111, \"#46039f\"], [0.2222222222222222, \"#7201a8\"], [0.3333333333333333, \"#9c179e\"], [0.4444444444444444, \"#bd3786\"], [0.5555555555555556, \"#d8576b\"], [0.6666666666666666, \"#ed7953\"], [0.7777777777777778, \"#fb9f3a\"], [0.8888888888888888, \"#fdca26\"], [1.0, \"#f0f921\"]], \"type\": \"heatmapgl\"}], \"histogram\": [{\"marker\": {\"colorbar\": {\"outlinewidth\": 0, \"ticks\": \"\"}}, \"type\": \"histogram\"}], \"histogram2d\": [{\"colorbar\": {\"outlinewidth\": 0, \"ticks\": \"\"}, \"colorscale\": [[0.0, \"#0d0887\"], [0.1111111111111111, \"#46039f\"], [0.2222222222222222, \"#7201a8\"], [0.3333333333333333, \"#9c179e\"], [0.4444444444444444, \"#bd3786\"], [0.5555555555555556, \"#d8576b\"], [0.6666666666666666, \"#ed7953\"], [0.7777777777777778, \"#fb9f3a\"], [0.8888888888888888, \"#fdca26\"], [1.0, \"#f0f921\"]], \"type\": \"histogram2d\"}], \"histogram2dcontour\": [{\"colorbar\": {\"outlinewidth\": 0, \"ticks\": \"\"}, \"colorscale\": [[0.0, \"#0d0887\"], [0.1111111111111111, \"#46039f\"], [0.2222222222222222, \"#7201a8\"], [0.3333333333333333, \"#9c179e\"], [0.4444444444444444, \"#bd3786\"], [0.5555555555555556, \"#d8576b\"], [0.6666666666666666, \"#ed7953\"], [0.7777777777777778, \"#fb9f3a\"], [0.8888888888888888, \"#fdca26\"], [1.0, \"#f0f921\"]], \"type\": \"histogram2dcontour\"}], \"mesh3d\": [{\"colorbar\": {\"outlinewidth\": 0, \"ticks\": \"\"}, \"type\": \"mesh3d\"}], \"parcoords\": [{\"line\": {\"colorbar\": {\"outlinewidth\": 0, \"ticks\": \"\"}}, \"type\": \"parcoords\"}], \"pie\": [{\"automargin\": true, \"type\": \"pie\"}], \"scatter\": [{\"marker\": {\"colorbar\": {\"outlinewidth\": 0, \"ticks\": \"\"}}, \"type\": \"scatter\"}], \"scatter3d\": [{\"line\": {\"colorbar\": {\"outlinewidth\": 0, \"ticks\": \"\"}}, \"marker\": {\"colorbar\": {\"outlinewidth\": 0, \"ticks\": \"\"}}, \"type\": \"scatter3d\"}], \"scattercarpet\": [{\"marker\": {\"colorbar\": {\"outlinewidth\": 0, \"ticks\": \"\"}}, \"type\": \"scattercarpet\"}], \"scattergeo\": [{\"marker\": {\"colorbar\": {\"outlinewidth\": 0, \"ticks\": \"\"}}, \"type\": \"scattergeo\"}], \"scattergl\": [{\"marker\": {\"colorbar\": {\"outlinewidth\": 0, \"ticks\": \"\"}}, \"type\": \"scattergl\"}], \"scattermapbox\": [{\"marker\": {\"colorbar\": {\"outlinewidth\": 0, \"ticks\": \"\"}}, \"type\": \"scattermapbox\"}], \"scatterpolar\": [{\"marker\": {\"colorbar\": {\"outlinewidth\": 0, \"ticks\": \"\"}}, \"type\": \"scatterpolar\"}], \"scatterpolargl\": [{\"marker\": {\"colorbar\": {\"outlinewidth\": 0, \"ticks\": \"\"}}, \"type\": \"scatterpolargl\"}], \"scatterternary\": [{\"marker\": {\"colorbar\": {\"outlinewidth\": 0, \"ticks\": \"\"}}, \"type\": \"scatterternary\"}], \"surface\": [{\"colorbar\": {\"outlinewidth\": 0, \"ticks\": \"\"}, \"colorscale\": [[0.0, \"#0d0887\"], [0.1111111111111111, \"#46039f\"], [0.2222222222222222, \"#7201a8\"], [0.3333333333333333, \"#9c179e\"], [0.4444444444444444, \"#bd3786\"], [0.5555555555555556, \"#d8576b\"], [0.6666666666666666, \"#ed7953\"], [0.7777777777777778, \"#fb9f3a\"], [0.8888888888888888, \"#fdca26\"], [1.0, \"#f0f921\"]], \"type\": \"surface\"}], \"table\": [{\"cells\": {\"fill\": {\"color\": \"#EBF0F8\"}, \"line\": {\"color\": \"white\"}}, \"header\": {\"fill\": {\"color\": \"#C8D4E3\"}, \"line\": {\"color\": \"white\"}}, \"type\": \"table\"}]}, \"layout\": {\"annotationdefaults\": {\"arrowcolor\": \"#2a3f5f\", \"arrowhead\": 0, \"arrowwidth\": 1}, \"coloraxis\": {\"colorbar\": {\"outlinewidth\": 0, \"ticks\": \"\"}}, \"colorscale\": {\"diverging\": [[0, \"#8e0152\"], [0.1, \"#c51b7d\"], [0.2, \"#de77ae\"], [0.3, \"#f1b6da\"], [0.4, \"#fde0ef\"], [0.5, \"#f7f7f7\"], [0.6, \"#e6f5d0\"], [0.7, \"#b8e186\"], [0.8, \"#7fbc41\"], [0.9, \"#4d9221\"], [1, \"#276419\"]], \"sequential\": [[0.0, \"#0d0887\"], [0.1111111111111111, \"#46039f\"], [0.2222222222222222, \"#7201a8\"], [0.3333333333333333, \"#9c179e\"], [0.4444444444444444, \"#bd3786\"], [0.5555555555555556, \"#d8576b\"], [0.6666666666666666, \"#ed7953\"], [0.7777777777777778, \"#fb9f3a\"], [0.8888888888888888, \"#fdca26\"], [1.0, \"#f0f921\"]], \"sequentialminus\": [[0.0, \"#0d0887\"], [0.1111111111111111, \"#46039f\"], [0.2222222222222222, \"#7201a8\"], [0.3333333333333333, \"#9c179e\"], [0.4444444444444444, \"#bd3786\"], [0.5555555555555556, \"#d8576b\"], [0.6666666666666666, \"#ed7953\"], [0.7777777777777778, \"#fb9f3a\"], [0.8888888888888888, \"#fdca26\"], [1.0, \"#f0f921\"]]}, \"colorway\": [\"#636efa\", \"#EF553B\", \"#00cc96\", \"#ab63fa\", \"#FFA15A\", \"#19d3f3\", \"#FF6692\", \"#B6E880\", \"#FF97FF\", \"#FECB52\"], \"font\": {\"color\": \"#2a3f5f\"}, \"geo\": {\"bgcolor\": \"white\", \"lakecolor\": \"white\", \"landcolor\": \"#E5ECF6\", \"showlakes\": true, \"showland\": true, \"subunitcolor\": \"white\"}, \"hoverlabel\": {\"align\": \"left\"}, \"hovermode\": \"closest\", \"mapbox\": {\"style\": \"light\"}, \"paper_bgcolor\": \"white\", \"plot_bgcolor\": \"#E5ECF6\", \"polar\": {\"angularaxis\": {\"gridcolor\": \"white\", \"linecolor\": \"white\", \"ticks\": \"\"}, \"bgcolor\": \"#E5ECF6\", \"radialaxis\": {\"gridcolor\": \"white\", \"linecolor\": \"white\", \"ticks\": \"\"}}, \"scene\": {\"xaxis\": {\"backgroundcolor\": \"#E5ECF6\", \"gridcolor\": \"white\", \"gridwidth\": 2, \"linecolor\": \"white\", \"showbackground\": true, \"ticks\": \"\", \"zerolinecolor\": \"white\"}, \"yaxis\": {\"backgroundcolor\": \"#E5ECF6\", \"gridcolor\": \"white\", \"gridwidth\": 2, \"linecolor\": \"white\", \"showbackground\": true, \"ticks\": \"\", \"zerolinecolor\": \"white\"}, \"zaxis\": {\"backgroundcolor\": \"#E5ECF6\", \"gridcolor\": \"white\", \"gridwidth\": 2, \"linecolor\": \"white\", \"showbackground\": true, \"ticks\": \"\", \"zerolinecolor\": \"white\"}}, \"shapedefaults\": {\"line\": {\"color\": \"#2a3f5f\"}}, \"ternary\": {\"aaxis\": {\"gridcolor\": \"white\", \"linecolor\": \"white\", \"ticks\": \"\"}, \"baxis\": {\"gridcolor\": \"white\", \"linecolor\": \"white\", \"ticks\": \"\"}, \"bgcolor\": \"#E5ECF6\", \"caxis\": {\"gridcolor\": \"white\", \"linecolor\": \"white\", \"ticks\": \"\"}}, \"title\": {\"x\": 0.05}, \"xaxis\": {\"automargin\": true, \"gridcolor\": \"white\", \"linecolor\": \"white\", \"ticks\": \"\", \"title\": {\"standoff\": 15}, \"zerolinecolor\": \"white\", \"zerolinewidth\": 2}, \"yaxis\": {\"automargin\": true, \"gridcolor\": \"white\", \"linecolor\": \"white\", \"ticks\": \"\", \"title\": {\"standoff\": 15}, \"zerolinecolor\": \"white\", \"zerolinewidth\": 2}}}, \"title\": {\"font\": {\"color\": \"#4D5663\"}, \"text\": \"Monthly\"}, \"xaxis\": {\"gridcolor\": \"#E1E5ED\", \"showgrid\": true, \"tickfont\": {\"color\": \"#4D5663\"}, \"title\": {\"font\": {\"color\": \"#4D5663\"}, \"text\": \"\"}, \"zerolinecolor\": \"#E1E5ED\"}, \"yaxis\": {\"gridcolor\": \"#E1E5ED\", \"showgrid\": true, \"tickfont\": {\"color\": \"#4D5663\"}, \"title\": {\"font\": {\"color\": \"#4D5663\"}, \"text\": \"\"}, \"zerolinecolor\": \"#E1E5ED\"}},                        {\"showLink\": true, \"linkText\": \"Export to plot.ly\", \"plotlyServerURL\": \"https://plot.ly\", \"responsive\": true}                    ).then(function(){\n",
       "                            \n",
       "var gd = document.getElementById('94e74a2c-642d-47d5-a7ab-64b2fda141e8');\n",
       "var x = new MutationObserver(function (mutations, observer) {{\n",
       "        var display = window.getComputedStyle(gd).display;\n",
       "        if (!display || display === 'none') {{\n",
       "            console.log([gd, 'removed!']);\n",
       "            Plotly.purge(gd);\n",
       "            observer.disconnect();\n",
       "        }}\n",
       "}});\n",
       "\n",
       "// Listen for the removal of the full notebook cells\n",
       "var notebookContainer = gd.closest('#notebook-container');\n",
       "if (notebookContainer) {{\n",
       "    x.observe(notebookContainer, {childList: true});\n",
       "}}\n",
       "\n",
       "// Listen for the clearing of the current output cell\n",
       "var outputEl = gd.closest('.output');\n",
       "if (outputEl) {{\n",
       "    x.observe(outputEl, {childList: true});\n",
       "}}\n",
       "\n",
       "                        })                };                });            </script>        </div>"
      ]
     },
     "metadata": {},
     "output_type": "display_data"
    }
   ],
   "source": [
    "amzn['Month'].value_counts().iplot(kind ='bar',title ='Monthly', color ='blue')"
   ]
  },
  {
   "cell_type": "code",
   "execution_count": 16,
   "metadata": {},
   "outputs": [
    {
     "data": {
      "application/vnd.plotly.v1+json": {
       "config": {
        "linkText": "Export to plot.ly",
        "plotlyServerURL": "https://plot.ly",
        "showLink": true
       },
       "data": [
        {
         "marker": {
          "color": "rgba(220, 80, 57, 0.6)",
          "line": {
           "color": "rgba(220, 80, 57, 1.0)",
           "width": 1
          }
         },
         "name": "Year",
         "orientation": "v",
         "text": "",
         "type": "bar",
         "x": [
          2016,
          2015,
          2014,
          2017,
          2013,
          2018
         ],
         "y": [
          252,
          252,
          252,
          251,
          226,
          26
         ]
        }
       ],
       "layout": {
        "legend": {
         "bgcolor": "#F5F6F9",
         "font": {
          "color": "#4D5663"
         }
        },
        "paper_bgcolor": "#F5F6F9",
        "plot_bgcolor": "#F5F6F9",
        "template": {
         "data": {
          "bar": [
           {
            "error_x": {
             "color": "#2a3f5f"
            },
            "error_y": {
             "color": "#2a3f5f"
            },
            "marker": {
             "line": {
              "color": "#E5ECF6",
              "width": 0.5
             }
            },
            "type": "bar"
           }
          ],
          "barpolar": [
           {
            "marker": {
             "line": {
              "color": "#E5ECF6",
              "width": 0.5
             }
            },
            "type": "barpolar"
           }
          ],
          "carpet": [
           {
            "aaxis": {
             "endlinecolor": "#2a3f5f",
             "gridcolor": "white",
             "linecolor": "white",
             "minorgridcolor": "white",
             "startlinecolor": "#2a3f5f"
            },
            "baxis": {
             "endlinecolor": "#2a3f5f",
             "gridcolor": "white",
             "linecolor": "white",
             "minorgridcolor": "white",
             "startlinecolor": "#2a3f5f"
            },
            "type": "carpet"
           }
          ],
          "choropleth": [
           {
            "colorbar": {
             "outlinewidth": 0,
             "ticks": ""
            },
            "type": "choropleth"
           }
          ],
          "contour": [
           {
            "colorbar": {
             "outlinewidth": 0,
             "ticks": ""
            },
            "colorscale": [
             [
              0,
              "#0d0887"
             ],
             [
              0.1111111111111111,
              "#46039f"
             ],
             [
              0.2222222222222222,
              "#7201a8"
             ],
             [
              0.3333333333333333,
              "#9c179e"
             ],
             [
              0.4444444444444444,
              "#bd3786"
             ],
             [
              0.5555555555555556,
              "#d8576b"
             ],
             [
              0.6666666666666666,
              "#ed7953"
             ],
             [
              0.7777777777777778,
              "#fb9f3a"
             ],
             [
              0.8888888888888888,
              "#fdca26"
             ],
             [
              1,
              "#f0f921"
             ]
            ],
            "type": "contour"
           }
          ],
          "contourcarpet": [
           {
            "colorbar": {
             "outlinewidth": 0,
             "ticks": ""
            },
            "type": "contourcarpet"
           }
          ],
          "heatmap": [
           {
            "colorbar": {
             "outlinewidth": 0,
             "ticks": ""
            },
            "colorscale": [
             [
              0,
              "#0d0887"
             ],
             [
              0.1111111111111111,
              "#46039f"
             ],
             [
              0.2222222222222222,
              "#7201a8"
             ],
             [
              0.3333333333333333,
              "#9c179e"
             ],
             [
              0.4444444444444444,
              "#bd3786"
             ],
             [
              0.5555555555555556,
              "#d8576b"
             ],
             [
              0.6666666666666666,
              "#ed7953"
             ],
             [
              0.7777777777777778,
              "#fb9f3a"
             ],
             [
              0.8888888888888888,
              "#fdca26"
             ],
             [
              1,
              "#f0f921"
             ]
            ],
            "type": "heatmap"
           }
          ],
          "heatmapgl": [
           {
            "colorbar": {
             "outlinewidth": 0,
             "ticks": ""
            },
            "colorscale": [
             [
              0,
              "#0d0887"
             ],
             [
              0.1111111111111111,
              "#46039f"
             ],
             [
              0.2222222222222222,
              "#7201a8"
             ],
             [
              0.3333333333333333,
              "#9c179e"
             ],
             [
              0.4444444444444444,
              "#bd3786"
             ],
             [
              0.5555555555555556,
              "#d8576b"
             ],
             [
              0.6666666666666666,
              "#ed7953"
             ],
             [
              0.7777777777777778,
              "#fb9f3a"
             ],
             [
              0.8888888888888888,
              "#fdca26"
             ],
             [
              1,
              "#f0f921"
             ]
            ],
            "type": "heatmapgl"
           }
          ],
          "histogram": [
           {
            "marker": {
             "colorbar": {
              "outlinewidth": 0,
              "ticks": ""
             }
            },
            "type": "histogram"
           }
          ],
          "histogram2d": [
           {
            "colorbar": {
             "outlinewidth": 0,
             "ticks": ""
            },
            "colorscale": [
             [
              0,
              "#0d0887"
             ],
             [
              0.1111111111111111,
              "#46039f"
             ],
             [
              0.2222222222222222,
              "#7201a8"
             ],
             [
              0.3333333333333333,
              "#9c179e"
             ],
             [
              0.4444444444444444,
              "#bd3786"
             ],
             [
              0.5555555555555556,
              "#d8576b"
             ],
             [
              0.6666666666666666,
              "#ed7953"
             ],
             [
              0.7777777777777778,
              "#fb9f3a"
             ],
             [
              0.8888888888888888,
              "#fdca26"
             ],
             [
              1,
              "#f0f921"
             ]
            ],
            "type": "histogram2d"
           }
          ],
          "histogram2dcontour": [
           {
            "colorbar": {
             "outlinewidth": 0,
             "ticks": ""
            },
            "colorscale": [
             [
              0,
              "#0d0887"
             ],
             [
              0.1111111111111111,
              "#46039f"
             ],
             [
              0.2222222222222222,
              "#7201a8"
             ],
             [
              0.3333333333333333,
              "#9c179e"
             ],
             [
              0.4444444444444444,
              "#bd3786"
             ],
             [
              0.5555555555555556,
              "#d8576b"
             ],
             [
              0.6666666666666666,
              "#ed7953"
             ],
             [
              0.7777777777777778,
              "#fb9f3a"
             ],
             [
              0.8888888888888888,
              "#fdca26"
             ],
             [
              1,
              "#f0f921"
             ]
            ],
            "type": "histogram2dcontour"
           }
          ],
          "mesh3d": [
           {
            "colorbar": {
             "outlinewidth": 0,
             "ticks": ""
            },
            "type": "mesh3d"
           }
          ],
          "parcoords": [
           {
            "line": {
             "colorbar": {
              "outlinewidth": 0,
              "ticks": ""
             }
            },
            "type": "parcoords"
           }
          ],
          "pie": [
           {
            "automargin": true,
            "type": "pie"
           }
          ],
          "scatter": [
           {
            "marker": {
             "colorbar": {
              "outlinewidth": 0,
              "ticks": ""
             }
            },
            "type": "scatter"
           }
          ],
          "scatter3d": [
           {
            "line": {
             "colorbar": {
              "outlinewidth": 0,
              "ticks": ""
             }
            },
            "marker": {
             "colorbar": {
              "outlinewidth": 0,
              "ticks": ""
             }
            },
            "type": "scatter3d"
           }
          ],
          "scattercarpet": [
           {
            "marker": {
             "colorbar": {
              "outlinewidth": 0,
              "ticks": ""
             }
            },
            "type": "scattercarpet"
           }
          ],
          "scattergeo": [
           {
            "marker": {
             "colorbar": {
              "outlinewidth": 0,
              "ticks": ""
             }
            },
            "type": "scattergeo"
           }
          ],
          "scattergl": [
           {
            "marker": {
             "colorbar": {
              "outlinewidth": 0,
              "ticks": ""
             }
            },
            "type": "scattergl"
           }
          ],
          "scattermapbox": [
           {
            "marker": {
             "colorbar": {
              "outlinewidth": 0,
              "ticks": ""
             }
            },
            "type": "scattermapbox"
           }
          ],
          "scatterpolar": [
           {
            "marker": {
             "colorbar": {
              "outlinewidth": 0,
              "ticks": ""
             }
            },
            "type": "scatterpolar"
           }
          ],
          "scatterpolargl": [
           {
            "marker": {
             "colorbar": {
              "outlinewidth": 0,
              "ticks": ""
             }
            },
            "type": "scatterpolargl"
           }
          ],
          "scatterternary": [
           {
            "marker": {
             "colorbar": {
              "outlinewidth": 0,
              "ticks": ""
             }
            },
            "type": "scatterternary"
           }
          ],
          "surface": [
           {
            "colorbar": {
             "outlinewidth": 0,
             "ticks": ""
            },
            "colorscale": [
             [
              0,
              "#0d0887"
             ],
             [
              0.1111111111111111,
              "#46039f"
             ],
             [
              0.2222222222222222,
              "#7201a8"
             ],
             [
              0.3333333333333333,
              "#9c179e"
             ],
             [
              0.4444444444444444,
              "#bd3786"
             ],
             [
              0.5555555555555556,
              "#d8576b"
             ],
             [
              0.6666666666666666,
              "#ed7953"
             ],
             [
              0.7777777777777778,
              "#fb9f3a"
             ],
             [
              0.8888888888888888,
              "#fdca26"
             ],
             [
              1,
              "#f0f921"
             ]
            ],
            "type": "surface"
           }
          ],
          "table": [
           {
            "cells": {
             "fill": {
              "color": "#EBF0F8"
             },
             "line": {
              "color": "white"
             }
            },
            "header": {
             "fill": {
              "color": "#C8D4E3"
             },
             "line": {
              "color": "white"
             }
            },
            "type": "table"
           }
          ]
         },
         "layout": {
          "annotationdefaults": {
           "arrowcolor": "#2a3f5f",
           "arrowhead": 0,
           "arrowwidth": 1
          },
          "coloraxis": {
           "colorbar": {
            "outlinewidth": 0,
            "ticks": ""
           }
          },
          "colorscale": {
           "diverging": [
            [
             0,
             "#8e0152"
            ],
            [
             0.1,
             "#c51b7d"
            ],
            [
             0.2,
             "#de77ae"
            ],
            [
             0.3,
             "#f1b6da"
            ],
            [
             0.4,
             "#fde0ef"
            ],
            [
             0.5,
             "#f7f7f7"
            ],
            [
             0.6,
             "#e6f5d0"
            ],
            [
             0.7,
             "#b8e186"
            ],
            [
             0.8,
             "#7fbc41"
            ],
            [
             0.9,
             "#4d9221"
            ],
            [
             1,
             "#276419"
            ]
           ],
           "sequential": [
            [
             0,
             "#0d0887"
            ],
            [
             0.1111111111111111,
             "#46039f"
            ],
            [
             0.2222222222222222,
             "#7201a8"
            ],
            [
             0.3333333333333333,
             "#9c179e"
            ],
            [
             0.4444444444444444,
             "#bd3786"
            ],
            [
             0.5555555555555556,
             "#d8576b"
            ],
            [
             0.6666666666666666,
             "#ed7953"
            ],
            [
             0.7777777777777778,
             "#fb9f3a"
            ],
            [
             0.8888888888888888,
             "#fdca26"
            ],
            [
             1,
             "#f0f921"
            ]
           ],
           "sequentialminus": [
            [
             0,
             "#0d0887"
            ],
            [
             0.1111111111111111,
             "#46039f"
            ],
            [
             0.2222222222222222,
             "#7201a8"
            ],
            [
             0.3333333333333333,
             "#9c179e"
            ],
            [
             0.4444444444444444,
             "#bd3786"
            ],
            [
             0.5555555555555556,
             "#d8576b"
            ],
            [
             0.6666666666666666,
             "#ed7953"
            ],
            [
             0.7777777777777778,
             "#fb9f3a"
            ],
            [
             0.8888888888888888,
             "#fdca26"
            ],
            [
             1,
             "#f0f921"
            ]
           ]
          },
          "colorway": [
           "#636efa",
           "#EF553B",
           "#00cc96",
           "#ab63fa",
           "#FFA15A",
           "#19d3f3",
           "#FF6692",
           "#B6E880",
           "#FF97FF",
           "#FECB52"
          ],
          "font": {
           "color": "#2a3f5f"
          },
          "geo": {
           "bgcolor": "white",
           "lakecolor": "white",
           "landcolor": "#E5ECF6",
           "showlakes": true,
           "showland": true,
           "subunitcolor": "white"
          },
          "hoverlabel": {
           "align": "left"
          },
          "hovermode": "closest",
          "mapbox": {
           "style": "light"
          },
          "paper_bgcolor": "white",
          "plot_bgcolor": "#E5ECF6",
          "polar": {
           "angularaxis": {
            "gridcolor": "white",
            "linecolor": "white",
            "ticks": ""
           },
           "bgcolor": "#E5ECF6",
           "radialaxis": {
            "gridcolor": "white",
            "linecolor": "white",
            "ticks": ""
           }
          },
          "scene": {
           "xaxis": {
            "backgroundcolor": "#E5ECF6",
            "gridcolor": "white",
            "gridwidth": 2,
            "linecolor": "white",
            "showbackground": true,
            "ticks": "",
            "zerolinecolor": "white"
           },
           "yaxis": {
            "backgroundcolor": "#E5ECF6",
            "gridcolor": "white",
            "gridwidth": 2,
            "linecolor": "white",
            "showbackground": true,
            "ticks": "",
            "zerolinecolor": "white"
           },
           "zaxis": {
            "backgroundcolor": "#E5ECF6",
            "gridcolor": "white",
            "gridwidth": 2,
            "linecolor": "white",
            "showbackground": true,
            "ticks": "",
            "zerolinecolor": "white"
           }
          },
          "shapedefaults": {
           "line": {
            "color": "#2a3f5f"
           }
          },
          "ternary": {
           "aaxis": {
            "gridcolor": "white",
            "linecolor": "white",
            "ticks": ""
           },
           "baxis": {
            "gridcolor": "white",
            "linecolor": "white",
            "ticks": ""
           },
           "bgcolor": "#E5ECF6",
           "caxis": {
            "gridcolor": "white",
            "linecolor": "white",
            "ticks": ""
           }
          },
          "title": {
           "x": 0.05
          },
          "xaxis": {
           "automargin": true,
           "gridcolor": "white",
           "linecolor": "white",
           "ticks": "",
           "title": {
            "standoff": 15
           },
           "zerolinecolor": "white",
           "zerolinewidth": 2
          },
          "yaxis": {
           "automargin": true,
           "gridcolor": "white",
           "linecolor": "white",
           "ticks": "",
           "title": {
            "standoff": 15
           },
           "zerolinecolor": "white",
           "zerolinewidth": 2
          }
         }
        },
        "title": {
         "font": {
          "color": "#4D5663"
         },
         "text": "Yearly"
        },
        "xaxis": {
         "gridcolor": "#E1E5ED",
         "showgrid": true,
         "tickfont": {
          "color": "#4D5663"
         },
         "title": {
          "font": {
           "color": "#4D5663"
          },
          "text": ""
         },
         "zerolinecolor": "#E1E5ED"
        },
        "yaxis": {
         "gridcolor": "#E1E5ED",
         "showgrid": true,
         "tickfont": {
          "color": "#4D5663"
         },
         "title": {
          "font": {
           "color": "#4D5663"
          },
          "text": ""
         },
         "zerolinecolor": "#E1E5ED"
        }
       }
      },
      "text/html": [
       "<div>                            <div id=\"5563a872-ecf3-4767-b033-eb5490bbe8ff\" class=\"plotly-graph-div\" style=\"height:525px; width:100%;\"></div>            <script type=\"text/javascript\">                require([\"plotly\"], function(Plotly) {                    window.PLOTLYENV=window.PLOTLYENV || {};\n",
       "                    window.PLOTLYENV.BASE_URL='https://plot.ly';                                    if (document.getElementById(\"5563a872-ecf3-4767-b033-eb5490bbe8ff\")) {                    Plotly.newPlot(                        \"5563a872-ecf3-4767-b033-eb5490bbe8ff\",                        [{\"marker\": {\"color\": \"rgba(220, 80, 57, 0.6)\", \"line\": {\"color\": \"rgba(220, 80, 57, 1.0)\", \"width\": 1}}, \"name\": \"Year\", \"orientation\": \"v\", \"text\": \"\", \"type\": \"bar\", \"x\": [2016, 2015, 2014, 2017, 2013, 2018], \"y\": [252, 252, 252, 251, 226, 26]}],                        {\"legend\": {\"bgcolor\": \"#F5F6F9\", \"font\": {\"color\": \"#4D5663\"}}, \"paper_bgcolor\": \"#F5F6F9\", \"plot_bgcolor\": \"#F5F6F9\", \"template\": {\"data\": {\"bar\": [{\"error_x\": {\"color\": \"#2a3f5f\"}, \"error_y\": {\"color\": \"#2a3f5f\"}, \"marker\": {\"line\": {\"color\": \"#E5ECF6\", \"width\": 0.5}}, \"type\": \"bar\"}], \"barpolar\": [{\"marker\": {\"line\": {\"color\": \"#E5ECF6\", \"width\": 0.5}}, \"type\": \"barpolar\"}], \"carpet\": [{\"aaxis\": {\"endlinecolor\": \"#2a3f5f\", \"gridcolor\": \"white\", \"linecolor\": \"white\", \"minorgridcolor\": \"white\", \"startlinecolor\": \"#2a3f5f\"}, \"baxis\": {\"endlinecolor\": \"#2a3f5f\", \"gridcolor\": \"white\", \"linecolor\": \"white\", \"minorgridcolor\": \"white\", \"startlinecolor\": \"#2a3f5f\"}, \"type\": \"carpet\"}], \"choropleth\": [{\"colorbar\": {\"outlinewidth\": 0, \"ticks\": \"\"}, \"type\": \"choropleth\"}], \"contour\": [{\"colorbar\": {\"outlinewidth\": 0, \"ticks\": \"\"}, \"colorscale\": [[0.0, \"#0d0887\"], [0.1111111111111111, \"#46039f\"], [0.2222222222222222, \"#7201a8\"], [0.3333333333333333, \"#9c179e\"], [0.4444444444444444, \"#bd3786\"], [0.5555555555555556, \"#d8576b\"], [0.6666666666666666, \"#ed7953\"], [0.7777777777777778, \"#fb9f3a\"], [0.8888888888888888, \"#fdca26\"], [1.0, \"#f0f921\"]], \"type\": \"contour\"}], \"contourcarpet\": [{\"colorbar\": {\"outlinewidth\": 0, \"ticks\": \"\"}, \"type\": \"contourcarpet\"}], \"heatmap\": [{\"colorbar\": {\"outlinewidth\": 0, \"ticks\": \"\"}, \"colorscale\": [[0.0, \"#0d0887\"], [0.1111111111111111, \"#46039f\"], [0.2222222222222222, \"#7201a8\"], [0.3333333333333333, \"#9c179e\"], [0.4444444444444444, \"#bd3786\"], [0.5555555555555556, \"#d8576b\"], [0.6666666666666666, \"#ed7953\"], [0.7777777777777778, \"#fb9f3a\"], [0.8888888888888888, \"#fdca26\"], [1.0, \"#f0f921\"]], \"type\": \"heatmap\"}], \"heatmapgl\": [{\"colorbar\": {\"outlinewidth\": 0, \"ticks\": \"\"}, \"colorscale\": [[0.0, \"#0d0887\"], [0.1111111111111111, \"#46039f\"], [0.2222222222222222, \"#7201a8\"], [0.3333333333333333, \"#9c179e\"], [0.4444444444444444, \"#bd3786\"], [0.5555555555555556, \"#d8576b\"], [0.6666666666666666, \"#ed7953\"], [0.7777777777777778, \"#fb9f3a\"], [0.8888888888888888, \"#fdca26\"], [1.0, \"#f0f921\"]], \"type\": \"heatmapgl\"}], \"histogram\": [{\"marker\": {\"colorbar\": {\"outlinewidth\": 0, \"ticks\": \"\"}}, \"type\": \"histogram\"}], \"histogram2d\": [{\"colorbar\": {\"outlinewidth\": 0, \"ticks\": \"\"}, \"colorscale\": [[0.0, \"#0d0887\"], [0.1111111111111111, \"#46039f\"], [0.2222222222222222, \"#7201a8\"], [0.3333333333333333, \"#9c179e\"], [0.4444444444444444, \"#bd3786\"], [0.5555555555555556, \"#d8576b\"], [0.6666666666666666, \"#ed7953\"], [0.7777777777777778, \"#fb9f3a\"], [0.8888888888888888, \"#fdca26\"], [1.0, \"#f0f921\"]], \"type\": \"histogram2d\"}], \"histogram2dcontour\": [{\"colorbar\": {\"outlinewidth\": 0, \"ticks\": \"\"}, \"colorscale\": [[0.0, \"#0d0887\"], [0.1111111111111111, \"#46039f\"], [0.2222222222222222, \"#7201a8\"], [0.3333333333333333, \"#9c179e\"], [0.4444444444444444, \"#bd3786\"], [0.5555555555555556, \"#d8576b\"], [0.6666666666666666, \"#ed7953\"], [0.7777777777777778, \"#fb9f3a\"], [0.8888888888888888, \"#fdca26\"], [1.0, \"#f0f921\"]], \"type\": \"histogram2dcontour\"}], \"mesh3d\": [{\"colorbar\": {\"outlinewidth\": 0, \"ticks\": \"\"}, \"type\": \"mesh3d\"}], \"parcoords\": [{\"line\": {\"colorbar\": {\"outlinewidth\": 0, \"ticks\": \"\"}}, \"type\": \"parcoords\"}], \"pie\": [{\"automargin\": true, \"type\": \"pie\"}], \"scatter\": [{\"marker\": {\"colorbar\": {\"outlinewidth\": 0, \"ticks\": \"\"}}, \"type\": \"scatter\"}], \"scatter3d\": [{\"line\": {\"colorbar\": {\"outlinewidth\": 0, \"ticks\": \"\"}}, \"marker\": {\"colorbar\": {\"outlinewidth\": 0, \"ticks\": \"\"}}, \"type\": \"scatter3d\"}], \"scattercarpet\": [{\"marker\": {\"colorbar\": {\"outlinewidth\": 0, \"ticks\": \"\"}}, \"type\": \"scattercarpet\"}], \"scattergeo\": [{\"marker\": {\"colorbar\": {\"outlinewidth\": 0, \"ticks\": \"\"}}, \"type\": \"scattergeo\"}], \"scattergl\": [{\"marker\": {\"colorbar\": {\"outlinewidth\": 0, \"ticks\": \"\"}}, \"type\": \"scattergl\"}], \"scattermapbox\": [{\"marker\": {\"colorbar\": {\"outlinewidth\": 0, \"ticks\": \"\"}}, \"type\": \"scattermapbox\"}], \"scatterpolar\": [{\"marker\": {\"colorbar\": {\"outlinewidth\": 0, \"ticks\": \"\"}}, \"type\": \"scatterpolar\"}], \"scatterpolargl\": [{\"marker\": {\"colorbar\": {\"outlinewidth\": 0, \"ticks\": \"\"}}, \"type\": \"scatterpolargl\"}], \"scatterternary\": [{\"marker\": {\"colorbar\": {\"outlinewidth\": 0, \"ticks\": \"\"}}, \"type\": \"scatterternary\"}], \"surface\": [{\"colorbar\": {\"outlinewidth\": 0, \"ticks\": \"\"}, \"colorscale\": [[0.0, \"#0d0887\"], [0.1111111111111111, \"#46039f\"], [0.2222222222222222, \"#7201a8\"], [0.3333333333333333, \"#9c179e\"], [0.4444444444444444, \"#bd3786\"], [0.5555555555555556, \"#d8576b\"], [0.6666666666666666, \"#ed7953\"], [0.7777777777777778, \"#fb9f3a\"], [0.8888888888888888, \"#fdca26\"], [1.0, \"#f0f921\"]], \"type\": \"surface\"}], \"table\": [{\"cells\": {\"fill\": {\"color\": \"#EBF0F8\"}, \"line\": {\"color\": \"white\"}}, \"header\": {\"fill\": {\"color\": \"#C8D4E3\"}, \"line\": {\"color\": \"white\"}}, \"type\": \"table\"}]}, \"layout\": {\"annotationdefaults\": {\"arrowcolor\": \"#2a3f5f\", \"arrowhead\": 0, \"arrowwidth\": 1}, \"coloraxis\": {\"colorbar\": {\"outlinewidth\": 0, \"ticks\": \"\"}}, \"colorscale\": {\"diverging\": [[0, \"#8e0152\"], [0.1, \"#c51b7d\"], [0.2, \"#de77ae\"], [0.3, \"#f1b6da\"], [0.4, \"#fde0ef\"], [0.5, \"#f7f7f7\"], [0.6, \"#e6f5d0\"], [0.7, \"#b8e186\"], [0.8, \"#7fbc41\"], [0.9, \"#4d9221\"], [1, \"#276419\"]], \"sequential\": [[0.0, \"#0d0887\"], [0.1111111111111111, \"#46039f\"], [0.2222222222222222, \"#7201a8\"], [0.3333333333333333, \"#9c179e\"], [0.4444444444444444, \"#bd3786\"], [0.5555555555555556, \"#d8576b\"], [0.6666666666666666, \"#ed7953\"], [0.7777777777777778, \"#fb9f3a\"], [0.8888888888888888, \"#fdca26\"], [1.0, \"#f0f921\"]], \"sequentialminus\": [[0.0, \"#0d0887\"], [0.1111111111111111, \"#46039f\"], [0.2222222222222222, \"#7201a8\"], [0.3333333333333333, \"#9c179e\"], [0.4444444444444444, \"#bd3786\"], [0.5555555555555556, \"#d8576b\"], [0.6666666666666666, \"#ed7953\"], [0.7777777777777778, \"#fb9f3a\"], [0.8888888888888888, \"#fdca26\"], [1.0, \"#f0f921\"]]}, \"colorway\": [\"#636efa\", \"#EF553B\", \"#00cc96\", \"#ab63fa\", \"#FFA15A\", \"#19d3f3\", \"#FF6692\", \"#B6E880\", \"#FF97FF\", \"#FECB52\"], \"font\": {\"color\": \"#2a3f5f\"}, \"geo\": {\"bgcolor\": \"white\", \"lakecolor\": \"white\", \"landcolor\": \"#E5ECF6\", \"showlakes\": true, \"showland\": true, \"subunitcolor\": \"white\"}, \"hoverlabel\": {\"align\": \"left\"}, \"hovermode\": \"closest\", \"mapbox\": {\"style\": \"light\"}, \"paper_bgcolor\": \"white\", \"plot_bgcolor\": \"#E5ECF6\", \"polar\": {\"angularaxis\": {\"gridcolor\": \"white\", \"linecolor\": \"white\", \"ticks\": \"\"}, \"bgcolor\": \"#E5ECF6\", \"radialaxis\": {\"gridcolor\": \"white\", \"linecolor\": \"white\", \"ticks\": \"\"}}, \"scene\": {\"xaxis\": {\"backgroundcolor\": \"#E5ECF6\", \"gridcolor\": \"white\", \"gridwidth\": 2, \"linecolor\": \"white\", \"showbackground\": true, \"ticks\": \"\", \"zerolinecolor\": \"white\"}, \"yaxis\": {\"backgroundcolor\": \"#E5ECF6\", \"gridcolor\": \"white\", \"gridwidth\": 2, \"linecolor\": \"white\", \"showbackground\": true, \"ticks\": \"\", \"zerolinecolor\": \"white\"}, \"zaxis\": {\"backgroundcolor\": \"#E5ECF6\", \"gridcolor\": \"white\", \"gridwidth\": 2, \"linecolor\": \"white\", \"showbackground\": true, \"ticks\": \"\", \"zerolinecolor\": \"white\"}}, \"shapedefaults\": {\"line\": {\"color\": \"#2a3f5f\"}}, \"ternary\": {\"aaxis\": {\"gridcolor\": \"white\", \"linecolor\": \"white\", \"ticks\": \"\"}, \"baxis\": {\"gridcolor\": \"white\", \"linecolor\": \"white\", \"ticks\": \"\"}, \"bgcolor\": \"#E5ECF6\", \"caxis\": {\"gridcolor\": \"white\", \"linecolor\": \"white\", \"ticks\": \"\"}}, \"title\": {\"x\": 0.05}, \"xaxis\": {\"automargin\": true, \"gridcolor\": \"white\", \"linecolor\": \"white\", \"ticks\": \"\", \"title\": {\"standoff\": 15}, \"zerolinecolor\": \"white\", \"zerolinewidth\": 2}, \"yaxis\": {\"automargin\": true, \"gridcolor\": \"white\", \"linecolor\": \"white\", \"ticks\": \"\", \"title\": {\"standoff\": 15}, \"zerolinecolor\": \"white\", \"zerolinewidth\": 2}}}, \"title\": {\"font\": {\"color\": \"#4D5663\"}, \"text\": \"Yearly\"}, \"xaxis\": {\"gridcolor\": \"#E1E5ED\", \"showgrid\": true, \"tickfont\": {\"color\": \"#4D5663\"}, \"title\": {\"font\": {\"color\": \"#4D5663\"}, \"text\": \"\"}, \"zerolinecolor\": \"#E1E5ED\"}, \"yaxis\": {\"gridcolor\": \"#E1E5ED\", \"showgrid\": true, \"tickfont\": {\"color\": \"#4D5663\"}, \"title\": {\"font\": {\"color\": \"#4D5663\"}, \"text\": \"\"}, \"zerolinecolor\": \"#E1E5ED\"}},                        {\"showLink\": true, \"linkText\": \"Export to plot.ly\", \"plotlyServerURL\": \"https://plot.ly\", \"responsive\": true}                    ).then(function(){\n",
       "                            \n",
       "var gd = document.getElementById('5563a872-ecf3-4767-b033-eb5490bbe8ff');\n",
       "var x = new MutationObserver(function (mutations, observer) {{\n",
       "        var display = window.getComputedStyle(gd).display;\n",
       "        if (!display || display === 'none') {{\n",
       "            console.log([gd, 'removed!']);\n",
       "            Plotly.purge(gd);\n",
       "            observer.disconnect();\n",
       "        }}\n",
       "}});\n",
       "\n",
       "// Listen for the removal of the full notebook cells\n",
       "var notebookContainer = gd.closest('#notebook-container');\n",
       "if (notebookContainer) {{\n",
       "    x.observe(notebookContainer, {childList: true});\n",
       "}}\n",
       "\n",
       "// Listen for the clearing of the current output cell\n",
       "var outputEl = gd.closest('.output');\n",
       "if (outputEl) {{\n",
       "    x.observe(outputEl, {childList: true});\n",
       "}}\n",
       "\n",
       "                        })                };                });            </script>        </div>"
      ]
     },
     "metadata": {},
     "output_type": "display_data"
    }
   ],
   "source": [
    "amzn['Year'].value_counts().iplot(kind ='bar',title ='Yearly',color ='#DC5039')"
   ]
  },
  {
   "cell_type": "code",
   "execution_count": 17,
   "metadata": {},
   "outputs": [],
   "source": [
    "# First calculate the mid prices from the highest and lowest\n",
    "#Green = dataset.loc[:,'high'].to_numpy()\n",
    "#Red = dataset.loc[:,'low'].to_numpy()\n",
    "#Yellow = (Red+Green)/2.0"
   ]
  },
  {
   "cell_type": "code",
   "execution_count": 18,
   "metadata": {},
   "outputs": [
    {
     "data": {
      "image/png": "[encoded data removed]",
      "text/plain": [
       "<Figure size 1008x360 with 2 Axes>"
      ]
     },
     "metadata": {
      "needs_background": "light"
     },
     "output_type": "display_data"
    }
   ],
   "source": [
    "# Simple plotting of Amazon Stock Price\n",
    "# First Subplot\n",
    "f, (ax1, ax2) = plt.subplots(1, 2, figsize=(14,5))\n",
    "ax1.plot(amzn[\"date\"], amzn[\"close\"])\n",
    "ax1.set_xlabel(\"Date\", fontsize=12)\n",
    "ax1.set_ylabel(\"Stock Price\")\n",
    "ax1.set_title(\"Amazon Close Price History\")\n",
    "\n",
    "# Second Subplot\n",
    "ax1.plot(amzn[\"date\"], amzn[\"high\"], color=\"green\")\n",
    "ax1.set_xlabel(\"Date\", fontsize=12)\n",
    "ax1.set_ylabel(\"Stock Price\")\n",
    "ax1.set_title(\"Amazon High Price History\")\n",
    "\n",
    "# Third Subplot\n",
    "ax1.plot(amzn[\"date\"], amzn[\"low\"], color=\"red\")\n",
    "ax1.set_xlabel(\"Date\", fontsize=12)\n",
    "ax1.set_ylabel(\"Stock Price\")\n",
    "ax1.set_title(\"Amazon Low Price History\")\n",
    "\n",
    "# Fourth Subplot\n",
    "ax2.plot(amzn[\"date\"], amzn[\"volume\"], color=\"orange\")\n",
    "ax2.set_xlabel(\"Date\", fontsize=12)\n",
    "ax2.set_ylabel(\"Stock Price\")\n",
    "ax2.set_title(\"Amazon's Volume History\")\n",
    "plt.show()"
   ]
  },
  {
   "cell_type": "code",
   "execution_count": 19,
   "metadata": {},
   "outputs": [
    {
     "data": {
      "image/png": "[encoded data removed]",
      "text/plain": [
       "<Figure size 1008x432 with 1 Axes>"
      ]
     },
     "metadata": {
      "needs_background": "light"
     },
     "output_type": "display_data"
    },
    {
     "data": {
      "image/png": "[encoded data removed]",
      "text/plain": [
       "<Figure size 1008x432 with 1 Axes>"
      ]
     },
     "metadata": {
      "needs_background": "light"
     },
     "output_type": "display_data"
    },
    {
     "data": {
      "image/png": "[encoded data removed]",
      "text/plain": [
       "<Figure size 1008x432 with 1 Axes>"
      ]
     },
     "metadata": {
      "needs_background": "light"
     },
     "output_type": "display_data"
    },
    {
     "data": {
      "image/png": "[encoded data removed]",
      "text/plain": [
       "<Figure size 1008x432 with 1 Axes>"
      ]
     },
     "metadata": {
      "needs_background": "light"
     },
     "output_type": "display_data"
    }
   ],
   "source": [
    "# Visualizing the Opening prices of the data.\n",
    "color='#539ecd'\n",
    "plt.figure(figsize=(14,6))\n",
    "plt.title('AMZN')\n",
    "plt.xlabel('Days')\n",
    "plt.ylabel('Opening Price USD ($)')\n",
    "plt.plot(amzn['open'],color=\"orange\")\n",
    "plt.show()\n",
    "\n",
    "# Visualizing the high prices of the data.\n",
    "plt.figure(figsize=(14,6))\n",
    "plt.title('AMZN')\n",
    "plt.xlabel('Days')\n",
    "plt.ylabel('High Price USD ($)')\n",
    "plt.plot(amzn['high'],color=\"red\")\n",
    "plt.show()\n",
    "\n",
    "# Visualizing the low prices of the data.\n",
    "plt.figure(figsize=(14,6))\n",
    "plt.title('AMZN')\n",
    "plt.xlabel('Days')\n",
    "plt.ylabel('Low Price USD ($)')\n",
    "plt.plot(amzn['low'],color=\"blue\")\n",
    "plt.show()\n",
    "\n",
    "# Visualizing the Closing prices of the data.\n",
    "plt.figure(figsize=(14,6))\n",
    "plt.title('AMZN')\n",
    "plt.xlabel('Days')\n",
    "plt.ylabel('Closing Price USD ($)')\n",
    "plt.plot(amzn['close'],color=\"purple\")\n",
    "plt.show()"
   ]
  },
  {
   "cell_type": "code",
   "execution_count": 20,
   "metadata": {},
   "outputs": [
    {
     "data": {
      "application/vnd.plotly.v1+json": {
       "config": {
        "linkText": "Export to plot.ly",
        "plotlyServerURL": "https://plot.ly",
        "showLink": false
       },
       "data": [
        {
         "close": [
          261.95,
          257.21,
          258.7,
          269.47,
          269.24,
          265.09,
          269.75,
          266.41,
          265.94,
          265.42,
          259.87,
          259.36,
          263.25,
          264.27,
          265.74,
          273.11,
          275.59,
          273.79,
          273.88,
          274.19,
          271.24,
          274.13,
          275.1,
          265.74,
          261.82,
          257.89,
          256.41,
          257.278,
          253.39,
          257.75,
          256.02,
          260.31,
          265.3,
          266.49,
          261.61,
          263.322,
          259.03,
          259.08,
          255.48,
          258.95,
          261.14,
          264.77,
          269.85,
          272.87,
          267.72,
          272.34,
          267.4,
          259.42,
          260.32,
          263.55,
          268.9,
          268.78,
          274.7,
          254.81,
          249.74,
          253.81,
          248.23,
          252.55,
          258.05,
          255.72,
          257.73,
          258.68,
          260.16,
          263.63,
          264.51,
          268.33,
          266.56,
          264.12,
          269.9,
          267.63,
          268.86,
          262.96,
          261.8,
          261.74,
          267.29,
          265.53,
          266.83,
          269.2,
          266.88,
          265.7,
          267.17,
          267.83,
          276.87,
          281.07,
          274.78,
          271.67,
          275.79,
          273.99,
          278.06,
          281.76,
          278.16,
          273.44,
          273.36,
          270.61,
          272.08799999999997,
          277.57,
          277.55,
          277.69,
          282.1,
          283.73,
          284.03,
          285.88,
          290.59,
          291.53,
          292.33,
          299.66,
          307.55,
          306.57,
          306.87,
          308.69,
          304.11,
          305.23,
          303.48,
          301.06,
          298.94,
          303.4,
          312.01,
          306.1,
          302.41,
          301.22,
          305.57,
          304.21,
          300.99,
          300.75,
          296.91,
          295.74,
          297.26,
          296.69,
          293.97,
          291.34,
          286.47,
          284.82,
          285.57,
          287.09,
          284.57,
          289.73,
          290.01,
          286.21,
          280.93,
          281.58,
          283.98,
          280.98,
          288.8,
          293.64,
          294.1,
          295.86,
          299.71,
          300.36,
          299.64,
          298.86,
          297.92,
          296.06,
          304.17,
          312.034,
          312.06,
          316.34,
          311.49,
          314.13,
          312.65,
          318.12,
          316.01,
          312.64,
          320.95,
          320.51,
          314.76,
          319.04,
          310.03,
          303.23,
          298.23,
          305.17400000000004,
          310.889,
          310.7,
          306.4,
          310.49,
          310.77,
          328.931,
          326.44,
          332.54,
          326.756,
          332.21,
          363.39,
          358.16,
          362.7,
          361.08,
          364.03,
          359.00199999999995,
          358.74,
          358.892,
          356.18,
          343.56,
          350.31,
          354.37800000000004,
          349.53,
          356.22,
          367.39599999999996,
          369.17,
          366.18,
          364.94,
          362.57,
          368.92,
          372.31,
          376.64,
          381.37,
          386.71,
          393.62,
          392.3,
          384.66,
          385.96,
          384.49,
          386.95,
          384.89,
          387.78,
          382.19,
          381.25,
          384.24,
          388.97,
          387.65,
          395.96,
          395.19,
          402.2,
          402.92,
          399.2,
          404.39,
          398.08,
          393.37,
          398.79,
          397.97,
          396.44,
          393.63,
          398.03,
          401.92,
          401.01,
          397.66,
          390.98,
          397.54,
          395.87,
          395.8,
          399.61,
          407.05,
          404.54,
          399.87,
          387.6,
          386.28,
          394.43,
          384.2,
          403.01,
          358.69,
          346.15,
          347.95,
          346.45,
          354.59,
          361.08,
          360.87,
          361.79,
          349.25,
          357.2,
          357.35,
          353.65,
          347.38,
          349.8,
          346.76,
          351.78,
          358.32,
          359.8,
          360.13,
          362.1,
          359.78,
          363.9,
          372.37,
          372.16,
          372.06,
          370.53,
          368.82,
          370.64,
          371.51,
          373.74,
          375.04,
          378.77,
          373.23,
          368.97,
          360.62,
          351.85,
          354.71,
          343.41,
          338.47,
          338.29,
          336.365,
          342.99,
          341.96,
          333.62,
          323,
          317.76,
          327.07,
          331.805,
          317.11,
          311.73,
          315.91,
          316.08,
          323.68,
          324.91,
          330.87,
          329.32,
          324.58,
          337.15,
          303.83,
          296.58,
          300.38,
          304.13,
          307.89,
          308.01,
          310.05,
          297.38,
          292.71,
          288.32,
          292.24,
          302.86,
          304.64,
          297.62,
          295.19,
          297.7,
          296.755,
          301.19,
          305.01,
          304.91,
          312.24,
          310.82,
          310.16,
          313.78,
          312.55,
          308.84,
          307.19,
          306.78,
          323.57,
          329.67,
          327.5,
          332.41,
          335.2,
          325.91,
          326.27,
          327.62,
          325.62,
          334.38,
          327,
          324.2,
          327.24,
          324.16,
          327.44,
          325.69,
          324.57,
          324.78,
          332.39,
          332.85,
          337.49199999999996,
          333.55,
          323.81,
          329.97,
          327.92,
          346.2,
          355.32,
          354.44,
          355.9,
          352.454,
          358.66,
          359.76,
          360.84,
          358.14,
          358.61,
          324.01,
          320.41,
          320,
          322.51,
          312.99,
          307.06,
          313.65,
          312.32,
          313.89,
          311.45,
          316.8,
          318.33,
          319.32,
          326.28,
          333.21,
          333.63,
          334.53,
          335.13,
          335.78,
          332.91,
          331.59,
          334.02,
          341.83,
          343.18,
          340.02,
          339.04,
          342.38,
          339,
          345.95,
          346.38,
          342.34,
          329.75,
          331.33,
          330.52,
          331.19,
          323.89,
          327.76,
          324,
          325,
          331.32,
          324.5,
          323.63,
          328.21,
          321.93,
          323.21,
          321.82,
          322.44,
          317.46,
          318.41,
          322.74,
          322.2,
          316.98,
          322.7,
          315.37,
          311.39,
          306.45,
          308.31,
          305.97,
          302.86,
          303.64,
          306.21,
          315.33,
          312.97,
          313.18,
          287.06,
          289.97,
          295.59,
          294.12,
          299.07,
          305.46,
          305.72,
          302.81,
          296.52,
          296.64,
          299.86,
          305.11,
          312.01,
          311.51,
          316.48,
          327.82,
          323.05,
          324.93,
          326.54,
          330.54,
          332.63,
          335.64,
          335.04,
          333.57,
          338.64,
          326,
          326.31,
          316.5,
          316.93,
          312.63,
          306.64,
          312.5,
          305.84,
          307.36,
          307.32,
          306.07,
          295.06,
          298.88,
          297.73,
          299.9,
          306.54,
          306.285,
          303.03,
          309.09,
          312.04,
          310.3,
          310.35,
          308.52,
          302.19,
          295.29,
          298.42,
          300.46,
          296.93,
          291.41,
          294.74,
          293.27,
          286.95,
          290.74,
          289.44,
          297.25,
          310.32,
          312.39,
          309.66,
          306.75,
          303.91,
          311.78,
          354.53,
          364.47,
          363.55,
          364.75,
          373.89,
          374.28,
          370.56,
          372.995,
          375.14,
          377.17,
          381.83,
          375.43,
          373.37,
          378.995,
          383.66,
          380.14,
          378.59,
          385.37,
          384.8,
          380.16,
          385.655,
          384.61,
          382.72,
          387.83,
          380.09,
          378.56,
          369.51,
          366.37,
          374.24,
          370.58,
          373.35,
          371.92,
          375.135,
          373.24,
          378.49,
          375.11,
          374.09,
          370.96,
          367.35,
          370.56,
          374.59,
          372.1,
          370.255,
          372.25,
          377.04,
          374.41,
          381.2,
          383.54,
          382.65,
          382.36,
          385.11,
          383.45,
          386.04,
          375.56,
          389.51,
          391.18,
          389.8,
          389.99,
          445.1,
          438.56,
          429.31,
          429.37,
          421.78,
          422.87,
          423.04,
          421.19,
          419.1,
          426.88,
          433.69,
          432.85,
          431.02,
          426.87,
          432.28,
          426,
          425.24,
          421.71,
          423.86,
          431.63,
          427.63,
          425.47,
          431.42,
          426.57,
          429.23,
          430.92,
          430.99,
          436.59,
          430.78,
          426.95,
          423.5,
          425.48,
          430.77,
          432.97,
          429.92,
          423.67,
          427.26,
          427.81,
          439.39,
          434.92,
          436.29,
          445.99,
          440.84,
          440.1,
          438.1,
          429.86,
          434.09,
          437.39,
          437.71,
          436.04,
          436.72,
          429.7,
          434.39,
          443.51,
          455.57,
          465.57,
          461.19,
          475.48,
          483.01,
          488.1,
          488,
          488.27,
          482.18,
          529.42,
          531.41,
          526.03,
          529,
          536.76,
          536.15,
          535.03,
          531.9,
          537.01,
          529.46,
          522.62,
          524,
          527.46,
          525.91,
          529.66,
          531.52,
          535.22,
          535.02,
          532.92,
          515.78,
          494.47,
          463.37,
          466.37,
          500.77,
          518.37,
          518.01,
          512.89,
          496.54,
          510.55,
          504.72,
          499,
          517.54,
          516.89,
          522.24,
          529.44,
          521.38,
          522.37,
          527.39,
          538.87,
          540.26,
          548.39,
          538.4,
          536.07,
          533.75,
          524.25,
          504.06,
          496.07,
          511.89,
          520.72,
          532.54,
          543.68,
          537.48,
          541.94,
          533.16,
          539.8,
          550.19,
          548.9,
          544.83,
          562.44,
          570.76,
          573.15,
          560.88,
          555.77,
          563.91,
          599.03,
          608.61,
          611.01,
          617.1,
          626.55,
          625.9,
          628.35,
          625.31,
          640.95,
          655.65,
          659.37,
          655.49,
          659.68,
          673.25,
          665.6,
          642.35,
          647.81,
          643.3,
          663.54,
          661.27,
          668.45,
          678.99,
          671.15,
          675.34,
          673.26,
          664.8,
          679.06,
          676.01,
          666.25,
          672.64,
          669.83,
          677.33,
          664.79,
          662.32,
          640.15,
          657.91,
          658.64,
          675.77,
          670.65,
          664.14,
          664.51,
          663.15,
          663.7,
          662.79,
          675.2,
          693.97,
          689.07,
          675.89,
          636.99,
          633.79,
          632.65,
          607.94,
          607.05,
          617.74,
          617.89,
          581.81,
          593,
          570.18,
          574.48,
          571.77,
          575.02,
          596.38,
          596.53,
          601.25,
          583.35,
          635.35,
          587,
          574.81,
          552.1,
          531.07,
          536.26,
          502.13,
          488.1,
          482.07,
          490.48,
          503.82,
          507.08,
          521.1,
          534.1,
          525,
          534.9,
          559.5,
          552.94,
          554.04,
          555.15,
          555.23,
          552.52,
          579.04,
          580.21,
          577.49,
          575.14,
          562.8,
          560.26,
          559.47,
          558.93,
          569.61,
          573.37,
          577.02,
          574.27,
          559.44,
          552.08,
          553.98,
          560.48,
          569.63,
          582.95,
          579.87,
          593.86,
          598.69,
          593.64,
          598.5,
          593.19,
          586.14,
          602.08,
          591.43,
          594.6,
          595.93,
          603.17,
          614.82,
          620.75,
          625.89,
          635.35,
          627.9,
          632.99,
          631,
          620.5,
          626.2,
          616.88,
          606.57,
          602,
          659.59,
          683.85,
          671.32,
          670.9,
          659.09,
          673.95,
          679.75,
          703.07,
          713.23,
          717.93,
          709.92,
          710.66,
          695.27,
          697.45,
          698.52,
          702.8,
          696.75,
          704.2,
          708.35,
          714.91,
          712.24,
          722.79,
          719.44,
          728.24,
          725.54,
          726.73,
          723.74,
          726.64,
          727.65,
          717.91,
          715.24,
          719.3,
          714.26,
          717.51,
          706.39,
          714.01,
          715.82,
          710.6,
          722.08,
          698.96,
          691.36,
          707.95,
          715.6,
          715.62,
          725.68,
          728.1,
          737.61,
          736.57,
          745.81,
          753.78,
          748.21,
          742.63,
          741.2,
          735.44,
          736.07,
          739.95,
          745.72,
          744.43,
          744.86,
          739.61,
          735.59,
          736.67,
          752.61,
          758.81,
          767.74,
          760.58,
          754.64,
          760.77,
          765.98,
          766.56,
          768.31,
          768.56,
          771.24,
          772.56,
          768.49,
          764.04,
          764.63,
          764.46,
          757.31,
          759.48,
          762.45,
          757.25,
          759.22,
          769,
          771.29,
          767.58,
          769.16,
          770.62,
          772.44,
          788.87,
          784.48,
          784.06,
          760.14,
          771.49,
          761.01,
          761.09,
          769.69,
          778.52,
          775.1,
          780.22,
          789.74,
          804.7,
          805.75,
          799.16,
          816.11,
          828.72,
          829.05,
          837.31,
          836.74,
          834.03,
          844.36,
          841.66,
          839.43,
          841.71,
          831,
          834.09,
          829.28,
          822.96,
          812.95,
          817.65,
          817.69,
          810.32,
          818.99,
          838.09,
          835.18,
          822.59,
          818.36,
          776.32,
          789.82,
          785.41,
          765.56,
          767.03,
          755.05,
          784.93,
          787.75,
          771.88,
          742.38,
          739.01,
          719.07,
          743.24,
          746.49,
          756.4,
          760.16,
          780,
          785.33,
          780.12,
          780.37,
          766.77,
          762.52,
          750.57,
          743.65,
          740.34,
          759.36,
          764.72,
          770.42,
          767.33,
          768.66,
          760.12,
          774.34,
          768.82,
          761,
          757.77,
          766,
          771.22,
          770.6,
          766.34,
          760.59,
          771.4,
          772.13,
          765.15,
          749.87,
          753.67,
          757.18,
          780.45,
          795.99,
          796.92,
          795.9,
          799.02,
          813.64,
          817.14,
          809.72,
          807.48,
          809.04,
          808.33,
          817.88,
          822.44,
          836.52,
          839.15,
          835.77,
          830.38,
          823.48,
          832.35,
          839.95,
          810.2,
          807.64,
          812.5,
          819.71,
          821.36,
          827.46,
          836.53,
          836.39,
          842.7,
          844.14,
          845.07,
          856.44,
          855.61,
          852.19,
          845.24,
          848.64,
          845.04,
          853.08,
          848.91,
          849.88,
          846.61,
          846.02,
          850.5,
          853,
          852.46,
          854.59,
          852.53,
          852.97,
          853.42,
          852.31,
          856.97,
          843.2,
          848.06,
          847.38,
          845.61,
          846.82,
          856,
          874.32,
          876.34,
          886.54,
          891.51,
          906.83,
          909.28,
          898.28,
          894.88,
          907.04,
          902.36,
          896.23,
          884.67,
          901.99,
          903.78,
          899.2,
          902.06,
          898.53,
          907.41,
          907.62,
          909.29,
          918.38,
          924.99,
          948.23,
          946.94,
          941.03,
          937.53,
          934.15,
          949.04,
          952.82,
          948.95,
          947.62,
          961.35,
          957.97,
          966.07,
          944.76,
          958.49,
          959.84,
          970.67,
          971.54,
          980.35,
          993.38,
          995.78,
          996.7,
          994.62,
          995.95,
          1006.73,
          1011.34,
          1003,
          1010.07,
          1010.27,
          978.31,
          964.91,
          980.79,
          976.47,
          964.17,
          987.71,
          995.17,
          992.59,
          1002.23,
          1001.3,
          1003.74,
          993.98,
          976.78,
          990.33,
          975.93,
          968,
          953.66,
          971.4,
          965.14,
          978.76,
          996.47,
          994.13,
          1006.51,
          1000.63,
          1001.81,
          1010.04,
          1024.45,
          1026.87,
          1028.7,
          1025.67,
          1038.95,
          1039.87,
          1052.8,
          1046,
          1020.04,
          987.78,
          992.27,
          995.89,
          986.92,
          987.58,
          992.27,
          989.84,
          982.01,
          956.92,
          967.99,
          983.3,
          982.74,
          978.18,
          960.57,
          958.47,
          953.29,
          966.9,
          958,
          952.45,
          945.26,
          946.02,
          954.06,
          967.59,
          980.6,
          978.25,
          965.27,
          967.8,
          979.47,
          965.9,
          977.96,
          982.58,
          999.6,
          992.21,
          986.79,
          974.19,
          969.86,
          973.21,
          964.65,
          955.1,
          939.79,
          938.6,
          950.87,
          956.4,
          961.35,
          959.19,
          957.1,
          965.45,
          980.85,
          989.58,
          990.99,
          987.2,
          995,
          1000.93,
          1002.94,
          1006.34,
          1009.13,
          997,
          986.61,
          982.91,
          966.3,
          975.9,
          972.91,
          972.43,
          1100.95,
          1110.85,
          1105.28,
          1103.68,
          1094.22,
          1111.6,
          1120.66,
          1123.17,
          1132.88,
          1129.13,
          1125.35,
          1129.17,
          1136.84,
          1126.69,
          1137.29,
          1129.88,
          1126.31,
          1139.49,
          1156.16,
          1186,
          1195.83,
          1193.6,
          1161.27,
          1176.75,
          1162.35,
          1133.95,
          1141.57,
          1152.35,
          1159.79,
          1162,
          1168.92,
          1165.08,
          1164.13,
          1174.26,
          1179.14,
          1190.58,
          1187.38,
          1177.62,
          1174.76,
          1168.36,
          1176.76,
          1182.26,
          1186.1,
          1169.47,
          1189.01,
          1204.2,
          1209.59,
          1229.14,
          1246.87,
          1252.7,
          1254.33,
          1276.68,
          1305.2,
          1304.86,
          1295,
          1293.32,
          1294.58,
          1327.31,
          1362.54,
          1357.51,
          1377.95,
          1402.05,
          1417.68,
          1437.82,
          1450.89,
          1390,
          1429.95,
          1390,
          1442.84,
          1416.78
         ],
         "decreasing": {
          "line": {
           "color": "#FA5858"
          }
         },
         "high": [
          265.25,
          263.25,
          260.16,
          269.96,
          270.65,
          268.92,
          270.11,
          274.3,
          269.48,
          267.11,
          268.694,
          262.04,
          265.83,
          267,
          266.6,
          273.3,
          276.68,
          276.48900000000003,
          274.8,
          275.44,
          273.99,
          277.4,
          276.5,
          270,
          267.26,
          261.49,
          259.5,
          259.76,
          257,
          257.77,
          259.42900000000003,
          261.48,
          265.93,
          267.375,
          267.4,
          265.89,
          263.67,
          260.41,
          256.18,
          259.67900000000003,
          262.61,
          265.98,
          270.97,
          273.27,
          275.12,
          272.8,
          270.85,
          266.9899,
          262.88,
          264.6,
          269.87,
          271.47,
          275.8,
          272.02,
          257.01,
          254.68,
          254.2,
          252.93,
          259.25,
          259.5,
          259.74,
          260.295,
          263.55,
          263.65,
          265.88,
          269.4,
          269.05,
          268.43,
          269.98,
          271.79,
          270.77,
          267.59,
          263.17,
          261.93,
          271.1,
          268.25,
          268.57,
          271.91,
          269.11,
          268.88,
          271.66,
          270.5,
          280.1,
          282.47,
          278.411,
          276.8,
          276.8,
          277.07,
          280.2,
          282.91,
          283.34,
          278.6,
          275.8399,
          273.16,
          273.47,
          277.98,
          280.2,
          279.83,
          283.29,
          286.58,
          285.4,
          286.3799,
          291.67,
          292.57,
          293.34,
          300.69,
          307.55,
          307.99,
          309.39,
          308.8,
          306.3408,
          305.79,
          309.25,
          305.06,
          303.84,
          304.5,
          313.62,
          313,
          309.7833,
          305.15,
          306.21,
          305.33,
          303.62,
          301.36,
          300.99,
          298.52,
          299.27,
          299.08,
          296.37,
          294.29,
          289.3,
          288.33,
          289.56,
          289.515,
          288.5,
          289.87,
          291.5,
          291.0499,
          285.28,
          283,
          285.98,
          284.87,
          291.39,
          295.23,
          297,
          298.88,
          299.96,
          301,
          301.86,
          302,
          300.22,
          301,
          304.65,
          312.74,
          314.54,
          320.57,
          315.9,
          318.0799,
          316.71,
          319.37,
          317.21,
          315.31,
          321,
          321.73,
          322.92,
          319.2,
          315.3399,
          311.545,
          303.4978,
          306.7,
          310.93,
          311.645,
          310.79,
          310.8,
          311,
          331.89,
          330,
          337.11,
          331.72,
          332.6499,
          368.4,
          362.75,
          362.89,
          365,
          366,
          365.77,
          361,
          360.17,
          362.87,
          357.9,
          351.05,
          355.37,
          355.4826,
          356.22,
          368.94,
          372.9,
          373.49,
          368.78,
          367.56,
          369.25,
          374.5,
          377.79,
          382.5,
          387,
          394.0999,
          399,
          390.949,
          389.69,
          386.65,
          388.35,
          388.21,
          389.06,
          388.98,
          385,
          389.42,
          391.7,
          391.36,
          396.3,
          397.29,
          404.72,
          405,
          403.7249,
          404.52,
          405.63,
          399.92,
          398.83,
          399.36,
          402.71,
          397,
          398.47,
          403,
          406.89,
          403.764,
          399.78,
          398.63,
          399.31,
          399.29,
          403.49,
          407.8,
          408.06,
          406.17,
          400.2,
          394.1,
          394.74,
          392.85,
          406.25,
          375.45,
          360.85,
          353.9975,
          349.37,
          354.82,
          361.8,
          365,
          363.61,
          357.75,
          357.2,
          359.34,
          355.73,
          354.54,
          350.46,
          354.14099999999996,
          353,
          361.08,
          364.75,
          360.59,
          365.865,
          360.96,
          365.68,
          372.728,
          375.33,
          374.99,
          372.73,
          372.8,
          371.16,
          383.11,
          378.56800000000004,
          378.85,
          379,
          379,
          373,
          372.84,
          361.5,
          358.97,
          357.6,
          343.9999,
          347,
          346.29,
          344.43,
          348.295,
          342.5,
          335.44,
          324.94,
          328,
          332.18,
          331,
          316.5,
          320.48,
          318.28,
          324,
          328.66,
          331.1499,
          337.5,
          333.13,
          337.4,
          316.49,
          304.39,
          301.84,
          304.56,
          310.48,
          313.29,
          310.23,
          309.81,
          296.4,
          295.8784,
          293.68,
          303.34,
          305.6,
          304.64,
          299.2,
          298.88,
          299,
          304.46,
          305.96,
          308.54,
          312.35,
          314.6296,
          313.82,
          314.87,
          314.65,
          312.6,
          307.92,
          309.5,
          327.94,
          330.88,
          333,
          335.5,
          340.7199,
          335.55,
          329.298,
          328.6945,
          331.34,
          335.75,
          338.9,
          328.22,
          327.55,
          329.73,
          328.15,
          328.65,
          326.52,
          326.98,
          333.2,
          336.76,
          338.3,
          337.55,
          333.7397,
          330.2,
          329.98,
          347,
          355.77,
          355.59,
          359.32,
          356.96,
          359.68,
          361.71,
          362.93,
          360.63,
          364.85,
          324.87,
          324.82,
          322.8999,
          322.73,
          320.6836,
          315.83,
          316.18,
          314.55,
          315.78,
          315.8774,
          317.32,
          320.38,
          321.31,
          331.72,
          334.09,
          335,
          337.8,
          335.81,
          337.16,
          336.582,
          334.08,
          336.77,
          344.36,
          346.67,
          341.79,
          341.8199,
          342.5,
          343.27,
          349.38,
          346.827,
          345.81,
          341.76,
          334.98,
          333.01,
          332.89,
          331.33,
          329.48,
          328,
          327.1,
          332.7559,
          329.49,
          327.6,
          329.44,
          328.54,
          323.5,
          323.75,
          323.43,
          322.165,
          318.53,
          325.16,
          324.13,
          322,
          324.11,
          322.27099999999996,
          317.77,
          313.2,
          312.24,
          307.9,
          306.82,
          309.2,
          306.53,
          315.64,
          318.98,
          316.8,
          293.81,
          290.42,
          298,
          299.61,
          299.74,
          305.72,
          308.01,
          304.25,
          304,
          297,
          299.99,
          305.79900000000004,
          312.38,
          312.58,
          317.89,
          332.88,
          328,
          329.56,
          328.4,
          332.67,
          338.33,
          337.39,
          336.3325,
          334.65,
          341.26,
          340.64,
          327.93,
          326.77,
          318.59,
          316.93,
          316.56,
          313.639,
          313.19,
          312.64,
          310.6399,
          310.86,
          304.49,
          299.67,
          304.5,
          301.54,
          307.36,
          307.49,
          307,
          310.7799,
          314.27,
          313.94,
          312.98,
          314.75,
          308.38,
          303,
          301.28,
          303.14,
          302.87,
          298.51,
          301.4976,
          295.91,
          295.9995,
          290.79,
          293.3599,
          306,
          312.25,
          316.93,
          313,
          310.243,
          311.51,
          312.8,
          359.5,
          365,
          367.81699999999995,
          367.5,
          378.8,
          375.9899,
          374.41,
          374.3,
          377.1,
          378.51,
          383,
          379.985,
          376.74,
          381.88,
          383.7,
          384.54,
          380.48,
          387.85,
          389.37,
          385.99,
          385.9,
          386.1,
          387.9,
          388.4182,
          387,
          379.33,
          377.77,
          373.35,
          375.5,
          373.99,
          373.94,
          374.5,
          375.99,
          377.11,
          379.37,
          381.77,
          375.24,
          380.5,
          371.4,
          373.17,
          376.12,
          377.7,
          373.16,
          373.28,
          380.2,
          379.31,
          381.58,
          384.42,
          387.12,
          385.28,
          387.81,
          385.78,
          387.45,
          383.56,
          391.94,
          394.6,
          394.28,
          391.88,
          452.65,
          446.99,
          439,
          434.24,
          431.75,
          425.64,
          429.77,
          427.51,
          422.7165,
          428.5,
          435.2,
          439,
          433.25,
          433.528,
          433,
          430.3962,
          427.27,
          428.24,
          427.1,
          436.9,
          432.44,
          427,
          431.85,
          431.35,
          432.5,
          433.16,
          433.23,
          438.39,
          436.755,
          430.8,
          426.8,
          427.49,
          432.2,
          438.89,
          432.36,
          428.05,
          427.97,
          431.35,
          439.73,
          444.99,
          439.24,
          447.04,
          446.47,
          443.47,
          443.49,
          437,
          435.57,
          440,
          438.2,
          439.73,
          437.73,
          435.99,
          438.72,
          444.72,
          457.87,
          469.6,
          464.7,
          475.88,
          485.42,
          493.2,
          488.88,
          492.5,
          491.66,
          580.57,
          544.95,
          536.39,
          532.9655,
          539.2,
          542.84,
          540.44,
          536.95,
          539.14,
          542.74,
          529.4599,
          532.2764,
          528.98,
          527.5,
          534.66,
          534.11,
          538.74,
          539.49,
          537.25,
          533.25,
          512.33,
          489.76,
          489.44,
          503.72,
          522.69,
          521.5,
          519.41,
          510,
          510.86,
          515.84,
          502.85,
          518.35,
          529.95,
          526.13,
          529.44,
          532.45,
          527.92,
          528.3,
          546.97,
          546.237,
          549.78,
          543.55,
          541.21,
          534.56,
          542.8,
          520.28,
          511.48,
          512.8,
          520.8,
          532.6,
          545.91,
          551.5,
          542,
          539.386,
          541.79,
          550.82,
          553.2,
          552.25,
          563,
          570.94,
          579,
          573,
          565.25,
          569.146,
          619.45,
          609.85,
          614.71,
          617.23,
          627.54,
          630.72,
          628.63,
          629.89,
          645.93,
          657,
          662.26,
          661.955,
          660,
          675.96,
          675.64,
          667,
          649.99,
          653.25,
          664.88,
          672.86,
          668.87,
          682.77,
          675.8,
          679.7,
          680.99,
          681.29,
          681,
          684.82,
          682.79,
          674.775,
          675.46,
          679.99,
          679,
          668.5260000000001,
          657.88,
          658.585,
          671.5,
          677.35,
          682.5,
          676.84,
          669.9,
          668.49,
          666.597,
          664.68,
          675.5,
          696.44,
          695.49,
          687.75,
          657.715,
          646.91,
          639.79,
          630,
          624.14,
          619.85,
          625.99,
          620.88,
          602.25,
          584.62,
          584,
          578.45,
          588.81,
          600.1,
          608.5,
          604.5,
          603.39,
          638.06,
          593,
          581.8,
          571.56,
          556,
          538.99,
          529.45,
          493.5,
          498.38,
          504.66,
          509.3,
          516.75,
          524.45,
          537.48,
          541.2,
          535.95,
          560.65,
          556.91,
          554.27,
          559.39,
          562.5,
          564.81,
          579.25,
          585,
          579.866,
          581.4,
          573.63,
          571.35,
          560.35,
          567,
          570.06,
          576.89,
          581.52,
          581.32,
          571.4,
          562.33,
          555.24,
          562.76,
          572.48,
          583.55,
          584.75,
          595.85,
          603.24,
          600.75,
          599.03,
          599.5,
          593.47,
          602.39,
          599.6,
          597.86,
          604,
          604.06,
          616.81,
          624.38,
          626.77,
          637.64,
          638.01,
          636.55,
          637.82,
          628.25,
          626.98,
          626.7549,
          615.95,
          626.8,
          669.98,
          685.5,
          680.3,
          674,
          676.49,
          676.95,
          686.98,
          704.55,
          719,
          722.45,
          719.25,
          713.25,
          714.47,
          702.5399,
          699.4,
          707.24,
          706,
          707.5,
          710.86,
          715,
          716.6,
          724.23,
          726.43,
          728.28,
          727,
          731.5,
          730,
          729.42,
          728.91,
          724.98,
          721.99,
          720.805,
          722.56,
          718,
          718.2,
          721.31,
          718.4,
          717,
          722.12,
          712.5292,
          696.8189,
          708,
          719.5,
          719.37,
          728,
          728.11,
          737.77,
          739.55,
          746.1,
          755.9,
          757.34,
          756.87,
          749.04,
          746.55,
          741.5954,
          743.33,
          746.25,
          749.36,
          751.28,
          748.5,
          743.13,
          740.94,
          753.36,
          766,
          770.5,
          765.01,
          758.89,
          765,
          768.47,
          767,
          772.6,
          772.1,
          773.75,
          773.15,
          772.04,
          768.7317,
          765.22,
          765.17,
          762.49,
          759.85,
          764.7,
          763.41,
          760.56,
          770,
          774.98,
          771.8358,
          769.64,
          772.04,
          776,
          789.48,
          790.79,
          786.5,
          781,
          772.66,
          769.89,
          767.5,
          770.87,
          780.46,
          781.94,
          781.37,
          790.69,
          805.8889999999999,
          807.75,
          805.93,
          816.64,
          830.14,
          837.5,
          839.95,
          839.86,
          842.365,
          845.67,
          847.21,
          845.95,
          845.2,
          841.29,
          837.666,
          831.8,
          835.74,
          822,
          823.26,
          820.67,
          815.71,
          819.42,
          838.3,
          843.09,
          833.44,
          831.72,
          789.49,
          793.7,
          800.84,
          784.75,
          777,
          766,
          787.732,
          791.7399,
          777.5,
          778.83,
          743.26,
          746,
          746.78,
          749.87,
          757.5,
          767.74,
          780.35,
          792.4,
          781.75,
          786.75,
          777,
          769.89,
          768.09,
          753.37,
          748.4903,
          761.49,
          768.24,
          770.42,
          773.79,
          770.25,
          766.89,
          782.46,
          780.86,
          769.1,
          765.13,
          770.5,
          774.39,
          771.22,
          771.21,
          766.5,
          774.65,
          780,
          773.4,
          767.3999,
          758.7595,
          759.68,
          782.3999,
          799.44,
          801.7742,
          798,
          799.5,
          814.13,
          821.65,
          816,
          811.73,
          813.51,
          816.02,
          818.5,
          823.99,
          837.4183,
          843.84,
          839.7,
          833.5,
          826.99,
          833.78,
          842.49,
          818.3,
          810.72,
          816.16,
          821.4789999999999,
          825,
          828,
          842.9999,
          838.31,
          842.81,
          845,
          847.27,
          857.98,
          858.43,
          860.86,
          845.81,
          852.5,
          854.09,
          854.83,
          854.82,
          851.985,
          848.49,
          848.46,
          853.07,
          856.3999,
          857.35,
          855.69,
          853.75,
          854.45,
          855.5,
          853.83,
          857.8,
          862.795,
          849.37,
          850.89,
          851.8,
          850.3,
          858.46,
          876.438,
          877.06,
          890.35,
          893.49,
          908.5384,
          923.72,
          917.1899,
          900.09,
          908.51,
          911.24,
          904.09,
          894.97,
          902.38,
          909.61,
          910.5,
          905.32,
          903.65,
          909.99,
          909.48,
          915.7489999999999,
          921.86,
          949.59,
          954.4,
          950.1,
          946,
          945,
          940.79,
          949.05,
          957.89,
          953.7499,
          950.29,
          962.79,
          963.15,
          970.06,
          960.3957,
          962.75,
          968.92,
          971.38,
          975.2,
          981,
          999,
          998.65,
          1001.2,
          1000.12,
          998.99,
          1008.48,
          1013.21,
          1016.5,
          1010.25,
          1013.61,
          1012.99,
          975.95,
          984.5,
          990.34,
          965.73,
          999.75,
          1017,
          1004.88,
          1002.72,
          1006.96,
          1004.62,
          1009.8,
          998.8,
          990.68,
          987.56,
          983.47,
          974.49,
          975,
          974.4,
          980.11,
          999.4392,
          995.99,
          1008.55,
          1006.88,
          1004.45,
          1014.75,
          1026.03,
          1031.59,
          1034.97,
          1026.1,
          1043.01,
          1043.33,
          1053.2,
          1083.31,
          1032.85,
          1019.05,
          995,
          1003.21,
          999.5,
          991.672,
          995,
          996.28,
          988,
          979.86,
          970.39,
          985.5,
          991.74,
          986.4605,
          977.84,
          965.43,
          961.2,
          967.93,
          962,
          959,
          957.6210000000001,
          953,
          956,
          969.41,
          981,
          984.5,
          976.7699,
          971.84,
          980.59,
          979.88,
          981.94,
          984.6718,
          1000,
          998.56,
          996.25,
          992.7922,
          978.24,
          974.81,
          971.7,
          965.61,
          949.42,
          948.63,
          955.3,
          959.7,
          964.83,
          967.305,
          963.69,
          967.79,
          981.51,
          995.75,
          998.5,
          997.95,
          995.5,
          1008.44,
          1007.77,
          1009.57,
          1011.47,
          1022.31,
          991.05,
          994.62,
          986.775,
          979.85,
          984.44,
          982.9,
          1105.58,
          1122.79,
          1110.54,
          1108.97,
          1101.93,
          1112.68,
          1125.41,
          1130.6,
          1135.54,
          1129.62,
          1131.75,
          1139.9,
          1138,
          1131.75,
          1138.16,
          1138.8,
          1133.42,
          1140,
          1160.27,
          1186.84,
          1213.41,
          1205.34,
          1194.8,
          1178.57,
          1179.65,
          1175.2,
          1159.27,
          1155.89,
          1163.19,
          1172.79,
          1169.9,
          1173.6,
          1170.87,
          1177.93,
          1182.75,
          1194.78,
          1192.97,
          1191,
          1179.17,
          1174.62,
          1178.32,
          1187.29,
          1190.1,
          1184,
          1190,
          1205.49,
          1215.87,
          1229.14,
          1253.08,
          1259.33,
          1254.33,
          1276.77,
          1305.76,
          1339.94,
          1314,
          1304.6,
          1313,
          1327.45,
          1364.9,
          1388.16,
          1378.34,
          1402.53,
          1431.39,
          1439.25,
          1472.58,
          1459.88,
          1498,
          1458.98,
          1443.99,
          1460.99
         ],
         "increasing": {
          "line": {
           "color": "#58FA58"
          }
         },
         "low": [
          260.555,
          256.6,
          257,
          260.3,
          265.4,
          263.11,
          264.5,
          266.371,
          263.25,
          261.61,
          259.65,
          255.73,
          256.86,
          260.63,
          261.04,
          264.14,
          269.99,
          271.832,
          271.85,
          271.5,
          270.4,
          270.3601,
          272.64,
          263.53,
          260.05,
          257.12,
          252.62,
          254.5501,
          252.68,
          252.07,
          254.5,
          256.28,
          257.9,
          264.06,
          261.01,
          260.55,
          257.75,
          256.12,
          253.67,
          255.63,
          257,
          259.32,
          264.74,
          267.02,
          267.1,
          268.06,
          264.25,
          256.6,
          257.5,
          258.03,
          264.5,
          266.81,
          270.5,
          252.81,
          249.15,
          248.56,
          245.75,
          245.78,
          254.7,
          253.4201,
          252.9101,
          255.334,
          256.88,
          260.21,
          262,
          264.028,
          264.56,
          263.85,
          265,
          266.5,
          267.66,
          260.8,
          259.59,
          258.34,
          266,
          264.844,
          265.615,
          265.94,
          262.95,
          263.02,
          265.02,
          264.21,
          269.13,
          275.24,
          274.24,
          270.45,
          270.2901,
          273.442,
          275.65,
          278.11,
          277.87,
          272.39,
          269.79,
          265,
          269,
          273.5001,
          274.54,
          276.19,
          277.16,
          280.59,
          282,
          282.07,
          286.14,
          288.01,
          289.4,
          292.1,
          298.5,
          304.35,
          305.5119,
          305.69,
          301.87,
          301.91,
          302,
          300.56,
          298.04,
          296.75,
          295.55,
          305.9,
          301.57,
          301,
          298.905,
          301.5,
          298.3,
          297.52,
          296.15,
          292.5501,
          294.2987,
          295.26,
          290.67,
          290.54,
          285.15,
          284.5,
          283.48,
          285.74,
          283.83,
          284.8,
          287.9,
          285.6207,
          279.74,
          279.33,
          280,
          280,
          284.17,
          287.58,
          292.71,
          290.8,
          296.6,
          297.22,
          297.84,
          297.661,
          296.20099999999996,
          295.26,
          296.0101,
          302.91,
          311.04,
          312.41,
          308.77099999999996,
          311.28,
          310.75,
          313.26,
          313.35,
          311.06,
          313.65,
          317.52,
          313.02,
          312.62,
          309.74,
          300.27,
          296.5025,
          302.5901,
          303.84,
          307,
          305.26,
          305.55400000000003,
          305.24,
          316.75,
          323.8,
          325.68,
          324.0601,
          326.75,
          352.62,
          357.2,
          356.29,
          358.65,
          359,
          356.1,
          354.4,
          354.84,
          354.5,
          341.88,
          344.04,
          348.06,
          347.282,
          345.68,
          356.43,
          365.55,
          364.67,
          362.5,
          360.45,
          363.3,
          366.31,
          373.18,
          374.8175,
          382.611,
          388.62,
          389.1,
          383.1,
          381.4914,
          381.371,
          383.83,
          382.57,
          383.02,
          382,
          379.5,
          383.8,
          385,
          386.5,
          383.1,
          392.6,
          395.78,
          399.2,
          396.37,
          396.81,
          396.25,
          392.45,
          393.8,
          394.02,
          396.22,
          388.42,
          394.29,
          396.04,
          398.44,
          393.8,
          388.45,
          391.29,
          392.534,
          389.41,
          393.66,
          401.6,
          402,
          397.79,
          387.27,
          380.49,
          387.12,
          383.24,
          387.7,
          357.76,
          340.1,
          344.02,
          337.73,
          347.403,
          352.49,
          359.35,
          356.25,
          346.32,
          346.5,
          353.35,
          349.45,
          346.1,
          344.38,
          346.75,
          343.29,
          351.58,
          357.17,
          355.5,
          357.084,
          354.48,
          362.46,
          363.9,
          368.9,
          369.531,
          367,
          367.28,
          363.61,
          368.08,
          371.55,
          374.88,
          375,
          369.42,
          366.22,
          358.4,
          348.6,
          348.84,
          343.4,
          330.88,
          336.08,
          334.06,
          338,
          340.38,
          328.46,
          315.61,
          313.13,
          318.44,
          322.5,
          316.5,
          309.5,
          311.28,
          305.5,
          314.71,
          319.76,
          322.31,
          328.94,
          323.39,
          322.95,
          302.71,
          288,
          290.45,
          298.1,
          304,
          304.31,
          305,
          297.04,
          286.68,
          287.23,
          284.38,
          294.16,
          300.75,
          296.66,
          290.38,
          291.55,
          293.81,
          296.75,
          301.5201,
          303.01,
          304.9,
          307.38,
          307.42,
          310.2,
          307.57,
          307,
          305.07,
          303.84,
          306.9,
          324.93,
          325.65,
          327.5,
          333.8772,
          324.66,
          323.5262,
          323.52,
          325.23,
          325,
          325.98,
          320.42,
          321.41,
          322.738,
          321.74,
          322.13,
          323.27,
          322.24,
          325.1,
          331.66,
          333.08,
          332.52,
          321.4,
          323.15,
          322.65,
          334.71,
          345.356,
          349.4,
          353,
          351.38,
          352.08,
          356.72,
          355.25,
          356.62,
          358.52,
          314.76,
          316.5,
          319.5,
          318.5,
          311.86,
          304.58799999999997,
          308.5,
          310.06,
          310.2,
          309.655,
          310.66,
          316.88,
          316.95,
          326.14,
          326.71,
          328.32,
          333.77,
          333.01,
          334.022,
          332.23,
          330.8,
          332.71,
          334.55,
          341.34,
          338.8,
          337.68,
          337.1587,
          337.55,
          343.58,
          342.5,
          339.04,
          329.18,
          328.82,
          326.39,
          328.79,
          319,
          320.1,
          321.52,
          323.7105,
          325.57,
          321.06,
          321.25,
          319.56,
          321.4,
          317.64,
          319,
          318.51,
          315.55,
          311.31,
          319.53,
          319.6,
          316.67,
          314.14,
          314.52,
          311.38,
          303.47,
          305.75,
          299.10200000000003,
          293.83,
          302.72,
          302.02,
          307.07,
          312.64,
          311.4,
          284,
          285.02,
          289.76,
          293.0701,
          292.36,
          301.5,
          303.24,
          300.17,
          294.16,
          292.29,
          296.29,
          300,
          303.64599999999996,
          308.79,
          311.51,
          316.401,
          318.03,
          323.25,
          324.02,
          323.33,
          331.47,
          333.6,
          331.28,
          331.75,
          336.03,
          325.93,
          323.25,
          314.36,
          313.47,
          310.84,
          304.82099999999997,
          301.14,
          304.68,
          306.01,
          303.01,
          302.15,
          295.01,
          293.03,
          293.25,
          295.52,
          301.94,
          303.252,
          302.875,
          303.81,
          306.58,
          309.34,
          310.01,
          306.9601,
          300.85,
          292.38,
          295.33,
          296.11,
          296.68,
          289.281,
          293.23,
          286.503,
          286.815,
          285.25,
          286.39,
          287.26,
          300,
          307.72,
          307.5201,
          302.625,
          303.8,
          299.33,
          340.74,
          350.01,
          360.21,
          358.23,
          365.9,
          371.01,
          367.2,
          368.51,
          371.1,
          373.15,
          377.01,
          372.67,
          372.85,
          373.43,
          375.84,
          378,
          376.16,
          376.54,
          383.28,
          379.79,
          379.481,
          381.601,
          382.19,
          383.89,
          378.88,
          375.28,
          369.18,
          366.26,
          367.52,
          366.68,
          366.72,
          369.64,
          366.7,
          372.19,
          375.92,
          374.94,
          372.27,
          370.285,
          365.65,
          366.5734,
          371.55,
          371.51,
          368.34,
          369,
          369.36,
          374.03,
          374.65,
          378.795,
          381.3151,
          380.14,
          381.2101,
          381.64,
          383.55,
          374.4,
          377,
          386.8,
          388,
          386.15,
          439,
          437.41,
          428.04,
          426.03,
          419.24,
          416,
          422.42,
          421.02,
          414.55,
          422.85,
          430.17400000000004,
          431.37,
          426.71,
          425.8,
          427.01,
          424.3,
          421.46,
          420.63,
          418.36,
          428,
          427.61,
          422,
          425.01,
          425.47,
          427.23,
          426.2,
          426.25,
          432.75,
          429.26,
          426.5,
          421.425,
          419.14,
          425.66,
          431.47,
          428.26,
          422.64,
          422.67,
          424.75300000000004,
          429.405,
          433.24,
          434.18,
          433.69,
          440.23,
          436.39,
          435.06,
          429,
          430.46,
          435.58,
          433.48,
          433.52,
          425.57,
          428.83,
          434.15,
          439,
          447.54,
          458.16,
          460.2,
          464.8,
          477.25,
          485.4,
          482.55,
          484.9,
          475.7,
          529.35,
          526.6,
          523.12,
          525.02,
          524.29,
          534.5201,
          529.36,
          529.163,
          534.119,
          527.52,
          518.21,
          523,
          522,
          513.06,
          525.4846,
          528.25,
          527.12,
          533,
          529,
          515.77,
          494.47,
          451,
          466.25,
          478.76,
          507.26099999999997,
          513.04,
          509.07,
          493.43,
          497.72,
          502.57,
          495.64,
          508.5144,
          515.06,
          514.78,
          520.605,
          518.58,
          517.2,
          518.52,
          526.57,
          531.35,
          539.59,
          532.66,
          534,
          522.87,
          521.4,
          494.3337,
          490.5,
          501.6724,
          506,
          508.1,
          536,
          533.33,
          529,
          519.89,
          530.27,
          539.8,
          543.1,
          539.68,
          547,
          560.31,
          567.38,
          555.28,
          552.52,
          556.67,
          595.36,
          596.29,
          605.53,
          609.5,
          615.39,
          625.28,
          620.41,
          622,
          627.35,
          643.0901,
          652,
          647.8477,
          647.262,
          663.25,
          664.22,
          640.45,
          622.29,
          641,
          646.37,
          659,
          657.57,
          668.45,
          661.2125,
          671.24,
          672.1,
          664.6,
          667.86,
          674.25,
          661.48,
          661.4,
          660.5,
          659.79,
          655.68,
          659.56,
          639.62,
          635.27,
          657.35,
          659.32,
          670.65,
          664.13,
          658.93,
          659.26,
          656.63,
          660.6,
          665.5,
          677.8893,
          686.375,
          675.89,
          627.51,
          627.65,
          620.31,
          605.21,
          606,
          598.57,
          612.2415,
          579.16,
          569.88,
          565.3,
          566.45,
          547.18,
          568.22,
          584.1079,
          594.56,
          590.38,
          578.78,
          597.55,
          570,
          570.31,
          550.09,
          521.9,
          519.2201,
          499.19,
          475.21,
          474,
          486,
          484,
          501.4932,
          511.66,
          519.39,
          523.73,
          515.35,
          541.08,
          545.33,
          533.1501,
          545.2946,
          553.17,
          552.51,
          556,
          573.7,
          573.11,
          571.065,
          555.55,
          554.74,
          550.125,
          547.9,
          562.73,
          563.05,
          567,
          571.14,
          555.01,
          546.09,
          538.58,
          545.05,
          558.1,
          567.08,
          575.56,
          576.5,
          595,
          592.21,
          588.3,
          590.55,
          585.25,
          587.5,
          589.08,
          589,
          594.91,
          592.31,
          605.29,
          615.07,
          618.11,
          624.9603,
          620.8,
          623,
          628.5,
          611.56,
          616.2511,
          614.88,
          601.28,
          599.2,
          654,
          662.0251,
          670.43,
          662.14,
          656,
          656.01,
          671.41,
          693.5,
          701.65,
          711.51,
          706.51,
          700.28,
          693.91,
          688.76,
          689.56,
          700,
          696.42,
          698,
          705.5159,
          707.293,
          711.1,
          711.32,
          718.22,
          715.5001,
          718.43,
          724.42,
          720.55,
          721.6,
          722.3,
          714.21,
          711.16,
          712.27,
          713.3522,
          705.3,
          699.18,
          710.81,
          712.721,
          707.565,
          712.5,
          692.2,
          682.115,
          698.1714,
          713.54,
          712.54,
          716.54,
          719.61,
          722.58,
          731.63,
          738,
          747,
          740.33,
          741.25,
          739.02,
          734.05,
          728.72,
          732.31,
          740.7,
          742.7918,
          743.53,
          735.35,
          732.7525,
          733.86,
          739.7,
          755,
          757.06,
          757.02,
          752.25,
          750.35,
          763.09,
          761.015,
          766.9,
          766.19,
          769.12,
          768.4225,
          767.71,
          763.82,
          759.199,
          760.6,
          756.89,
          752.1,
          761,
          755.36,
          754.7410000000001,
          759.795,
          768.6,
          765.56,
          764,
          766.75,
          771.7,
          770.22,
          784.33,
          781.44,
          760.11,
          756,
          759.05,
          758.85,
          757.58,
          771.66,
          771,
          776,
          779.01,
          794.27,
          802.12,
          797.145,
          801.11,
          817.0337,
          824.63,
          832.4,
          831.25,
          830.26,
          836.12,
          840.6,
          837.45,
          840.27,
          828.35,
          830.1,
          821.21,
          822.96,
          811.68,
          815.02,
          815.17,
          803.1,
          809,
          822.21,
          833.22,
          820,
          815.43,
          774.61,
          780.11,
          776.7130000000001,
          763.55,
          764,
          753.2301,
          770.94,
          779.1,
          760.09,
          717.7,
          728.9,
          710.1,
          725.99,
          735.61,
          748,
          757.6435,
          765.11,
          781,
          773.12,
          777.9,
          764.24,
          761.32,
          750.25,
          738.03,
          736.7,
          742,
          757.25,
          755.82,
          765.19,
          765.34,
          757.2,
          762,
          762.81,
          760.31,
          754,
          756.16,
          767.71,
          765.7,
          763.02,
          757.99,
          761.2,
          770.5,
          760.85,
          748.28,
          747.7,
          754.2,
          760.2557,
          778.48,
          791.77,
          789.5434,
          789.51,
          799.5,
          811.4,
          803.44,
          804.27,
          807.32,
          806.26,
          805.08,
          814.5,
          825.288,
          833,
          829.44,
          816.38,
          819.56,
          824.94,
          828.26,
          804,
          803,
          807.5,
          812.5,
          819.71,
          822.85,
          828.55,
          831.4522,
          832.82,
          839.375,
          840.73,
          847.25,
          852.18,
          848,
          837.7501,
          839.67,
          842.05,
          849.01,
          847.28,
          846.27,
          841.12,
          843.75,
          846.79,
          850.31,
          851.72,
          851.71,
          847.55,
          847.11,
          850.51,
          850.64,
          851.01,
          841.31,
          839.05,
          844.8,
          843.53,
          833.5,
          850.1,
          859.02,
          871.66,
          876.65,
          885.42,
          890.28,
          905.62,
          894.4927,
          889.31,
          899,
          897.5,
          895.2501,
          884.49,
          887.5,
          900.78,
          897.3689999999999,
          896.29,
          896.77,
          903.82,
          903,
          907.56,
          912.11,
          924.3335,
          927.8,
          941.413,
          935.9,
          934.215,
          930.3,
          939.21,
          950.2,
          945,
          940.775,
          951.53,
          956.055,
          960.91,
          944.12,
          944.76,
          959.72,
          962.9,
          966.85,
          970.23,
          982.11,
          989.2491,
          995.52,
          982.16,
          991.37,
          995.67,
          1003.51,
          1001.25,
          1002,
          1006.11,
          927,
          945,
          966.1,
          966.71,
          950.86,
          982,
          989.9,
          992.02,
          992.6518,
          997.2,
          998.02,
          992,
          976,
          969.21,
          965.25,
          967.61,
          951.0001,
          955.25,
          959.02,
          969.14,
          983.5,
          983.72,
          998.1,
          995.9,
          996.89,
          1003.81,
          1004,
          1022.5,
          1022.51,
          1011,
          1027.43,
          1032.48,
          1043.2,
          1040.18,
          1001,
          987.02,
          987.14,
          981.73,
          984.59,
          982,
          987.14,
          985.79,
          975.27,
          954.68,
          951.38,
          976.19,
          982,
          973.22,
          960.32,
          954.65,
          945.46,
          955.495,
          954.2,
          941.14,
          944.1,
          942.25,
          936.33,
          956.9062,
          972.76,
          976.875,
          960.37,
          960.6,
          972.55,
          963.47,
          974.22,
          975.5169999999999,
          979.42,
          987.74,
          984.03,
          968.17,
          967.46,
          962.1626,
          962.02,
          954.42,
          932.89,
          931.75,
          943.3,
          950.1010000000001,
          958.375,
          952.1201,
          950.37,
          954.05,
          969.64,
          975.64,
          987.5,
          980.0989999999999,
          986.695,
          992.4,
          1001.03,
          1001.04,
          1004.38,
          996.55,
          980.24,
          982,
          962.5,
          965,
          966.24,
          968.55,
          1050.55,
          1093.56,
          1101.12,
          1096.74,
          1086.87,
          1088.52,
          1108.77,
          1117.5,
          1119.11,
          1115.77,
          1124.06,
          1122.34,
          1123.89,
          1121.63,
          1130.05,
          1125.81,
          1122.55,
          1128.2,
          1141,
          1160.7,
          1191.15,
          1188.52,
          1145.19,
          1160,
          1152,
          1128,
          1124.74,
          1136.08,
          1151,
          1157.1,
          1157,
          1161.61,
          1160.27,
          1162.45,
          1169.33,
          1180.91,
          1179.14,
          1176,
          1167.64,
          1167.83,
          1160.55,
          1175.61,
          1184.38,
          1167.5,
          1170.51,
          1188.3,
          1204.66,
          1210,
          1232.03,
          1241.76,
          1237.23,
          1256.46,
          1273.39,
          1292.3,
          1280.88,
          1284.02,
          1292.99,
          1296.66,
          1337.34,
          1338,
          1357.62,
          1380.91,
          1400.44,
          1392,
          1450.04,
          1385.14,
          1414,
          1320.72,
          1351.79,
          1415.15
         ],
         "open": [
          261.4,
          263.2,
          259.19,
          261.53,
          267.37,
          267.63,
          265.91,
          270.2,
          265.12,
          266.62,
          266.94,
          260.89,
          259.4,
          261.81,
          263.27,
          265.36,
          274,
          275.76,
          274.1,
          275,
          273.43,
          271,
          275.24,
          269.67,
          264.98,
          259.3,
          258.4,
          258.05,
          256.11,
          254.55,
          258.58,
          257.05,
          258.75,
          265.82,
          266.98,
          262.4,
          262.12,
          259.23,
          255.72,
          255.92,
          258.85,
          261.78,
          264.74,
          270.12,
          271.08,
          269.31,
          270.8,
          266.81,
          258.16,
          259.35,
          264.5,
          269.5,
          271.53,
          269.97,
          254.9,
          249.3701,
          253.9,
          248.94,
          256.14,
          258.09,
          256.31,
          256.87,
          258.73,
          260.88,
          262.77,
          264.5,
          267.07,
          265.96,
          265.83,
          269,
          268.74,
          267.39,
          260.49,
          259.85,
          266.48,
          265.46,
          265.71,
          266,
          268.96,
          267,
          265.81,
          267.75,
          269.74,
          276.68,
          276,
          276.6,
          271.5,
          275,
          276.35,
          279.08,
          281.26,
          275.14,
          274.57,
          271.29,
          272.3,
          273.98,
          279.18,
          276.19,
          279,
          281.04,
          282.6,
          285,
          286.42,
          291,
          291.41,
          294.99,
          298.69,
          307.27,
          307.3,
          306.97,
          306.27,
          304.39,
          309.25,
          303.16,
          303.02,
          299,
          299.55,
          311.07,
          307.72,
          303.91,
          303.08,
          304.63,
          303.4,
          300.51,
          300.15,
          298.52,
          295.68,
          295.79,
          295.88,
          294.29,
          288.79,
          286.55,
          285.19,
          285.88,
          285.09,
          284.8,
          291.21,
          290.43,
          283.87,
          280.36,
          281.45,
          284.59,
          284.73,
          288.33,
          293.63,
          295.33,
          297.22,
          300.55,
          298.91,
          299.39,
          300.14,
          299.82,
          297.63,
          304.06,
          313.77,
          312.54,
          314.01,
          312.43,
          314.53,
          313.9,
          316.92,
          313.41,
          314.22,
          318.04,
          320.39,
          315.13,
          315.24,
          311.5,
          303.42,
          304.63,
          304.77,
          309.22,
          309.87,
          308.38,
          307.07,
          319.36,
          329.89,
          327.72,
          330.84,
          329.63,
          358.6,
          359.92,
          358.96,
          362.62,
          361.73,
          365.63,
          360.12,
          356.78,
          360.45,
          355.86,
          345.95,
          350.59,
          352.99,
          347.4,
          357.39,
          367.63,
          370.28,
          365.82,
          367.56,
          364.05,
          370,
          373.82,
          377.61,
          383.5,
          389.1,
          399,
          390.11,
          383.5,
          386.65,
          388.35,
          388.11,
          383.74,
          387.34,
          381.26,
          385.32,
          385.03,
          390.65,
          389.23,
          394.27,
          396.55,
          403.69,
          402.52,
          401.79,
          404.65,
          399.41,
          394.58,
          398.8,
          398.29,
          395.85,
          395.04,
          398.47,
          403.71,
          402.53,
          397.98,
          392.13,
          398.94,
          393.68,
          394.26,
          403,
          408,
          401,
          398.16,
          390.5,
          387.4,
          392.16,
          393.77,
          371.76,
          358.98,
          349.59,
          346,
          347.403,
          358.98,
          361.61,
          361.842,
          356.43,
          347.7,
          359.34,
          355.28,
          352.64,
          348.8,
          352.44,
          345.19,
          353,
          359.86,
          357.22,
          360.6,
          358.735,
          363.9,
          364.13,
          374.05,
          374.58,
          372.69,
          370.99,
          366.4,
          376.62,
          372.8,
          375.72,
          377.32,
          378.77,
          370.64,
          371,
          360.09,
          354.03,
          357.13,
          343.15,
          340.05,
          342.4,
          338.09,
          345.99,
          341.82,
          335.15,
          320.99,
          321.88,
          328.47,
          330.6,
          314,
          317.67,
          316.7,
          321.17,
          319.76,
          323.97,
          332,
          333.06,
          329.67,
          316.25,
          304,
          296.44,
          298.1,
          304.13,
          310.42,
          306.37,
          309.53,
          295.56,
          290.82,
          290.57,
          294.3,
          302.6,
          302.5,
          298.02,
          292.8,
          295.76,
          297.1,
          302.21,
          305.05,
          305.46,
          314.41,
          309.5,
          310.42,
          314.43,
          312.59,
          305.75,
          306.85,
          308.1,
          325,
          331.57,
          327.65,
          336,
          335.55,
          327.05,
          324.86,
          327.54,
          328,
          335.255,
          327.76,
          323.33,
          327.54,
          324.33,
          328.49,
          325.88,
          324.98,
          325.86,
          333.2,
          334.83,
          337.5,
          333.1,
          324.71,
          324.34,
          334.71,
          347.03,
          353.72,
          355.62,
          353.44,
          354.4,
          358.1,
          355.25,
          359.05,
          359.98,
          317.3,
          324.25,
          321.98,
          321.45,
          320.01,
          313.69,
          308.84,
          313.3,
          310.83,
          315.21,
          311.94,
          318.48,
          318.89,
          327.6,
          327.8,
          334,
          335.48,
          334.87,
          334.68,
          336.48,
          332.99,
          333.21,
          337,
          342.09,
          340,
          341.76,
          339.98,
          342.54,
          343.69,
          346.3,
          344.54,
          341.61,
          334.3,
          329.94,
          329.56,
          330.91,
          321.07,
          327.76,
          325.44,
          327.6,
          328.49,
          322.46,
          324.17,
          327.99,
          320.6,
          320.5,
          321.36,
          322.04,
          316.92,
          320.36,
          323.5,
          319.43,
          316.58,
          321.49,
          314.02,
          309.87,
          308,
          304.35,
          293.83,
          307.15,
          302.95,
          309.9,
          315.43,
          313.4,
          284.4,
          285.7,
          289.76,
          299.11,
          293.98,
          305.15,
          306.24,
          303.99,
          303.01,
          296.69,
          297.82,
          300,
          305.94,
          310.75,
          312,
          317.12,
          326.44,
          323.99,
          327.25,
          324,
          335.42,
          334.78,
          335.27,
          333.78,
          336.03,
          338.12,
          327.5,
          325.73,
          315.53,
          316.8,
          311.57,
          302.99,
          312,
          307.89,
          303.99,
          308.87,
          304.35,
          296.37,
          304.01,
          296.91,
          301.94,
          306.98,
          306.38,
          305,
          307.85,
          309.91,
          311.55,
          312.58,
          307.01,
          302.24,
          297.5,
          300.32,
          301.48,
          297.56,
          297.48,
          291.93,
          294,
          286.28,
          292.59,
          289.64,
          300,
          308.08,
          311.82,
          306.3,
          309.81,
          304.73,
          346.32,
          350.05,
          360.29,
          358.38,
          366,
          374.87,
          371,
          371.19,
          371.23,
          375.1,
          378.41,
          377.72,
          373.78,
          373.49,
          378.62,
          383.44,
          378.65,
          377.27,
          384.07,
          384,
          380.85,
          383.95,
          385.71,
          385.61,
          385.52,
          378.4,
          377.45,
          370.61,
          368.82,
          371.52,
          370.38,
          371.11,
          369.97,
          373.87,
          376.29,
          378.07,
          373.99,
          375.17,
          369.59,
          367.11,
          371.87,
          373.24,
          372.1,
          370.5,
          370.1,
          376.15,
          374.66,
          380.66,
          384.31,
          383.53,
          383.51,
          384.65,
          383.69,
          382.63,
          378.55,
          391.31,
          391.91,
          390.21,
          439,
          443.86,
          438.51,
          426.75,
          427.11,
          423.82,
          424.8,
          422.85,
          421.43,
          424.15,
          430.75,
          432.51,
          431.08,
          429.98,
          429.45,
          428,
          426,
          424.87,
          420.6,
          428,
          431.55,
          426.2,
          427.45,
          429.71,
          427.23,
          430.4,
          430.07,
          434.4,
          434.4,
          429.66,
          425.62,
          422.96,
          426.46,
          432.29,
          431.25,
          427.66,
          424.15,
          428.36,
          430.3,
          440.26,
          437,
          435.59,
          444.97,
          438.07,
          441.76,
          434.98,
          434.2,
          439.35,
          437,
          435.23,
          435.68,
          434.35,
          434.9,
          440.49,
          448.29,
          462.32,
          463.04,
          465.5,
          477.7,
          492.57,
          487.9,
          485.99,
          491.66,
          578.99,
          527.75,
          536,
          530.92,
          527.65,
          539.09,
          537.45,
          529.69,
          538.8,
          539.3,
          529.16,
          528.52,
          523.65,
          523.75,
          527.37,
          528.25,
          531.29,
          535.04,
          533.74,
          530.39,
          507.36,
          463.58,
          487.49,
          484.02,
          514.03,
          517.5,
          516.44,
          499.14,
          505.09,
          514.5,
          497.65,
          508.69,
          524,
          515.15,
          521.07,
          529.44,
          523.25,
          521.98,
          526.98,
          534.62,
          544.33,
          539.71,
          538.3,
          530.55,
          542.57,
          520.02,
          506,
          505.44,
          511,
          512.99,
          536.99,
          545.5,
          541.79,
          536.71,
          534.48,
          539.96,
          546.26,
          551.34,
          547.75,
          565.27,
          570.76,
          572,
          563.87,
          562.7,
          617.68,
          602.3,
          608.6,
          612.3,
          617.7,
          626.01,
          627.13,
          629.53,
          627.76,
          647.1,
          655,
          658.65,
          651.01,
          663.25,
          673,
          663.57,
          640.92,
          650.65,
          646.51,
          664.99,
          667.94,
          671.5,
          674.14,
          675,
          680.8,
          675.9,
          673.75,
          681,
          679.44,
          666,
          674.74,
          663.13,
          678,
          665.59,
          651.23,
          641.75,
          665.03,
          663.56,
          680,
          668.65,
          668.5,
          666.83,
          666.5,
          663.35,
          665.56,
          677.98,
          691.89,
          686.08,
          656.29,
          646.86,
          622,
          621.8,
          619.66,
          612.48,
          625.25,
          620.88,
          580.25,
          572.24,
          577.09,
          564.36,
          573.58,
          588.73,
          597.99,
          603.45,
          601.99,
          608.37,
          571.98,
          578.15,
          570,
          553.5,
          525,
          529.28,
          486.47,
          478.01,
          491.76,
          491.17,
          510.7,
          519.48,
          528.74,
          541.19,
          520.71,
          542.2,
          555.55,
          545.75,
          555.52,
          560.12,
          554,
          556.29,
          581.75,
          577.96,
          581.07,
          573.54,
          557.87,
          559.56,
          566.74,
          566.95,
          567,
          571,
          576.64,
          569.51,
          560.94,
          548.91,
          545.11,
          561,
          567.11,
          584.4,
          580.15,
          596.71,
          599.28,
          590.49,
          599,
          590.77,
          587.52,
          598.76,
          594.32,
          596.14,
          598.4,
          607.68,
          615.07,
          621.92,
          625.35,
          637.14,
          630,
          631,
          624.47,
          616.61,
          626.17,
          611.8,
          615.54,
          666,
          663.92,
          677.36,
          662.59,
          673.31,
          656.05,
          673.95,
          694,
          705.79,
          717.38,
          714.64,
          710.13,
          709.9,
          689.56,
          691.88,
          701.05,
          704.25,
          698.01,
          708,
          708.33,
          715,
          712.33,
          720.9,
          720.97,
          726.74,
          726.5,
          729.89,
          726.4,
          723.1,
          722.35,
          714.01,
          712.33,
          722,
          712.05,
          718.19,
          713.5,
          715.72,
          716.58,
          715.5,
          693,
          692.01,
          700,
          715.75,
          717.2,
          717.32,
          722.8,
          725.71,
          739.33,
          740.14,
          750,
          756.86,
          746.76,
          748.86,
          746.55,
          735.49,
          732.5,
          744,
          747.5,
          747.79,
          746.55,
          742.71,
          737.97,
          745.98,
          765,
          759.87,
          763.81,
          757.06,
          753.7,
          764.81,
          766.81,
          767.39,
          769.8,
          769.94,
          768.46,
          771.9,
          768.62,
          764.41,
          764,
          761.9,
          757.5,
          763.31,
          763,
          756,
          760.05,
          768.72,
          771.05,
          766.6,
          770.9,
          774.11,
          774.04,
          789.53,
          783.89,
          779.36,
          757.35,
          768.77,
          762.2,
          762,
          773.28,
          779.97,
          776,
          783.25,
          794.27,
          803.13,
          801.8,
          801.85,
          818,
          828.26,
          832.61,
          836,
          840.91,
          838,
          843.7,
          845.79,
          843.25,
          841.02,
          834,
          829,
          835.08,
          821.5,
          822.11,
          820.4,
          813.99,
          809.36,
          824.95,
          839.3,
          832.76,
          831.24,
          782,
          781.03,
          799,
          783.93,
          765.05,
          762.79,
          771.64,
          784.97,
          764,
          778.81,
          735.73,
          745.51,
          730,
          739.88,
          749.32,
          761,
          766,
          788.17,
          781.73,
          786.5,
          776.99,
          768,
          762,
          752.41,
          743.4,
          745,
          763.99,
          764.55,
          771.87,
          770,
          766.4,
          764.96,
          778.25,
          766.28,
          765,
          758.89,
          768.65,
          770,
          768.12,
          764.55,
          763.4,
          776.25,
          772.4,
          766.47,
          757.92,
          758.39,
          761.55,
          782.36,
          798,
          796.6,
          793.66,
          800.31,
          814.32,
          815.7,
          809.5,
          810,
          815.28,
          806.8,
          822,
          825.79,
          835.53,
          839,
          833,
          823.75,
          829.21,
          836.59,
          806.72,
          809.8,
          809.31,
          812.69,
          821.6,
          823.82,
          831.62,
          837,
          834,
          841.84,
          842,
          848.84,
          856.95,
          857.57,
          844.69,
          842.38,
          851.45,
          853.05,
          853.08,
          847.2,
          845.23,
          845.48,
          848,
          851,
          857,
          851.77,
          853.55,
          854.33,
          855.3,
          853.49,
          851.51,
          858.84,
          840.43,
          848.2,
          851.68,
          838.07,
          851.75,
          859.05,
          874.95,
          877,
          888,
          891.5,
          910.82,
          913.8,
          899.65,
          899.63,
          907.04,
          903.09,
          891.45,
          887.5,
          900.99,
          907.84,
          899.7,
          902.67,
          908.68,
          907.04,
          910.3,
          914.39,
          948.83,
          927.8,
          946.645,
          946,
          944.75,
          940.52,
          940.95,
          952.8,
          953.5,
          945.11,
          954.5,
          958.73,
          961,
          954.7,
          944.8,
          962.84,
          964,
          975.02,
          976,
          984.85,
          995,
          996.51,
          1000,
          998.59,
          998.99,
          1007.23,
          1012,
          1005.95,
          1012.06,
          1012.5,
          967,
          977.99,
          988.59,
          958.7,
          996,
          1017,
          998,
          998.7,
          1002.23,
          1002.54,
          1008.5,
          990.69,
          978.55,
          979,
          980.12,
          972.79,
          961.53,
          964.66,
          969.55,
          985,
          993,
          1000.65,
          1004.62,
          1002.4,
          1004.69,
          1006,
          1025,
          1031.59,
          1021.28,
          1028.34,
          1038.05,
          1043.2,
          1069.55,
          1012.14,
          1019.05,
          990.65,
          1001.77,
          999.47,
          989.68,
          990.65,
          994.35,
          982.6,
          976.295,
          960,
          978.41,
          988.9,
          981.65,
          977.84,
          961.4,
          957.57,
          955.52,
          959.38,
          957.42,
          956,
          946.54,
          940,
          958.44,
          974.7,
          984.2,
          975.4,
          968.32,
          974,
          979.1,
          974.46,
          983.27,
          983.97,
          996.8,
          993.01,
          990.4,
          977.25,
          971.79,
          971.31,
          961.01,
          949.31,
          945.49,
          948,
          951.86,
          960.11,
          964,
          958,
          954.21,
          970,
          975.64,
          993.24,
          996.67,
          991.27,
          996.81,
          1007,
          1008.44,
          1005.59,
          1009.27,
          990,
          993.53,
          986.73,
          969,
          978,
          980.33,
          1058.14,
          1095.01,
          1109,
          1105.4,
          1097.81,
          1091.15,
          1109.15,
          1124.74,
          1122.82,
          1125.96,
          1126.1,
          1123,
          1130.11,
          1127.01,
          1130.16,
          1138.28,
          1129.77,
          1132.86,
          1141,
          1160.7,
          1202.66,
          1204.88,
          1194.8,
          1167.1,
          1172.05,
          1173.85,
          1128.26,
          1137.99,
          1156.59,
          1170.4,
          1164.6,
          1166.51,
          1170,
          1163.71,
          1179.03,
          1187.37,
          1189.15,
          1190.5,
          1175.9,
          1172.08,
          1168.36,
          1179.91,
          1189,
          1182.35,
          1172,
          1188.3,
          1205,
          1217.51,
          1236,
          1256.9,
          1245.15,
          1259.74,
          1273.39,
          1323,
          1312.24,
          1293.95,
          1312,
          1297.17,
          1338.09,
          1374.82,
          1368,
          1392.01,
          1409.18,
          1403.17,
          1451.3,
          1445,
          1477.39,
          1402.62,
          1361.46,
          1449
         ],
         "type": "ohlc",
         "x": [
          "2013-02-08T00:00:00",
          "2013-02-11T00:00:00",
          "2013-02-12T00:00:00",
          "2013-02-13T00:00:00",
          "2013-02-14T00:00:00",
          "2013-02-15T00:00:00",
          "2013-02-19T00:00:00",
          "2013-02-20T00:00:00",
          "2013-02-21T00:00:00",
          "2013-02-22T00:00:00",
          "2013-02-25T00:00:00",
          "2013-02-26T00:00:00",
          "2013-02-27T00:00:00",
          "2013-02-28T00:00:00",
          "2013-03-01T00:00:00",
          "2013-03-04T00:00:00",
          "2013-03-05T00:00:00",
          "2013-03-06T00:00:00",
          "2013-03-07T00:00:00",
          "2013-03-08T00:00:00",
          "2013-03-11T00:00:00",
          "2013-03-12T00:00:00",
          "2013-03-13T00:00:00",
          "2013-03-14T00:00:00",
          "2013-03-15T00:00:00",
          "2013-03-18T00:00:00",
          "2013-03-19T00:00:00",
          "2013-03-20T00:00:00",
          "2013-03-21T00:00:00",
          "2013-03-22T00:00:00",
          "2013-03-25T00:00:00",
          "2013-03-26T00:00:00",
          "2013-03-27T00:00:00",
          "2013-03-28T00:00:00",
          "2013-04-01T00:00:00",
          "2013-04-02T00:00:00",
          "2013-04-03T00:00:00",
          "2013-04-04T00:00:00",
          "2013-04-05T00:00:00",
          "2013-04-08T00:00:00",
          "2013-04-09T00:00:00",
          "2013-04-10T00:00:00",
          "2013-04-11T00:00:00",
          "2013-04-12T00:00:00",
          "2013-04-15T00:00:00",
          "2013-04-16T00:00:00",
          "2013-04-17T00:00:00",
          "2013-04-18T00:00:00",
          "2013-04-19T00:00:00",
          "2013-04-22T00:00:00",
          "2013-04-23T00:00:00",
          "2013-04-24T00:00:00",
          "2013-04-25T00:00:00",
          "2013-04-26T00:00:00",
          "2013-04-29T00:00:00",
          "2013-04-30T00:00:00",
          "2013-05-01T00:00:00",
          "2013-05-02T00:00:00",
          "2013-05-03T00:00:00",
          "2013-05-06T00:00:00",
          "2013-05-07T00:00:00",
          "2013-05-08T00:00:00",
          "2013-05-09T00:00:00",
          "2013-05-10T00:00:00",
          "2013-05-13T00:00:00",
          "2013-05-14T00:00:00",
          "2013-05-15T00:00:00",
          "2013-05-16T00:00:00",
          "2013-05-17T00:00:00",
          "2013-05-20T00:00:00",
          "2013-05-21T00:00:00",
          "2013-05-22T00:00:00",
          "2013-05-23T00:00:00",
          "2013-05-24T00:00:00",
          "2013-05-28T00:00:00",
          "2013-05-29T00:00:00",
          "2013-05-30T00:00:00",
          "2013-05-31T00:00:00",
          "2013-06-03T00:00:00",
          "2013-06-04T00:00:00",
          "2013-06-05T00:00:00",
          "2013-06-06T00:00:00",
          "2013-06-07T00:00:00",
          "2013-06-10T00:00:00",
          "2013-06-11T00:00:00",
          "2013-06-12T00:00:00",
          "2013-06-13T00:00:00",
          "2013-06-14T00:00:00",
          "2013-06-17T00:00:00",
          "2013-06-18T00:00:00",
          "2013-06-19T00:00:00",
          "2013-06-20T00:00:00",
          "2013-06-21T00:00:00",
          "2013-06-24T00:00:00",
          "2013-06-25T00:00:00",
          "2013-06-26T00:00:00",
          "2013-06-27T00:00:00",
          "2013-06-28T00:00:00",
          "2013-07-01T00:00:00",
          "2013-07-02T00:00:00",
          "2013-07-03T00:00:00",
          "2013-07-05T00:00:00",
          "2013-07-08T00:00:00",
          "2013-07-09T00:00:00",
          "2013-07-10T00:00:00",
          "2013-07-11T00:00:00",
          "2013-07-12T00:00:00",
          "2013-07-15T00:00:00",
          "2013-07-16T00:00:00",
          "2013-07-17T00:00:00",
          "2013-07-18T00:00:00",
          "2013-07-19T00:00:00",
          "2013-07-22T00:00:00",
          "2013-07-23T00:00:00",
          "2013-07-24T00:00:00",
          "2013-07-25T00:00:00",
          "2013-07-26T00:00:00",
          "2013-07-29T00:00:00",
          "2013-07-30T00:00:00",
          "2013-07-31T00:00:00",
          "2013-08-01T00:00:00",
          "2013-08-02T00:00:00",
          "2013-08-05T00:00:00",
          "2013-08-06T00:00:00",
          "2013-08-07T00:00:00",
          "2013-08-08T00:00:00",
          "2013-08-09T00:00:00",
          "2013-08-12T00:00:00",
          "2013-08-13T00:00:00",
          "2013-08-14T00:00:00",
          "2013-08-15T00:00:00",
          "2013-08-16T00:00:00",
          "2013-08-19T00:00:00",
          "2013-08-20T00:00:00",
          "2013-08-21T00:00:00",
          "2013-08-22T00:00:00",
          "2013-08-23T00:00:00",
          "2013-08-26T00:00:00",
          "2013-08-27T00:00:00",
          "2013-08-28T00:00:00",
          "2013-08-29T00:00:00",
          "2013-08-30T00:00:00",
          "2013-09-03T00:00:00",
          "2013-09-04T00:00:00",
          "2013-09-05T00:00:00",
          "2013-09-06T00:00:00",
          "2013-09-09T00:00:00",
          "2013-09-10T00:00:00",
          "2013-09-11T00:00:00",
          "2013-09-12T00:00:00",
          "2013-09-13T00:00:00",
          "2013-09-16T00:00:00",
          "2013-09-17T00:00:00",
          "2013-09-18T00:00:00",
          "2013-09-19T00:00:00",
          "2013-09-20T00:00:00",
          "2013-09-23T00:00:00",
          "2013-09-24T00:00:00",
          "2013-09-25T00:00:00",
          "2013-09-26T00:00:00",
          "2013-09-27T00:00:00",
          "2013-09-30T00:00:00",
          "2013-10-01T00:00:00",
          "2013-10-02T00:00:00",
          "2013-10-03T00:00:00",
          "2013-10-04T00:00:00",
          "2013-10-07T00:00:00",
          "2013-10-08T00:00:00",
          "2013-10-09T00:00:00",
          "2013-10-10T00:00:00",
          "2013-10-11T00:00:00",
          "2013-10-14T00:00:00",
          "2013-10-15T00:00:00",
          "2013-10-16T00:00:00",
          "2013-10-17T00:00:00",
          "2013-10-18T00:00:00",
          "2013-10-21T00:00:00",
          "2013-10-22T00:00:00",
          "2013-10-23T00:00:00",
          "2013-10-24T00:00:00",
          "2013-10-25T00:00:00",
          "2013-10-28T00:00:00",
          "2013-10-29T00:00:00",
          "2013-10-30T00:00:00",
          "2013-10-31T00:00:00",
          "2013-11-01T00:00:00",
          "2013-11-04T00:00:00",
          "2013-11-05T00:00:00",
          "2013-11-06T00:00:00",
          "2013-11-07T00:00:00",
          "2013-11-08T00:00:00",
          "2013-11-11T00:00:00",
          "2013-11-12T00:00:00",
          "2013-11-13T00:00:00",
          "2013-11-14T00:00:00",
          "2013-11-15T00:00:00",
          "2013-11-18T00:00:00",
          "2013-11-19T00:00:00",
          "2013-11-20T00:00:00",
          "2013-11-21T00:00:00",
          "2013-11-22T00:00:00",
          "2013-11-25T00:00:00",
          "2013-11-26T00:00:00",
          "2013-11-27T00:00:00",
          "2013-11-29T00:00:00",
          "2013-12-02T00:00:00",
          "2013-12-03T00:00:00",
          "2013-12-04T00:00:00",
          "2013-12-05T00:00:00",
          "2013-12-06T00:00:00",
          "2013-12-09T00:00:00",
          "2013-12-10T00:00:00",
          "2013-12-11T00:00:00",
          "2013-12-12T00:00:00",
          "2013-12-13T00:00:00",
          "2013-12-16T00:00:00",
          "2013-12-17T00:00:00",
          "2013-12-18T00:00:00",
          "2013-12-19T00:00:00",
          "2013-12-20T00:00:00",
          "2013-12-23T00:00:00",
          "2013-12-24T00:00:00",
          "2013-12-26T00:00:00",
          "2013-12-27T00:00:00",
          "2013-12-30T00:00:00",
          "2013-12-31T00:00:00",
          "2014-01-02T00:00:00",
          "2014-01-03T00:00:00",
          "2014-01-06T00:00:00",
          "2014-01-07T00:00:00",
          "2014-01-08T00:00:00",
          "2014-01-09T00:00:00",
          "2014-01-10T00:00:00",
          "2014-01-13T00:00:00",
          "2014-01-14T00:00:00",
          "2014-01-15T00:00:00",
          "2014-01-16T00:00:00",
          "2014-01-17T00:00:00",
          "2014-01-21T00:00:00",
          "2014-01-22T00:00:00",
          "2014-01-23T00:00:00",
          "2014-01-24T00:00:00",
          "2014-01-27T00:00:00",
          "2014-01-28T00:00:00",
          "2014-01-29T00:00:00",
          "2014-01-30T00:00:00",
          "2014-01-31T00:00:00",
          "2014-02-03T00:00:00",
          "2014-02-04T00:00:00",
          "2014-02-05T00:00:00",
          "2014-02-06T00:00:00",
          "2014-02-07T00:00:00",
          "2014-02-10T00:00:00",
          "2014-02-11T00:00:00",
          "2014-02-12T00:00:00",
          "2014-02-13T00:00:00",
          "2014-02-14T00:00:00",
          "2014-02-18T00:00:00",
          "2014-02-19T00:00:00",
          "2014-02-20T00:00:00",
          "2014-02-21T00:00:00",
          "2014-02-24T00:00:00",
          "2014-02-25T00:00:00",
          "2014-02-26T00:00:00",
          "2014-02-27T00:00:00",
          "2014-02-28T00:00:00",
          "2014-03-03T00:00:00",
          "2014-03-04T00:00:00",
          "2014-03-05T00:00:00",
          "2014-03-06T00:00:00",
          "2014-03-07T00:00:00",
          "2014-03-10T00:00:00",
          "2014-03-11T00:00:00",
          "2014-03-12T00:00:00",
          "2014-03-13T00:00:00",
          "2014-03-14T00:00:00",
          "2014-03-17T00:00:00",
          "2014-03-18T00:00:00",
          "2014-03-19T00:00:00",
          "2014-03-20T00:00:00",
          "2014-03-21T00:00:00",
          "2014-03-24T00:00:00",
          "2014-03-25T00:00:00",
          "2014-03-26T00:00:00",
          "2014-03-27T00:00:00",
          "2014-03-28T00:00:00",
          "2014-03-31T00:00:00",
          "2014-04-01T00:00:00",
          "2014-04-02T00:00:00",
          "2014-04-03T00:00:00",
          "2014-04-04T00:00:00",
          "2014-04-07T00:00:00",
          "2014-04-08T00:00:00",
          "2014-04-09T00:00:00",
          "2014-04-10T00:00:00",
          "2014-04-11T00:00:00",
          "2014-04-14T00:00:00",
          "2014-04-15T00:00:00",
          "2014-04-16T00:00:00",
          "2014-04-17T00:00:00",
          "2014-04-21T00:00:00",
          "2014-04-22T00:00:00",
          "2014-04-23T00:00:00",
          "2014-04-24T00:00:00",
          "2014-04-25T00:00:00",
          "2014-04-28T00:00:00",
          "2014-04-29T00:00:00",
          "2014-04-30T00:00:00",
          "2014-05-01T00:00:00",
          "2014-05-02T00:00:00",
          "2014-05-05T00:00:00",
          "2014-05-06T00:00:00",
          "2014-05-07T00:00:00",
          "2014-05-08T00:00:00",
          "2014-05-09T00:00:00",
          "2014-05-12T00:00:00",
          "2014-05-13T00:00:00",
          "2014-05-14T00:00:00",
          "2014-05-15T00:00:00",
          "2014-05-16T00:00:00",
          "2014-05-19T00:00:00",
          "2014-05-20T00:00:00",
          "2014-05-21T00:00:00",
          "2014-05-22T00:00:00",
          "2014-05-23T00:00:00",
          "2014-05-27T00:00:00",
          "2014-05-28T00:00:00",
          "2014-05-29T00:00:00",
          "2014-05-30T00:00:00",
          "2014-06-02T00:00:00",
          "2014-06-03T00:00:00",
          "2014-06-04T00:00:00",
          "2014-06-05T00:00:00",
          "2014-06-06T00:00:00",
          "2014-06-09T00:00:00",
          "2014-06-10T00:00:00",
          "2014-06-11T00:00:00",
          "2014-06-12T00:00:00",
          "2014-06-13T00:00:00",
          "2014-06-16T00:00:00",
          "2014-06-17T00:00:00",
          "2014-06-18T00:00:00",
          "2014-06-19T00:00:00",
          "2014-06-20T00:00:00",
          "2014-06-23T00:00:00",
          "2014-06-24T00:00:00",
          "2014-06-25T00:00:00",
          "2014-06-26T00:00:00",
          "2014-06-27T00:00:00",
          "2014-06-30T00:00:00",
          "2014-07-01T00:00:00",
          "2014-07-02T00:00:00",
          "2014-07-03T00:00:00",
          "2014-07-07T00:00:00",
          "2014-07-08T00:00:00",
          "2014-07-09T00:00:00",
          "2014-07-10T00:00:00",
          "2014-07-11T00:00:00",
          "2014-07-14T00:00:00",
          "2014-07-15T00:00:00",
          "2014-07-16T00:00:00",
          "2014-07-17T00:00:00",
          "2014-07-18T00:00:00",
          "2014-07-21T00:00:00",
          "2014-07-22T00:00:00",
          "2014-07-23T00:00:00",
          "2014-07-24T00:00:00",
          "2014-07-25T00:00:00",
          "2014-07-28T00:00:00",
          "2014-07-29T00:00:00",
          "2014-07-30T00:00:00",
          "2014-07-31T00:00:00",
          "2014-08-01T00:00:00",
          "2014-08-04T00:00:00",
          "2014-08-05T00:00:00",
          "2014-08-06T00:00:00",
          "2014-08-07T00:00:00",
          "2014-08-08T00:00:00",
          "2014-08-11T00:00:00",
          "2014-08-12T00:00:00",
          "2014-08-13T00:00:00",
          "2014-08-14T00:00:00",
          "2014-08-15T00:00:00",
          "2014-08-18T00:00:00",
          "2014-08-19T00:00:00",
          "2014-08-20T00:00:00",
          "2014-08-21T00:00:00",
          "2014-08-22T00:00:00",
          "2014-08-25T00:00:00",
          "2014-08-26T00:00:00",
          "2014-08-27T00:00:00",
          "2014-08-28T00:00:00",
          "2014-08-29T00:00:00",
          "2014-09-02T00:00:00",
          "2014-09-03T00:00:00",
          "2014-09-04T00:00:00",
          "2014-09-05T00:00:00",
          "2014-09-08T00:00:00",
          "2014-09-09T00:00:00",
          "2014-09-10T00:00:00",
          "2014-09-11T00:00:00",
          "2014-09-12T00:00:00",
          "2014-09-15T00:00:00",
          "2014-09-16T00:00:00",
          "2014-09-17T00:00:00",
          "2014-09-18T00:00:00",
          "2014-09-19T00:00:00",
          "2014-09-22T00:00:00",
          "2014-09-23T00:00:00",
          "2014-09-24T00:00:00",
          "2014-09-25T00:00:00",
          "2014-09-26T00:00:00",
          "2014-09-29T00:00:00",
          "2014-09-30T00:00:00",
          "2014-10-01T00:00:00",
          "2014-10-02T00:00:00",
          "2014-10-03T00:00:00",
          "2014-10-06T00:00:00",
          "2014-10-07T00:00:00",
          "2014-10-08T00:00:00",
          "2014-10-09T00:00:00",
          "2014-10-10T00:00:00",
          "2014-10-13T00:00:00",
          "2014-10-14T00:00:00",
          "2014-10-15T00:00:00",
          "2014-10-16T00:00:00",
          "2014-10-17T00:00:00",
          "2014-10-20T00:00:00",
          "2014-10-21T00:00:00",
          "2014-10-22T00:00:00",
          "2014-10-23T00:00:00",
          "2014-10-24T00:00:00",
          "2014-10-27T00:00:00",
          "2014-10-28T00:00:00",
          "2014-10-29T00:00:00",
          "2014-10-30T00:00:00",
          "2014-10-31T00:00:00",
          "2014-11-03T00:00:00",
          "2014-11-04T00:00:00",
          "2014-11-05T00:00:00",
          "2014-11-06T00:00:00",
          "2014-11-07T00:00:00",
          "2014-11-10T00:00:00",
          "2014-11-11T00:00:00",
          "2014-11-12T00:00:00",
          "2014-11-13T00:00:00",
          "2014-11-14T00:00:00",
          "2014-11-17T00:00:00",
          "2014-11-18T00:00:00",
          "2014-11-19T00:00:00",
          "2014-11-20T00:00:00",
          "2014-11-21T00:00:00",
          "2014-11-24T00:00:00",
          "2014-11-25T00:00:00",
          "2014-11-26T00:00:00",
          "2014-11-28T00:00:00",
          "2014-12-01T00:00:00",
          "2014-12-02T00:00:00",
          "2014-12-03T00:00:00",
          "2014-12-04T00:00:00",
          "2014-12-05T00:00:00",
          "2014-12-08T00:00:00",
          "2014-12-09T00:00:00",
          "2014-12-10T00:00:00",
          "2014-12-11T00:00:00",
          "2014-12-12T00:00:00",
          "2014-12-15T00:00:00",
          "2014-12-16T00:00:00",
          "2014-12-17T00:00:00",
          "2014-12-18T00:00:00",
          "2014-12-19T00:00:00",
          "2014-12-22T00:00:00",
          "2014-12-23T00:00:00",
          "2014-12-24T00:00:00",
          "2014-12-26T00:00:00",
          "2014-12-29T00:00:00",
          "2014-12-30T00:00:00",
          "2014-12-31T00:00:00",
          "2015-01-02T00:00:00",
          "2015-01-05T00:00:00",
          "2015-01-06T00:00:00",
          "2015-01-07T00:00:00",
          "2015-01-08T00:00:00",
          "2015-01-09T00:00:00",
          "2015-01-12T00:00:00",
          "2015-01-13T00:00:00",
          "2015-01-14T00:00:00",
          "2015-01-15T00:00:00",
          "2015-01-16T00:00:00",
          "2015-01-20T00:00:00",
          "2015-01-21T00:00:00",
          "2015-01-22T00:00:00",
          "2015-01-23T00:00:00",
          "2015-01-26T00:00:00",
          "2015-01-27T00:00:00",
          "2015-01-28T00:00:00",
          "2015-01-29T00:00:00",
          "2015-01-30T00:00:00",
          "2015-02-02T00:00:00",
          "2015-02-03T00:00:00",
          "2015-02-04T00:00:00",
          "2015-02-05T00:00:00",
          "2015-02-06T00:00:00",
          "2015-02-09T00:00:00",
          "2015-02-10T00:00:00",
          "2015-02-11T00:00:00",
          "2015-02-12T00:00:00",
          "2015-02-13T00:00:00",
          "2015-02-17T00:00:00",
          "2015-02-18T00:00:00",
          "2015-02-19T00:00:00",
          "2015-02-20T00:00:00",
          "2015-02-23T00:00:00",
          "2015-02-24T00:00:00",
          "2015-02-25T00:00:00",
          "2015-02-26T00:00:00",
          "2015-02-27T00:00:00",
          "2015-03-02T00:00:00",
          "2015-03-03T00:00:00",
          "2015-03-04T00:00:00",
          "2015-03-05T00:00:00",
          "2015-03-06T00:00:00",
          "2015-03-09T00:00:00",
          "2015-03-10T00:00:00",
          "2015-03-11T00:00:00",
          "2015-03-12T00:00:00",
          "2015-03-13T00:00:00",
          "2015-03-16T00:00:00",
          "2015-03-17T00:00:00",
          "2015-03-18T00:00:00",
          "2015-03-19T00:00:00",
          "2015-03-20T00:00:00",
          "2015-03-23T00:00:00",
          "2015-03-24T00:00:00",
          "2015-03-25T00:00:00",
          "2015-03-26T00:00:00",
          "2015-03-27T00:00:00",
          "2015-03-30T00:00:00",
          "2015-03-31T00:00:00",
          "2015-04-01T00:00:00",
          "2015-04-02T00:00:00",
          "2015-04-06T00:00:00",
          "2015-04-07T00:00:00",
          "2015-04-08T00:00:00",
          "2015-04-09T00:00:00",
          "2015-04-10T00:00:00",
          "2015-04-13T00:00:00",
          "2015-04-14T00:00:00",
          "2015-04-15T00:00:00",
          "2015-04-16T00:00:00",
          "2015-04-17T00:00:00",
          "2015-04-20T00:00:00",
          "2015-04-21T00:00:00",
          "2015-04-22T00:00:00",
          "2015-04-23T00:00:00",
          "2015-04-24T00:00:00",
          "2015-04-27T00:00:00",
          "2015-04-28T00:00:00",
          "2015-04-29T00:00:00",
          "2015-04-30T00:00:00",
          "2015-05-01T00:00:00",
          "2015-05-04T00:00:00",
          "2015-05-05T00:00:00",
          "2015-05-06T00:00:00",
          "2015-05-07T00:00:00",
          "2015-05-08T00:00:00",
          "2015-05-11T00:00:00",
          "2015-05-12T00:00:00",
          "2015-05-13T00:00:00",
          "2015-05-14T00:00:00",
          "2015-05-15T00:00:00",
          "2015-05-18T00:00:00",
          "2015-05-19T00:00:00",
          "2015-05-20T00:00:00",
          "2015-05-21T00:00:00",
          "2015-05-22T00:00:00",
          "2015-05-26T00:00:00",
          "2015-05-27T00:00:00",
          "2015-05-28T00:00:00",
          "2015-05-29T00:00:00",
          "2015-06-01T00:00:00",
          "2015-06-02T00:00:00",
          "2015-06-03T00:00:00",
          "2015-06-04T00:00:00",
          "2015-06-05T00:00:00",
          "2015-06-08T00:00:00",
          "2015-06-09T00:00:00",
          "2015-06-10T00:00:00",
          "2015-06-11T00:00:00",
          "2015-06-12T00:00:00",
          "2015-06-15T00:00:00",
          "2015-06-16T00:00:00",
          "2015-06-17T00:00:00",
          "2015-06-18T00:00:00",
          "2015-06-19T00:00:00",
          "2015-06-22T00:00:00",
          "2015-06-23T00:00:00",
          "2015-06-24T00:00:00",
          "2015-06-25T00:00:00",
          "2015-06-26T00:00:00",
          "2015-06-29T00:00:00",
          "2015-06-30T00:00:00",
          "2015-07-01T00:00:00",
          "2015-07-02T00:00:00",
          "2015-07-06T00:00:00",
          "2015-07-07T00:00:00",
          "2015-07-08T00:00:00",
          "2015-07-09T00:00:00",
          "2015-07-10T00:00:00",
          "2015-07-13T00:00:00",
          "2015-07-14T00:00:00",
          "2015-07-15T00:00:00",
          "2015-07-16T00:00:00",
          "2015-07-17T00:00:00",
          "2015-07-20T00:00:00",
          "2015-07-21T00:00:00",
          "2015-07-22T00:00:00",
          "2015-07-23T00:00:00",
          "2015-07-24T00:00:00",
          "2015-07-27T00:00:00",
          "2015-07-28T00:00:00",
          "2015-07-29T00:00:00",
          "2015-07-30T00:00:00",
          "2015-07-31T00:00:00",
          "2015-08-03T00:00:00",
          "2015-08-04T00:00:00",
          "2015-08-05T00:00:00",
          "2015-08-06T00:00:00",
          "2015-08-07T00:00:00",
          "2015-08-10T00:00:00",
          "2015-08-11T00:00:00",
          "2015-08-12T00:00:00",
          "2015-08-13T00:00:00",
          "2015-08-14T00:00:00",
          "2015-08-17T00:00:00",
          "2015-08-18T00:00:00",
          "2015-08-19T00:00:00",
          "2015-08-20T00:00:00",
          "2015-08-21T00:00:00",
          "2015-08-24T00:00:00",
          "2015-08-25T00:00:00",
          "2015-08-26T00:00:00",
          "2015-08-27T00:00:00",
          "2015-08-28T00:00:00",
          "2015-08-31T00:00:00",
          "2015-09-01T00:00:00",
          "2015-09-02T00:00:00",
          "2015-09-03T00:00:00",
          "2015-09-04T00:00:00",
          "2015-09-08T00:00:00",
          "2015-09-09T00:00:00",
          "2015-09-10T00:00:00",
          "2015-09-11T00:00:00",
          "2015-09-14T00:00:00",
          "2015-09-15T00:00:00",
          "2015-09-16T00:00:00",
          "2015-09-17T00:00:00",
          "2015-09-18T00:00:00",
          "2015-09-21T00:00:00",
          "2015-09-22T00:00:00",
          "2015-09-23T00:00:00",
          "2015-09-24T00:00:00",
          "2015-09-25T00:00:00",
          "2015-09-28T00:00:00",
          "2015-09-29T00:00:00",
          "2015-09-30T00:00:00",
          "2015-10-01T00:00:00",
          "2015-10-02T00:00:00",
          "2015-10-05T00:00:00",
          "2015-10-06T00:00:00",
          "2015-10-07T00:00:00",
          "2015-10-08T00:00:00",
          "2015-10-09T00:00:00",
          "2015-10-12T00:00:00",
          "2015-10-13T00:00:00",
          "2015-10-14T00:00:00",
          "2015-10-15T00:00:00",
          "2015-10-16T00:00:00",
          "2015-10-19T00:00:00",
          "2015-10-20T00:00:00",
          "2015-10-21T00:00:00",
          "2015-10-22T00:00:00",
          "2015-10-23T00:00:00",
          "2015-10-26T00:00:00",
          "2015-10-27T00:00:00",
          "2015-10-28T00:00:00",
          "2015-10-29T00:00:00",
          "2015-10-30T00:00:00",
          "2015-11-02T00:00:00",
          "2015-11-03T00:00:00",
          "2015-11-04T00:00:00",
          "2015-11-05T00:00:00",
          "2015-11-06T00:00:00",
          "2015-11-09T00:00:00",
          "2015-11-10T00:00:00",
          "2015-11-11T00:00:00",
          "2015-11-12T00:00:00",
          "2015-11-13T00:00:00",
          "2015-11-16T00:00:00",
          "2015-11-17T00:00:00",
          "2015-11-18T00:00:00",
          "2015-11-19T00:00:00",
          "2015-11-20T00:00:00",
          "2015-11-23T00:00:00",
          "2015-11-24T00:00:00",
          "2015-11-25T00:00:00",
          "2015-11-27T00:00:00",
          "2015-11-30T00:00:00",
          "2015-12-01T00:00:00",
          "2015-12-02T00:00:00",
          "2015-12-03T00:00:00",
          "2015-12-04T00:00:00",
          "2015-12-07T00:00:00",
          "2015-12-08T00:00:00",
          "2015-12-09T00:00:00",
          "2015-12-10T00:00:00",
          "2015-12-11T00:00:00",
          "2015-12-14T00:00:00",
          "2015-12-15T00:00:00",
          "2015-12-16T00:00:00",
          "2015-12-17T00:00:00",
          "2015-12-18T00:00:00",
          "2015-12-21T00:00:00",
          "2015-12-22T00:00:00",
          "2015-12-23T00:00:00",
          "2015-12-24T00:00:00",
          "2015-12-28T00:00:00",
          "2015-12-29T00:00:00",
          "2015-12-30T00:00:00",
          "2015-12-31T00:00:00",
          "2016-01-04T00:00:00",
          "2016-01-05T00:00:00",
          "2016-01-06T00:00:00",
          "2016-01-07T00:00:00",
          "2016-01-08T00:00:00",
          "2016-01-11T00:00:00",
          "2016-01-12T00:00:00",
          "2016-01-13T00:00:00",
          "2016-01-14T00:00:00",
          "2016-01-15T00:00:00",
          "2016-01-19T00:00:00",
          "2016-01-20T00:00:00",
          "2016-01-21T00:00:00",
          "2016-01-22T00:00:00",
          "2016-01-25T00:00:00",
          "2016-01-26T00:00:00",
          "2016-01-27T00:00:00",
          "2016-01-28T00:00:00",
          "2016-01-29T00:00:00",
          "2016-02-01T00:00:00",
          "2016-02-02T00:00:00",
          "2016-02-03T00:00:00",
          "2016-02-04T00:00:00",
          "2016-02-05T00:00:00",
          "2016-02-08T00:00:00",
          "2016-02-09T00:00:00",
          "2016-02-10T00:00:00",
          "2016-02-11T00:00:00",
          "2016-02-12T00:00:00",
          "2016-02-16T00:00:00",
          "2016-02-17T00:00:00",
          "2016-02-18T00:00:00",
          "2016-02-19T00:00:00",
          "2016-02-22T00:00:00",
          "2016-02-23T00:00:00",
          "2016-02-24T00:00:00",
          "2016-02-25T00:00:00",
          "2016-02-26T00:00:00",
          "2016-02-29T00:00:00",
          "2016-03-01T00:00:00",
          "2016-03-02T00:00:00",
          "2016-03-03T00:00:00",
          "2016-03-04T00:00:00",
          "2016-03-07T00:00:00",
          "2016-03-08T00:00:00",
          "2016-03-09T00:00:00",
          "2016-03-10T00:00:00",
          "2016-03-11T00:00:00",
          "2016-03-14T00:00:00",
          "2016-03-15T00:00:00",
          "2016-03-16T00:00:00",
          "2016-03-17T00:00:00",
          "2016-03-18T00:00:00",
          "2016-03-21T00:00:00",
          "2016-03-22T00:00:00",
          "2016-03-23T00:00:00",
          "2016-03-24T00:00:00",
          "2016-03-28T00:00:00",
          "2016-03-29T00:00:00",
          "2016-03-30T00:00:00",
          "2016-03-31T00:00:00",
          "2016-04-01T00:00:00",
          "2016-04-04T00:00:00",
          "2016-04-05T00:00:00",
          "2016-04-06T00:00:00",
          "2016-04-07T00:00:00",
          "2016-04-08T00:00:00",
          "2016-04-11T00:00:00",
          "2016-04-12T00:00:00",
          "2016-04-13T00:00:00",
          "2016-04-14T00:00:00",
          "2016-04-15T00:00:00",
          "2016-04-18T00:00:00",
          "2016-04-19T00:00:00",
          "2016-04-20T00:00:00",
          "2016-04-21T00:00:00",
          "2016-04-22T00:00:00",
          "2016-04-25T00:00:00",
          "2016-04-26T00:00:00",
          "2016-04-27T00:00:00",
          "2016-04-28T00:00:00",
          "2016-04-29T00:00:00",
          "2016-05-02T00:00:00",
          "2016-05-03T00:00:00",
          "2016-05-04T00:00:00",
          "2016-05-05T00:00:00",
          "2016-05-06T00:00:00",
          "2016-05-09T00:00:00",
          "2016-05-10T00:00:00",
          "2016-05-11T00:00:00",
          "2016-05-12T00:00:00",
          "2016-05-13T00:00:00",
          "2016-05-16T00:00:00",
          "2016-05-17T00:00:00",
          "2016-05-18T00:00:00",
          "2016-05-19T00:00:00",
          "2016-05-20T00:00:00",
          "2016-05-23T00:00:00",
          "2016-05-24T00:00:00",
          "2016-05-25T00:00:00",
          "2016-05-26T00:00:00",
          "2016-05-27T00:00:00",
          "2016-05-31T00:00:00",
          "2016-06-01T00:00:00",
          "2016-06-02T00:00:00",
          "2016-06-03T00:00:00",
          "2016-06-06T00:00:00",
          "2016-06-07T00:00:00",
          "2016-06-08T00:00:00",
          "2016-06-09T00:00:00",
          "2016-06-10T00:00:00",
          "2016-06-13T00:00:00",
          "2016-06-14T00:00:00",
          "2016-06-15T00:00:00",
          "2016-06-16T00:00:00",
          "2016-06-17T00:00:00",
          "2016-06-20T00:00:00",
          "2016-06-21T00:00:00",
          "2016-06-22T00:00:00",
          "2016-06-23T00:00:00",
          "2016-06-24T00:00:00",
          "2016-06-27T00:00:00",
          "2016-06-28T00:00:00",
          "2016-06-29T00:00:00",
          "2016-06-30T00:00:00",
          "2016-07-01T00:00:00",
          "2016-07-05T00:00:00",
          "2016-07-06T00:00:00",
          "2016-07-07T00:00:00",
          "2016-07-08T00:00:00",
          "2016-07-11T00:00:00",
          "2016-07-12T00:00:00",
          "2016-07-13T00:00:00",
          "2016-07-14T00:00:00",
          "2016-07-15T00:00:00",
          "2016-07-18T00:00:00",
          "2016-07-19T00:00:00",
          "2016-07-20T00:00:00",
          "2016-07-21T00:00:00",
          "2016-07-22T00:00:00",
          "2016-07-25T00:00:00",
          "2016-07-26T00:00:00",
          "2016-07-27T00:00:00",
          "2016-07-28T00:00:00",
          "2016-07-29T00:00:00",
          "2016-08-01T00:00:00",
          "2016-08-02T00:00:00",
          "2016-08-03T00:00:00",
          "2016-08-04T00:00:00",
          "2016-08-05T00:00:00",
          "2016-08-08T00:00:00",
          "2016-08-09T00:00:00",
          "2016-08-10T00:00:00",
          "2016-08-11T00:00:00",
          "2016-08-12T00:00:00",
          "2016-08-15T00:00:00",
          "2016-08-16T00:00:00",
          "2016-08-17T00:00:00",
          "2016-08-18T00:00:00",
          "2016-08-19T00:00:00",
          "2016-08-22T00:00:00",
          "2016-08-23T00:00:00",
          "2016-08-24T00:00:00",
          "2016-08-25T00:00:00",
          "2016-08-26T00:00:00",
          "2016-08-29T00:00:00",
          "2016-08-30T00:00:00",
          "2016-08-31T00:00:00",
          "2016-09-01T00:00:00",
          "2016-09-02T00:00:00",
          "2016-09-06T00:00:00",
          "2016-09-07T00:00:00",
          "2016-09-08T00:00:00",
          "2016-09-09T00:00:00",
          "2016-09-12T00:00:00",
          "2016-09-13T00:00:00",
          "2016-09-14T00:00:00",
          "2016-09-15T00:00:00",
          "2016-09-16T00:00:00",
          "2016-09-19T00:00:00",
          "2016-09-20T00:00:00",
          "2016-09-21T00:00:00",
          "2016-09-22T00:00:00",
          "2016-09-23T00:00:00",
          "2016-09-26T00:00:00",
          "2016-09-27T00:00:00",
          "2016-09-28T00:00:00",
          "2016-09-29T00:00:00",
          "2016-09-30T00:00:00",
          "2016-10-03T00:00:00",
          "2016-10-04T00:00:00",
          "2016-10-05T00:00:00",
          "2016-10-06T00:00:00",
          "2016-10-07T00:00:00",
          "2016-10-10T00:00:00",
          "2016-10-11T00:00:00",
          "2016-10-12T00:00:00",
          "2016-10-13T00:00:00",
          "2016-10-14T00:00:00",
          "2016-10-17T00:00:00",
          "2016-10-18T00:00:00",
          "2016-10-19T00:00:00",
          "2016-10-20T00:00:00",
          "2016-10-21T00:00:00",
          "2016-10-24T00:00:00",
          "2016-10-25T00:00:00",
          "2016-10-26T00:00:00",
          "2016-10-27T00:00:00",
          "2016-10-28T00:00:00",
          "2016-10-31T00:00:00",
          "2016-11-01T00:00:00",
          "2016-11-02T00:00:00",
          "2016-11-03T00:00:00",
          "2016-11-04T00:00:00",
          "2016-11-07T00:00:00",
          "2016-11-08T00:00:00",
          "2016-11-09T00:00:00",
          "2016-11-10T00:00:00",
          "2016-11-11T00:00:00",
          "2016-11-14T00:00:00",
          "2016-11-15T00:00:00",
          "2016-11-16T00:00:00",
          "2016-11-17T00:00:00",
          "2016-11-18T00:00:00",
          "2016-11-21T00:00:00",
          "2016-11-22T00:00:00",
          "2016-11-23T00:00:00",
          "2016-11-25T00:00:00",
          "2016-11-28T00:00:00",
          "2016-11-29T00:00:00",
          "2016-11-30T00:00:00",
          "2016-12-01T00:00:00",
          "2016-12-02T00:00:00",
          "2016-12-05T00:00:00",
          "2016-12-06T00:00:00",
          "2016-12-07T00:00:00",
          "2016-12-08T00:00:00",
          "2016-12-09T00:00:00",
          "2016-12-12T00:00:00",
          "2016-12-13T00:00:00",
          "2016-12-14T00:00:00",
          "2016-12-15T00:00:00",
          "2016-12-16T00:00:00",
          "2016-12-19T00:00:00",
          "2016-12-20T00:00:00",
          "2016-12-21T00:00:00",
          "2016-12-22T00:00:00",
          "2016-12-23T00:00:00",
          "2016-12-27T00:00:00",
          "2016-12-28T00:00:00",
          "2016-12-29T00:00:00",
          "2016-12-30T00:00:00",
          "2017-01-03T00:00:00",
          "2017-01-04T00:00:00",
          "2017-01-05T00:00:00",
          "2017-01-06T00:00:00",
          "2017-01-09T00:00:00",
          "2017-01-10T00:00:00",
          "2017-01-11T00:00:00",
          "2017-01-12T00:00:00",
          "2017-01-13T00:00:00",
          "2017-01-17T00:00:00",
          "2017-01-18T00:00:00",
          "2017-01-19T00:00:00",
          "2017-01-20T00:00:00",
          "2017-01-23T00:00:00",
          "2017-01-24T00:00:00",
          "2017-01-25T00:00:00",
          "2017-01-26T00:00:00",
          "2017-01-27T00:00:00",
          "2017-01-30T00:00:00",
          "2017-01-31T00:00:00",
          "2017-02-01T00:00:00",
          "2017-02-02T00:00:00",
          "2017-02-03T00:00:00",
          "2017-02-06T00:00:00",
          "2017-02-07T00:00:00",
          "2017-02-08T00:00:00",
          "2017-02-09T00:00:00",
          "2017-02-10T00:00:00",
          "2017-02-13T00:00:00",
          "2017-02-14T00:00:00",
          "2017-02-15T00:00:00",
          "2017-02-16T00:00:00",
          "2017-02-17T00:00:00",
          "2017-02-21T00:00:00",
          "2017-02-22T00:00:00",
          "2017-02-23T00:00:00",
          "2017-02-24T00:00:00",
          "2017-02-27T00:00:00",
          "2017-02-28T00:00:00",
          "2017-03-01T00:00:00",
          "2017-03-02T00:00:00",
          "2017-03-03T00:00:00",
          "2017-03-06T00:00:00",
          "2017-03-07T00:00:00",
          "2017-03-08T00:00:00",
          "2017-03-09T00:00:00",
          "2017-03-10T00:00:00",
          "2017-03-13T00:00:00",
          "2017-03-14T00:00:00",
          "2017-03-15T00:00:00",
          "2017-03-16T00:00:00",
          "2017-03-17T00:00:00",
          "2017-03-20T00:00:00",
          "2017-03-21T00:00:00",
          "2017-03-22T00:00:00",
          "2017-03-23T00:00:00",
          "2017-03-24T00:00:00",
          "2017-03-27T00:00:00",
          "2017-03-28T00:00:00",
          "2017-03-29T00:00:00",
          "2017-03-30T00:00:00",
          "2017-03-31T00:00:00",
          "2017-04-03T00:00:00",
          "2017-04-04T00:00:00",
          "2017-04-05T00:00:00",
          "2017-04-06T00:00:00",
          "2017-04-07T00:00:00",
          "2017-04-10T00:00:00",
          "2017-04-11T00:00:00",
          "2017-04-12T00:00:00",
          "2017-04-13T00:00:00",
          "2017-04-17T00:00:00",
          "2017-04-18T00:00:00",
          "2017-04-19T00:00:00",
          "2017-04-20T00:00:00",
          "2017-04-21T00:00:00",
          "2017-04-24T00:00:00",
          "2017-04-25T00:00:00",
          "2017-04-26T00:00:00",
          "2017-04-27T00:00:00",
          "2017-04-28T00:00:00",
          "2017-05-01T00:00:00",
          "2017-05-02T00:00:00",
          "2017-05-03T00:00:00",
          "2017-05-04T00:00:00",
          "2017-05-05T00:00:00",
          "2017-05-08T00:00:00",
          "2017-05-09T00:00:00",
          "2017-05-10T00:00:00",
          "2017-05-11T00:00:00",
          "2017-05-12T00:00:00",
          "2017-05-15T00:00:00",
          "2017-05-16T00:00:00",
          "2017-05-17T00:00:00",
          "2017-05-18T00:00:00",
          "2017-05-19T00:00:00",
          "2017-05-22T00:00:00",
          "2017-05-23T00:00:00",
          "2017-05-24T00:00:00",
          "2017-05-25T00:00:00",
          "2017-05-26T00:00:00",
          "2017-05-30T00:00:00",
          "2017-05-31T00:00:00",
          "2017-06-01T00:00:00",
          "2017-06-02T00:00:00",
          "2017-06-05T00:00:00",
          "2017-06-06T00:00:00",
          "2017-06-07T00:00:00",
          "2017-06-08T00:00:00",
          "2017-06-09T00:00:00",
          "2017-06-12T00:00:00",
          "2017-06-13T00:00:00",
          "2017-06-14T00:00:00",
          "2017-06-15T00:00:00",
          "2017-06-16T00:00:00",
          "2017-06-19T00:00:00",
          "2017-06-20T00:00:00",
          "2017-06-21T00:00:00",
          "2017-06-22T00:00:00",
          "2017-06-23T00:00:00",
          "2017-06-26T00:00:00",
          "2017-06-27T00:00:00",
          "2017-06-28T00:00:00",
          "2017-06-29T00:00:00",
          "2017-06-30T00:00:00",
          "2017-07-03T00:00:00",
          "2017-07-05T00:00:00",
          "2017-07-06T00:00:00",
          "2017-07-07T00:00:00",
          "2017-07-10T00:00:00",
          "2017-07-11T00:00:00",
          "2017-07-12T00:00:00",
          "2017-07-13T00:00:00",
          "2017-07-14T00:00:00",
          "2017-07-17T00:00:00",
          "2017-07-18T00:00:00",
          "2017-07-19T00:00:00",
          "2017-07-20T00:00:00",
          "2017-07-21T00:00:00",
          "2017-07-24T00:00:00",
          "2017-07-25T00:00:00",
          "2017-07-26T00:00:00",
          "2017-07-27T00:00:00",
          "2017-07-28T00:00:00",
          "2017-07-31T00:00:00",
          "2017-08-01T00:00:00",
          "2017-08-02T00:00:00",
          "2017-08-03T00:00:00",
          "2017-08-04T00:00:00",
          "2017-08-07T00:00:00",
          "2017-08-08T00:00:00",
          "2017-08-09T00:00:00",
          "2017-08-10T00:00:00",
          "2017-08-11T00:00:00",
          "2017-08-14T00:00:00",
          "2017-08-15T00:00:00",
          "2017-08-16T00:00:00",
          "2017-08-17T00:00:00",
          "2017-08-18T00:00:00",
          "2017-08-21T00:00:00",
          "2017-08-22T00:00:00",
          "2017-08-23T00:00:00",
          "2017-08-24T00:00:00",
          "2017-08-25T00:00:00",
          "2017-08-28T00:00:00",
          "2017-08-29T00:00:00",
          "2017-08-30T00:00:00",
          "2017-08-31T00:00:00",
          "2017-09-01T00:00:00",
          "2017-09-05T00:00:00",
          "2017-09-06T00:00:00",
          "2017-09-07T00:00:00",
          "2017-09-08T00:00:00",
          "2017-09-11T00:00:00",
          "2017-09-12T00:00:00",
          "2017-09-13T00:00:00",
          "2017-09-14T00:00:00",
          "2017-09-15T00:00:00",
          "2017-09-18T00:00:00",
          "2017-09-19T00:00:00",
          "2017-09-20T00:00:00",
          "2017-09-21T00:00:00",
          "2017-09-22T00:00:00",
          "2017-09-25T00:00:00",
          "2017-09-26T00:00:00",
          "2017-09-27T00:00:00",
          "2017-09-28T00:00:00",
          "2017-09-29T00:00:00",
          "2017-10-02T00:00:00",
          "2017-10-03T00:00:00",
          "2017-10-04T00:00:00",
          "2017-10-05T00:00:00",
          "2017-10-06T00:00:00",
          "2017-10-09T00:00:00",
          "2017-10-10T00:00:00",
          "2017-10-11T00:00:00",
          "2017-10-12T00:00:00",
          "2017-10-13T00:00:00",
          "2017-10-16T00:00:00",
          "2017-10-17T00:00:00",
          "2017-10-18T00:00:00",
          "2017-10-19T00:00:00",
          "2017-10-20T00:00:00",
          "2017-10-23T00:00:00",
          "2017-10-24T00:00:00",
          "2017-10-25T00:00:00",
          "2017-10-26T00:00:00",
          "2017-10-27T00:00:00",
          "2017-10-30T00:00:00",
          "2017-10-31T00:00:00",
          "2017-11-01T00:00:00",
          "2017-11-02T00:00:00",
          "2017-11-03T00:00:00",
          "2017-11-06T00:00:00",
          "2017-11-07T00:00:00",
          "2017-11-08T00:00:00",
          "2017-11-09T00:00:00",
          "2017-11-10T00:00:00",
          "2017-11-13T00:00:00",
          "2017-11-14T00:00:00",
          "2017-11-15T00:00:00",
          "2017-11-16T00:00:00",
          "2017-11-17T00:00:00",
          "2017-11-20T00:00:00",
          "2017-11-21T00:00:00",
          "2017-11-22T00:00:00",
          "2017-11-24T00:00:00",
          "2017-11-27T00:00:00",
          "2017-11-28T00:00:00",
          "2017-11-29T00:00:00",
          "2017-11-30T00:00:00",
          "2017-12-01T00:00:00",
          "2017-12-04T00:00:00",
          "2017-12-05T00:00:00",
          "2017-12-06T00:00:00",
          "2017-12-07T00:00:00",
          "2017-12-08T00:00:00",
          "2017-12-11T00:00:00",
          "2017-12-12T00:00:00",
          "2017-12-13T00:00:00",
          "2017-12-14T00:00:00",
          "2017-12-15T00:00:00",
          "2017-12-18T00:00:00",
          "2017-12-19T00:00:00",
          "2017-12-20T00:00:00",
          "2017-12-21T00:00:00",
          "2017-12-22T00:00:00",
          "2017-12-26T00:00:00",
          "2017-12-27T00:00:00",
          "2017-12-28T00:00:00",
          "2017-12-29T00:00:00",
          "2018-01-02T00:00:00",
          "2018-01-03T00:00:00",
          "2018-01-04T00:00:00",
          "2018-01-05T00:00:00",
          "2018-01-08T00:00:00",
          "2018-01-09T00:00:00",
          "2018-01-10T00:00:00",
          "2018-01-11T00:00:00",
          "2018-01-12T00:00:00",
          "2018-01-16T00:00:00",
          "2018-01-17T00:00:00",
          "2018-01-18T00:00:00",
          "2018-01-19T00:00:00",
          "2018-01-22T00:00:00",
          "2018-01-23T00:00:00",
          "2018-01-24T00:00:00",
          "2018-01-25T00:00:00",
          "2018-01-26T00:00:00",
          "2018-01-29T00:00:00",
          "2018-01-30T00:00:00",
          "2018-01-31T00:00:00",
          "2018-02-01T00:00:00",
          "2018-02-02T00:00:00",
          "2018-02-05T00:00:00",
          "2018-02-06T00:00:00",
          "2018-02-07T00:00:00"
         ]
        }
       ],
       "layout": {
        "annotations": [
         {
          "showarrow": false,
          "text": "",
          "x": "2017-01-20",
          "xanchor": "left",
          "xref": "x",
          "y": 0.05,
          "yref": "paper"
         }
        ],
        "shapes": [
         {
          "line": {
           "color": "rgb(30,30,30)",
           "width": 1
          },
          "x0": "2016-12-09",
          "x1": "2016-12-09",
          "xref": "x",
          "y0": 0,
          "y1": 1,
          "yref": "paper"
         }
        ],
        "template": {
         "data": {
          "bar": [
           {
            "error_x": {
             "color": "#2a3f5f"
            },
            "error_y": {
             "color": "#2a3f5f"
            },
            "marker": {
             "line": {
              "color": "#E5ECF6",
              "width": 0.5
             }
            },
            "type": "bar"
           }
          ],
          "barpolar": [
           {
            "marker": {
             "line": {
              "color": "#E5ECF6",
              "width": 0.5
             }
            },
            "type": "barpolar"
           }
          ],
          "carpet": [
           {
            "aaxis": {
             "endlinecolor": "#2a3f5f",
             "gridcolor": "white",
             "linecolor": "white",
             "minorgridcolor": "white",
             "startlinecolor": "#2a3f5f"
            },
            "baxis": {
             "endlinecolor": "#2a3f5f",
             "gridcolor": "white",
             "linecolor": "white",
             "minorgridcolor": "white",
             "startlinecolor": "#2a3f5f"
            },
            "type": "carpet"
           }
          ],
          "choropleth": [
           {
            "colorbar": {
             "outlinewidth": 0,
             "ticks": ""
            },
            "type": "choropleth"
           }
          ],
          "contour": [
           {
            "colorbar": {
             "outlinewidth": 0,
             "ticks": ""
            },
            "colorscale": [
             [
              0,
              "#0d0887"
             ],
             [
              0.1111111111111111,
              "#46039f"
             ],
             [
              0.2222222222222222,
              "#7201a8"
             ],
             [
              0.3333333333333333,
              "#9c179e"
             ],
             [
              0.4444444444444444,
              "#bd3786"
             ],
             [
              0.5555555555555556,
              "#d8576b"
             ],
             [
              0.6666666666666666,
              "#ed7953"
             ],
             [
              0.7777777777777778,
              "#fb9f3a"
             ],
             [
              0.8888888888888888,
              "#fdca26"
             ],
             [
              1,
              "#f0f921"
             ]
            ],
            "type": "contour"
           }
          ],
          "contourcarpet": [
           {
            "colorbar": {
             "outlinewidth": 0,
             "ticks": ""
            },
            "type": "contourcarpet"
           }
          ],
          "heatmap": [
           {
            "colorbar": {
             "outlinewidth": 0,
             "ticks": ""
            },
            "colorscale": [
             [
              0,
              "#0d0887"
             ],
             [
              0.1111111111111111,
              "#46039f"
             ],
             [
              0.2222222222222222,
              "#7201a8"
             ],
             [
              0.3333333333333333,
              "#9c179e"
             ],
             [
              0.4444444444444444,
              "#bd3786"
             ],
             [
              0.5555555555555556,
              "#d8576b"
             ],
             [
              0.6666666666666666,
              "#ed7953"
             ],
             [
              0.7777777777777778,
              "#fb9f3a"
             ],
             [
              0.8888888888888888,
              "#fdca26"
             ],
             [
              1,
              "#f0f921"
             ]
            ],
            "type": "heatmap"
           }
          ],
          "heatmapgl": [
           {
            "colorbar": {
             "outlinewidth": 0,
             "ticks": ""
            },
            "colorscale": [
             [
              0,
              "#0d0887"
             ],
             [
              0.1111111111111111,
              "#46039f"
             ],
             [
              0.2222222222222222,
              "#7201a8"
             ],
             [
              0.3333333333333333,
              "#9c179e"
             ],
             [
              0.4444444444444444,
              "#bd3786"
             ],
             [
              0.5555555555555556,
              "#d8576b"
             ],
             [
              0.6666666666666666,
              "#ed7953"
             ],
             [
              0.7777777777777778,
              "#fb9f3a"
             ],
             [
              0.8888888888888888,
              "#fdca26"
             ],
             [
              1,
              "#f0f921"
             ]
            ],
            "type": "heatmapgl"
           }
          ],
          "histogram": [
           {
            "marker": {
             "colorbar": {
              "outlinewidth": 0,
              "ticks": ""
             }
            },
            "type": "histogram"
           }
          ],
          "histogram2d": [
           {
            "colorbar": {
             "outlinewidth": 0,
             "ticks": ""
            },
            "colorscale": [
             [
              0,
              "#0d0887"
             ],
             [
              0.1111111111111111,
              "#46039f"
             ],
             [
              0.2222222222222222,
              "#7201a8"
             ],
             [
              0.3333333333333333,
              "#9c179e"
             ],
             [
              0.4444444444444444,
              "#bd3786"
             ],
             [
              0.5555555555555556,
              "#d8576b"
             ],
             [
              0.6666666666666666,
              "#ed7953"
             ],
             [
              0.7777777777777778,
              "#fb9f3a"
             ],
             [
              0.8888888888888888,
              "#fdca26"
             ],
             [
              1,
              "#f0f921"
             ]
            ],
            "type": "histogram2d"
           }
          ],
          "histogram2dcontour": [
           {
            "colorbar": {
             "outlinewidth": 0,
             "ticks": ""
            },
            "colorscale": [
             [
              0,
              "#0d0887"
             ],
             [
              0.1111111111111111,
              "#46039f"
             ],
             [
              0.2222222222222222,
              "#7201a8"
             ],
             [
              0.3333333333333333,
              "#9c179e"
             ],
             [
              0.4444444444444444,
              "#bd3786"
             ],
             [
              0.5555555555555556,
              "#d8576b"
             ],
             [
              0.6666666666666666,
              "#ed7953"
             ],
             [
              0.7777777777777778,
              "#fb9f3a"
             ],
             [
              0.8888888888888888,
              "#fdca26"
             ],
             [
              1,
              "#f0f921"
             ]
            ],
            "type": "histogram2dcontour"
           }
          ],
          "mesh3d": [
           {
            "colorbar": {
             "outlinewidth": 0,
             "ticks": ""
            },
            "type": "mesh3d"
           }
          ],
          "parcoords": [
           {
            "line": {
             "colorbar": {
              "outlinewidth": 0,
              "ticks": ""
             }
            },
            "type": "parcoords"
           }
          ],
          "pie": [
           {
            "automargin": true,
            "type": "pie"
           }
          ],
          "scatter": [
           {
            "marker": {
             "colorbar": {
              "outlinewidth": 0,
              "ticks": ""
             }
            },
            "type": "scatter"
           }
          ],
          "scatter3d": [
           {
            "line": {
             "colorbar": {
              "outlinewidth": 0,
              "ticks": ""
             }
            },
            "marker": {
             "colorbar": {
              "outlinewidth": 0,
              "ticks": ""
             }
            },
            "type": "scatter3d"
           }
          ],
          "scattercarpet": [
           {
            "marker": {
             "colorbar": {
              "outlinewidth": 0,
              "ticks": ""
             }
            },
            "type": "scattercarpet"
           }
          ],
          "scattergeo": [
           {
            "marker": {
             "colorbar": {
              "outlinewidth": 0,
              "ticks": ""
             }
            },
            "type": "scattergeo"
           }
          ],
          "scattergl": [
           {
            "marker": {
             "colorbar": {
              "outlinewidth": 0,
              "ticks": ""
             }
            },
            "type": "scattergl"
           }
          ],
          "scattermapbox": [
           {
            "marker": {
             "colorbar": {
              "outlinewidth": 0,
              "ticks": ""
             }
            },
            "type": "scattermapbox"
           }
          ],
          "scatterpolar": [
           {
            "marker": {
             "colorbar": {
              "outlinewidth": 0,
              "ticks": ""
             }
            },
            "type": "scatterpolar"
           }
          ],
          "scatterpolargl": [
           {
            "marker": {
             "colorbar": {
              "outlinewidth": 0,
              "ticks": ""
             }
            },
            "type": "scatterpolargl"
           }
          ],
          "scatterternary": [
           {
            "marker": {
             "colorbar": {
              "outlinewidth": 0,
              "ticks": ""
             }
            },
            "type": "scatterternary"
           }
          ],
          "surface": [
           {
            "colorbar": {
             "outlinewidth": 0,
             "ticks": ""
            },
            "colorscale": [
             [
              0,
              "#0d0887"
             ],
             [
              0.1111111111111111,
              "#46039f"
             ],
             [
              0.2222222222222222,
              "#7201a8"
             ],
             [
              0.3333333333333333,
              "#9c179e"
             ],
             [
              0.4444444444444444,
              "#bd3786"
             ],
             [
              0.5555555555555556,
              "#d8576b"
             ],
             [
              0.6666666666666666,
              "#ed7953"
             ],
             [
              0.7777777777777778,
              "#fb9f3a"
             ],
             [
              0.8888888888888888,
              "#fdca26"
             ],
             [
              1,
              "#f0f921"
             ]
            ],
            "type": "surface"
           }
          ],
          "table": [
           {
            "cells": {
             "fill": {
              "color": "#EBF0F8"
             },
             "line": {
              "color": "white"
             }
            },
            "header": {
             "fill": {
              "color": "#C8D4E3"
             },
             "line": {
              "color": "white"
             }
            },
            "type": "table"
           }
          ]
         },
         "layout": {
          "annotationdefaults": {
           "arrowcolor": "#2a3f5f",
           "arrowhead": 0,
           "arrowwidth": 1
          },
          "coloraxis": {
           "colorbar": {
            "outlinewidth": 0,
            "ticks": ""
           }
          },
          "colorscale": {
           "diverging": [
            [
             0,
             "#8e0152"
            ],
            [
             0.1,
             "#c51b7d"
            ],
            [
             0.2,
             "#de77ae"
            ],
            [
             0.3,
             "#f1b6da"
            ],
            [
             0.4,
             "#fde0ef"
            ],
            [
             0.5,
             "#f7f7f7"
            ],
            [
             0.6,
             "#e6f5d0"
            ],
            [
             0.7,
             "#b8e186"
            ],
            [
             0.8,
             "#7fbc41"
            ],
            [
             0.9,
             "#4d9221"
            ],
            [
             1,
             "#276419"
            ]
           ],
           "sequential": [
            [
             0,
             "#0d0887"
            ],
            [
             0.1111111111111111,
             "#46039f"
            ],
            [
             0.2222222222222222,
             "#7201a8"
            ],
            [
             0.3333333333333333,
             "#9c179e"
            ],
            [
             0.4444444444444444,
             "#bd3786"
            ],
            [
             0.5555555555555556,
             "#d8576b"
            ],
            [
             0.6666666666666666,
             "#ed7953"
            ],
            [
             0.7777777777777778,
             "#fb9f3a"
            ],
            [
             0.8888888888888888,
             "#fdca26"
            ],
            [
             1,
             "#f0f921"
            ]
           ],
           "sequentialminus": [
            [
             0,
             "#0d0887"
            ],
            [
             0.1111111111111111,
             "#46039f"
            ],
            [
             0.2222222222222222,
             "#7201a8"
            ],
            [
             0.3333333333333333,
             "#9c179e"
            ],
            [
             0.4444444444444444,
             "#bd3786"
            ],
            [
             0.5555555555555556,
             "#d8576b"
            ],
            [
             0.6666666666666666,
             "#ed7953"
            ],
            [
             0.7777777777777778,
             "#fb9f3a"
            ],
            [
             0.8888888888888888,
             "#fdca26"
            ],
            [
             1,
             "#f0f921"
            ]
           ]
          },
          "colorway": [
           "#636efa",
           "#EF553B",
           "#00cc96",
           "#ab63fa",
           "#FFA15A",
           "#19d3f3",
           "#FF6692",
           "#B6E880",
           "#FF97FF",
           "#FECB52"
          ],
          "font": {
           "color": "#2a3f5f"
          },
          "geo": {
           "bgcolor": "white",
           "lakecolor": "white",
           "landcolor": "#E5ECF6",
           "showlakes": true,
           "showland": true,
           "subunitcolor": "white"
          },
          "hoverlabel": {
           "align": "left"
          },
          "hovermode": "closest",
          "mapbox": {
           "style": "light"
          },
          "paper_bgcolor": "white",
          "plot_bgcolor": "#E5ECF6",
          "polar": {
           "angularaxis": {
            "gridcolor": "white",
            "linecolor": "white",
            "ticks": ""
           },
           "bgcolor": "#E5ECF6",
           "radialaxis": {
            "gridcolor": "white",
            "linecolor": "white",
            "ticks": ""
           }
          },
          "scene": {
           "xaxis": {
            "backgroundcolor": "#E5ECF6",
            "gridcolor": "white",
            "gridwidth": 2,
            "linecolor": "white",
            "showbackground": true,
            "ticks": "",
            "zerolinecolor": "white"
           },
           "yaxis": {
            "backgroundcolor": "#E5ECF6",
            "gridcolor": "white",
            "gridwidth": 2,
            "linecolor": "white",
            "showbackground": true,
            "ticks": "",
            "zerolinecolor": "white"
           },
           "zaxis": {
            "backgroundcolor": "#E5ECF6",
            "gridcolor": "white",
            "gridwidth": 2,
            "linecolor": "white",
            "showbackground": true,
            "ticks": "",
            "zerolinecolor": "white"
           }
          },
          "shapedefaults": {
           "line": {
            "color": "#2a3f5f"
           }
          },
          "ternary": {
           "aaxis": {
            "gridcolor": "white",
            "linecolor": "white",
            "ticks": ""
           },
           "baxis": {
            "gridcolor": "white",
            "linecolor": "white",
            "ticks": ""
           },
           "bgcolor": "#E5ECF6",
           "caxis": {
            "gridcolor": "white",
            "linecolor": "white",
            "ticks": ""
           }
          },
          "title": {
           "x": 0.05
          },
          "xaxis": {
           "automargin": true,
           "gridcolor": "white",
           "linecolor": "white",
           "ticks": "",
           "title": {
            "standoff": 15
           },
           "zerolinecolor": "white",
           "zerolinewidth": 2
          },
          "yaxis": {
           "automargin": true,
           "gridcolor": "white",
           "linecolor": "white",
           "ticks": "",
           "title": {
            "standoff": 15
           },
           "zerolinecolor": "white",
           "zerolinewidth": 2
          }
         }
        },
        "title": {
         "text": "Amazon Historical Price"
        },
        "xaxis": {
         "rangeslider": {
          "visible": false
         },
         "title": {
          "text": "Date"
         }
        },
        "yaxis": {
         "title": {
          "text": "Stock Price (USD$)"
         }
        }
       }
      },
      "text/html": [
       "<div>                            <div id=\"002fa3cd-4b35-49e3-95cd-1d04cb7ea6af\" class=\"plotly-graph-div\" style=\"height:525px; width:100%;\"></div>            <script type=\"text/javascript\">                require([\"plotly\"], function(Plotly) {                    window.PLOTLYENV=window.PLOTLYENV || {};                                    if (document.getElementById(\"002fa3cd-4b35-49e3-95cd-1d04cb7ea6af\")) {                    Plotly.newPlot(                        \"002fa3cd-4b35-49e3-95cd-1d04cb7ea6af\",                        [{\"close\": [261.95, 257.21, 258.7, 269.47, 269.24, 265.09, 269.75, 266.41, 265.94, 265.42, 259.87, 259.36, 263.25, 264.27, 265.74, 273.11, 275.59, 273.79, 273.88, 274.19, 271.24, 274.13, 275.1, 265.74, 261.82, 257.89, 256.41, 257.278, 253.39, 257.75, 256.02, 260.31, 265.3, 266.49, 261.61, 263.322, 259.03, 259.08, 255.48, 258.95, 261.14, 264.77, 269.85, 272.87, 267.72, 272.34, 267.4, 259.42, 260.32, 263.55, 268.9, 268.78, 274.7, 254.81, 249.74, 253.81, 248.23, 252.55, 258.05, 255.72, 257.73, 258.68, 260.16, 263.63, 264.51, 268.33, 266.56, 264.12, 269.9, 267.63, 268.86, 262.96, 261.8, 261.74, 267.29, 265.53, 266.83, 269.2, 266.88, 265.7, 267.17, 267.83, 276.87, 281.07, 274.78, 271.67, 275.79, 273.99, 278.06, 281.76, 278.16, 273.44, 273.36, 270.61, 272.08799999999997, 277.57, 277.55, 277.69, 282.1, 283.73, 284.03, 285.88, 290.59, 291.53, 292.33, 299.66, 307.55, 306.57, 306.87, 308.69, 304.11, 305.23, 303.48, 301.06, 298.94, 303.4, 312.01, 306.1, 302.41, 301.22, 305.57, 304.21, 300.99, 300.75, 296.91, 295.74, 297.26, 296.69, 293.97, 291.34, 286.47, 284.82, 285.57, 287.09, 284.57, 289.73, 290.01, 286.21, 280.93, 281.58, 283.98, 280.98, 288.8, 293.64, 294.1, 295.86, 299.71, 300.36, 299.64, 298.86, 297.92, 296.06, 304.17, 312.034, 312.06, 316.34, 311.49, 314.13, 312.65, 318.12, 316.01, 312.64, 320.95, 320.51, 314.76, 319.04, 310.03, 303.23, 298.23, 305.17400000000004, 310.889, 310.7, 306.4, 310.49, 310.77, 328.931, 326.44, 332.54, 326.756, 332.21, 363.39, 358.16, 362.7, 361.08, 364.03, 359.00199999999995, 358.74, 358.892, 356.18, 343.56, 350.31, 354.37800000000004, 349.53, 356.22, 367.39599999999996, 369.17, 366.18, 364.94, 362.57, 368.92, 372.31, 376.64, 381.37, 386.71, 393.62, 392.3, 384.66, 385.96, 384.49, 386.95, 384.89, 387.78, 382.19, 381.25, 384.24, 388.97, 387.65, 395.96, 395.19, 402.2, 402.92, 399.2, 404.39, 398.08, 393.37, 398.79, 397.97, 396.44, 393.63, 398.03, 401.92, 401.01, 397.66, 390.98, 397.54, 395.87, 395.8, 399.61, 407.05, 404.54, 399.87, 387.6, 386.28, 394.43, 384.2, 403.01, 358.69, 346.15, 347.95, 346.45, 354.59, 361.08, 360.87, 361.79, 349.25, 357.2, 357.35, 353.65, 347.38, 349.8, 346.76, 351.78, 358.32, 359.8, 360.13, 362.1, 359.78, 363.9, 372.37, 372.16, 372.06, 370.53, 368.82, 370.64, 371.51, 373.74, 375.04, 378.77, 373.23, 368.97, 360.62, 351.85, 354.71, 343.41, 338.47, 338.29, 336.365, 342.99, 341.96, 333.62, 323.0, 317.76, 327.07, 331.805, 317.11, 311.73, 315.91, 316.08, 323.68, 324.91, 330.87, 329.32, 324.58, 337.15, 303.83, 296.58, 300.38, 304.13, 307.89, 308.01, 310.05, 297.38, 292.71, 288.32, 292.24, 302.86, 304.64, 297.62, 295.19, 297.7, 296.755, 301.19, 305.01, 304.91, 312.24, 310.82, 310.16, 313.78, 312.55, 308.84, 307.19, 306.78, 323.57, 329.67, 327.5, 332.41, 335.2, 325.91, 326.27, 327.62, 325.62, 334.38, 327.0, 324.2, 327.24, 324.16, 327.44, 325.69, 324.57, 324.78, 332.39, 332.85, 337.49199999999996, 333.55, 323.81, 329.97, 327.92, 346.2, 355.32, 354.44, 355.9, 352.454, 358.66, 359.76, 360.84, 358.14, 358.61, 324.01, 320.41, 320.0, 322.51, 312.99, 307.06, 313.65, 312.32, 313.89, 311.45, 316.8, 318.33, 319.32, 326.28, 333.21, 333.63, 334.53, 335.13, 335.78, 332.91, 331.59, 334.02, 341.83, 343.18, 340.02, 339.04, 342.38, 339.0, 345.95, 346.38, 342.34, 329.75, 331.33, 330.52, 331.19, 323.89, 327.76, 324.0, 325.0, 331.32, 324.5, 323.63, 328.21, 321.93, 323.21, 321.82, 322.44, 317.46, 318.41, 322.74, 322.2, 316.98, 322.7, 315.37, 311.39, 306.45, 308.31, 305.97, 302.86, 303.64, 306.21, 315.33, 312.97, 313.18, 287.06, 289.97, 295.59, 294.12, 299.07, 305.46, 305.72, 302.81, 296.52, 296.64, 299.86, 305.11, 312.01, 311.51, 316.48, 327.82, 323.05, 324.93, 326.54, 330.54, 332.63, 335.64, 335.04, 333.57, 338.64, 326.0, 326.31, 316.5, 316.93, 312.63, 306.64, 312.5, 305.84, 307.36, 307.32, 306.07, 295.06, 298.88, 297.73, 299.9, 306.54, 306.285, 303.03, 309.09, 312.04, 310.3, 310.35, 308.52, 302.19, 295.29, 298.42, 300.46, 296.93, 291.41, 294.74, 293.27, 286.95, 290.74, 289.44, 297.25, 310.32, 312.39, 309.66, 306.75, 303.91, 311.78, 354.53, 364.47, 363.55, 364.75, 373.89, 374.28, 370.56, 372.995, 375.14, 377.17, 381.83, 375.43, 373.37, 378.995, 383.66, 380.14, 378.59, 385.37, 384.8, 380.16, 385.655, 384.61, 382.72, 387.83, 380.09, 378.56, 369.51, 366.37, 374.24, 370.58, 373.35, 371.92, 375.135, 373.24, 378.49, 375.11, 374.09, 370.96, 367.35, 370.56, 374.59, 372.1, 370.255, 372.25, 377.04, 374.41, 381.2, 383.54, 382.65, 382.36, 385.11, 383.45, 386.04, 375.56, 389.51, 391.18, 389.8, 389.99, 445.1, 438.56, 429.31, 429.37, 421.78, 422.87, 423.04, 421.19, 419.1, 426.88, 433.69, 432.85, 431.02, 426.87, 432.28, 426.0, 425.24, 421.71, 423.86, 431.63, 427.63, 425.47, 431.42, 426.57, 429.23, 430.92, 430.99, 436.59, 430.78, 426.95, 423.5, 425.48, 430.77, 432.97, 429.92, 423.67, 427.26, 427.81, 439.39, 434.92, 436.29, 445.99, 440.84, 440.1, 438.1, 429.86, 434.09, 437.39, 437.71, 436.04, 436.72, 429.7, 434.39, 443.51, 455.57, 465.57, 461.19, 475.48, 483.01, 488.1, 488.0, 488.27, 482.18, 529.42, 531.41, 526.03, 529.0, 536.76, 536.15, 535.03, 531.9, 537.01, 529.46, 522.62, 524.0, 527.46, 525.91, 529.66, 531.52, 535.22, 535.02, 532.92, 515.78, 494.47, 463.37, 466.37, 500.77, 518.37, 518.01, 512.89, 496.54, 510.55, 504.72, 499.0, 517.54, 516.89, 522.24, 529.44, 521.38, 522.37, 527.39, 538.87, 540.26, 548.39, 538.4, 536.07, 533.75, 524.25, 504.06, 496.07, 511.89, 520.72, 532.54, 543.68, 537.48, 541.94, 533.16, 539.8, 550.19, 548.9, 544.83, 562.44, 570.76, 573.15, 560.88, 555.77, 563.91, 599.03, 608.61, 611.01, 617.1, 626.55, 625.9, 628.35, 625.31, 640.95, 655.65, 659.37, 655.49, 659.68, 673.25, 665.6, 642.35, 647.81, 643.3, 663.54, 661.27, 668.45, 678.99, 671.15, 675.34, 673.26, 664.8, 679.06, 676.01, 666.25, 672.64, 669.83, 677.33, 664.79, 662.32, 640.15, 657.91, 658.64, 675.77, 670.65, 664.14, 664.51, 663.15, 663.7, 662.79, 675.2, 693.97, 689.07, 675.89, 636.99, 633.79, 632.65, 607.94, 607.05, 617.74, 617.89, 581.81, 593.0, 570.18, 574.48, 571.77, 575.02, 596.38, 596.53, 601.25, 583.35, 635.35, 587.0, 574.81, 552.1, 531.07, 536.26, 502.13, 488.1, 482.07, 490.48, 503.82, 507.08, 521.1, 534.1, 525.0, 534.9, 559.5, 552.94, 554.04, 555.15, 555.23, 552.52, 579.04, 580.21, 577.49, 575.14, 562.8, 560.26, 559.47, 558.93, 569.61, 573.37, 577.02, 574.27, 559.44, 552.08, 553.98, 560.48, 569.63, 582.95, 579.87, 593.86, 598.69, 593.64, 598.5, 593.19, 586.14, 602.08, 591.43, 594.6, 595.93, 603.17, 614.82, 620.75, 625.89, 635.35, 627.9, 632.99, 631.0, 620.5, 626.2, 616.88, 606.57, 602.0, 659.59, 683.85, 671.32, 670.9, 659.09, 673.95, 679.75, 703.07, 713.23, 717.93, 709.92, 710.66, 695.27, 697.45, 698.52, 702.8, 696.75, 704.2, 708.35, 714.91, 712.24, 722.79, 719.44, 728.24, 725.54, 726.73, 723.74, 726.64, 727.65, 717.91, 715.24, 719.3, 714.26, 717.51, 706.39, 714.01, 715.82, 710.6, 722.08, 698.96, 691.36, 707.95, 715.6, 715.62, 725.68, 728.1, 737.61, 736.57, 745.81, 753.78, 748.21, 742.63, 741.2, 735.44, 736.07, 739.95, 745.72, 744.43, 744.86, 739.61, 735.59, 736.67, 752.61, 758.81, 767.74, 760.58, 754.64, 760.77, 765.98, 766.56, 768.31, 768.56, 771.24, 772.56, 768.49, 764.04, 764.63, 764.46, 757.31, 759.48, 762.45, 757.25, 759.22, 769.0, 771.29, 767.58, 769.16, 770.62, 772.44, 788.87, 784.48, 784.06, 760.14, 771.49, 761.01, 761.09, 769.69, 778.52, 775.1, 780.22, 789.74, 804.7, 805.75, 799.16, 816.11, 828.72, 829.05, 837.31, 836.74, 834.03, 844.36, 841.66, 839.43, 841.71, 831.0, 834.09, 829.28, 822.96, 812.95, 817.65, 817.69, 810.32, 818.99, 838.09, 835.18, 822.59, 818.36, 776.32, 789.82, 785.41, 765.56, 767.03, 755.05, 784.93, 787.75, 771.88, 742.38, 739.01, 719.07, 743.24, 746.49, 756.4, 760.16, 780.0, 785.33, 780.12, 780.37, 766.77, 762.52, 750.57, 743.65, 740.34, 759.36, 764.72, 770.42, 767.33, 768.66, 760.12, 774.34, 768.82, 761.0, 757.77, 766.0, 771.22, 770.6, 766.34, 760.59, 771.4, 772.13, 765.15, 749.87, 753.67, 757.18, 780.45, 795.99, 796.92, 795.9, 799.02, 813.64, 817.14, 809.72, 807.48, 809.04, 808.33, 817.88, 822.44, 836.52, 839.15, 835.77, 830.38, 823.48, 832.35, 839.95, 810.2, 807.64, 812.5, 819.71, 821.36, 827.46, 836.53, 836.39, 842.7, 844.14, 845.07, 856.44, 855.61, 852.19, 845.24, 848.64, 845.04, 853.08, 848.91, 849.88, 846.61, 846.02, 850.5, 853.0, 852.46, 854.59, 852.53, 852.97, 853.42, 852.31, 856.97, 843.2, 848.06, 847.38, 845.61, 846.82, 856.0, 874.32, 876.34, 886.54, 891.51, 906.83, 909.28, 898.28, 894.88, 907.04, 902.36, 896.23, 884.67, 901.99, 903.78, 899.2, 902.06, 898.53, 907.41, 907.62, 909.29, 918.38, 924.99, 948.23, 946.94, 941.03, 937.53, 934.15, 949.04, 952.82, 948.95, 947.62, 961.35, 957.97, 966.07, 944.76, 958.49, 959.84, 970.67, 971.54, 980.35, 993.38, 995.78, 996.7, 994.62, 995.95, 1006.73, 1011.34, 1003.0, 1010.07, 1010.27, 978.31, 964.91, 980.79, 976.47, 964.17, 987.71, 995.17, 992.59, 1002.23, 1001.3, 1003.74, 993.98, 976.78, 990.33, 975.93, 968.0, 953.66, 971.4, 965.14, 978.76, 996.47, 994.13, 1006.51, 1000.63, 1001.81, 1010.04, 1024.45, 1026.87, 1028.7, 1025.67, 1038.95, 1039.87, 1052.8, 1046.0, 1020.04, 987.78, 992.27, 995.89, 986.92, 987.58, 992.27, 989.84, 982.01, 956.92, 967.99, 983.3, 982.74, 978.18, 960.57, 958.47, 953.29, 966.9, 958.0, 952.45, 945.26, 946.02, 954.06, 967.59, 980.6, 978.25, 965.27, 967.8, 979.47, 965.9, 977.96, 982.58, 999.6, 992.21, 986.79, 974.19, 969.86, 973.21, 964.65, 955.1, 939.79, 938.6, 950.87, 956.4, 961.35, 959.19, 957.1, 965.45, 980.85, 989.58, 990.99, 987.2, 995.0, 1000.93, 1002.94, 1006.34, 1009.13, 997.0, 986.61, 982.91, 966.3, 975.9, 972.91, 972.43, 1100.95, 1110.85, 1105.28, 1103.68, 1094.22, 1111.6, 1120.66, 1123.17, 1132.88, 1129.13, 1125.35, 1129.17, 1136.84, 1126.69, 1137.29, 1129.88, 1126.31, 1139.49, 1156.16, 1186.0, 1195.83, 1193.6, 1161.27, 1176.75, 1162.35, 1133.95, 1141.57, 1152.35, 1159.79, 1162.0, 1168.92, 1165.08, 1164.13, 1174.26, 1179.14, 1190.58, 1187.38, 1177.62, 1174.76, 1168.36, 1176.76, 1182.26, 1186.1, 1169.47, 1189.01, 1204.2, 1209.59, 1229.14, 1246.87, 1252.7, 1254.33, 1276.68, 1305.2, 1304.86, 1295.0, 1293.32, 1294.58, 1327.31, 1362.54, 1357.51, 1377.95, 1402.05, 1417.68, 1437.82, 1450.89, 1390.0, 1429.95, 1390.0, 1442.84, 1416.78], \"decreasing\": {\"line\": {\"color\": \"#FA5858\"}}, \"high\": [265.25, 263.25, 260.16, 269.96, 270.65, 268.92, 270.11, 274.3, 269.48, 267.11, 268.694, 262.04, 265.83, 267.0, 266.6, 273.3, 276.68, 276.48900000000003, 274.8, 275.44, 273.99, 277.4, 276.5, 270.0, 267.26, 261.49, 259.5, 259.76, 257.0, 257.77, 259.42900000000003, 261.48, 265.93, 267.375, 267.4, 265.89, 263.67, 260.41, 256.18, 259.67900000000003, 262.61, 265.98, 270.97, 273.27, 275.12, 272.8, 270.85, 266.9899, 262.88, 264.6, 269.87, 271.47, 275.8, 272.02, 257.01, 254.68, 254.2, 252.93, 259.25, 259.5, 259.74, 260.295, 263.55, 263.65, 265.88, 269.4, 269.05, 268.43, 269.98, 271.79, 270.77, 267.59, 263.17, 261.93, 271.1, 268.25, 268.57, 271.91, 269.11, 268.88, 271.66, 270.5, 280.1, 282.47, 278.411, 276.8, 276.8, 277.07, 280.2, 282.91, 283.34, 278.6, 275.8399, 273.16, 273.47, 277.98, 280.2, 279.83, 283.29, 286.58, 285.4, 286.3799, 291.67, 292.57, 293.34, 300.69, 307.55, 307.99, 309.39, 308.8, 306.3408, 305.79, 309.25, 305.06, 303.84, 304.5, 313.62, 313.0, 309.7833, 305.15, 306.21, 305.33, 303.62, 301.36, 300.99, 298.52, 299.27, 299.08, 296.37, 294.29, 289.3, 288.33, 289.56, 289.515, 288.5, 289.87, 291.5, 291.0499, 285.28, 283.0, 285.98, 284.87, 291.39, 295.23, 297.0, 298.88, 299.96, 301.0, 301.86, 302.0, 300.22, 301.0, 304.65, 312.74, 314.54, 320.57, 315.9, 318.0799, 316.71, 319.37, 317.21, 315.31, 321.0, 321.73, 322.92, 319.2, 315.3399, 311.545, 303.4978, 306.7, 310.93, 311.645, 310.79, 310.8, 311.0, 331.89, 330.0, 337.11, 331.72, 332.6499, 368.4, 362.75, 362.89, 365.0, 366.0, 365.77, 361.0, 360.17, 362.87, 357.9, 351.05, 355.37, 355.4826, 356.22, 368.94, 372.9, 373.49, 368.78, 367.56, 369.25, 374.5, 377.79, 382.5, 387.0, 394.0999, 399.0, 390.949, 389.69, 386.65, 388.35, 388.21, 389.06, 388.98, 385.0, 389.42, 391.7, 391.36, 396.3, 397.29, 404.72, 405.0, 403.7249, 404.52, 405.63, 399.92, 398.83, 399.36, 402.71, 397.0, 398.47, 403.0, 406.89, 403.764, 399.78, 398.63, 399.31, 399.29, 403.49, 407.8, 408.06, 406.17, 400.2, 394.1, 394.74, 392.85, 406.25, 375.45, 360.85, 353.9975, 349.37, 354.82, 361.8, 365.0, 363.61, 357.75, 357.2, 359.34, 355.73, 354.54, 350.46, 354.14099999999996, 353.0, 361.08, 364.75, 360.59, 365.865, 360.96, 365.68, 372.728, 375.33, 374.99, 372.73, 372.8, 371.16, 383.11, 378.56800000000004, 378.85, 379.0, 379.0, 373.0, 372.84, 361.5, 358.97, 357.6, 343.9999, 347.0, 346.29, 344.43, 348.295, 342.5, 335.44, 324.94, 328.0, 332.18, 331.0, 316.5, 320.48, 318.28, 324.0, 328.66, 331.1499, 337.5, 333.13, 337.4, 316.49, 304.39, 301.84, 304.56, 310.48, 313.29, 310.23, 309.81, 296.4, 295.8784, 293.68, 303.34, 305.6, 304.64, 299.2, 298.88, 299.0, 304.46, 305.96, 308.54, 312.35, 314.6296, 313.82, 314.87, 314.65, 312.6, 307.92, 309.5, 327.94, 330.88, 333.0, 335.5, 340.7199, 335.55, 329.298, 328.6945, 331.34, 335.75, 338.9, 328.22, 327.55, 329.73, 328.15, 328.65, 326.52, 326.98, 333.2, 336.76, 338.3, 337.55, 333.7397, 330.2, 329.98, 347.0, 355.77, 355.59, 359.32, 356.96, 359.68, 361.71, 362.93, 360.63, 364.85, 324.87, 324.82, 322.8999, 322.73, 320.6836, 315.83, 316.18, 314.55, 315.78, 315.8774, 317.32, 320.38, 321.31, 331.72, 334.09, 335.0, 337.8, 335.81, 337.16, 336.582, 334.08, 336.77, 344.36, 346.67, 341.79, 341.8199, 342.5, 343.27, 349.38, 346.827, 345.81, 341.76, 334.98, 333.01, 332.89, 331.33, 329.48, 328.0, 327.1, 332.7559, 329.49, 327.6, 329.44, 328.54, 323.5, 323.75, 323.43, 322.165, 318.53, 325.16, 324.13, 322.0, 324.11, 322.27099999999996, 317.77, 313.2, 312.24, 307.9, 306.82, 309.2, 306.53, 315.64, 318.98, 316.8, 293.81, 290.42, 298.0, 299.61, 299.74, 305.72, 308.01, 304.25, 304.0, 297.0, 299.99, 305.79900000000004, 312.38, 312.58, 317.89, 332.88, 328.0, 329.56, 328.4, 332.67, 338.33, 337.39, 336.3325, 334.65, 341.26, 340.64, 327.93, 326.77, 318.59, 316.93, 316.56, 313.639, 313.19, 312.64, 310.6399, 310.86, 304.49, 299.67, 304.5, 301.54, 307.36, 307.49, 307.0, 310.7799, 314.27, 313.94, 312.98, 314.75, 308.38, 303.0, 301.28, 303.14, 302.87, 298.51, 301.4976, 295.91, 295.9995, 290.79, 293.3599, 306.0, 312.25, 316.93, 313.0, 310.243, 311.51, 312.8, 359.5, 365.0, 367.81699999999995, 367.5, 378.8, 375.9899, 374.41, 374.3, 377.1, 378.51, 383.0, 379.985, 376.74, 381.88, 383.7, 384.54, 380.48, 387.85, 389.37, 385.99, 385.9, 386.1, 387.9, 388.4182, 387.0, 379.33, 377.77, 373.35, 375.5, 373.99, 373.94, 374.5, 375.99, 377.11, 379.37, 381.77, 375.24, 380.5, 371.4, 373.17, 376.12, 377.7, 373.16, 373.28, 380.2, 379.31, 381.58, 384.42, 387.12, 385.28, 387.81, 385.78, 387.45, 383.56, 391.94, 394.6, 394.28, 391.88, 452.65, 446.99, 439.0, 434.24, 431.75, 425.64, 429.77, 427.51, 422.7165, 428.5, 435.2, 439.0, 433.25, 433.528, 433.0, 430.3962, 427.27, 428.24, 427.1, 436.9, 432.44, 427.0, 431.85, 431.35, 432.5, 433.16, 433.23, 438.39, 436.755, 430.8, 426.8, 427.49, 432.2, 438.89, 432.36, 428.05, 427.97, 431.35, 439.73, 444.99, 439.24, 447.04, 446.47, 443.47, 443.49, 437.0, 435.57, 440.0, 438.2, 439.73, 437.73, 435.99, 438.72, 444.72, 457.87, 469.6, 464.7, 475.88, 485.42, 493.2, 488.88, 492.5, 491.66, 580.57, 544.95, 536.39, 532.9655, 539.2, 542.84, 540.44, 536.95, 539.14, 542.74, 529.4599, 532.2764, 528.98, 527.5, 534.66, 534.11, 538.74, 539.49, 537.25, 533.25, 512.33, 489.76, 489.44, 503.72, 522.69, 521.5, 519.41, 510.0, 510.86, 515.84, 502.85, 518.35, 529.95, 526.13, 529.44, 532.45, 527.92, 528.3, 546.97, 546.237, 549.78, 543.55, 541.21, 534.56, 542.8, 520.28, 511.48, 512.8, 520.8, 532.6, 545.91, 551.5, 542.0, 539.386, 541.79, 550.82, 553.2, 552.25, 563.0, 570.94, 579.0, 573.0, 565.25, 569.146, 619.45, 609.85, 614.71, 617.23, 627.54, 630.72, 628.63, 629.89, 645.93, 657.0, 662.26, 661.955, 660.0, 675.96, 675.64, 667.0, 649.99, 653.25, 664.88, 672.86, 668.87, 682.77, 675.8, 679.7, 680.99, 681.29, 681.0, 684.82, 682.79, 674.775, 675.46, 679.99, 679.0, 668.5260000000001, 657.88, 658.585, 671.5, 677.35, 682.5, 676.84, 669.9, 668.49, 666.597, 664.68, 675.5, 696.44, 695.49, 687.75, 657.715, 646.91, 639.79, 630.0, 624.14, 619.85, 625.99, 620.88, 602.25, 584.62, 584.0, 578.45, 588.81, 600.1, 608.5, 604.5, 603.39, 638.06, 593.0, 581.8, 571.56, 556.0, 538.99, 529.45, 493.5, 498.38, 504.66, 509.3, 516.75, 524.45, 537.48, 541.2, 535.95, 560.65, 556.91, 554.27, 559.39, 562.5, 564.81, 579.25, 585.0, 579.866, 581.4, 573.63, 571.35, 560.35, 567.0, 570.06, 576.89, 581.52, 581.32, 571.4, 562.33, 555.24, 562.76, 572.48, 583.55, 584.75, 595.85, 603.24, 600.75, 599.03, 599.5, 593.47, 602.39, 599.6, 597.86, 604.0, 604.06, 616.81, 624.38, 626.77, 637.64, 638.01, 636.55, 637.82, 628.25, 626.98, 626.7549, 615.95, 626.8, 669.98, 685.5, 680.3, 674.0, 676.49, 676.95, 686.98, 704.55, 719.0, 722.45, 719.25, 713.25, 714.47, 702.5399, 699.4, 707.24, 706.0, 707.5, 710.86, 715.0, 716.6, 724.23, 726.43, 728.28, 727.0, 731.5, 730.0, 729.42, 728.91, 724.98, 721.99, 720.805, 722.56, 718.0, 718.2, 721.31, 718.4, 717.0, 722.12, 712.5292, 696.8189, 708.0, 719.5, 719.37, 728.0, 728.11, 737.77, 739.55, 746.1, 755.9, 757.34, 756.87, 749.04, 746.55, 741.5954, 743.33, 746.25, 749.36, 751.28, 748.5, 743.13, 740.94, 753.36, 766.0, 770.5, 765.01, 758.89, 765.0, 768.47, 767.0, 772.6, 772.1, 773.75, 773.15, 772.04, 768.7317, 765.22, 765.17, 762.49, 759.85, 764.7, 763.41, 760.56, 770.0, 774.98, 771.8358, 769.64, 772.04, 776.0, 789.48, 790.79, 786.5, 781.0, 772.66, 769.89, 767.5, 770.87, 780.46, 781.94, 781.37, 790.69, 805.8889999999999, 807.75, 805.93, 816.64, 830.14, 837.5, 839.95, 839.86, 842.365, 845.67, 847.21, 845.95, 845.2, 841.29, 837.666, 831.8, 835.74, 822.0, 823.26, 820.67, 815.71, 819.42, 838.3, 843.09, 833.44, 831.72, 789.49, 793.7, 800.84, 784.75, 777.0, 766.0, 787.732, 791.7399, 777.5, 778.83, 743.26, 746.0, 746.78, 749.87, 757.5, 767.74, 780.35, 792.4, 781.75, 786.75, 777.0, 769.89, 768.09, 753.37, 748.4903, 761.49, 768.24, 770.42, 773.79, 770.25, 766.89, 782.46, 780.86, 769.1, 765.13, 770.5, 774.39, 771.22, 771.21, 766.5, 774.65, 780.0, 773.4, 767.3999, 758.7595, 759.68, 782.3999, 799.44, 801.7742, 798.0, 799.5, 814.13, 821.65, 816.0, 811.73, 813.51, 816.02, 818.5, 823.99, 837.4183, 843.84, 839.7, 833.5, 826.99, 833.78, 842.49, 818.3, 810.72, 816.16, 821.4789999999999, 825.0, 828.0, 842.9999, 838.31, 842.81, 845.0, 847.27, 857.98, 858.43, 860.86, 845.81, 852.5, 854.09, 854.83, 854.82, 851.985, 848.49, 848.46, 853.07, 856.3999, 857.35, 855.69, 853.75, 854.45, 855.5, 853.83, 857.8, 862.795, 849.37, 850.89, 851.8, 850.3, 858.46, 876.438, 877.06, 890.35, 893.49, 908.5384, 923.72, 917.1899, 900.09, 908.51, 911.24, 904.09, 894.97, 902.38, 909.61, 910.5, 905.32, 903.65, 909.99, 909.48, 915.7489999999999, 921.86, 949.59, 954.4, 950.1, 946.0, 945.0, 940.79, 949.05, 957.89, 953.7499, 950.29, 962.79, 963.15, 970.06, 960.3957, 962.75, 968.92, 971.38, 975.2, 981.0, 999.0, 998.65, 1001.2, 1000.12, 998.99, 1008.48, 1013.21, 1016.5, 1010.25, 1013.61, 1012.99, 975.95, 984.5, 990.34, 965.73, 999.75, 1017.0, 1004.88, 1002.72, 1006.96, 1004.62, 1009.8, 998.8, 990.68, 987.56, 983.47, 974.49, 975.0, 974.4, 980.11, 999.4392, 995.99, 1008.55, 1006.88, 1004.45, 1014.75, 1026.03, 1031.59, 1034.97, 1026.1, 1043.01, 1043.33, 1053.2, 1083.31, 1032.85, 1019.05, 995.0, 1003.21, 999.5, 991.672, 995.0, 996.28, 988.0, 979.86, 970.39, 985.5, 991.74, 986.4605, 977.84, 965.43, 961.2, 967.93, 962.0, 959.0, 957.6210000000001, 953.0, 956.0, 969.41, 981.0, 984.5, 976.7699, 971.84, 980.59, 979.88, 981.94, 984.6718, 1000.0, 998.56, 996.25, 992.7922, 978.24, 974.81, 971.7, 965.61, 949.42, 948.63, 955.3, 959.7, 964.83, 967.305, 963.69, 967.79, 981.51, 995.75, 998.5, 997.95, 995.5, 1008.44, 1007.77, 1009.57, 1011.47, 1022.31, 991.05, 994.62, 986.775, 979.85, 984.44, 982.9, 1105.58, 1122.79, 1110.54, 1108.97, 1101.93, 1112.68, 1125.41, 1130.6, 1135.54, 1129.62, 1131.75, 1139.9, 1138.0, 1131.75, 1138.16, 1138.8, 1133.42, 1140.0, 1160.27, 1186.84, 1213.41, 1205.34, 1194.8, 1178.57, 1179.65, 1175.2, 1159.27, 1155.89, 1163.19, 1172.79, 1169.9, 1173.6, 1170.87, 1177.93, 1182.75, 1194.78, 1192.97, 1191.0, 1179.17, 1174.62, 1178.32, 1187.29, 1190.1, 1184.0, 1190.0, 1205.49, 1215.87, 1229.14, 1253.08, 1259.33, 1254.33, 1276.77, 1305.76, 1339.94, 1314.0, 1304.6, 1313.0, 1327.45, 1364.9, 1388.16, 1378.34, 1402.53, 1431.39, 1439.25, 1472.58, 1459.88, 1498.0, 1458.98, 1443.99, 1460.99], \"increasing\": {\"line\": {\"color\": \"#58FA58\"}}, \"low\": [260.555, 256.6, 257.0, 260.3, 265.4, 263.11, 264.5, 266.371, 263.25, 261.61, 259.65, 255.73, 256.86, 260.63, 261.04, 264.14, 269.99, 271.832, 271.85, 271.5, 270.4, 270.3601, 272.64, 263.53, 260.05, 257.12, 252.62, 254.5501, 252.68, 252.07, 254.5, 256.28, 257.9, 264.06, 261.01, 260.55, 257.75, 256.12, 253.67, 255.63, 257.0, 259.32, 264.74, 267.02, 267.1, 268.06, 264.25, 256.6, 257.5, 258.03, 264.5, 266.81, 270.5, 252.81, 249.15, 248.56, 245.75, 245.78, 254.7, 253.4201, 252.9101, 255.334, 256.88, 260.21, 262.0, 264.028, 264.56, 263.85, 265.0, 266.5, 267.66, 260.8, 259.59, 258.34, 266.0, 264.844, 265.615, 265.94, 262.95, 263.02, 265.02, 264.21, 269.13, 275.24, 274.24, 270.45, 270.2901, 273.442, 275.65, 278.11, 277.87, 272.39, 269.79, 265.0, 269.0, 273.5001, 274.54, 276.19, 277.16, 280.59, 282.0, 282.07, 286.14, 288.01, 289.4, 292.1, 298.5, 304.35, 305.5119, 305.69, 301.87, 301.91, 302.0, 300.56, 298.04, 296.75, 295.55, 305.9, 301.57, 301.0, 298.905, 301.5, 298.3, 297.52, 296.15, 292.5501, 294.2987, 295.26, 290.67, 290.54, 285.15, 284.5, 283.48, 285.74, 283.83, 284.8, 287.9, 285.6207, 279.74, 279.33, 280.0, 280.0, 284.17, 287.58, 292.71, 290.8, 296.6, 297.22, 297.84, 297.661, 296.20099999999996, 295.26, 296.0101, 302.91, 311.04, 312.41, 308.77099999999996, 311.28, 310.75, 313.26, 313.35, 311.06, 313.65, 317.52, 313.02, 312.62, 309.74, 300.27, 296.5025, 302.5901, 303.84, 307.0, 305.26, 305.55400000000003, 305.24, 316.75, 323.8, 325.68, 324.0601, 326.75, 352.62, 357.2, 356.29, 358.65, 359.0, 356.1, 354.4, 354.84, 354.5, 341.88, 344.04, 348.06, 347.282, 345.68, 356.43, 365.55, 364.67, 362.5, 360.45, 363.3, 366.31, 373.18, 374.8175, 382.611, 388.62, 389.1, 383.1, 381.4914, 381.371, 383.83, 382.57, 383.02, 382.0, 379.5, 383.8, 385.0, 386.5, 383.1, 392.6, 395.78, 399.2, 396.37, 396.81, 396.25, 392.45, 393.8, 394.02, 396.22, 388.42, 394.29, 396.04, 398.44, 393.8, 388.45, 391.29, 392.534, 389.41, 393.66, 401.6, 402.0, 397.79, 387.27, 380.49, 387.12, 383.24, 387.7, 357.76, 340.1, 344.02, 337.73, 347.403, 352.49, 359.35, 356.25, 346.32, 346.5, 353.35, 349.45, 346.1, 344.38, 346.75, 343.29, 351.58, 357.17, 355.5, 357.084, 354.48, 362.46, 363.9, 368.9, 369.531, 367.0, 367.28, 363.61, 368.08, 371.55, 374.88, 375.0, 369.42, 366.22, 358.4, 348.6, 348.84, 343.4, 330.88, 336.08, 334.06, 338.0, 340.38, 328.46, 315.61, 313.13, 318.44, 322.5, 316.5, 309.5, 311.28, 305.5, 314.71, 319.76, 322.31, 328.94, 323.39, 322.95, 302.71, 288.0, 290.45, 298.1, 304.0, 304.31, 305.0, 297.04, 286.68, 287.23, 284.38, 294.16, 300.75, 296.66, 290.38, 291.55, 293.81, 296.75, 301.5201, 303.01, 304.9, 307.38, 307.42, 310.2, 307.57, 307.0, 305.07, 303.84, 306.9, 324.93, 325.65, 327.5, 333.8772, 324.66, 323.5262, 323.52, 325.23, 325.0, 325.98, 320.42, 321.41, 322.738, 321.74, 322.13, 323.27, 322.24, 325.1, 331.66, 333.08, 332.52, 321.4, 323.15, 322.65, 334.71, 345.356, 349.4, 353.0, 351.38, 352.08, 356.72, 355.25, 356.62, 358.52, 314.76, 316.5, 319.5, 318.5, 311.86, 304.58799999999997, 308.5, 310.06, 310.2, 309.655, 310.66, 316.88, 316.95, 326.14, 326.71, 328.32, 333.77, 333.01, 334.022, 332.23, 330.8, 332.71, 334.55, 341.34, 338.8, 337.68, 337.1587, 337.55, 343.58, 342.5, 339.04, 329.18, 328.82, 326.39, 328.79, 319.0, 320.1, 321.52, 323.7105, 325.57, 321.06, 321.25, 319.56, 321.4, 317.64, 319.0, 318.51, 315.55, 311.31, 319.53, 319.6, 316.67, 314.14, 314.52, 311.38, 303.47, 305.75, 299.10200000000003, 293.83, 302.72, 302.02, 307.07, 312.64, 311.4, 284.0, 285.02, 289.76, 293.0701, 292.36, 301.5, 303.24, 300.17, 294.16, 292.29, 296.29, 300.0, 303.64599999999996, 308.79, 311.51, 316.401, 318.03, 323.25, 324.02, 323.33, 331.47, 333.6, 331.28, 331.75, 336.03, 325.93, 323.25, 314.36, 313.47, 310.84, 304.82099999999997, 301.14, 304.68, 306.01, 303.01, 302.15, 295.01, 293.03, 293.25, 295.52, 301.94, 303.252, 302.875, 303.81, 306.58, 309.34, 310.01, 306.9601, 300.85, 292.38, 295.33, 296.11, 296.68, 289.281, 293.23, 286.503, 286.815, 285.25, 286.39, 287.26, 300.0, 307.72, 307.5201, 302.625, 303.8, 299.33, 340.74, 350.01, 360.21, 358.23, 365.9, 371.01, 367.2, 368.51, 371.1, 373.15, 377.01, 372.67, 372.85, 373.43, 375.84, 378.0, 376.16, 376.54, 383.28, 379.79, 379.481, 381.601, 382.19, 383.89, 378.88, 375.28, 369.18, 366.26, 367.52, 366.68, 366.72, 369.64, 366.7, 372.19, 375.92, 374.94, 372.27, 370.285, 365.65, 366.5734, 371.55, 371.51, 368.34, 369.0, 369.36, 374.03, 374.65, 378.795, 381.3151, 380.14, 381.2101, 381.64, 383.55, 374.4, 377.0, 386.8, 388.0, 386.15, 439.0, 437.41, 428.04, 426.03, 419.24, 416.0, 422.42, 421.02, 414.55, 422.85, 430.17400000000004, 431.37, 426.71, 425.8, 427.01, 424.3, 421.46, 420.63, 418.36, 428.0, 427.61, 422.0, 425.01, 425.47, 427.23, 426.2, 426.25, 432.75, 429.26, 426.5, 421.425, 419.14, 425.66, 431.47, 428.26, 422.64, 422.67, 424.75300000000004, 429.405, 433.24, 434.18, 433.69, 440.23, 436.39, 435.06, 429.0, 430.46, 435.58, 433.48, 433.52, 425.57, 428.83, 434.15, 439.0, 447.54, 458.16, 460.2, 464.8, 477.25, 485.4, 482.55, 484.9, 475.7, 529.35, 526.6, 523.12, 525.02, 524.29, 534.5201, 529.36, 529.163, 534.119, 527.52, 518.21, 523.0, 522.0, 513.06, 525.4846, 528.25, 527.12, 533.0, 529.0, 515.77, 494.47, 451.0, 466.25, 478.76, 507.26099999999997, 513.04, 509.07, 493.43, 497.72, 502.57, 495.64, 508.5144, 515.06, 514.78, 520.605, 518.58, 517.2, 518.52, 526.57, 531.35, 539.59, 532.66, 534.0, 522.87, 521.4, 494.3337, 490.5, 501.6724, 506.0, 508.1, 536.0, 533.33, 529.0, 519.89, 530.27, 539.8, 543.1, 539.68, 547.0, 560.31, 567.38, 555.28, 552.52, 556.67, 595.36, 596.29, 605.53, 609.5, 615.39, 625.28, 620.41, 622.0, 627.35, 643.0901, 652.0, 647.8477, 647.262, 663.25, 664.22, 640.45, 622.29, 641.0, 646.37, 659.0, 657.57, 668.45, 661.2125, 671.24, 672.1, 664.6, 667.86, 674.25, 661.48, 661.4, 660.5, 659.79, 655.68, 659.56, 639.62, 635.27, 657.35, 659.32, 670.65, 664.13, 658.93, 659.26, 656.63, 660.6, 665.5, 677.8893, 686.375, 675.89, 627.51, 627.65, 620.31, 605.21, 606.0, 598.57, 612.2415, 579.16, 569.88, 565.3, 566.45, 547.18, 568.22, 584.1079, 594.56, 590.38, 578.78, 597.55, 570.0, 570.31, 550.09, 521.9, 519.2201, 499.19, 475.21, 474.0, 486.0, 484.0, 501.4932, 511.66, 519.39, 523.73, 515.35, 541.08, 545.33, 533.1501, 545.2946, 553.17, 552.51, 556.0, 573.7, 573.11, 571.065, 555.55, 554.74, 550.125, 547.9, 562.73, 563.05, 567.0, 571.14, 555.01, 546.09, 538.58, 545.05, 558.1, 567.08, 575.56, 576.5, 595.0, 592.21, 588.3, 590.55, 585.25, 587.5, 589.08, 589.0, 594.91, 592.31, 605.29, 615.07, 618.11, 624.9603, 620.8, 623.0, 628.5, 611.56, 616.2511, 614.88, 601.28, 599.2, 654.0, 662.0251, 670.43, 662.14, 656.0, 656.01, 671.41, 693.5, 701.65, 711.51, 706.51, 700.28, 693.91, 688.76, 689.56, 700.0, 696.42, 698.0, 705.5159, 707.293, 711.1, 711.32, 718.22, 715.5001, 718.43, 724.42, 720.55, 721.6, 722.3, 714.21, 711.16, 712.27, 713.3522, 705.3, 699.18, 710.81, 712.721, 707.565, 712.5, 692.2, 682.115, 698.1714, 713.54, 712.54, 716.54, 719.61, 722.58, 731.63, 738.0, 747.0, 740.33, 741.25, 739.02, 734.05, 728.72, 732.31, 740.7, 742.7918, 743.53, 735.35, 732.7525, 733.86, 739.7, 755.0, 757.06, 757.02, 752.25, 750.35, 763.09, 761.015, 766.9, 766.19, 769.12, 768.4225, 767.71, 763.82, 759.199, 760.6, 756.89, 752.1, 761.0, 755.36, 754.7410000000001, 759.795, 768.6, 765.56, 764.0, 766.75, 771.7, 770.22, 784.33, 781.44, 760.11, 756.0, 759.05, 758.85, 757.58, 771.66, 771.0, 776.0, 779.01, 794.27, 802.12, 797.145, 801.11, 817.0337, 824.63, 832.4, 831.25, 830.26, 836.12, 840.6, 837.45, 840.27, 828.35, 830.1, 821.21, 822.96, 811.68, 815.02, 815.17, 803.1, 809.0, 822.21, 833.22, 820.0, 815.43, 774.61, 780.11, 776.7130000000001, 763.55, 764.0, 753.2301, 770.94, 779.1, 760.09, 717.7, 728.9, 710.1, 725.99, 735.61, 748.0, 757.6435, 765.11, 781.0, 773.12, 777.9, 764.24, 761.32, 750.25, 738.03, 736.7, 742.0, 757.25, 755.82, 765.19, 765.34, 757.2, 762.0, 762.81, 760.31, 754.0, 756.16, 767.71, 765.7, 763.02, 757.99, 761.2, 770.5, 760.85, 748.28, 747.7, 754.2, 760.2557, 778.48, 791.77, 789.5434, 789.51, 799.5, 811.4, 803.44, 804.27, 807.32, 806.26, 805.08, 814.5, 825.288, 833.0, 829.44, 816.38, 819.56, 824.94, 828.26, 804.0, 803.0, 807.5, 812.5, 819.71, 822.85, 828.55, 831.4522, 832.82, 839.375, 840.73, 847.25, 852.18, 848.0, 837.7501, 839.67, 842.05, 849.01, 847.28, 846.27, 841.12, 843.75, 846.79, 850.31, 851.72, 851.71, 847.55, 847.11, 850.51, 850.64, 851.01, 841.31, 839.05, 844.8, 843.53, 833.5, 850.1, 859.02, 871.66, 876.65, 885.42, 890.28, 905.62, 894.4927, 889.31, 899.0, 897.5, 895.2501, 884.49, 887.5, 900.78, 897.3689999999999, 896.29, 896.77, 903.82, 903.0, 907.56, 912.11, 924.3335, 927.8, 941.413, 935.9, 934.215, 930.3, 939.21, 950.2, 945.0, 940.775, 951.53, 956.055, 960.91, 944.12, 944.76, 959.72, 962.9, 966.85, 970.23, 982.11, 989.2491, 995.52, 982.16, 991.37, 995.67, 1003.51, 1001.25, 1002.0, 1006.11, 927.0, 945.0, 966.1, 966.71, 950.86, 982.0, 989.9, 992.02, 992.6518, 997.2, 998.02, 992.0, 976.0, 969.21, 965.25, 967.61, 951.0001, 955.25, 959.02, 969.14, 983.5, 983.72, 998.1, 995.9, 996.89, 1003.81, 1004.0, 1022.5, 1022.51, 1011.0, 1027.43, 1032.48, 1043.2, 1040.18, 1001.0, 987.02, 987.14, 981.73, 984.59, 982.0, 987.14, 985.79, 975.27, 954.68, 951.38, 976.19, 982.0, 973.22, 960.32, 954.65, 945.46, 955.495, 954.2, 941.14, 944.1, 942.25, 936.33, 956.9062, 972.76, 976.875, 960.37, 960.6, 972.55, 963.47, 974.22, 975.5169999999999, 979.42, 987.74, 984.03, 968.17, 967.46, 962.1626, 962.02, 954.42, 932.89, 931.75, 943.3, 950.1010000000001, 958.375, 952.1201, 950.37, 954.05, 969.64, 975.64, 987.5, 980.0989999999999, 986.695, 992.4, 1001.03, 1001.04, 1004.38, 996.55, 980.24, 982.0, 962.5, 965.0, 966.24, 968.55, 1050.55, 1093.56, 1101.12, 1096.74, 1086.87, 1088.52, 1108.77, 1117.5, 1119.11, 1115.77, 1124.06, 1122.34, 1123.89, 1121.63, 1130.05, 1125.81, 1122.55, 1128.2, 1141.0, 1160.7, 1191.15, 1188.52, 1145.19, 1160.0, 1152.0, 1128.0, 1124.74, 1136.08, 1151.0, 1157.1, 1157.0, 1161.61, 1160.27, 1162.45, 1169.33, 1180.91, 1179.14, 1176.0, 1167.64, 1167.83, 1160.55, 1175.61, 1184.38, 1167.5, 1170.51, 1188.3, 1204.66, 1210.0, 1232.03, 1241.76, 1237.23, 1256.46, 1273.39, 1292.3, 1280.88, 1284.02, 1292.99, 1296.66, 1337.34, 1338.0, 1357.62, 1380.91, 1400.44, 1392.0, 1450.04, 1385.14, 1414.0, 1320.72, 1351.79, 1415.15], \"open\": [261.4, 263.2, 259.19, 261.53, 267.37, 267.63, 265.91, 270.2, 265.12, 266.62, 266.94, 260.89, 259.4, 261.81, 263.27, 265.36, 274.0, 275.76, 274.1, 275.0, 273.43, 271.0, 275.24, 269.67, 264.98, 259.3, 258.4, 258.05, 256.11, 254.55, 258.58, 257.05, 258.75, 265.82, 266.98, 262.4, 262.12, 259.23, 255.72, 255.92, 258.85, 261.78, 264.74, 270.12, 271.08, 269.31, 270.8, 266.81, 258.16, 259.35, 264.5, 269.5, 271.53, 269.97, 254.9, 249.3701, 253.9, 248.94, 256.14, 258.09, 256.31, 256.87, 258.73, 260.88, 262.77, 264.5, 267.07, 265.96, 265.83, 269.0, 268.74, 267.39, 260.49, 259.85, 266.48, 265.46, 265.71, 266.0, 268.96, 267.0, 265.81, 267.75, 269.74, 276.68, 276.0, 276.6, 271.5, 275.0, 276.35, 279.08, 281.26, 275.14, 274.57, 271.29, 272.3, 273.98, 279.18, 276.19, 279.0, 281.04, 282.6, 285.0, 286.42, 291.0, 291.41, 294.99, 298.69, 307.27, 307.3, 306.97, 306.27, 304.39, 309.25, 303.16, 303.02, 299.0, 299.55, 311.07, 307.72, 303.91, 303.08, 304.63, 303.4, 300.51, 300.15, 298.52, 295.68, 295.79, 295.88, 294.29, 288.79, 286.55, 285.19, 285.88, 285.09, 284.8, 291.21, 290.43, 283.87, 280.36, 281.45, 284.59, 284.73, 288.33, 293.63, 295.33, 297.22, 300.55, 298.91, 299.39, 300.14, 299.82, 297.63, 304.06, 313.77, 312.54, 314.01, 312.43, 314.53, 313.9, 316.92, 313.41, 314.22, 318.04, 320.39, 315.13, 315.24, 311.5, 303.42, 304.63, 304.77, 309.22, 309.87, 308.38, 307.07, 319.36, 329.89, 327.72, 330.84, 329.63, 358.6, 359.92, 358.96, 362.62, 361.73, 365.63, 360.12, 356.78, 360.45, 355.86, 345.95, 350.59, 352.99, 347.4, 357.39, 367.63, 370.28, 365.82, 367.56, 364.05, 370.0, 373.82, 377.61, 383.5, 389.1, 399.0, 390.11, 383.5, 386.65, 388.35, 388.11, 383.74, 387.34, 381.26, 385.32, 385.03, 390.65, 389.23, 394.27, 396.55, 403.69, 402.52, 401.79, 404.65, 399.41, 394.58, 398.8, 398.29, 395.85, 395.04, 398.47, 403.71, 402.53, 397.98, 392.13, 398.94, 393.68, 394.26, 403.0, 408.0, 401.0, 398.16, 390.5, 387.4, 392.16, 393.77, 371.76, 358.98, 349.59, 346.0, 347.403, 358.98, 361.61, 361.842, 356.43, 347.7, 359.34, 355.28, 352.64, 348.8, 352.44, 345.19, 353.0, 359.86, 357.22, 360.6, 358.735, 363.9, 364.13, 374.05, 374.58, 372.69, 370.99, 366.4, 376.62, 372.8, 375.72, 377.32, 378.77, 370.64, 371.0, 360.09, 354.03, 357.13, 343.15, 340.05, 342.4, 338.09, 345.99, 341.82, 335.15, 320.99, 321.88, 328.47, 330.6, 314.0, 317.67, 316.7, 321.17, 319.76, 323.97, 332.0, 333.06, 329.67, 316.25, 304.0, 296.44, 298.1, 304.13, 310.42, 306.37, 309.53, 295.56, 290.82, 290.57, 294.3, 302.6, 302.5, 298.02, 292.8, 295.76, 297.1, 302.21, 305.05, 305.46, 314.41, 309.5, 310.42, 314.43, 312.59, 305.75, 306.85, 308.1, 325.0, 331.57, 327.65, 336.0, 335.55, 327.05, 324.86, 327.54, 328.0, 335.255, 327.76, 323.33, 327.54, 324.33, 328.49, 325.88, 324.98, 325.86, 333.2, 334.83, 337.5, 333.1, 324.71, 324.34, 334.71, 347.03, 353.72, 355.62, 353.44, 354.4, 358.1, 355.25, 359.05, 359.98, 317.3, 324.25, 321.98, 321.45, 320.01, 313.69, 308.84, 313.3, 310.83, 315.21, 311.94, 318.48, 318.89, 327.6, 327.8, 334.0, 335.48, 334.87, 334.68, 336.48, 332.99, 333.21, 337.0, 342.09, 340.0, 341.76, 339.98, 342.54, 343.69, 346.3, 344.54, 341.61, 334.3, 329.94, 329.56, 330.91, 321.07, 327.76, 325.44, 327.6, 328.49, 322.46, 324.17, 327.99, 320.6, 320.5, 321.36, 322.04, 316.92, 320.36, 323.5, 319.43, 316.58, 321.49, 314.02, 309.87, 308.0, 304.35, 293.83, 307.15, 302.95, 309.9, 315.43, 313.4, 284.4, 285.7, 289.76, 299.11, 293.98, 305.15, 306.24, 303.99, 303.01, 296.69, 297.82, 300.0, 305.94, 310.75, 312.0, 317.12, 326.44, 323.99, 327.25, 324.0, 335.42, 334.78, 335.27, 333.78, 336.03, 338.12, 327.5, 325.73, 315.53, 316.8, 311.57, 302.99, 312.0, 307.89, 303.99, 308.87, 304.35, 296.37, 304.01, 296.91, 301.94, 306.98, 306.38, 305.0, 307.85, 309.91, 311.55, 312.58, 307.01, 302.24, 297.5, 300.32, 301.48, 297.56, 297.48, 291.93, 294.0, 286.28, 292.59, 289.64, 300.0, 308.08, 311.82, 306.3, 309.81, 304.73, 346.32, 350.05, 360.29, 358.38, 366.0, 374.87, 371.0, 371.19, 371.23, 375.1, 378.41, 377.72, 373.78, 373.49, 378.62, 383.44, 378.65, 377.27, 384.07, 384.0, 380.85, 383.95, 385.71, 385.61, 385.52, 378.4, 377.45, 370.61, 368.82, 371.52, 370.38, 371.11, 369.97, 373.87, 376.29, 378.07, 373.99, 375.17, 369.59, 367.11, 371.87, 373.24, 372.1, 370.5, 370.1, 376.15, 374.66, 380.66, 384.31, 383.53, 383.51, 384.65, 383.69, 382.63, 378.55, 391.31, 391.91, 390.21, 439.0, 443.86, 438.51, 426.75, 427.11, 423.82, 424.8, 422.85, 421.43, 424.15, 430.75, 432.51, 431.08, 429.98, 429.45, 428.0, 426.0, 424.87, 420.6, 428.0, 431.55, 426.2, 427.45, 429.71, 427.23, 430.4, 430.07, 434.4, 434.4, 429.66, 425.62, 422.96, 426.46, 432.29, 431.25, 427.66, 424.15, 428.36, 430.3, 440.26, 437.0, 435.59, 444.97, 438.07, 441.76, 434.98, 434.2, 439.35, 437.0, 435.23, 435.68, 434.35, 434.9, 440.49, 448.29, 462.32, 463.04, 465.5, 477.7, 492.57, 487.9, 485.99, 491.66, 578.99, 527.75, 536.0, 530.92, 527.65, 539.09, 537.45, 529.69, 538.8, 539.3, 529.16, 528.52, 523.65, 523.75, 527.37, 528.25, 531.29, 535.04, 533.74, 530.39, 507.36, 463.58, 487.49, 484.02, 514.03, 517.5, 516.44, 499.14, 505.09, 514.5, 497.65, 508.69, 524.0, 515.15, 521.07, 529.44, 523.25, 521.98, 526.98, 534.62, 544.33, 539.71, 538.3, 530.55, 542.57, 520.02, 506.0, 505.44, 511.0, 512.99, 536.99, 545.5, 541.79, 536.71, 534.48, 539.96, 546.26, 551.34, 547.75, 565.27, 570.76, 572.0, 563.87, 562.7, 617.68, 602.3, 608.6, 612.3, 617.7, 626.01, 627.13, 629.53, 627.76, 647.1, 655.0, 658.65, 651.01, 663.25, 673.0, 663.57, 640.92, 650.65, 646.51, 664.99, 667.94, 671.5, 674.14, 675.0, 680.8, 675.9, 673.75, 681.0, 679.44, 666.0, 674.74, 663.13, 678.0, 665.59, 651.23, 641.75, 665.03, 663.56, 680.0, 668.65, 668.5, 666.83, 666.5, 663.35, 665.56, 677.98, 691.89, 686.08, 656.29, 646.86, 622.0, 621.8, 619.66, 612.48, 625.25, 620.88, 580.25, 572.24, 577.09, 564.36, 573.58, 588.73, 597.99, 603.45, 601.99, 608.37, 571.98, 578.15, 570.0, 553.5, 525.0, 529.28, 486.47, 478.01, 491.76, 491.17, 510.7, 519.48, 528.74, 541.19, 520.71, 542.2, 555.55, 545.75, 555.52, 560.12, 554.0, 556.29, 581.75, 577.96, 581.07, 573.54, 557.87, 559.56, 566.74, 566.95, 567.0, 571.0, 576.64, 569.51, 560.94, 548.91, 545.11, 561.0, 567.11, 584.4, 580.15, 596.71, 599.28, 590.49, 599.0, 590.77, 587.52, 598.76, 594.32, 596.14, 598.4, 607.68, 615.07, 621.92, 625.35, 637.14, 630.0, 631.0, 624.47, 616.61, 626.17, 611.8, 615.54, 666.0, 663.92, 677.36, 662.59, 673.31, 656.05, 673.95, 694.0, 705.79, 717.38, 714.64, 710.13, 709.9, 689.56, 691.88, 701.05, 704.25, 698.01, 708.0, 708.33, 715.0, 712.33, 720.9, 720.97, 726.74, 726.5, 729.89, 726.4, 723.1, 722.35, 714.01, 712.33, 722.0, 712.05, 718.19, 713.5, 715.72, 716.58, 715.5, 693.0, 692.01, 700.0, 715.75, 717.2, 717.32, 722.8, 725.71, 739.33, 740.14, 750.0, 756.86, 746.76, 748.86, 746.55, 735.49, 732.5, 744.0, 747.5, 747.79, 746.55, 742.71, 737.97, 745.98, 765.0, 759.87, 763.81, 757.06, 753.7, 764.81, 766.81, 767.39, 769.8, 769.94, 768.46, 771.9, 768.62, 764.41, 764.0, 761.9, 757.5, 763.31, 763.0, 756.0, 760.05, 768.72, 771.05, 766.6, 770.9, 774.11, 774.04, 789.53, 783.89, 779.36, 757.35, 768.77, 762.2, 762.0, 773.28, 779.97, 776.0, 783.25, 794.27, 803.13, 801.8, 801.85, 818.0, 828.26, 832.61, 836.0, 840.91, 838.0, 843.7, 845.79, 843.25, 841.02, 834.0, 829.0, 835.08, 821.5, 822.11, 820.4, 813.99, 809.36, 824.95, 839.3, 832.76, 831.24, 782.0, 781.03, 799.0, 783.93, 765.05, 762.79, 771.64, 784.97, 764.0, 778.81, 735.73, 745.51, 730.0, 739.88, 749.32, 761.0, 766.0, 788.17, 781.73, 786.5, 776.99, 768.0, 762.0, 752.41, 743.4, 745.0, 763.99, 764.55, 771.87, 770.0, 766.4, 764.96, 778.25, 766.28, 765.0, 758.89, 768.65, 770.0, 768.12, 764.55, 763.4, 776.25, 772.4, 766.47, 757.92, 758.39, 761.55, 782.36, 798.0, 796.6, 793.66, 800.31, 814.32, 815.7, 809.5, 810.0, 815.28, 806.8, 822.0, 825.79, 835.53, 839.0, 833.0, 823.75, 829.21, 836.59, 806.72, 809.8, 809.31, 812.69, 821.6, 823.82, 831.62, 837.0, 834.0, 841.84, 842.0, 848.84, 856.95, 857.57, 844.69, 842.38, 851.45, 853.05, 853.08, 847.2, 845.23, 845.48, 848.0, 851.0, 857.0, 851.77, 853.55, 854.33, 855.3, 853.49, 851.51, 858.84, 840.43, 848.2, 851.68, 838.07, 851.75, 859.05, 874.95, 877.0, 888.0, 891.5, 910.82, 913.8, 899.65, 899.63, 907.04, 903.09, 891.45, 887.5, 900.99, 907.84, 899.7, 902.67, 908.68, 907.04, 910.3, 914.39, 948.83, 927.8, 946.645, 946.0, 944.75, 940.52, 940.95, 952.8, 953.5, 945.11, 954.5, 958.73, 961.0, 954.7, 944.8, 962.84, 964.0, 975.02, 976.0, 984.85, 995.0, 996.51, 1000.0, 998.59, 998.99, 1007.23, 1012.0, 1005.95, 1012.06, 1012.5, 967.0, 977.99, 988.59, 958.7, 996.0, 1017.0, 998.0, 998.7, 1002.23, 1002.54, 1008.5, 990.69, 978.55, 979.0, 980.12, 972.79, 961.53, 964.66, 969.55, 985.0, 993.0, 1000.65, 1004.62, 1002.4, 1004.69, 1006.0, 1025.0, 1031.59, 1021.28, 1028.34, 1038.05, 1043.2, 1069.55, 1012.14, 1019.05, 990.65, 1001.77, 999.47, 989.68, 990.65, 994.35, 982.6, 976.295, 960.0, 978.41, 988.9, 981.65, 977.84, 961.4, 957.57, 955.52, 959.38, 957.42, 956.0, 946.54, 940.0, 958.44, 974.7, 984.2, 975.4, 968.32, 974.0, 979.1, 974.46, 983.27, 983.97, 996.8, 993.01, 990.4, 977.25, 971.79, 971.31, 961.01, 949.31, 945.49, 948.0, 951.86, 960.11, 964.0, 958.0, 954.21, 970.0, 975.64, 993.24, 996.67, 991.27, 996.81, 1007.0, 1008.44, 1005.59, 1009.27, 990.0, 993.53, 986.73, 969.0, 978.0, 980.33, 1058.14, 1095.01, 1109.0, 1105.4, 1097.81, 1091.15, 1109.15, 1124.74, 1122.82, 1125.96, 1126.1, 1123.0, 1130.11, 1127.01, 1130.16, 1138.28, 1129.77, 1132.86, 1141.0, 1160.7, 1202.66, 1204.88, 1194.8, 1167.1, 1172.05, 1173.85, 1128.26, 1137.99, 1156.59, 1170.4, 1164.6, 1166.51, 1170.0, 1163.71, 1179.03, 1187.37, 1189.15, 1190.5, 1175.9, 1172.08, 1168.36, 1179.91, 1189.0, 1182.35, 1172.0, 1188.3, 1205.0, 1217.51, 1236.0, 1256.9, 1245.15, 1259.74, 1273.39, 1323.0, 1312.24, 1293.95, 1312.0, 1297.17, 1338.09, 1374.82, 1368.0, 1392.01, 1409.18, 1403.17, 1451.3, 1445.0, 1477.39, 1402.62, 1361.46, 1449.0], \"type\": \"ohlc\", \"x\": [\"2013-02-08T00:00:00\", \"2013-02-11T00:00:00\", \"2013-02-12T00:00:00\", \"2013-02-13T00:00:00\", \"2013-02-14T00:00:00\", \"2013-02-15T00:00:00\", \"2013-02-19T00:00:00\", \"2013-02-20T00:00:00\", \"2013-02-21T00:00:00\", \"2013-02-22T00:00:00\", \"2013-02-25T00:00:00\", \"2013-02-26T00:00:00\", \"2013-02-27T00:00:00\", \"2013-02-28T00:00:00\", \"2013-03-01T00:00:00\", \"2013-03-04T00:00:00\", \"2013-03-05T00:00:00\", \"2013-03-06T00:00:00\", \"2013-03-07T00:00:00\", \"2013-03-08T00:00:00\", \"2013-03-11T00:00:00\", \"2013-03-12T00:00:00\", \"2013-03-13T00:00:00\", \"2013-03-14T00:00:00\", \"2013-03-15T00:00:00\", \"2013-03-18T00:00:00\", \"2013-03-19T00:00:00\", \"2013-03-20T00:00:00\", \"2013-03-21T00:00:00\", \"2013-03-22T00:00:00\", \"2013-03-25T00:00:00\", \"2013-03-26T00:00:00\", \"2013-03-27T00:00:00\", \"2013-03-28T00:00:00\", \"2013-04-01T00:00:00\", \"2013-04-02T00:00:00\", \"2013-04-03T00:00:00\", \"2013-04-04T00:00:00\", \"2013-04-05T00:00:00\", \"2013-04-08T00:00:00\", \"2013-04-09T00:00:00\", \"2013-04-10T00:00:00\", \"2013-04-11T00:00:00\", \"2013-04-12T00:00:00\", \"2013-04-15T00:00:00\", \"2013-04-16T00:00:00\", \"2013-04-17T00:00:00\", \"2013-04-18T00:00:00\", \"2013-04-19T00:00:00\", \"2013-04-22T00:00:00\", \"2013-04-23T00:00:00\", \"2013-04-24T00:00:00\", \"2013-04-25T00:00:00\", \"2013-04-26T00:00:00\", \"2013-04-29T00:00:00\", \"2013-04-30T00:00:00\", \"2013-05-01T00:00:00\", \"2013-05-02T00:00:00\", \"2013-05-03T00:00:00\", \"2013-05-06T00:00:00\", \"2013-05-07T00:00:00\", \"2013-05-08T00:00:00\", \"2013-05-09T00:00:00\", \"2013-05-10T00:00:00\", \"2013-05-13T00:00:00\", \"2013-05-14T00:00:00\", \"2013-05-15T00:00:00\", \"2013-05-16T00:00:00\", \"2013-05-17T00:00:00\", \"2013-05-20T00:00:00\", \"2013-05-21T00:00:00\", \"2013-05-22T00:00:00\", \"2013-05-23T00:00:00\", \"2013-05-24T00:00:00\", \"2013-05-28T00:00:00\", \"2013-05-29T00:00:00\", \"2013-05-30T00:00:00\", \"2013-05-31T00:00:00\", \"2013-06-03T00:00:00\", \"2013-06-04T00:00:00\", \"2013-06-05T00:00:00\", \"2013-06-06T00:00:00\", \"2013-06-07T00:00:00\", \"2013-06-10T00:00:00\", \"2013-06-11T00:00:00\", \"2013-06-12T00:00:00\", \"2013-06-13T00:00:00\", \"2013-06-14T00:00:00\", \"2013-06-17T00:00:00\", \"2013-06-18T00:00:00\", \"2013-06-19T00:00:00\", \"2013-06-20T00:00:00\", \"2013-06-21T00:00:00\", \"2013-06-24T00:00:00\", \"2013-06-25T00:00:00\", \"2013-06-26T00:00:00\", \"2013-06-27T00:00:00\", \"2013-06-28T00:00:00\", \"2013-07-01T00:00:00\", \"2013-07-02T00:00:00\", \"2013-07-03T00:00:00\", \"2013-07-05T00:00:00\", \"2013-07-08T00:00:00\", \"2013-07-09T00:00:00\", \"2013-07-10T00:00:00\", \"2013-07-11T00:00:00\", \"2013-07-12T00:00:00\", \"2013-07-15T00:00:00\", \"2013-07-16T00:00:00\", \"2013-07-17T00:00:00\", \"2013-07-18T00:00:00\", \"2013-07-19T00:00:00\", \"2013-07-22T00:00:00\", \"2013-07-23T00:00:00\", \"2013-07-24T00:00:00\", \"2013-07-25T00:00:00\", \"2013-07-26T00:00:00\", \"2013-07-29T00:00:00\", \"2013-07-30T00:00:00\", \"2013-07-31T00:00:00\", \"2013-08-01T00:00:00\", \"2013-08-02T00:00:00\", \"2013-08-05T00:00:00\", \"2013-08-06T00:00:00\", \"2013-08-07T00:00:00\", \"2013-08-08T00:00:00\", \"2013-08-09T00:00:00\", \"2013-08-12T00:00:00\", \"2013-08-13T00:00:00\", \"2013-08-14T00:00:00\", \"2013-08-15T00:00:00\", \"2013-08-16T00:00:00\", \"2013-08-19T00:00:00\", \"2013-08-20T00:00:00\", \"2013-08-21T00:00:00\", \"2013-08-22T00:00:00\", \"2013-08-23T00:00:00\", \"2013-08-26T00:00:00\", \"2013-08-27T00:00:00\", \"2013-08-28T00:00:00\", \"2013-08-29T00:00:00\", \"2013-08-30T00:00:00\", \"2013-09-03T00:00:00\", \"2013-09-04T00:00:00\", \"2013-09-05T00:00:00\", \"2013-09-06T00:00:00\", \"2013-09-09T00:00:00\", \"2013-09-10T00:00:00\", \"2013-09-11T00:00:00\", \"2013-09-12T00:00:00\", \"2013-09-13T00:00:00\", \"2013-09-16T00:00:00\", \"2013-09-17T00:00:00\", \"2013-09-18T00:00:00\", \"2013-09-19T00:00:00\", \"2013-09-20T00:00:00\", \"2013-09-23T00:00:00\", \"2013-09-24T00:00:00\", \"2013-09-25T00:00:00\", \"2013-09-26T00:00:00\", \"2013-09-27T00:00:00\", \"2013-09-30T00:00:00\", \"2013-10-01T00:00:00\", \"2013-10-02T00:00:00\", \"2013-10-03T00:00:00\", \"2013-10-04T00:00:00\", \"2013-10-07T00:00:00\", \"2013-10-08T00:00:00\", \"2013-10-09T00:00:00\", \"2013-10-10T00:00:00\", \"2013-10-11T00:00:00\", \"2013-10-14T00:00:00\", \"2013-10-15T00:00:00\", \"2013-10-16T00:00:00\", \"2013-10-17T00:00:00\", \"2013-10-18T00:00:00\", \"2013-10-21T00:00:00\", \"2013-10-22T00:00:00\", \"2013-10-23T00:00:00\", \"2013-10-24T00:00:00\", \"2013-10-25T00:00:00\", \"2013-10-28T00:00:00\", \"2013-10-29T00:00:00\", \"2013-10-30T00:00:00\", \"2013-10-31T00:00:00\", \"2013-11-01T00:00:00\", \"2013-11-04T00:00:00\", \"2013-11-05T00:00:00\", \"2013-11-06T00:00:00\", \"2013-11-07T00:00:00\", \"2013-11-08T00:00:00\", \"2013-11-11T00:00:00\", \"2013-11-12T00:00:00\", \"2013-11-13T00:00:00\", \"2013-11-14T00:00:00\", \"2013-11-15T00:00:00\", \"2013-11-18T00:00:00\", \"2013-11-19T00:00:00\", \"2013-11-20T00:00:00\", \"2013-11-21T00:00:00\", \"2013-11-22T00:00:00\", \"2013-11-25T00:00:00\", \"2013-11-26T00:00:00\", \"2013-11-27T00:00:00\", \"2013-11-29T00:00:00\", \"2013-12-02T00:00:00\", \"2013-12-03T00:00:00\", \"2013-12-04T00:00:00\", \"2013-12-05T00:00:00\", \"2013-12-06T00:00:00\", \"2013-12-09T00:00:00\", \"2013-12-10T00:00:00\", \"2013-12-11T00:00:00\", \"2013-12-12T00:00:00\", \"2013-12-13T00:00:00\", \"2013-12-16T00:00:00\", \"2013-12-17T00:00:00\", \"2013-12-18T00:00:00\", \"2013-12-19T00:00:00\", \"2013-12-20T00:00:00\", \"2013-12-23T00:00:00\", \"2013-12-24T00:00:00\", \"2013-12-26T00:00:00\", \"2013-12-27T00:00:00\", \"2013-12-30T00:00:00\", \"2013-12-31T00:00:00\", \"2014-01-02T00:00:00\", \"2014-01-03T00:00:00\", \"2014-01-06T00:00:00\", \"2014-01-07T00:00:00\", \"2014-01-08T00:00:00\", \"2014-01-09T00:00:00\", \"2014-01-10T00:00:00\", \"2014-01-13T00:00:00\", \"2014-01-14T00:00:00\", \"2014-01-15T00:00:00\", \"2014-01-16T00:00:00\", \"2014-01-17T00:00:00\", \"2014-01-21T00:00:00\", \"2014-01-22T00:00:00\", \"2014-01-23T00:00:00\", \"2014-01-24T00:00:00\", \"2014-01-27T00:00:00\", \"2014-01-28T00:00:00\", \"2014-01-29T00:00:00\", \"2014-01-30T00:00:00\", \"2014-01-31T00:00:00\", \"2014-02-03T00:00:00\", \"2014-02-04T00:00:00\", \"2014-02-05T00:00:00\", \"2014-02-06T00:00:00\", \"2014-02-07T00:00:00\", \"2014-02-10T00:00:00\", \"2014-02-11T00:00:00\", \"2014-02-12T00:00:00\", \"2014-02-13T00:00:00\", \"2014-02-14T00:00:00\", \"2014-02-18T00:00:00\", \"2014-02-19T00:00:00\", \"2014-02-20T00:00:00\", \"2014-02-21T00:00:00\", \"2014-02-24T00:00:00\", \"2014-02-25T00:00:00\", \"2014-02-26T00:00:00\", \"2014-02-27T00:00:00\", \"2014-02-28T00:00:00\", \"2014-03-03T00:00:00\", \"2014-03-04T00:00:00\", \"2014-03-05T00:00:00\", \"2014-03-06T00:00:00\", \"2014-03-07T00:00:00\", \"2014-03-10T00:00:00\", \"2014-03-11T00:00:00\", \"2014-03-12T00:00:00\", \"2014-03-13T00:00:00\", \"2014-03-14T00:00:00\", \"2014-03-17T00:00:00\", \"2014-03-18T00:00:00\", \"2014-03-19T00:00:00\", \"2014-03-20T00:00:00\", \"2014-03-21T00:00:00\", \"2014-03-24T00:00:00\", \"2014-03-25T00:00:00\", \"2014-03-26T00:00:00\", \"2014-03-27T00:00:00\", \"2014-03-28T00:00:00\", \"2014-03-31T00:00:00\", \"2014-04-01T00:00:00\", \"2014-04-02T00:00:00\", \"2014-04-03T00:00:00\", \"2014-04-04T00:00:00\", \"2014-04-07T00:00:00\", \"2014-04-08T00:00:00\", \"2014-04-09T00:00:00\", \"2014-04-10T00:00:00\", \"2014-04-11T00:00:00\", \"2014-04-14T00:00:00\", \"2014-04-15T00:00:00\", \"2014-04-16T00:00:00\", \"2014-04-17T00:00:00\", \"2014-04-21T00:00:00\", \"2014-04-22T00:00:00\", \"2014-04-23T00:00:00\", \"2014-04-24T00:00:00\", \"2014-04-25T00:00:00\", \"2014-04-28T00:00:00\", \"2014-04-29T00:00:00\", \"2014-04-30T00:00:00\", \"2014-05-01T00:00:00\", \"2014-05-02T00:00:00\", \"2014-05-05T00:00:00\", \"2014-05-06T00:00:00\", \"2014-05-07T00:00:00\", \"2014-05-08T00:00:00\", \"2014-05-09T00:00:00\", \"2014-05-12T00:00:00\", \"2014-05-13T00:00:00\", \"2014-05-14T00:00:00\", \"2014-05-15T00:00:00\", \"2014-05-16T00:00:00\", \"2014-05-19T00:00:00\", \"2014-05-20T00:00:00\", \"2014-05-21T00:00:00\", \"2014-05-22T00:00:00\", \"2014-05-23T00:00:00\", \"2014-05-27T00:00:00\", \"2014-05-28T00:00:00\", \"2014-05-29T00:00:00\", \"2014-05-30T00:00:00\", \"2014-06-02T00:00:00\", \"2014-06-03T00:00:00\", \"2014-06-04T00:00:00\", \"2014-06-05T00:00:00\", \"2014-06-06T00:00:00\", \"2014-06-09T00:00:00\", \"2014-06-10T00:00:00\", \"2014-06-11T00:00:00\", \"2014-06-12T00:00:00\", \"2014-06-13T00:00:00\", \"2014-06-16T00:00:00\", \"2014-06-17T00:00:00\", \"2014-06-18T00:00:00\", \"2014-06-19T00:00:00\", \"2014-06-20T00:00:00\", \"2014-06-23T00:00:00\", \"2014-06-24T00:00:00\", \"2014-06-25T00:00:00\", \"2014-06-26T00:00:00\", \"2014-06-27T00:00:00\", \"2014-06-30T00:00:00\", \"2014-07-01T00:00:00\", \"2014-07-02T00:00:00\", \"2014-07-03T00:00:00\", \"2014-07-07T00:00:00\", \"2014-07-08T00:00:00\", \"2014-07-09T00:00:00\", \"2014-07-10T00:00:00\", \"2014-07-11T00:00:00\", \"2014-07-14T00:00:00\", \"2014-07-15T00:00:00\", \"2014-07-16T00:00:00\", \"2014-07-17T00:00:00\", \"2014-07-18T00:00:00\", \"2014-07-21T00:00:00\", \"2014-07-22T00:00:00\", \"2014-07-23T00:00:00\", \"2014-07-24T00:00:00\", \"2014-07-25T00:00:00\", \"2014-07-28T00:00:00\", \"2014-07-29T00:00:00\", \"2014-07-30T00:00:00\", \"2014-07-31T00:00:00\", \"2014-08-01T00:00:00\", \"2014-08-04T00:00:00\", \"2014-08-05T00:00:00\", \"2014-08-06T00:00:00\", \"2014-08-07T00:00:00\", \"2014-08-08T00:00:00\", \"2014-08-11T00:00:00\", \"2014-08-12T00:00:00\", \"2014-08-13T00:00:00\", \"2014-08-14T00:00:00\", \"2014-08-15T00:00:00\", \"2014-08-18T00:00:00\", \"2014-08-19T00:00:00\", \"2014-08-20T00:00:00\", \"2014-08-21T00:00:00\", \"2014-08-22T00:00:00\", \"2014-08-25T00:00:00\", \"2014-08-26T00:00:00\", \"2014-08-27T00:00:00\", \"2014-08-28T00:00:00\", \"2014-08-29T00:00:00\", \"2014-09-02T00:00:00\", \"2014-09-03T00:00:00\", \"2014-09-04T00:00:00\", \"2014-09-05T00:00:00\", \"2014-09-08T00:00:00\", \"2014-09-09T00:00:00\", \"2014-09-10T00:00:00\", \"2014-09-11T00:00:00\", \"2014-09-12T00:00:00\", \"2014-09-15T00:00:00\", \"2014-09-16T00:00:00\", \"2014-09-17T00:00:00\", \"2014-09-18T00:00:00\", \"2014-09-19T00:00:00\", \"2014-09-22T00:00:00\", \"2014-09-23T00:00:00\", \"2014-09-24T00:00:00\", \"2014-09-25T00:00:00\", \"2014-09-26T00:00:00\", \"2014-09-29T00:00:00\", \"2014-09-30T00:00:00\", \"2014-10-01T00:00:00\", \"2014-10-02T00:00:00\", \"2014-10-03T00:00:00\", \"2014-10-06T00:00:00\", \"2014-10-07T00:00:00\", \"2014-10-08T00:00:00\", \"2014-10-09T00:00:00\", \"2014-10-10T00:00:00\", \"2014-10-13T00:00:00\", \"2014-10-14T00:00:00\", \"2014-10-15T00:00:00\", \"2014-10-16T00:00:00\", \"2014-10-17T00:00:00\", \"2014-10-20T00:00:00\", \"2014-10-21T00:00:00\", \"2014-10-22T00:00:00\", \"2014-10-23T00:00:00\", \"2014-10-24T00:00:00\", \"2014-10-27T00:00:00\", \"2014-10-28T00:00:00\", \"2014-10-29T00:00:00\", \"2014-10-30T00:00:00\", \"2014-10-31T00:00:00\", \"2014-11-03T00:00:00\", \"2014-11-04T00:00:00\", \"2014-11-05T00:00:00\", \"2014-11-06T00:00:00\", \"2014-11-07T00:00:00\", \"2014-11-10T00:00:00\", \"2014-11-11T00:00:00\", \"2014-11-12T00:00:00\", \"2014-11-13T00:00:00\", \"2014-11-14T00:00:00\", \"2014-11-17T00:00:00\", \"2014-11-18T00:00:00\", \"2014-11-19T00:00:00\", \"2014-11-20T00:00:00\", \"2014-11-21T00:00:00\", \"2014-11-24T00:00:00\", \"2014-11-25T00:00:00\", \"2014-11-26T00:00:00\", \"2014-11-28T00:00:00\", \"2014-12-01T00:00:00\", \"2014-12-02T00:00:00\", \"2014-12-03T00:00:00\", \"2014-12-04T00:00:00\", \"2014-12-05T00:00:00\", \"2014-12-08T00:00:00\", \"2014-12-09T00:00:00\", \"2014-12-10T00:00:00\", \"2014-12-11T00:00:00\", \"2014-12-12T00:00:00\", \"2014-12-15T00:00:00\", \"2014-12-16T00:00:00\", \"2014-12-17T00:00:00\", \"2014-12-18T00:00:00\", \"2014-12-19T00:00:00\", \"2014-12-22T00:00:00\", \"2014-12-23T00:00:00\", \"2014-12-24T00:00:00\", \"2014-12-26T00:00:00\", \"2014-12-29T00:00:00\", \"2014-12-30T00:00:00\", \"2014-12-31T00:00:00\", \"2015-01-02T00:00:00\", \"2015-01-05T00:00:00\", \"2015-01-06T00:00:00\", \"2015-01-07T00:00:00\", \"2015-01-08T00:00:00\", \"2015-01-09T00:00:00\", \"2015-01-12T00:00:00\", \"2015-01-13T00:00:00\", \"2015-01-14T00:00:00\", \"2015-01-15T00:00:00\", \"2015-01-16T00:00:00\", \"2015-01-20T00:00:00\", \"2015-01-21T00:00:00\", \"2015-01-22T00:00:00\", \"2015-01-23T00:00:00\", \"2015-01-26T00:00:00\", \"2015-01-27T00:00:00\", \"2015-01-28T00:00:00\", \"2015-01-29T00:00:00\", \"2015-01-30T00:00:00\", \"2015-02-02T00:00:00\", \"2015-02-03T00:00:00\", \"2015-02-04T00:00:00\", \"2015-02-05T00:00:00\", \"2015-02-06T00:00:00\", \"2015-02-09T00:00:00\", \"2015-02-10T00:00:00\", \"2015-02-11T00:00:00\", \"2015-02-12T00:00:00\", \"2015-02-13T00:00:00\", \"2015-02-17T00:00:00\", \"2015-02-18T00:00:00\", \"2015-02-19T00:00:00\", \"2015-02-20T00:00:00\", \"2015-02-23T00:00:00\", \"2015-02-24T00:00:00\", \"2015-02-25T00:00:00\", \"2015-02-26T00:00:00\", \"2015-02-27T00:00:00\", \"2015-03-02T00:00:00\", \"2015-03-03T00:00:00\", \"2015-03-04T00:00:00\", \"2015-03-05T00:00:00\", \"2015-03-06T00:00:00\", \"2015-03-09T00:00:00\", \"2015-03-10T00:00:00\", \"2015-03-11T00:00:00\", \"2015-03-12T00:00:00\", \"2015-03-13T00:00:00\", \"2015-03-16T00:00:00\", \"2015-03-17T00:00:00\", \"2015-03-18T00:00:00\", \"2015-03-19T00:00:00\", \"2015-03-20T00:00:00\", \"2015-03-23T00:00:00\", \"2015-03-24T00:00:00\", \"2015-03-25T00:00:00\", \"2015-03-26T00:00:00\", \"2015-03-27T00:00:00\", \"2015-03-30T00:00:00\", \"2015-03-31T00:00:00\", \"2015-04-01T00:00:00\", \"2015-04-02T00:00:00\", \"2015-04-06T00:00:00\", \"2015-04-07T00:00:00\", \"2015-04-08T00:00:00\", \"2015-04-09T00:00:00\", \"2015-04-10T00:00:00\", \"2015-04-13T00:00:00\", \"2015-04-14T00:00:00\", \"2015-04-15T00:00:00\", \"2015-04-16T00:00:00\", \"2015-04-17T00:00:00\", \"2015-04-20T00:00:00\", \"2015-04-21T00:00:00\", \"2015-04-22T00:00:00\", \"2015-04-23T00:00:00\", \"2015-04-24T00:00:00\", \"2015-04-27T00:00:00\", \"2015-04-28T00:00:00\", \"2015-04-29T00:00:00\", \"2015-04-30T00:00:00\", \"2015-05-01T00:00:00\", \"2015-05-04T00:00:00\", \"2015-05-05T00:00:00\", \"2015-05-06T00:00:00\", \"2015-05-07T00:00:00\", \"2015-05-08T00:00:00\", \"2015-05-11T00:00:00\", \"2015-05-12T00:00:00\", \"2015-05-13T00:00:00\", \"2015-05-14T00:00:00\", \"2015-05-15T00:00:00\", \"2015-05-18T00:00:00\", \"2015-05-19T00:00:00\", \"2015-05-20T00:00:00\", \"2015-05-21T00:00:00\", \"2015-05-22T00:00:00\", \"2015-05-26T00:00:00\", \"2015-05-27T00:00:00\", \"2015-05-28T00:00:00\", \"2015-05-29T00:00:00\", \"2015-06-01T00:00:00\", \"2015-06-02T00:00:00\", \"2015-06-03T00:00:00\", \"2015-06-04T00:00:00\", \"2015-06-05T00:00:00\", \"2015-06-08T00:00:00\", \"2015-06-09T00:00:00\", \"2015-06-10T00:00:00\", \"2015-06-11T00:00:00\", \"2015-06-12T00:00:00\", \"2015-06-15T00:00:00\", \"2015-06-16T00:00:00\", \"2015-06-17T00:00:00\", \"2015-06-18T00:00:00\", \"2015-06-19T00:00:00\", \"2015-06-22T00:00:00\", \"2015-06-23T00:00:00\", \"2015-06-24T00:00:00\", \"2015-06-25T00:00:00\", \"2015-06-26T00:00:00\", \"2015-06-29T00:00:00\", \"2015-06-30T00:00:00\", \"2015-07-01T00:00:00\", \"2015-07-02T00:00:00\", \"2015-07-06T00:00:00\", \"2015-07-07T00:00:00\", \"2015-07-08T00:00:00\", \"2015-07-09T00:00:00\", \"2015-07-10T00:00:00\", \"2015-07-13T00:00:00\", \"2015-07-14T00:00:00\", \"2015-07-15T00:00:00\", \"2015-07-16T00:00:00\", \"2015-07-17T00:00:00\", \"2015-07-20T00:00:00\", \"2015-07-21T00:00:00\", \"2015-07-22T00:00:00\", \"2015-07-23T00:00:00\", \"2015-07-24T00:00:00\", \"2015-07-27T00:00:00\", \"2015-07-28T00:00:00\", \"2015-07-29T00:00:00\", \"2015-07-30T00:00:00\", \"2015-07-31T00:00:00\", \"2015-08-03T00:00:00\", \"2015-08-04T00:00:00\", \"2015-08-05T00:00:00\", \"2015-08-06T00:00:00\", \"2015-08-07T00:00:00\", \"2015-08-10T00:00:00\", \"2015-08-11T00:00:00\", \"2015-08-12T00:00:00\", \"2015-08-13T00:00:00\", \"2015-08-14T00:00:00\", \"2015-08-17T00:00:00\", \"2015-08-18T00:00:00\", \"2015-08-19T00:00:00\", \"2015-08-20T00:00:00\", \"2015-08-21T00:00:00\", \"2015-08-24T00:00:00\", \"2015-08-25T00:00:00\", \"2015-08-26T00:00:00\", \"2015-08-27T00:00:00\", \"2015-08-28T00:00:00\", \"2015-08-31T00:00:00\", \"2015-09-01T00:00:00\", \"2015-09-02T00:00:00\", \"2015-09-03T00:00:00\", \"2015-09-04T00:00:00\", \"2015-09-08T00:00:00\", \"2015-09-09T00:00:00\", \"2015-09-10T00:00:00\", \"2015-09-11T00:00:00\", \"2015-09-14T00:00:00\", \"2015-09-15T00:00:00\", \"2015-09-16T00:00:00\", \"2015-09-17T00:00:00\", \"2015-09-18T00:00:00\", \"2015-09-21T00:00:00\", \"2015-09-22T00:00:00\", \"2015-09-23T00:00:00\", \"2015-09-24T00:00:00\", \"2015-09-25T00:00:00\", \"2015-09-28T00:00:00\", \"2015-09-29T00:00:00\", \"2015-09-30T00:00:00\", \"2015-10-01T00:00:00\", \"2015-10-02T00:00:00\", \"2015-10-05T00:00:00\", \"2015-10-06T00:00:00\", \"2015-10-07T00:00:00\", \"2015-10-08T00:00:00\", \"2015-10-09T00:00:00\", \"2015-10-12T00:00:00\", \"2015-10-13T00:00:00\", \"2015-10-14T00:00:00\", \"2015-10-15T00:00:00\", \"2015-10-16T00:00:00\", \"2015-10-19T00:00:00\", \"2015-10-20T00:00:00\", \"2015-10-21T00:00:00\", \"2015-10-22T00:00:00\", \"2015-10-23T00:00:00\", \"2015-10-26T00:00:00\", \"2015-10-27T00:00:00\", \"2015-10-28T00:00:00\", \"2015-10-29T00:00:00\", \"2015-10-30T00:00:00\", \"2015-11-02T00:00:00\", \"2015-11-03T00:00:00\", \"2015-11-04T00:00:00\", \"2015-11-05T00:00:00\", \"2015-11-06T00:00:00\", \"2015-11-09T00:00:00\", \"2015-11-10T00:00:00\", \"2015-11-11T00:00:00\", \"2015-11-12T00:00:00\", \"2015-11-13T00:00:00\", \"2015-11-16T00:00:00\", \"2015-11-17T00:00:00\", \"2015-11-18T00:00:00\", \"2015-11-19T00:00:00\", \"2015-11-20T00:00:00\", \"2015-11-23T00:00:00\", \"2015-11-24T00:00:00\", \"2015-11-25T00:00:00\", \"2015-11-27T00:00:00\", \"2015-11-30T00:00:00\", \"2015-12-01T00:00:00\", \"2015-12-02T00:00:00\", \"2015-12-03T00:00:00\", \"2015-12-04T00:00:00\", \"2015-12-07T00:00:00\", \"2015-12-08T00:00:00\", \"2015-12-09T00:00:00\", \"2015-12-10T00:00:00\", \"2015-12-11T00:00:00\", \"2015-12-14T00:00:00\", \"2015-12-15T00:00:00\", \"2015-12-16T00:00:00\", \"2015-12-17T00:00:00\", \"2015-12-18T00:00:00\", \"2015-12-21T00:00:00\", \"2015-12-22T00:00:00\", \"2015-12-23T00:00:00\", \"2015-12-24T00:00:00\", \"2015-12-28T00:00:00\", \"2015-12-29T00:00:00\", \"2015-12-30T00:00:00\", \"2015-12-31T00:00:00\", \"2016-01-04T00:00:00\", \"2016-01-05T00:00:00\", \"2016-01-06T00:00:00\", \"2016-01-07T00:00:00\", \"2016-01-08T00:00:00\", \"2016-01-11T00:00:00\", \"2016-01-12T00:00:00\", \"2016-01-13T00:00:00\", \"2016-01-14T00:00:00\", \"2016-01-15T00:00:00\", \"2016-01-19T00:00:00\", \"2016-01-20T00:00:00\", \"2016-01-21T00:00:00\", \"2016-01-22T00:00:00\", \"2016-01-25T00:00:00\", \"2016-01-26T00:00:00\", \"2016-01-27T00:00:00\", \"2016-01-28T00:00:00\", \"2016-01-29T00:00:00\", \"2016-02-01T00:00:00\", \"2016-02-02T00:00:00\", \"2016-02-03T00:00:00\", \"2016-02-04T00:00:00\", \"2016-02-05T00:00:00\", \"2016-02-08T00:00:00\", \"2016-02-09T00:00:00\", \"2016-02-10T00:00:00\", \"2016-02-11T00:00:00\", \"2016-02-12T00:00:00\", \"2016-02-16T00:00:00\", \"2016-02-17T00:00:00\", \"2016-02-18T00:00:00\", \"2016-02-19T00:00:00\", \"2016-02-22T00:00:00\", \"2016-02-23T00:00:00\", \"2016-02-24T00:00:00\", \"2016-02-25T00:00:00\", \"2016-02-26T00:00:00\", \"2016-02-29T00:00:00\", \"2016-03-01T00:00:00\", \"2016-03-02T00:00:00\", \"2016-03-03T00:00:00\", \"2016-03-04T00:00:00\", \"2016-03-07T00:00:00\", \"2016-03-08T00:00:00\", \"2016-03-09T00:00:00\", \"2016-03-10T00:00:00\", \"2016-03-11T00:00:00\", \"2016-03-14T00:00:00\", \"2016-03-15T00:00:00\", \"2016-03-16T00:00:00\", \"2016-03-17T00:00:00\", \"2016-03-18T00:00:00\", \"2016-03-21T00:00:00\", \"2016-03-22T00:00:00\", \"2016-03-23T00:00:00\", \"2016-03-24T00:00:00\", \"2016-03-28T00:00:00\", \"2016-03-29T00:00:00\", \"2016-03-30T00:00:00\", \"2016-03-31T00:00:00\", \"2016-04-01T00:00:00\", \"2016-04-04T00:00:00\", \"2016-04-05T00:00:00\", \"2016-04-06T00:00:00\", \"2016-04-07T00:00:00\", \"2016-04-08T00:00:00\", \"2016-04-11T00:00:00\", \"2016-04-12T00:00:00\", \"2016-04-13T00:00:00\", \"2016-04-14T00:00:00\", \"2016-04-15T00:00:00\", \"2016-04-18T00:00:00\", \"2016-04-19T00:00:00\", \"2016-04-20T00:00:00\", \"2016-04-21T00:00:00\", \"2016-04-22T00:00:00\", \"2016-04-25T00:00:00\", \"2016-04-26T00:00:00\", \"2016-04-27T00:00:00\", \"2016-04-28T00:00:00\", \"2016-04-29T00:00:00\", \"2016-05-02T00:00:00\", \"2016-05-03T00:00:00\", \"2016-05-04T00:00:00\", \"2016-05-05T00:00:00\", \"2016-05-06T00:00:00\", \"2016-05-09T00:00:00\", \"2016-05-10T00:00:00\", \"2016-05-11T00:00:00\", \"2016-05-12T00:00:00\", \"2016-05-13T00:00:00\", \"2016-05-16T00:00:00\", \"2016-05-17T00:00:00\", \"2016-05-18T00:00:00\", \"2016-05-19T00:00:00\", \"2016-05-20T00:00:00\", \"2016-05-23T00:00:00\", \"2016-05-24T00:00:00\", \"2016-05-25T00:00:00\", \"2016-05-26T00:00:00\", \"2016-05-27T00:00:00\", \"2016-05-31T00:00:00\", \"2016-06-01T00:00:00\", \"2016-06-02T00:00:00\", \"2016-06-03T00:00:00\", \"2016-06-06T00:00:00\", \"2016-06-07T00:00:00\", \"2016-06-08T00:00:00\", \"2016-06-09T00:00:00\", \"2016-06-10T00:00:00\", \"2016-06-13T00:00:00\", \"2016-06-14T00:00:00\", \"2016-06-15T00:00:00\", \"2016-06-16T00:00:00\", \"2016-06-17T00:00:00\", \"2016-06-20T00:00:00\", \"2016-06-21T00:00:00\", \"2016-06-22T00:00:00\", \"2016-06-23T00:00:00\", \"2016-06-24T00:00:00\", \"2016-06-27T00:00:00\", \"2016-06-28T00:00:00\", \"2016-06-29T00:00:00\", \"2016-06-30T00:00:00\", \"2016-07-01T00:00:00\", \"2016-07-05T00:00:00\", \"2016-07-06T00:00:00\", \"2016-07-07T00:00:00\", \"2016-07-08T00:00:00\", \"2016-07-11T00:00:00\", \"2016-07-12T00:00:00\", \"2016-07-13T00:00:00\", \"2016-07-14T00:00:00\", \"2016-07-15T00:00:00\", \"2016-07-18T00:00:00\", \"2016-07-19T00:00:00\", \"2016-07-20T00:00:00\", \"2016-07-21T00:00:00\", \"2016-07-22T00:00:00\", \"2016-07-25T00:00:00\", \"2016-07-26T00:00:00\", \"2016-07-27T00:00:00\", \"2016-07-28T00:00:00\", \"2016-07-29T00:00:00\", \"2016-08-01T00:00:00\", \"2016-08-02T00:00:00\", \"2016-08-03T00:00:00\", \"2016-08-04T00:00:00\", \"2016-08-05T00:00:00\", \"2016-08-08T00:00:00\", \"2016-08-09T00:00:00\", \"2016-08-10T00:00:00\", \"2016-08-11T00:00:00\", \"2016-08-12T00:00:00\", \"2016-08-15T00:00:00\", \"2016-08-16T00:00:00\", \"2016-08-17T00:00:00\", \"2016-08-18T00:00:00\", \"2016-08-19T00:00:00\", \"2016-08-22T00:00:00\", \"2016-08-23T00:00:00\", \"2016-08-24T00:00:00\", \"2016-08-25T00:00:00\", \"2016-08-26T00:00:00\", \"2016-08-29T00:00:00\", \"2016-08-30T00:00:00\", \"2016-08-31T00:00:00\", \"2016-09-01T00:00:00\", \"2016-09-02T00:00:00\", \"2016-09-06T00:00:00\", \"2016-09-07T00:00:00\", \"2016-09-08T00:00:00\", \"2016-09-09T00:00:00\", \"2016-09-12T00:00:00\", \"2016-09-13T00:00:00\", \"2016-09-14T00:00:00\", \"2016-09-15T00:00:00\", \"2016-09-16T00:00:00\", \"2016-09-19T00:00:00\", \"2016-09-20T00:00:00\", \"2016-09-21T00:00:00\", \"2016-09-22T00:00:00\", \"2016-09-23T00:00:00\", \"2016-09-26T00:00:00\", \"2016-09-27T00:00:00\", \"2016-09-28T00:00:00\", \"2016-09-29T00:00:00\", \"2016-09-30T00:00:00\", \"2016-10-03T00:00:00\", \"2016-10-04T00:00:00\", \"2016-10-05T00:00:00\", \"2016-10-06T00:00:00\", \"2016-10-07T00:00:00\", \"2016-10-10T00:00:00\", \"2016-10-11T00:00:00\", \"2016-10-12T00:00:00\", \"2016-10-13T00:00:00\", \"2016-10-14T00:00:00\", \"2016-10-17T00:00:00\", \"2016-10-18T00:00:00\", \"2016-10-19T00:00:00\", \"2016-10-20T00:00:00\", \"2016-10-21T00:00:00\", \"2016-10-24T00:00:00\", \"2016-10-25T00:00:00\", \"2016-10-26T00:00:00\", \"2016-10-27T00:00:00\", \"2016-10-28T00:00:00\", \"2016-10-31T00:00:00\", \"2016-11-01T00:00:00\", \"2016-11-02T00:00:00\", \"2016-11-03T00:00:00\", \"2016-11-04T00:00:00\", \"2016-11-07T00:00:00\", \"2016-11-08T00:00:00\", \"2016-11-09T00:00:00\", \"2016-11-10T00:00:00\", \"2016-11-11T00:00:00\", \"2016-11-14T00:00:00\", \"2016-11-15T00:00:00\", \"2016-11-16T00:00:00\", \"2016-11-17T00:00:00\", \"2016-11-18T00:00:00\", \"2016-11-21T00:00:00\", \"2016-11-22T00:00:00\", \"2016-11-23T00:00:00\", \"2016-11-25T00:00:00\", \"2016-11-28T00:00:00\", \"2016-11-29T00:00:00\", \"2016-11-30T00:00:00\", \"2016-12-01T00:00:00\", \"2016-12-02T00:00:00\", \"2016-12-05T00:00:00\", \"2016-12-06T00:00:00\", \"2016-12-07T00:00:00\", \"2016-12-08T00:00:00\", \"2016-12-09T00:00:00\", \"2016-12-12T00:00:00\", \"2016-12-13T00:00:00\", \"2016-12-14T00:00:00\", \"2016-12-15T00:00:00\", \"2016-12-16T00:00:00\", \"2016-12-19T00:00:00\", \"2016-12-20T00:00:00\", \"2016-12-21T00:00:00\", \"2016-12-22T00:00:00\", \"2016-12-23T00:00:00\", \"2016-12-27T00:00:00\", \"2016-12-28T00:00:00\", \"2016-12-29T00:00:00\", \"2016-12-30T00:00:00\", \"2017-01-03T00:00:00\", \"2017-01-04T00:00:00\", \"2017-01-05T00:00:00\", \"2017-01-06T00:00:00\", \"2017-01-09T00:00:00\", \"2017-01-10T00:00:00\", \"2017-01-11T00:00:00\", \"2017-01-12T00:00:00\", \"2017-01-13T00:00:00\", \"2017-01-17T00:00:00\", \"2017-01-18T00:00:00\", \"2017-01-19T00:00:00\", \"2017-01-20T00:00:00\", \"2017-01-23T00:00:00\", \"2017-01-24T00:00:00\", \"2017-01-25T00:00:00\", \"2017-01-26T00:00:00\", \"2017-01-27T00:00:00\", \"2017-01-30T00:00:00\", \"2017-01-31T00:00:00\", \"2017-02-01T00:00:00\", \"2017-02-02T00:00:00\", \"2017-02-03T00:00:00\", \"2017-02-06T00:00:00\", \"2017-02-07T00:00:00\", \"2017-02-08T00:00:00\", \"2017-02-09T00:00:00\", \"2017-02-10T00:00:00\", \"2017-02-13T00:00:00\", \"2017-02-14T00:00:00\", \"2017-02-15T00:00:00\", \"2017-02-16T00:00:00\", \"2017-02-17T00:00:00\", \"2017-02-21T00:00:00\", \"2017-02-22T00:00:00\", \"2017-02-23T00:00:00\", \"2017-02-24T00:00:00\", \"2017-02-27T00:00:00\", \"2017-02-28T00:00:00\", \"2017-03-01T00:00:00\", \"2017-03-02T00:00:00\", \"2017-03-03T00:00:00\", \"2017-03-06T00:00:00\", \"2017-03-07T00:00:00\", \"2017-03-08T00:00:00\", \"2017-03-09T00:00:00\", \"2017-03-10T00:00:00\", \"2017-03-13T00:00:00\", \"2017-03-14T00:00:00\", \"2017-03-15T00:00:00\", \"2017-03-16T00:00:00\", \"2017-03-17T00:00:00\", \"2017-03-20T00:00:00\", \"2017-03-21T00:00:00\", \"2017-03-22T00:00:00\", \"2017-03-23T00:00:00\", \"2017-03-24T00:00:00\", \"2017-03-27T00:00:00\", \"2017-03-28T00:00:00\", \"2017-03-29T00:00:00\", \"2017-03-30T00:00:00\", \"2017-03-31T00:00:00\", \"2017-04-03T00:00:00\", \"2017-04-04T00:00:00\", \"2017-04-05T00:00:00\", \"2017-04-06T00:00:00\", \"2017-04-07T00:00:00\", \"2017-04-10T00:00:00\", \"2017-04-11T00:00:00\", \"2017-04-12T00:00:00\", \"2017-04-13T00:00:00\", \"2017-04-17T00:00:00\", \"2017-04-18T00:00:00\", \"2017-04-19T00:00:00\", \"2017-04-20T00:00:00\", \"2017-04-21T00:00:00\", \"2017-04-24T00:00:00\", \"2017-04-25T00:00:00\", \"2017-04-26T00:00:00\", \"2017-04-27T00:00:00\", \"2017-04-28T00:00:00\", \"2017-05-01T00:00:00\", \"2017-05-02T00:00:00\", \"2017-05-03T00:00:00\", \"2017-05-04T00:00:00\", \"2017-05-05T00:00:00\", \"2017-05-08T00:00:00\", \"2017-05-09T00:00:00\", \"2017-05-10T00:00:00\", \"2017-05-11T00:00:00\", \"2017-05-12T00:00:00\", \"2017-05-15T00:00:00\", \"2017-05-16T00:00:00\", \"2017-05-17T00:00:00\", \"2017-05-18T00:00:00\", \"2017-05-19T00:00:00\", \"2017-05-22T00:00:00\", \"2017-05-23T00:00:00\", \"2017-05-24T00:00:00\", \"2017-05-25T00:00:00\", \"2017-05-26T00:00:00\", \"2017-05-30T00:00:00\", \"2017-05-31T00:00:00\", \"2017-06-01T00:00:00\", \"2017-06-02T00:00:00\", \"2017-06-05T00:00:00\", \"2017-06-06T00:00:00\", \"2017-06-07T00:00:00\", \"2017-06-08T00:00:00\", \"2017-06-09T00:00:00\", \"2017-06-12T00:00:00\", \"2017-06-13T00:00:00\", \"2017-06-14T00:00:00\", \"2017-06-15T00:00:00\", \"2017-06-16T00:00:00\", \"2017-06-19T00:00:00\", \"2017-06-20T00:00:00\", \"2017-06-21T00:00:00\", \"2017-06-22T00:00:00\", \"2017-06-23T00:00:00\", \"2017-06-26T00:00:00\", \"2017-06-27T00:00:00\", \"2017-06-28T00:00:00\", \"2017-06-29T00:00:00\", \"2017-06-30T00:00:00\", \"2017-07-03T00:00:00\", \"2017-07-05T00:00:00\", \"2017-07-06T00:00:00\", \"2017-07-07T00:00:00\", \"2017-07-10T00:00:00\", \"2017-07-11T00:00:00\", \"2017-07-12T00:00:00\", \"2017-07-13T00:00:00\", \"2017-07-14T00:00:00\", \"2017-07-17T00:00:00\", \"2017-07-18T00:00:00\", \"2017-07-19T00:00:00\", \"2017-07-20T00:00:00\", \"2017-07-21T00:00:00\", \"2017-07-24T00:00:00\", \"2017-07-25T00:00:00\", \"2017-07-26T00:00:00\", \"2017-07-27T00:00:00\", \"2017-07-28T00:00:00\", \"2017-07-31T00:00:00\", \"2017-08-01T00:00:00\", \"2017-08-02T00:00:00\", \"2017-08-03T00:00:00\", \"2017-08-04T00:00:00\", \"2017-08-07T00:00:00\", \"2017-08-08T00:00:00\", \"2017-08-09T00:00:00\", \"2017-08-10T00:00:00\", \"2017-08-11T00:00:00\", \"2017-08-14T00:00:00\", \"2017-08-15T00:00:00\", \"2017-08-16T00:00:00\", \"2017-08-17T00:00:00\", \"2017-08-18T00:00:00\", \"2017-08-21T00:00:00\", \"2017-08-22T00:00:00\", \"2017-08-23T00:00:00\", \"2017-08-24T00:00:00\", \"2017-08-25T00:00:00\", \"2017-08-28T00:00:00\", \"2017-08-29T00:00:00\", \"2017-08-30T00:00:00\", \"2017-08-31T00:00:00\", \"2017-09-01T00:00:00\", \"2017-09-05T00:00:00\", \"2017-09-06T00:00:00\", \"2017-09-07T00:00:00\", \"2017-09-08T00:00:00\", \"2017-09-11T00:00:00\", \"2017-09-12T00:00:00\", \"2017-09-13T00:00:00\", \"2017-09-14T00:00:00\", \"2017-09-15T00:00:00\", \"2017-09-18T00:00:00\", \"2017-09-19T00:00:00\", \"2017-09-20T00:00:00\", \"2017-09-21T00:00:00\", \"2017-09-22T00:00:00\", \"2017-09-25T00:00:00\", \"2017-09-26T00:00:00\", \"2017-09-27T00:00:00\", \"2017-09-28T00:00:00\", \"2017-09-29T00:00:00\", \"2017-10-02T00:00:00\", \"2017-10-03T00:00:00\", \"2017-10-04T00:00:00\", \"2017-10-05T00:00:00\", \"2017-10-06T00:00:00\", \"2017-10-09T00:00:00\", \"2017-10-10T00:00:00\", \"2017-10-11T00:00:00\", \"2017-10-12T00:00:00\", \"2017-10-13T00:00:00\", \"2017-10-16T00:00:00\", \"2017-10-17T00:00:00\", \"2017-10-18T00:00:00\", \"2017-10-19T00:00:00\", \"2017-10-20T00:00:00\", \"2017-10-23T00:00:00\", \"2017-10-24T00:00:00\", \"2017-10-25T00:00:00\", \"2017-10-26T00:00:00\", \"2017-10-27T00:00:00\", \"2017-10-30T00:00:00\", \"2017-10-31T00:00:00\", \"2017-11-01T00:00:00\", \"2017-11-02T00:00:00\", \"2017-11-03T00:00:00\", \"2017-11-06T00:00:00\", \"2017-11-07T00:00:00\", \"2017-11-08T00:00:00\", \"2017-11-09T00:00:00\", \"2017-11-10T00:00:00\", \"2017-11-13T00:00:00\", \"2017-11-14T00:00:00\", \"2017-11-15T00:00:00\", \"2017-11-16T00:00:00\", \"2017-11-17T00:00:00\", \"2017-11-20T00:00:00\", \"2017-11-21T00:00:00\", \"2017-11-22T00:00:00\", \"2017-11-24T00:00:00\", \"2017-11-27T00:00:00\", \"2017-11-28T00:00:00\", \"2017-11-29T00:00:00\", \"2017-11-30T00:00:00\", \"2017-12-01T00:00:00\", \"2017-12-04T00:00:00\", \"2017-12-05T00:00:00\", \"2017-12-06T00:00:00\", \"2017-12-07T00:00:00\", \"2017-12-08T00:00:00\", \"2017-12-11T00:00:00\", \"2017-12-12T00:00:00\", \"2017-12-13T00:00:00\", \"2017-12-14T00:00:00\", \"2017-12-15T00:00:00\", \"2017-12-18T00:00:00\", \"2017-12-19T00:00:00\", \"2017-12-20T00:00:00\", \"2017-12-21T00:00:00\", \"2017-12-22T00:00:00\", \"2017-12-26T00:00:00\", \"2017-12-27T00:00:00\", \"2017-12-28T00:00:00\", \"2017-12-29T00:00:00\", \"2018-01-02T00:00:00\", \"2018-01-03T00:00:00\", \"2018-01-04T00:00:00\", \"2018-01-05T00:00:00\", \"2018-01-08T00:00:00\", \"2018-01-09T00:00:00\", \"2018-01-10T00:00:00\", \"2018-01-11T00:00:00\", \"2018-01-12T00:00:00\", \"2018-01-16T00:00:00\", \"2018-01-17T00:00:00\", \"2018-01-18T00:00:00\", \"2018-01-19T00:00:00\", \"2018-01-22T00:00:00\", \"2018-01-23T00:00:00\", \"2018-01-24T00:00:00\", \"2018-01-25T00:00:00\", \"2018-01-26T00:00:00\", \"2018-01-29T00:00:00\", \"2018-01-30T00:00:00\", \"2018-01-31T00:00:00\", \"2018-02-01T00:00:00\", \"2018-02-02T00:00:00\", \"2018-02-05T00:00:00\", \"2018-02-06T00:00:00\", \"2018-02-07T00:00:00\"]}],                        {\"annotations\": [{\"showarrow\": false, \"text\": \"\", \"x\": \"2017-01-20\", \"xanchor\": \"left\", \"xref\": \"x\", \"y\": 0.05, \"yref\": \"paper\"}], \"shapes\": [{\"line\": {\"color\": \"rgb(30,30,30)\", \"width\": 1}, \"x0\": \"2016-12-09\", \"x1\": \"2016-12-09\", \"xref\": \"x\", \"y0\": 0, \"y1\": 1, \"yref\": \"paper\"}], \"template\": {\"data\": {\"bar\": [{\"error_x\": {\"color\": \"#2a3f5f\"}, \"error_y\": {\"color\": \"#2a3f5f\"}, \"marker\": {\"line\": {\"color\": \"#E5ECF6\", \"width\": 0.5}}, \"type\": \"bar\"}], \"barpolar\": [{\"marker\": {\"line\": {\"color\": \"#E5ECF6\", \"width\": 0.5}}, \"type\": \"barpolar\"}], \"carpet\": [{\"aaxis\": {\"endlinecolor\": \"#2a3f5f\", \"gridcolor\": \"white\", \"linecolor\": \"white\", \"minorgridcolor\": \"white\", \"startlinecolor\": \"#2a3f5f\"}, \"baxis\": {\"endlinecolor\": \"#2a3f5f\", \"gridcolor\": \"white\", \"linecolor\": \"white\", \"minorgridcolor\": \"white\", \"startlinecolor\": \"#2a3f5f\"}, \"type\": \"carpet\"}], \"choropleth\": [{\"colorbar\": {\"outlinewidth\": 0, \"ticks\": \"\"}, \"type\": \"choropleth\"}], \"contour\": [{\"colorbar\": {\"outlinewidth\": 0, \"ticks\": \"\"}, \"colorscale\": [[0.0, \"#0d0887\"], [0.1111111111111111, \"#46039f\"], [0.2222222222222222, \"#7201a8\"], [0.3333333333333333, \"#9c179e\"], [0.4444444444444444, \"#bd3786\"], [0.5555555555555556, \"#d8576b\"], [0.6666666666666666, \"#ed7953\"], [0.7777777777777778, \"#fb9f3a\"], [0.8888888888888888, \"#fdca26\"], [1.0, \"#f0f921\"]], \"type\": \"contour\"}], \"contourcarpet\": [{\"colorbar\": {\"outlinewidth\": 0, \"ticks\": \"\"}, \"type\": \"contourcarpet\"}], \"heatmap\": [{\"colorbar\": {\"outlinewidth\": 0, \"ticks\": \"\"}, \"colorscale\": [[0.0, \"#0d0887\"], [0.1111111111111111, \"#46039f\"], [0.2222222222222222, \"#7201a8\"], [0.3333333333333333, \"#9c179e\"], [0.4444444444444444, \"#bd3786\"], [0.5555555555555556, \"#d8576b\"], [0.6666666666666666, \"#ed7953\"], [0.7777777777777778, \"#fb9f3a\"], [0.8888888888888888, \"#fdca26\"], [1.0, \"#f0f921\"]], \"type\": \"heatmap\"}], \"heatmapgl\": [{\"colorbar\": {\"outlinewidth\": 0, \"ticks\": \"\"}, \"colorscale\": [[0.0, \"#0d0887\"], [0.1111111111111111, \"#46039f\"], [0.2222222222222222, \"#7201a8\"], [0.3333333333333333, \"#9c179e\"], [0.4444444444444444, \"#bd3786\"], [0.5555555555555556, \"#d8576b\"], [0.6666666666666666, \"#ed7953\"], [0.7777777777777778, \"#fb9f3a\"], [0.8888888888888888, \"#fdca26\"], [1.0, \"#f0f921\"]], \"type\": \"heatmapgl\"}], \"histogram\": [{\"marker\": {\"colorbar\": {\"outlinewidth\": 0, \"ticks\": \"\"}}, \"type\": \"histogram\"}], \"histogram2d\": [{\"colorbar\": {\"outlinewidth\": 0, \"ticks\": \"\"}, \"colorscale\": [[0.0, \"#0d0887\"], [0.1111111111111111, \"#46039f\"], [0.2222222222222222, \"#7201a8\"], [0.3333333333333333, \"#9c179e\"], [0.4444444444444444, \"#bd3786\"], [0.5555555555555556, \"#d8576b\"], [0.6666666666666666, \"#ed7953\"], [0.7777777777777778, \"#fb9f3a\"], [0.8888888888888888, \"#fdca26\"], [1.0, \"#f0f921\"]], \"type\": \"histogram2d\"}], \"histogram2dcontour\": [{\"colorbar\": {\"outlinewidth\": 0, \"ticks\": \"\"}, \"colorscale\": [[0.0, \"#0d0887\"], [0.1111111111111111, \"#46039f\"], [0.2222222222222222, \"#7201a8\"], [0.3333333333333333, \"#9c179e\"], [0.4444444444444444, \"#bd3786\"], [0.5555555555555556, \"#d8576b\"], [0.6666666666666666, \"#ed7953\"], [0.7777777777777778, \"#fb9f3a\"], [0.8888888888888888, \"#fdca26\"], [1.0, \"#f0f921\"]], \"type\": \"histogram2dcontour\"}], \"mesh3d\": [{\"colorbar\": {\"outlinewidth\": 0, \"ticks\": \"\"}, \"type\": \"mesh3d\"}], \"parcoords\": [{\"line\": {\"colorbar\": {\"outlinewidth\": 0, \"ticks\": \"\"}}, \"type\": \"parcoords\"}], \"pie\": [{\"automargin\": true, \"type\": \"pie\"}], \"scatter\": [{\"marker\": {\"colorbar\": {\"outlinewidth\": 0, \"ticks\": \"\"}}, \"type\": \"scatter\"}], \"scatter3d\": [{\"line\": {\"colorbar\": {\"outlinewidth\": 0, \"ticks\": \"\"}}, \"marker\": {\"colorbar\": {\"outlinewidth\": 0, \"ticks\": \"\"}}, \"type\": \"scatter3d\"}], \"scattercarpet\": [{\"marker\": {\"colorbar\": {\"outlinewidth\": 0, \"ticks\": \"\"}}, \"type\": \"scattercarpet\"}], \"scattergeo\": [{\"marker\": {\"colorbar\": {\"outlinewidth\": 0, \"ticks\": \"\"}}, \"type\": \"scattergeo\"}], \"scattergl\": [{\"marker\": {\"colorbar\": {\"outlinewidth\": 0, \"ticks\": \"\"}}, \"type\": \"scattergl\"}], \"scattermapbox\": [{\"marker\": {\"colorbar\": {\"outlinewidth\": 0, \"ticks\": \"\"}}, \"type\": \"scattermapbox\"}], \"scatterpolar\": [{\"marker\": {\"colorbar\": {\"outlinewidth\": 0, \"ticks\": \"\"}}, \"type\": \"scatterpolar\"}], \"scatterpolargl\": [{\"marker\": {\"colorbar\": {\"outlinewidth\": 0, \"ticks\": \"\"}}, \"type\": \"scatterpolargl\"}], \"scatterternary\": [{\"marker\": {\"colorbar\": {\"outlinewidth\": 0, \"ticks\": \"\"}}, \"type\": \"scatterternary\"}], \"surface\": [{\"colorbar\": {\"outlinewidth\": 0, \"ticks\": \"\"}, \"colorscale\": [[0.0, \"#0d0887\"], [0.1111111111111111, \"#46039f\"], [0.2222222222222222, \"#7201a8\"], [0.3333333333333333, \"#9c179e\"], [0.4444444444444444, \"#bd3786\"], [0.5555555555555556, \"#d8576b\"], [0.6666666666666666, \"#ed7953\"], [0.7777777777777778, \"#fb9f3a\"], [0.8888888888888888, \"#fdca26\"], [1.0, \"#f0f921\"]], \"type\": \"surface\"}], \"table\": [{\"cells\": {\"fill\": {\"color\": \"#EBF0F8\"}, \"line\": {\"color\": \"white\"}}, \"header\": {\"fill\": {\"color\": \"#C8D4E3\"}, \"line\": {\"color\": \"white\"}}, \"type\": \"table\"}]}, \"layout\": {\"annotationdefaults\": {\"arrowcolor\": \"#2a3f5f\", \"arrowhead\": 0, \"arrowwidth\": 1}, \"coloraxis\": {\"colorbar\": {\"outlinewidth\": 0, \"ticks\": \"\"}}, \"colorscale\": {\"diverging\": [[0, \"#8e0152\"], [0.1, \"#c51b7d\"], [0.2, \"#de77ae\"], [0.3, \"#f1b6da\"], [0.4, \"#fde0ef\"], [0.5, \"#f7f7f7\"], [0.6, \"#e6f5d0\"], [0.7, \"#b8e186\"], [0.8, \"#7fbc41\"], [0.9, \"#4d9221\"], [1, \"#276419\"]], \"sequential\": [[0.0, \"#0d0887\"], [0.1111111111111111, \"#46039f\"], [0.2222222222222222, \"#7201a8\"], [0.3333333333333333, \"#9c179e\"], [0.4444444444444444, \"#bd3786\"], [0.5555555555555556, \"#d8576b\"], [0.6666666666666666, \"#ed7953\"], [0.7777777777777778, \"#fb9f3a\"], [0.8888888888888888, \"#fdca26\"], [1.0, \"#f0f921\"]], \"sequentialminus\": [[0.0, \"#0d0887\"], [0.1111111111111111, \"#46039f\"], [0.2222222222222222, \"#7201a8\"], [0.3333333333333333, \"#9c179e\"], [0.4444444444444444, \"#bd3786\"], [0.5555555555555556, \"#d8576b\"], [0.6666666666666666, \"#ed7953\"], [0.7777777777777778, \"#fb9f3a\"], [0.8888888888888888, \"#fdca26\"], [1.0, \"#f0f921\"]]}, \"colorway\": [\"#636efa\", \"#EF553B\", \"#00cc96\", \"#ab63fa\", \"#FFA15A\", \"#19d3f3\", \"#FF6692\", \"#B6E880\", \"#FF97FF\", \"#FECB52\"], \"font\": {\"color\": \"#2a3f5f\"}, \"geo\": {\"bgcolor\": \"white\", \"lakecolor\": \"white\", \"landcolor\": \"#E5ECF6\", \"showlakes\": true, \"showland\": true, \"subunitcolor\": \"white\"}, \"hoverlabel\": {\"align\": \"left\"}, \"hovermode\": \"closest\", \"mapbox\": {\"style\": \"light\"}, \"paper_bgcolor\": \"white\", \"plot_bgcolor\": \"#E5ECF6\", \"polar\": {\"angularaxis\": {\"gridcolor\": \"white\", \"linecolor\": \"white\", \"ticks\": \"\"}, \"bgcolor\": \"#E5ECF6\", \"radialaxis\": {\"gridcolor\": \"white\", \"linecolor\": \"white\", \"ticks\": \"\"}}, \"scene\": {\"xaxis\": {\"backgroundcolor\": \"#E5ECF6\", \"gridcolor\": \"white\", \"gridwidth\": 2, \"linecolor\": \"white\", \"showbackground\": true, \"ticks\": \"\", \"zerolinecolor\": \"white\"}, \"yaxis\": {\"backgroundcolor\": \"#E5ECF6\", \"gridcolor\": \"white\", \"gridwidth\": 2, \"linecolor\": \"white\", \"showbackground\": true, \"ticks\": \"\", \"zerolinecolor\": \"white\"}, \"zaxis\": {\"backgroundcolor\": \"#E5ECF6\", \"gridcolor\": \"white\", \"gridwidth\": 2, \"linecolor\": \"white\", \"showbackground\": true, \"ticks\": \"\", \"zerolinecolor\": \"white\"}}, \"shapedefaults\": {\"line\": {\"color\": \"#2a3f5f\"}}, \"ternary\": {\"aaxis\": {\"gridcolor\": \"white\", \"linecolor\": \"white\", \"ticks\": \"\"}, \"baxis\": {\"gridcolor\": \"white\", \"linecolor\": \"white\", \"ticks\": \"\"}, \"bgcolor\": \"#E5ECF6\", \"caxis\": {\"gridcolor\": \"white\", \"linecolor\": \"white\", \"ticks\": \"\"}}, \"title\": {\"x\": 0.05}, \"xaxis\": {\"automargin\": true, \"gridcolor\": \"white\", \"linecolor\": \"white\", \"ticks\": \"\", \"title\": {\"standoff\": 15}, \"zerolinecolor\": \"white\", \"zerolinewidth\": 2}, \"yaxis\": {\"automargin\": true, \"gridcolor\": \"white\", \"linecolor\": \"white\", \"ticks\": \"\", \"title\": {\"standoff\": 15}, \"zerolinecolor\": \"white\", \"zerolinewidth\": 2}}}, \"title\": {\"text\": \"Amazon Historical Price\"}, \"xaxis\": {\"rangeslider\": {\"visible\": false}, \"title\": {\"text\": \"Date\"}}, \"yaxis\": {\"title\": {\"text\": \"Stock Price (USD$)\"}}},                        {\"responsive\": true}                    ).then(function(){\n",
       "                            \n",
       "var gd = document.getElementById('002fa3cd-4b35-49e3-95cd-1d04cb7ea6af');\n",
       "var x = new MutationObserver(function (mutations, observer) {{\n",
       "        var display = window.getComputedStyle(gd).display;\n",
       "        if (!display || display === 'none') {{\n",
       "            console.log([gd, 'removed!']);\n",
       "            Plotly.purge(gd);\n",
       "            observer.disconnect();\n",
       "        }}\n",
       "}});\n",
       "\n",
       "// Listen for the removal of the full notebook cells\n",
       "var notebookContainer = gd.closest('#notebook-container');\n",
       "if (notebookContainer) {{\n",
       "    x.observe(notebookContainer, {childList: true});\n",
       "}}\n",
       "\n",
       "// Listen for the clearing of the current output cell\n",
       "var outputEl = gd.closest('.output');\n",
       "if (outputEl) {{\n",
       "    x.observe(outputEl, {childList: true});\n",
       "}}\n",
       "\n",
       "                        })                };                });            </script>        </div>"
      ]
     },
     "metadata": {},
     "output_type": "display_data"
    }
   ],
   "source": [
    "trace = go.Ohlc(x=amzn['date'],\n",
    "                open=amzn['open'],\n",
    "                high=amzn['high'],\n",
    "                low=amzn['low'],\n",
    "                close=amzn['close'],\n",
    "               increasing=dict(line=dict(color= '#58FA58')),\n",
    "                decreasing=dict(line=dict(color= '#FA5858')))\n",
    "\n",
    "layout = {\n",
    "    'title': 'Amazon Historical Price',\n",
    "    'xaxis': {'title': 'Date',\n",
    "             'rangeslider': {'visible': False}},\n",
    "    'yaxis': {'title': 'Stock Price (USD$)'},\n",
    "    'shapes': [{\n",
    "        'x0': '2016-12-09', 'x1': '2016-12-09',\n",
    "        'y0': 0, 'y1': 1, 'xref': 'x', 'yref': 'paper',\n",
    "        'line': {'color': 'rgb(30,30,30)', 'width': 1}\n",
    "    }],\n",
    "    'annotations': [{\n",
    "        'x': '2017-01-20', 'y': 0.05, 'xref': 'x', 'yref': 'paper',\n",
    "        'showarrow': False, 'xanchor': 'left',\n",
    "          'text': ''\n",
    "    }]\n",
    "}\n",
    "\n",
    "data = [trace]\n",
    "\n",
    "fig = go.Figure(data=data, layout=layout)\n",
    "iplot(fig, filename='simple_ohlc')"
   ]
  },
  {
   "cell_type": "code",
   "execution_count": 21,
   "metadata": {},
   "outputs": [
    {
     "data": {
      "application/vnd.plotly.v1+json": {
       "config": {
        "linkText": "Export to plot.ly",
        "plotlyServerURL": "https://plot.ly",
        "showLink": false
       },
       "data": [
        {
         "close": [
          1189.01,
          1204.2,
          1209.59,
          1229.14,
          1246.87,
          1252.7,
          1254.33,
          1276.68,
          1305.2,
          1304.86,
          1295,
          1293.32,
          1294.58,
          1327.31,
          1362.54,
          1357.51,
          1377.95,
          1402.05,
          1417.68,
          1437.82,
          1450.89,
          1390,
          1429.95,
          1390,
          1442.84,
          1416.78
         ],
         "decreasing": {
          "line": {
           "color": "#FA5858"
          }
         },
         "high": [
          1190,
          1205.49,
          1215.87,
          1229.14,
          1253.08,
          1259.33,
          1254.33,
          1276.77,
          1305.76,
          1339.94,
          1314,
          1304.6,
          1313,
          1327.45,
          1364.9,
          1388.16,
          1378.34,
          1402.53,
          1431.39,
          1439.25,
          1472.58,
          1459.88,
          1498,
          1458.98,
          1443.99,
          1460.99
         ],
         "increasing": {
          "line": {
           "color": "#58FA58"
          }
         },
         "low": [
          1170.51,
          1188.3,
          1204.66,
          1210,
          1232.03,
          1241.76,
          1237.23,
          1256.46,
          1273.39,
          1292.3,
          1280.88,
          1284.02,
          1292.99,
          1296.66,
          1337.34,
          1338,
          1357.62,
          1380.91,
          1400.44,
          1392,
          1450.04,
          1385.14,
          1414,
          1320.72,
          1351.79,
          1415.15
         ],
         "open": [
          1172,
          1188.3,
          1205,
          1217.51,
          1236,
          1256.9,
          1245.15,
          1259.74,
          1273.39,
          1323,
          1312.24,
          1293.95,
          1312,
          1297.17,
          1338.09,
          1374.82,
          1368,
          1392.01,
          1409.18,
          1403.17,
          1451.3,
          1445,
          1477.39,
          1402.62,
          1361.46,
          1449
         ],
         "type": "candlestick",
         "x": [
          "2018-01-02T00:00:00",
          "2018-01-03T00:00:00",
          "2018-01-04T00:00:00",
          "2018-01-05T00:00:00",
          "2018-01-08T00:00:00",
          "2018-01-09T00:00:00",
          "2018-01-10T00:00:00",
          "2018-01-11T00:00:00",
          "2018-01-12T00:00:00",
          "2018-01-16T00:00:00",
          "2018-01-17T00:00:00",
          "2018-01-18T00:00:00",
          "2018-01-19T00:00:00",
          "2018-01-22T00:00:00",
          "2018-01-23T00:00:00",
          "2018-01-24T00:00:00",
          "2018-01-25T00:00:00",
          "2018-01-26T00:00:00",
          "2018-01-29T00:00:00",
          "2018-01-30T00:00:00",
          "2018-01-31T00:00:00",
          "2018-02-01T00:00:00",
          "2018-02-02T00:00:00",
          "2018-02-05T00:00:00",
          "2018-02-06T00:00:00",
          "2018-02-07T00:00:00"
         ]
        }
       ],
       "layout": {
        "template": {
         "data": {
          "bar": [
           {
            "error_x": {
             "color": "#2a3f5f"
            },
            "error_y": {
             "color": "#2a3f5f"
            },
            "marker": {
             "line": {
              "color": "#E5ECF6",
              "width": 0.5
             }
            },
            "type": "bar"
           }
          ],
          "barpolar": [
           {
            "marker": {
             "line": {
              "color": "#E5ECF6",
              "width": 0.5
             }
            },
            "type": "barpolar"
           }
          ],
          "carpet": [
           {
            "aaxis": {
             "endlinecolor": "#2a3f5f",
             "gridcolor": "white",
             "linecolor": "white",
             "minorgridcolor": "white",
             "startlinecolor": "#2a3f5f"
            },
            "baxis": {
             "endlinecolor": "#2a3f5f",
             "gridcolor": "white",
             "linecolor": "white",
             "minorgridcolor": "white",
             "startlinecolor": "#2a3f5f"
            },
            "type": "carpet"
           }
          ],
          "choropleth": [
           {
            "colorbar": {
             "outlinewidth": 0,
             "ticks": ""
            },
            "type": "choropleth"
           }
          ],
          "contour": [
           {
            "colorbar": {
             "outlinewidth": 0,
             "ticks": ""
            },
            "colorscale": [
             [
              0,
              "#0d0887"
             ],
             [
              0.1111111111111111,
              "#46039f"
             ],
             [
              0.2222222222222222,
              "#7201a8"
             ],
             [
              0.3333333333333333,
              "#9c179e"
             ],
             [
              0.4444444444444444,
              "#bd3786"
             ],
             [
              0.5555555555555556,
              "#d8576b"
             ],
             [
              0.6666666666666666,
              "#ed7953"
             ],
             [
              0.7777777777777778,
              "#fb9f3a"
             ],
             [
              0.8888888888888888,
              "#fdca26"
             ],
             [
              1,
              "#f0f921"
             ]
            ],
            "type": "contour"
           }
          ],
          "contourcarpet": [
           {
            "colorbar": {
             "outlinewidth": 0,
             "ticks": ""
            },
            "type": "contourcarpet"
           }
          ],
          "heatmap": [
           {
            "colorbar": {
             "outlinewidth": 0,
             "ticks": ""
            },
            "colorscale": [
             [
              0,
              "#0d0887"
             ],
             [
              0.1111111111111111,
              "#46039f"
             ],
             [
              0.2222222222222222,
              "#7201a8"
             ],
             [
              0.3333333333333333,
              "#9c179e"
             ],
             [
              0.4444444444444444,
              "#bd3786"
             ],
             [
              0.5555555555555556,
              "#d8576b"
             ],
             [
              0.6666666666666666,
              "#ed7953"
             ],
             [
              0.7777777777777778,
              "#fb9f3a"
             ],
             [
              0.8888888888888888,
              "#fdca26"
             ],
             [
              1,
              "#f0f921"
             ]
            ],
            "type": "heatmap"
           }
          ],
          "heatmapgl": [
           {
            "colorbar": {
             "outlinewidth": 0,
             "ticks": ""
            },
            "colorscale": [
             [
              0,
              "#0d0887"
             ],
             [
              0.1111111111111111,
              "#46039f"
             ],
             [
              0.2222222222222222,
              "#7201a8"
             ],
             [
              0.3333333333333333,
              "#9c179e"
             ],
             [
              0.4444444444444444,
              "#bd3786"
             ],
             [
              0.5555555555555556,
              "#d8576b"
             ],
             [
              0.6666666666666666,
              "#ed7953"
             ],
             [
              0.7777777777777778,
              "#fb9f3a"
             ],
             [
              0.8888888888888888,
              "#fdca26"
             ],
             [
              1,
              "#f0f921"
             ]
            ],
            "type": "heatmapgl"
           }
          ],
          "histogram": [
           {
            "marker": {
             "colorbar": {
              "outlinewidth": 0,
              "ticks": ""
             }
            },
            "type": "histogram"
           }
          ],
          "histogram2d": [
           {
            "colorbar": {
             "outlinewidth": 0,
             "ticks": ""
            },
            "colorscale": [
             [
              0,
              "#0d0887"
             ],
             [
              0.1111111111111111,
              "#46039f"
             ],
             [
              0.2222222222222222,
              "#7201a8"
             ],
             [
              0.3333333333333333,
              "#9c179e"
             ],
             [
              0.4444444444444444,
              "#bd3786"
             ],
             [
              0.5555555555555556,
              "#d8576b"
             ],
             [
              0.6666666666666666,
              "#ed7953"
             ],
             [
              0.7777777777777778,
              "#fb9f3a"
             ],
             [
              0.8888888888888888,
              "#fdca26"
             ],
             [
              1,
              "#f0f921"
             ]
            ],
            "type": "histogram2d"
           }
          ],
          "histogram2dcontour": [
           {
            "colorbar": {
             "outlinewidth": 0,
             "ticks": ""
            },
            "colorscale": [
             [
              0,
              "#0d0887"
             ],
             [
              0.1111111111111111,
              "#46039f"
             ],
             [
              0.2222222222222222,
              "#7201a8"
             ],
             [
              0.3333333333333333,
              "#9c179e"
             ],
             [
              0.4444444444444444,
              "#bd3786"
             ],
             [
              0.5555555555555556,
              "#d8576b"
             ],
             [
              0.6666666666666666,
              "#ed7953"
             ],
             [
              0.7777777777777778,
              "#fb9f3a"
             ],
             [
              0.8888888888888888,
              "#fdca26"
             ],
             [
              1,
              "#f0f921"
             ]
            ],
            "type": "histogram2dcontour"
           }
          ],
          "mesh3d": [
           {
            "colorbar": {
             "outlinewidth": 0,
             "ticks": ""
            },
            "type": "mesh3d"
           }
          ],
          "parcoords": [
           {
            "line": {
             "colorbar": {
              "outlinewidth": 0,
              "ticks": ""
             }
            },
            "type": "parcoords"
           }
          ],
          "pie": [
           {
            "automargin": true,
            "type": "pie"
           }
          ],
          "scatter": [
           {
            "marker": {
             "colorbar": {
              "outlinewidth": 0,
              "ticks": ""
             }
            },
            "type": "scatter"
           }
          ],
          "scatter3d": [
           {
            "line": {
             "colorbar": {
              "outlinewidth": 0,
              "ticks": ""
             }
            },
            "marker": {
             "colorbar": {
              "outlinewidth": 0,
              "ticks": ""
             }
            },
            "type": "scatter3d"
           }
          ],
          "scattercarpet": [
           {
            "marker": {
             "colorbar": {
              "outlinewidth": 0,
              "ticks": ""
             }
            },
            "type": "scattercarpet"
           }
          ],
          "scattergeo": [
           {
            "marker": {
             "colorbar": {
              "outlinewidth": 0,
              "ticks": ""
             }
            },
            "type": "scattergeo"
           }
          ],
          "scattergl": [
           {
            "marker": {
             "colorbar": {
              "outlinewidth": 0,
              "ticks": ""
             }
            },
            "type": "scattergl"
           }
          ],
          "scattermapbox": [
           {
            "marker": {
             "colorbar": {
              "outlinewidth": 0,
              "ticks": ""
             }
            },
            "type": "scattermapbox"
           }
          ],
          "scatterpolar": [
           {
            "marker": {
             "colorbar": {
              "outlinewidth": 0,
              "ticks": ""
             }
            },
            "type": "scatterpolar"
           }
          ],
          "scatterpolargl": [
           {
            "marker": {
             "colorbar": {
              "outlinewidth": 0,
              "ticks": ""
             }
            },
            "type": "scatterpolargl"
           }
          ],
          "scatterternary": [
           {
            "marker": {
             "colorbar": {
              "outlinewidth": 0,
              "ticks": ""
             }
            },
            "type": "scatterternary"
           }
          ],
          "surface": [
           {
            "colorbar": {
             "outlinewidth": 0,
             "ticks": ""
            },
            "colorscale": [
             [
              0,
              "#0d0887"
             ],
             [
              0.1111111111111111,
              "#46039f"
             ],
             [
              0.2222222222222222,
              "#7201a8"
             ],
             [
              0.3333333333333333,
              "#9c179e"
             ],
             [
              0.4444444444444444,
              "#bd3786"
             ],
             [
              0.5555555555555556,
              "#d8576b"
             ],
             [
              0.6666666666666666,
              "#ed7953"
             ],
             [
              0.7777777777777778,
              "#fb9f3a"
             ],
             [
              0.8888888888888888,
              "#fdca26"
             ],
             [
              1,
              "#f0f921"
             ]
            ],
            "type": "surface"
           }
          ],
          "table": [
           {
            "cells": {
             "fill": {
              "color": "#EBF0F8"
             },
             "line": {
              "color": "white"
             }
            },
            "header": {
             "fill": {
              "color": "#C8D4E3"
             },
             "line": {
              "color": "white"
             }
            },
            "type": "table"
           }
          ]
         },
         "layout": {
          "annotationdefaults": {
           "arrowcolor": "#2a3f5f",
           "arrowhead": 0,
           "arrowwidth": 1
          },
          "coloraxis": {
           "colorbar": {
            "outlinewidth": 0,
            "ticks": ""
           }
          },
          "colorscale": {
           "diverging": [
            [
             0,
             "#8e0152"
            ],
            [
             0.1,
             "#c51b7d"
            ],
            [
             0.2,
             "#de77ae"
            ],
            [
             0.3,
             "#f1b6da"
            ],
            [
             0.4,
             "#fde0ef"
            ],
            [
             0.5,
             "#f7f7f7"
            ],
            [
             0.6,
             "#e6f5d0"
            ],
            [
             0.7,
             "#b8e186"
            ],
            [
             0.8,
             "#7fbc41"
            ],
            [
             0.9,
             "#4d9221"
            ],
            [
             1,
             "#276419"
            ]
           ],
           "sequential": [
            [
             0,
             "#0d0887"
            ],
            [
             0.1111111111111111,
             "#46039f"
            ],
            [
             0.2222222222222222,
             "#7201a8"
            ],
            [
             0.3333333333333333,
             "#9c179e"
            ],
            [
             0.4444444444444444,
             "#bd3786"
            ],
            [
             0.5555555555555556,
             "#d8576b"
            ],
            [
             0.6666666666666666,
             "#ed7953"
            ],
            [
             0.7777777777777778,
             "#fb9f3a"
            ],
            [
             0.8888888888888888,
             "#fdca26"
            ],
            [
             1,
             "#f0f921"
            ]
           ],
           "sequentialminus": [
            [
             0,
             "#0d0887"
            ],
            [
             0.1111111111111111,
             "#46039f"
            ],
            [
             0.2222222222222222,
             "#7201a8"
            ],
            [
             0.3333333333333333,
             "#9c179e"
            ],
            [
             0.4444444444444444,
             "#bd3786"
            ],
            [
             0.5555555555555556,
             "#d8576b"
            ],
            [
             0.6666666666666666,
             "#ed7953"
            ],
            [
             0.7777777777777778,
             "#fb9f3a"
            ],
            [
             0.8888888888888888,
             "#fdca26"
            ],
            [
             1,
             "#f0f921"
            ]
           ]
          },
          "colorway": [
           "#636efa",
           "#EF553B",
           "#00cc96",
           "#ab63fa",
           "#FFA15A",
           "#19d3f3",
           "#FF6692",
           "#B6E880",
           "#FF97FF",
           "#FECB52"
          ],
          "font": {
           "color": "#2a3f5f"
          },
          "geo": {
           "bgcolor": "white",
           "lakecolor": "white",
           "landcolor": "#E5ECF6",
           "showlakes": true,
           "showland": true,
           "subunitcolor": "white"
          },
          "hoverlabel": {
           "align": "left"
          },
          "hovermode": "closest",
          "mapbox": {
           "style": "light"
          },
          "paper_bgcolor": "white",
          "plot_bgcolor": "#E5ECF6",
          "polar": {
           "angularaxis": {
            "gridcolor": "white",
            "linecolor": "white",
            "ticks": ""
           },
           "bgcolor": "#E5ECF6",
           "radialaxis": {
            "gridcolor": "white",
            "linecolor": "white",
            "ticks": ""
           }
          },
          "scene": {
           "xaxis": {
            "backgroundcolor": "#E5ECF6",
            "gridcolor": "white",
            "gridwidth": 2,
            "linecolor": "white",
            "showbackground": true,
            "ticks": "",
            "zerolinecolor": "white"
           },
           "yaxis": {
            "backgroundcolor": "#E5ECF6",
            "gridcolor": "white",
            "gridwidth": 2,
            "linecolor": "white",
            "showbackground": true,
            "ticks": "",
            "zerolinecolor": "white"
           },
           "zaxis": {
            "backgroundcolor": "#E5ECF6",
            "gridcolor": "white",
            "gridwidth": 2,
            "linecolor": "white",
            "showbackground": true,
            "ticks": "",
            "zerolinecolor": "white"
           }
          },
          "shapedefaults": {
           "line": {
            "color": "#2a3f5f"
           }
          },
          "ternary": {
           "aaxis": {
            "gridcolor": "white",
            "linecolor": "white",
            "ticks": ""
           },
           "baxis": {
            "gridcolor": "white",
            "linecolor": "white",
            "ticks": ""
           },
           "bgcolor": "#E5ECF6",
           "caxis": {
            "gridcolor": "white",
            "linecolor": "white",
            "ticks": ""
           }
          },
          "title": {
           "x": 0.05
          },
          "xaxis": {
           "automargin": true,
           "gridcolor": "white",
           "linecolor": "white",
           "ticks": "",
           "title": {
            "standoff": 15
           },
           "zerolinecolor": "white",
           "zerolinewidth": 2
          },
          "yaxis": {
           "automargin": true,
           "gridcolor": "white",
           "linecolor": "white",
           "ticks": "",
           "title": {
            "standoff": 15
           },
           "zerolinecolor": "white",
           "zerolinewidth": 2
          }
         }
        },
        "title": {
         "text": "Amazon Historical Price <br> <i>A closer look to the upward trend </i>"
        },
        "xaxis": {
         "rangeslider": {
          "visible": false
         },
         "title": {
          "text": "Date"
         }
        },
        "yaxis": {
         "title": {
          "text": "Stock Price (USD$)"
         }
        }
       }
      },
      "text/html": [
       "<div>                            <div id=\"39c4cd31-9918-4d2f-9eeb-b911b749d1b4\" class=\"plotly-graph-div\" style=\"height:525px; width:100%;\"></div>            <script type=\"text/javascript\">                require([\"plotly\"], function(Plotly) {                    window.PLOTLYENV=window.PLOTLYENV || {};                                    if (document.getElementById(\"39c4cd31-9918-4d2f-9eeb-b911b749d1b4\")) {                    Plotly.newPlot(                        \"39c4cd31-9918-4d2f-9eeb-b911b749d1b4\",                        [{\"close\": [1189.01, 1204.2, 1209.59, 1229.14, 1246.87, 1252.7, 1254.33, 1276.68, 1305.2, 1304.86, 1295.0, 1293.32, 1294.58, 1327.31, 1362.54, 1357.51, 1377.95, 1402.05, 1417.68, 1437.82, 1450.89, 1390.0, 1429.95, 1390.0, 1442.84, 1416.78], \"decreasing\": {\"line\": {\"color\": \"#FA5858\"}}, \"high\": [1190.0, 1205.49, 1215.87, 1229.14, 1253.08, 1259.33, 1254.33, 1276.77, 1305.76, 1339.94, 1314.0, 1304.6, 1313.0, 1327.45, 1364.9, 1388.16, 1378.34, 1402.53, 1431.39, 1439.25, 1472.58, 1459.88, 1498.0, 1458.98, 1443.99, 1460.99], \"increasing\": {\"line\": {\"color\": \"#58FA58\"}}, \"low\": [1170.51, 1188.3, 1204.66, 1210.0, 1232.03, 1241.76, 1237.23, 1256.46, 1273.39, 1292.3, 1280.88, 1284.02, 1292.99, 1296.66, 1337.34, 1338.0, 1357.62, 1380.91, 1400.44, 1392.0, 1450.04, 1385.14, 1414.0, 1320.72, 1351.79, 1415.15], \"open\": [1172.0, 1188.3, 1205.0, 1217.51, 1236.0, 1256.9, 1245.15, 1259.74, 1273.39, 1323.0, 1312.24, 1293.95, 1312.0, 1297.17, 1338.09, 1374.82, 1368.0, 1392.01, 1409.18, 1403.17, 1451.3, 1445.0, 1477.39, 1402.62, 1361.46, 1449.0], \"type\": \"candlestick\", \"x\": [\"2018-01-02T00:00:00\", \"2018-01-03T00:00:00\", \"2018-01-04T00:00:00\", \"2018-01-05T00:00:00\", \"2018-01-08T00:00:00\", \"2018-01-09T00:00:00\", \"2018-01-10T00:00:00\", \"2018-01-11T00:00:00\", \"2018-01-12T00:00:00\", \"2018-01-16T00:00:00\", \"2018-01-17T00:00:00\", \"2018-01-18T00:00:00\", \"2018-01-19T00:00:00\", \"2018-01-22T00:00:00\", \"2018-01-23T00:00:00\", \"2018-01-24T00:00:00\", \"2018-01-25T00:00:00\", \"2018-01-26T00:00:00\", \"2018-01-29T00:00:00\", \"2018-01-30T00:00:00\", \"2018-01-31T00:00:00\", \"2018-02-01T00:00:00\", \"2018-02-02T00:00:00\", \"2018-02-05T00:00:00\", \"2018-02-06T00:00:00\", \"2018-02-07T00:00:00\"]}],                        {\"template\": {\"data\": {\"bar\": [{\"error_x\": {\"color\": \"#2a3f5f\"}, \"error_y\": {\"color\": \"#2a3f5f\"}, \"marker\": {\"line\": {\"color\": \"#E5ECF6\", \"width\": 0.5}}, \"type\": \"bar\"}], \"barpolar\": [{\"marker\": {\"line\": {\"color\": \"#E5ECF6\", \"width\": 0.5}}, \"type\": \"barpolar\"}], \"carpet\": [{\"aaxis\": {\"endlinecolor\": \"#2a3f5f\", \"gridcolor\": \"white\", \"linecolor\": \"white\", \"minorgridcolor\": \"white\", \"startlinecolor\": \"#2a3f5f\"}, \"baxis\": {\"endlinecolor\": \"#2a3f5f\", \"gridcolor\": \"white\", \"linecolor\": \"white\", \"minorgridcolor\": \"white\", \"startlinecolor\": \"#2a3f5f\"}, \"type\": \"carpet\"}], \"choropleth\": [{\"colorbar\": {\"outlinewidth\": 0, \"ticks\": \"\"}, \"type\": \"choropleth\"}], \"contour\": [{\"colorbar\": {\"outlinewidth\": 0, \"ticks\": \"\"}, \"colorscale\": [[0.0, \"#0d0887\"], [0.1111111111111111, \"#46039f\"], [0.2222222222222222, \"#7201a8\"], [0.3333333333333333, \"#9c179e\"], [0.4444444444444444, \"#bd3786\"], [0.5555555555555556, \"#d8576b\"], [0.6666666666666666, \"#ed7953\"], [0.7777777777777778, \"#fb9f3a\"], [0.8888888888888888, \"#fdca26\"], [1.0, \"#f0f921\"]], \"type\": \"contour\"}], \"contourcarpet\": [{\"colorbar\": {\"outlinewidth\": 0, \"ticks\": \"\"}, \"type\": \"contourcarpet\"}], \"heatmap\": [{\"colorbar\": {\"outlinewidth\": 0, \"ticks\": \"\"}, \"colorscale\": [[0.0, \"#0d0887\"], [0.1111111111111111, \"#46039f\"], [0.2222222222222222, \"#7201a8\"], [0.3333333333333333, \"#9c179e\"], [0.4444444444444444, \"#bd3786\"], [0.5555555555555556, \"#d8576b\"], [0.6666666666666666, \"#ed7953\"], [0.7777777777777778, \"#fb9f3a\"], [0.8888888888888888, \"#fdca26\"], [1.0, \"#f0f921\"]], \"type\": \"heatmap\"}], \"heatmapgl\": [{\"colorbar\": {\"outlinewidth\": 0, \"ticks\": \"\"}, \"colorscale\": [[0.0, \"#0d0887\"], [0.1111111111111111, \"#46039f\"], [0.2222222222222222, \"#7201a8\"], [0.3333333333333333, \"#9c179e\"], [0.4444444444444444, \"#bd3786\"], [0.5555555555555556, \"#d8576b\"], [0.6666666666666666, \"#ed7953\"], [0.7777777777777778, \"#fb9f3a\"], [0.8888888888888888, \"#fdca26\"], [1.0, \"#f0f921\"]], \"type\": \"heatmapgl\"}], \"histogram\": [{\"marker\": {\"colorbar\": {\"outlinewidth\": 0, \"ticks\": \"\"}}, \"type\": \"histogram\"}], \"histogram2d\": [{\"colorbar\": {\"outlinewidth\": 0, \"ticks\": \"\"}, \"colorscale\": [[0.0, \"#0d0887\"], [0.1111111111111111, \"#46039f\"], [0.2222222222222222, \"#7201a8\"], [0.3333333333333333, \"#9c179e\"], [0.4444444444444444, \"#bd3786\"], [0.5555555555555556, \"#d8576b\"], [0.6666666666666666, \"#ed7953\"], [0.7777777777777778, \"#fb9f3a\"], [0.8888888888888888, \"#fdca26\"], [1.0, \"#f0f921\"]], \"type\": \"histogram2d\"}], \"histogram2dcontour\": [{\"colorbar\": {\"outlinewidth\": 0, \"ticks\": \"\"}, \"colorscale\": [[0.0, \"#0d0887\"], [0.1111111111111111, \"#46039f\"], [0.2222222222222222, \"#7201a8\"], [0.3333333333333333, \"#9c179e\"], [0.4444444444444444, \"#bd3786\"], [0.5555555555555556, \"#d8576b\"], [0.6666666666666666, \"#ed7953\"], [0.7777777777777778, \"#fb9f3a\"], [0.8888888888888888, \"#fdca26\"], [1.0, \"#f0f921\"]], \"type\": \"histogram2dcontour\"}], \"mesh3d\": [{\"colorbar\": {\"outlinewidth\": 0, \"ticks\": \"\"}, \"type\": \"mesh3d\"}], \"parcoords\": [{\"line\": {\"colorbar\": {\"outlinewidth\": 0, \"ticks\": \"\"}}, \"type\": \"parcoords\"}], \"pie\": [{\"automargin\": true, \"type\": \"pie\"}], \"scatter\": [{\"marker\": {\"colorbar\": {\"outlinewidth\": 0, \"ticks\": \"\"}}, \"type\": \"scatter\"}], \"scatter3d\": [{\"line\": {\"colorbar\": {\"outlinewidth\": 0, \"ticks\": \"\"}}, \"marker\": {\"colorbar\": {\"outlinewidth\": 0, \"ticks\": \"\"}}, \"type\": \"scatter3d\"}], \"scattercarpet\": [{\"marker\": {\"colorbar\": {\"outlinewidth\": 0, \"ticks\": \"\"}}, \"type\": \"scattercarpet\"}], \"scattergeo\": [{\"marker\": {\"colorbar\": {\"outlinewidth\": 0, \"ticks\": \"\"}}, \"type\": \"scattergeo\"}], \"scattergl\": [{\"marker\": {\"colorbar\": {\"outlinewidth\": 0, \"ticks\": \"\"}}, \"type\": \"scattergl\"}], \"scattermapbox\": [{\"marker\": {\"colorbar\": {\"outlinewidth\": 0, \"ticks\": \"\"}}, \"type\": \"scattermapbox\"}], \"scatterpolar\": [{\"marker\": {\"colorbar\": {\"outlinewidth\": 0, \"ticks\": \"\"}}, \"type\": \"scatterpolar\"}], \"scatterpolargl\": [{\"marker\": {\"colorbar\": {\"outlinewidth\": 0, \"ticks\": \"\"}}, \"type\": \"scatterpolargl\"}], \"scatterternary\": [{\"marker\": {\"colorbar\": {\"outlinewidth\": 0, \"ticks\": \"\"}}, \"type\": \"scatterternary\"}], \"surface\": [{\"colorbar\": {\"outlinewidth\": 0, \"ticks\": \"\"}, \"colorscale\": [[0.0, \"#0d0887\"], [0.1111111111111111, \"#46039f\"], [0.2222222222222222, \"#7201a8\"], [0.3333333333333333, \"#9c179e\"], [0.4444444444444444, \"#bd3786\"], [0.5555555555555556, \"#d8576b\"], [0.6666666666666666, \"#ed7953\"], [0.7777777777777778, \"#fb9f3a\"], [0.8888888888888888, \"#fdca26\"], [1.0, \"#f0f921\"]], \"type\": \"surface\"}], \"table\": [{\"cells\": {\"fill\": {\"color\": \"#EBF0F8\"}, \"line\": {\"color\": \"white\"}}, \"header\": {\"fill\": {\"color\": \"#C8D4E3\"}, \"line\": {\"color\": \"white\"}}, \"type\": \"table\"}]}, \"layout\": {\"annotationdefaults\": {\"arrowcolor\": \"#2a3f5f\", \"arrowhead\": 0, \"arrowwidth\": 1}, \"coloraxis\": {\"colorbar\": {\"outlinewidth\": 0, \"ticks\": \"\"}}, \"colorscale\": {\"diverging\": [[0, \"#8e0152\"], [0.1, \"#c51b7d\"], [0.2, \"#de77ae\"], [0.3, \"#f1b6da\"], [0.4, \"#fde0ef\"], [0.5, \"#f7f7f7\"], [0.6, \"#e6f5d0\"], [0.7, \"#b8e186\"], [0.8, \"#7fbc41\"], [0.9, \"#4d9221\"], [1, \"#276419\"]], \"sequential\": [[0.0, \"#0d0887\"], [0.1111111111111111, \"#46039f\"], [0.2222222222222222, \"#7201a8\"], [0.3333333333333333, \"#9c179e\"], [0.4444444444444444, \"#bd3786\"], [0.5555555555555556, \"#d8576b\"], [0.6666666666666666, \"#ed7953\"], [0.7777777777777778, \"#fb9f3a\"], [0.8888888888888888, \"#fdca26\"], [1.0, \"#f0f921\"]], \"sequentialminus\": [[0.0, \"#0d0887\"], [0.1111111111111111, \"#46039f\"], [0.2222222222222222, \"#7201a8\"], [0.3333333333333333, \"#9c179e\"], [0.4444444444444444, \"#bd3786\"], [0.5555555555555556, \"#d8576b\"], [0.6666666666666666, \"#ed7953\"], [0.7777777777777778, \"#fb9f3a\"], [0.8888888888888888, \"#fdca26\"], [1.0, \"#f0f921\"]]}, \"colorway\": [\"#636efa\", \"#EF553B\", \"#00cc96\", \"#ab63fa\", \"#FFA15A\", \"#19d3f3\", \"#FF6692\", \"#B6E880\", \"#FF97FF\", \"#FECB52\"], \"font\": {\"color\": \"#2a3f5f\"}, \"geo\": {\"bgcolor\": \"white\", \"lakecolor\": \"white\", \"landcolor\": \"#E5ECF6\", \"showlakes\": true, \"showland\": true, \"subunitcolor\": \"white\"}, \"hoverlabel\": {\"align\": \"left\"}, \"hovermode\": \"closest\", \"mapbox\": {\"style\": \"light\"}, \"paper_bgcolor\": \"white\", \"plot_bgcolor\": \"#E5ECF6\", \"polar\": {\"angularaxis\": {\"gridcolor\": \"white\", \"linecolor\": \"white\", \"ticks\": \"\"}, \"bgcolor\": \"#E5ECF6\", \"radialaxis\": {\"gridcolor\": \"white\", \"linecolor\": \"white\", \"ticks\": \"\"}}, \"scene\": {\"xaxis\": {\"backgroundcolor\": \"#E5ECF6\", \"gridcolor\": \"white\", \"gridwidth\": 2, \"linecolor\": \"white\", \"showbackground\": true, \"ticks\": \"\", \"zerolinecolor\": \"white\"}, \"yaxis\": {\"backgroundcolor\": \"#E5ECF6\", \"gridcolor\": \"white\", \"gridwidth\": 2, \"linecolor\": \"white\", \"showbackground\": true, \"ticks\": \"\", \"zerolinecolor\": \"white\"}, \"zaxis\": {\"backgroundcolor\": \"#E5ECF6\", \"gridcolor\": \"white\", \"gridwidth\": 2, \"linecolor\": \"white\", \"showbackground\": true, \"ticks\": \"\", \"zerolinecolor\": \"white\"}}, \"shapedefaults\": {\"line\": {\"color\": \"#2a3f5f\"}}, \"ternary\": {\"aaxis\": {\"gridcolor\": \"white\", \"linecolor\": \"white\", \"ticks\": \"\"}, \"baxis\": {\"gridcolor\": \"white\", \"linecolor\": \"white\", \"ticks\": \"\"}, \"bgcolor\": \"#E5ECF6\", \"caxis\": {\"gridcolor\": \"white\", \"linecolor\": \"white\", \"ticks\": \"\"}}, \"title\": {\"x\": 0.05}, \"xaxis\": {\"automargin\": true, \"gridcolor\": \"white\", \"linecolor\": \"white\", \"ticks\": \"\", \"title\": {\"standoff\": 15}, \"zerolinecolor\": \"white\", \"zerolinewidth\": 2}, \"yaxis\": {\"automargin\": true, \"gridcolor\": \"white\", \"linecolor\": \"white\", \"ticks\": \"\", \"title\": {\"standoff\": 15}, \"zerolinecolor\": \"white\", \"zerolinewidth\": 2}}}, \"title\": {\"text\": \"Amazon Historical Price <br> <i>A closer look to the upward trend </i>\"}, \"xaxis\": {\"rangeslider\": {\"visible\": false}, \"title\": {\"text\": \"Date\"}}, \"yaxis\": {\"title\": {\"text\": \"Stock Price (USD$)\"}}},                        {\"responsive\": true}                    ).then(function(){\n",
       "                            \n",
       "var gd = document.getElementById('39c4cd31-9918-4d2f-9eeb-b911b749d1b4');\n",
       "var x = new MutationObserver(function (mutations, observer) {{\n",
       "        var display = window.getComputedStyle(gd).display;\n",
       "        if (!display || display === 'none') {{\n",
       "            console.log([gd, 'removed!']);\n",
       "            Plotly.purge(gd);\n",
       "            observer.disconnect();\n",
       "        }}\n",
       "}});\n",
       "\n",
       "// Listen for the removal of the full notebook cells\n",
       "var notebookContainer = gd.closest('#notebook-container');\n",
       "if (notebookContainer) {{\n",
       "    x.observe(notebookContainer, {childList: true});\n",
       "}}\n",
       "\n",
       "// Listen for the clearing of the current output cell\n",
       "var outputEl = gd.closest('.output');\n",
       "if (outputEl) {{\n",
       "    x.observe(outputEl, {childList: true});\n",
       "}}\n",
       "\n",
       "                        })                };                });            </script>        </div>"
      ]
     },
     "metadata": {},
     "output_type": "display_data"
    }
   ],
   "source": [
    "amzn['month_year'] = pd.to_datetime(amzn['date']).dt.to_period('M')\n",
    "\n",
    "# 2017 onwards\n",
    "last_year = amzn.loc[amzn['date'].dt.year > 2017]\n",
    "g = last_year.groupby([\"date\"])\n",
    "monthly_averages = g.aggregate({\"open\": np.mean, \"high\": np.mean, \"low\": np.mean, \"close\":np.mean})\n",
    "monthly_averages.reset_index(level=0, inplace=True)\n",
    "\n",
    "monthly_averages.dtypes\n",
    "\n",
    "trace = go.Candlestick(x=monthly_averages['date'],\n",
    "                       open=monthly_averages['open'].values.tolist(),\n",
    "                       high=monthly_averages['high'].values.tolist(),\n",
    "                       low=monthly_averages['low'].values.tolist(),\n",
    "                       close=monthly_averages['close'].values.tolist(),\n",
    "                      increasing=dict(line=dict(color= '#58FA58')),\n",
    "                decreasing=dict(line=dict(color= '#FA5858')))\n",
    "layout = {\n",
    "    'title': 'Amazon Historical Price <br> <i>A closer look to the upward trend </i>',\n",
    "    'xaxis': {'title': 'Date',\n",
    "             'rangeslider': {'visible': False}},\n",
    "    'yaxis': {'title': 'Stock Price (USD$)'}\n",
    "}\n",
    "\n",
    "data = [trace]\n",
    "\n",
    "fig = go.Figure(data=data, layout=layout)\n",
    "iplot(fig, filename='simple_ohlc')\n"
   ]
  },
  {
   "cell_type": "code",
   "execution_count": 22,
   "metadata": {},
   "outputs": [
    {
     "name": "stdout",
     "output_type": "stream",
     "text": [
      "<class 'pandas.core.frame.DataFrame'>\n",
      "RangeIndex: 619040 entries, 0 to 619039\n",
      "Data columns (total 10 columns):\n",
      " #   Column     Non-Null Count   Dtype         \n",
      "---  ------     --------------   -----         \n",
      " 0   date       619040 non-null  datetime64[ns]\n",
      " 1   open       619040 non-null  float64       \n",
      " 2   high       619040 non-null  float64       \n",
      " 3   low        619040 non-null  float64       \n",
      " 4   close      619040 non-null  float64       \n",
      " 5   volume     619040 non-null  int64         \n",
      " 6   Ticks      619040 non-null  object        \n",
      " 7   Year       619040 non-null  int64         \n",
      " 8   Month      619040 non-null  object        \n",
      " 9   Week_Days  619040 non-null  object        \n",
      "dtypes: datetime64[ns](1), float64(4), int64(2), object(3)\n",
      "memory usage: 47.2+ MB\n"
     ]
    }
   ],
   "source": [
    "dataset.info()"
   ]
  },
  {
   "cell_type": "code",
   "execution_count": 23,
   "metadata": {},
   "outputs": [
    {
     "data": {
      "text/plain": [
       "<seaborn.axisgrid.JointGrid at 0x2c092a9ff88>"
      ]
     },
     "execution_count": 23,
     "metadata": {},
     "output_type": "execute_result"
    },
    {
     "data": {
      "image/png": "[encoded data removed]",
      "text/plain": [
       "<Figure size 432x432 with 3 Axes>"
      ]
     },
     "metadata": {
      "needs_background": "light"
     },
     "output_type": "display_data"
    },
    {
     "data": {
      "image/png": "[encoded data removed]",
      "text/plain": [
       "<Figure size 432x432 with 3 Axes>"
      ]
     },
     "metadata": {
      "needs_background": "light"
     },
     "output_type": "display_data"
    },
    {
     "data": {
      "image/png": "[encoded data removed]",
      "text/plain": [
       "<Figure size 432x432 with 3 Axes>"
      ]
     },
     "metadata": {
      "needs_background": "light"
     },
     "output_type": "display_data"
    },
    {
     "data": {
      "image/png": "[encoded data removed]",
      "text/plain": [
       "<Figure size 432x432 with 3 Axes>"
      ]
     },
     "metadata": {
      "needs_background": "light"
     },
     "output_type": "display_data"
    }
   ],
   "source": [
    "sns.jointplot(x='open',y ='close', data =amzn, color ='red')\n",
    "sns.jointplot(x='high',y ='low', data =amzn, color ='red'),\n",
    "sns.jointplot(x='open',y ='volume', data =amzn, color ='red')\n",
    "sns.jointplot(x='high',y ='volume', data =amzn, color ='red')"
   ]
  },
  {
   "cell_type": "code",
   "execution_count": 24,
   "metadata": {},
   "outputs": [],
   "source": [
    "# Prediction 100 days into the future.\n",
    "future_days = 100\n",
    "amzn['RSI'] = amzn['close'].shift(-future_days)\n",
    "amzn['DIFF1'] = amzn['close'].diff().values\n",
    "amzn['DIFF2'] = amzn['close'].diff(2).values\n",
    "amzn['DIFF3'] = amzn['close'].diff(3).values\n",
    "amzn['DIFF4'] = amzn['close'].diff(4).values"
   ]
  },
  {
   "cell_type": "code",
   "execution_count": 25,
   "metadata": {},
   "outputs": [
    {
     "data": {
      "text/html": [
       "<div>\n",
       "<style scoped>\n",
       "    .dataframe tbody tr th:only-of-type {\n",
       "        vertical-align: middle;\n",
       "    }\n",
       "\n",
       "    .dataframe tbody tr th {\n",
       "        vertical-align: top;\n",
       "    }\n",
       "\n",
       "    .dataframe thead th {\n",
       "        text-align: right;\n",
       "    }\n",
       "</style>\n",
       "<table border=\"1\" class=\"dataframe\">\n",
       "  <thead>\n",
       "    <tr style=\"text-align: right;\">\n",
       "      <th></th>\n",
       "      <th>date</th>\n",
       "      <th>open</th>\n",
       "      <th>high</th>\n",
       "      <th>low</th>\n",
       "      <th>close</th>\n",
       "      <th>volume</th>\n",
       "      <th>Ticks</th>\n",
       "      <th>Year</th>\n",
       "      <th>Month</th>\n",
       "      <th>Week_Days</th>\n",
       "      <th>month_year</th>\n",
       "      <th>RSI</th>\n",
       "      <th>DIFF1</th>\n",
       "      <th>DIFF2</th>\n",
       "      <th>DIFF3</th>\n",
       "      <th>DIFF4</th>\n",
       "    </tr>\n",
       "  </thead>\n",
       "  <tbody>\n",
       "    <tr>\n",
       "      <th>47641</th>\n",
       "      <td>2018-02-01</td>\n",
       "      <td>1445.00</td>\n",
       "      <td>1459.88</td>\n",
       "      <td>1385.14</td>\n",
       "      <td>1390.00</td>\n",
       "      <td>9113808</td>\n",
       "      <td>AMZN</td>\n",
       "      <td>2018</td>\n",
       "      <td>February</td>\n",
       "      <td>Thursday</td>\n",
       "      <td>2018-02</td>\n",
       "      <td>NaN</td>\n",
       "      <td>-60.89</td>\n",
       "      <td>-47.82</td>\n",
       "      <td>-27.68</td>\n",
       "      <td>-12.05</td>\n",
       "    </tr>\n",
       "    <tr>\n",
       "      <th>47642</th>\n",
       "      <td>2018-02-02</td>\n",
       "      <td>1477.39</td>\n",
       "      <td>1498.00</td>\n",
       "      <td>1414.00</td>\n",
       "      <td>1429.95</td>\n",
       "      <td>11125722</td>\n",
       "      <td>AMZN</td>\n",
       "      <td>2018</td>\n",
       "      <td>February</td>\n",
       "      <td>Friday</td>\n",
       "      <td>2018-02</td>\n",
       "      <td>NaN</td>\n",
       "      <td>39.95</td>\n",
       "      <td>-20.94</td>\n",
       "      <td>-7.87</td>\n",
       "      <td>12.27</td>\n",
       "    </tr>\n",
       "    <tr>\n",
       "      <th>47643</th>\n",
       "      <td>2018-02-05</td>\n",
       "      <td>1402.62</td>\n",
       "      <td>1458.98</td>\n",
       "      <td>1320.72</td>\n",
       "      <td>1390.00</td>\n",
       "      <td>11494985</td>\n",
       "      <td>AMZN</td>\n",
       "      <td>2018</td>\n",
       "      <td>February</td>\n",
       "      <td>Monday</td>\n",
       "      <td>2018-02</td>\n",
       "      <td>NaN</td>\n",
       "      <td>-39.95</td>\n",
       "      <td>0.00</td>\n",
       "      <td>-60.89</td>\n",
       "      <td>-47.82</td>\n",
       "    </tr>\n",
       "    <tr>\n",
       "      <th>47644</th>\n",
       "      <td>2018-02-06</td>\n",
       "      <td>1361.46</td>\n",
       "      <td>1443.99</td>\n",
       "      <td>1351.79</td>\n",
       "      <td>1442.84</td>\n",
       "      <td>11066819</td>\n",
       "      <td>AMZN</td>\n",
       "      <td>2018</td>\n",
       "      <td>February</td>\n",
       "      <td>Tuesday</td>\n",
       "      <td>2018-02</td>\n",
       "      <td>NaN</td>\n",
       "      <td>52.84</td>\n",
       "      <td>12.89</td>\n",
       "      <td>52.84</td>\n",
       "      <td>-8.05</td>\n",
       "    </tr>\n",
       "    <tr>\n",
       "      <th>47645</th>\n",
       "      <td>2018-02-07</td>\n",
       "      <td>1449.00</td>\n",
       "      <td>1460.99</td>\n",
       "      <td>1415.15</td>\n",
       "      <td>1416.78</td>\n",
       "      <td>7162741</td>\n",
       "      <td>AMZN</td>\n",
       "      <td>2018</td>\n",
       "      <td>February</td>\n",
       "      <td>Wednesday</td>\n",
       "      <td>2018-02</td>\n",
       "      <td>NaN</td>\n",
       "      <td>-26.06</td>\n",
       "      <td>26.78</td>\n",
       "      <td>-13.17</td>\n",
       "      <td>26.78</td>\n",
       "    </tr>\n",
       "  </tbody>\n",
       "</table>\n",
       "</div>"
      ],
      "text/plain": [
       "            date     open     high      low    close    volume Ticks  Year  \\\n",
       "47641 2018-02-01  1445.00  1459.88  1385.14  1390.00   9113808  AMZN  2018   \n",
       "47642 2018-02-02  1477.39  1498.00  1414.00  1429.95  11125722  AMZN  2018   \n",
       "47643 2018-02-05  1402.62  1458.98  1320.72  1390.00  11494985  AMZN  2018   \n",
       "47644 2018-02-06  1361.46  1443.99  1351.79  1442.84  11066819  AMZN  2018   \n",
       "47645 2018-02-07  1449.00  1460.99  1415.15  1416.78   7162741  AMZN  2018   \n",
       "\n",
       "          Month  Week_Days month_year  RSI  DIFF1  DIFF2  DIFF3  DIFF4  \n",
       "47641  February   Thursday    2018-02  NaN -60.89 -47.82 -27.68 -12.05  \n",
       "47642  February     Friday    2018-02  NaN  39.95 -20.94  -7.87  12.27  \n",
       "47643  February     Monday    2018-02  NaN -39.95   0.00 -60.89 -47.82  \n",
       "47644  February    Tuesday    2018-02  NaN  52.84  12.89  52.84  -8.05  \n",
       "47645  February  Wednesday    2018-02  NaN -26.06  26.78 -13.17  26.78  "
      ]
     },
     "execution_count": 25,
     "metadata": {},
     "output_type": "execute_result"
    }
   ],
   "source": [
    "amzn.tail()"
   ]
  },
  {
   "cell_type": "code",
   "execution_count": 26,
   "metadata": {},
   "outputs": [
    {
     "data": {
      "text/html": [
       "<div>\n",
       "<style scoped>\n",
       "    .dataframe tbody tr th:only-of-type {\n",
       "        vertical-align: middle;\n",
       "    }\n",
       "\n",
       "    .dataframe tbody tr th {\n",
       "        vertical-align: top;\n",
       "    }\n",
       "\n",
       "    .dataframe thead th {\n",
       "        text-align: right;\n",
       "    }\n",
       "</style>\n",
       "<table border=\"1\" class=\"dataframe\">\n",
       "  <thead>\n",
       "    <tr style=\"text-align: right;\">\n",
       "      <th></th>\n",
       "      <th>date</th>\n",
       "      <th>open</th>\n",
       "      <th>high</th>\n",
       "      <th>low</th>\n",
       "      <th>close</th>\n",
       "      <th>volume</th>\n",
       "      <th>Ticks</th>\n",
       "      <th>Year</th>\n",
       "      <th>Month</th>\n",
       "      <th>Week_Days</th>\n",
       "      <th>month_year</th>\n",
       "      <th>RSI</th>\n",
       "      <th>DIFF1</th>\n",
       "      <th>DIFF2</th>\n",
       "      <th>DIFF3</th>\n",
       "      <th>DIFF4</th>\n",
       "      <th>Trend</th>\n",
       "    </tr>\n",
       "  </thead>\n",
       "  <tbody>\n",
       "    <tr>\n",
       "      <th>46387</th>\n",
       "      <td>2013-02-08</td>\n",
       "      <td>261.40</td>\n",
       "      <td>265.25</td>\n",
       "      <td>260.555</td>\n",
       "      <td>261.95</td>\n",
       "      <td>3879078</td>\n",
       "      <td>AMZN</td>\n",
       "      <td>2013</td>\n",
       "      <td>February</td>\n",
       "      <td>Friday</td>\n",
       "      <td>2013-02</td>\n",
       "      <td>284.03</td>\n",
       "      <td>NaN</td>\n",
       "      <td>NaN</td>\n",
       "      <td>NaN</td>\n",
       "      <td>NaN</td>\n",
       "      <td>0</td>\n",
       "    </tr>\n",
       "    <tr>\n",
       "      <th>46388</th>\n",
       "      <td>2013-02-11</td>\n",
       "      <td>263.20</td>\n",
       "      <td>263.25</td>\n",
       "      <td>256.600</td>\n",
       "      <td>257.21</td>\n",
       "      <td>3403403</td>\n",
       "      <td>AMZN</td>\n",
       "      <td>2013</td>\n",
       "      <td>February</td>\n",
       "      <td>Monday</td>\n",
       "      <td>2013-02</td>\n",
       "      <td>285.88</td>\n",
       "      <td>-4.74</td>\n",
       "      <td>NaN</td>\n",
       "      <td>NaN</td>\n",
       "      <td>NaN</td>\n",
       "      <td>1</td>\n",
       "    </tr>\n",
       "    <tr>\n",
       "      <th>46389</th>\n",
       "      <td>2013-02-12</td>\n",
       "      <td>259.19</td>\n",
       "      <td>260.16</td>\n",
       "      <td>257.000</td>\n",
       "      <td>258.70</td>\n",
       "      <td>2938660</td>\n",
       "      <td>AMZN</td>\n",
       "      <td>2013</td>\n",
       "      <td>February</td>\n",
       "      <td>Tuesday</td>\n",
       "      <td>2013-02</td>\n",
       "      <td>290.59</td>\n",
       "      <td>1.49</td>\n",
       "      <td>-3.25</td>\n",
       "      <td>NaN</td>\n",
       "      <td>NaN</td>\n",
       "      <td>1</td>\n",
       "    </tr>\n",
       "    <tr>\n",
       "      <th>46390</th>\n",
       "      <td>2013-02-13</td>\n",
       "      <td>261.53</td>\n",
       "      <td>269.96</td>\n",
       "      <td>260.300</td>\n",
       "      <td>269.47</td>\n",
       "      <td>5292996</td>\n",
       "      <td>AMZN</td>\n",
       "      <td>2013</td>\n",
       "      <td>February</td>\n",
       "      <td>Wednesday</td>\n",
       "      <td>2013-02</td>\n",
       "      <td>291.53</td>\n",
       "      <td>10.77</td>\n",
       "      <td>12.26</td>\n",
       "      <td>7.52</td>\n",
       "      <td>NaN</td>\n",
       "      <td>0</td>\n",
       "    </tr>\n",
       "    <tr>\n",
       "      <th>46391</th>\n",
       "      <td>2013-02-14</td>\n",
       "      <td>267.37</td>\n",
       "      <td>270.65</td>\n",
       "      <td>265.400</td>\n",
       "      <td>269.24</td>\n",
       "      <td>3462780</td>\n",
       "      <td>AMZN</td>\n",
       "      <td>2013</td>\n",
       "      <td>February</td>\n",
       "      <td>Thursday</td>\n",
       "      <td>2013-02</td>\n",
       "      <td>292.33</td>\n",
       "      <td>-0.23</td>\n",
       "      <td>10.54</td>\n",
       "      <td>12.03</td>\n",
       "      <td>7.29</td>\n",
       "      <td>0</td>\n",
       "    </tr>\n",
       "  </tbody>\n",
       "</table>\n",
       "</div>"
      ],
      "text/plain": [
       "            date    open    high      low   close   volume Ticks  Year  \\\n",
       "46387 2013-02-08  261.40  265.25  260.555  261.95  3879078  AMZN  2013   \n",
       "46388 2013-02-11  263.20  263.25  256.600  257.21  3403403  AMZN  2013   \n",
       "46389 2013-02-12  259.19  260.16  257.000  258.70  2938660  AMZN  2013   \n",
       "46390 2013-02-13  261.53  269.96  260.300  269.47  5292996  AMZN  2013   \n",
       "46391 2013-02-14  267.37  270.65  265.400  269.24  3462780  AMZN  2013   \n",
       "\n",
       "          Month  Week_Days month_year     RSI  DIFF1  DIFF2  DIFF3  DIFF4  \\\n",
       "46387  February     Friday    2013-02  284.03    NaN    NaN    NaN    NaN   \n",
       "46388  February     Monday    2013-02  285.88  -4.74    NaN    NaN    NaN   \n",
       "46389  February    Tuesday    2013-02  290.59   1.49  -3.25    NaN    NaN   \n",
       "46390  February  Wednesday    2013-02  291.53  10.77  12.26   7.52    NaN   \n",
       "46391  February   Thursday    2013-02  292.33  -0.23  10.54  12.03   7.29   \n",
       "\n",
       "       Trend  \n",
       "46387      0  \n",
       "46388      1  \n",
       "46389      1  \n",
       "46390      0  \n",
       "46391      0  "
      ]
     },
     "execution_count": 26,
     "metadata": {},
     "output_type": "execute_result"
    }
   ],
   "source": [
    "amzn['Trend'] = np.where(amzn.close.shift(-1) > amzn.close, 1, 0)\n",
    "amzn.head()"
   ]
  },
  {
   "cell_type": "code",
   "execution_count": 27,
   "metadata": {},
   "outputs": [],
   "source": [
    "amzn.dropna(inplace=True)\n",
    "predictors_list = ['RSI','DIFF1','DIFF2','DIFF3','DIFF4']\n",
    "x = amzn[predictors_list]\n",
    "y = amzn.Trend"
   ]
  },
  {
   "cell_type": "code",
   "execution_count": 28,
   "metadata": {},
   "outputs": [
    {
     "data": {
      "text/plain": [
       "47541    1\n",
       "47542    1\n",
       "47543    1\n",
       "47544    0\n",
       "47545    0\n",
       "Name: Trend, dtype: int32"
      ]
     },
     "execution_count": 28,
     "metadata": {},
     "output_type": "execute_result"
    }
   ],
   "source": [
    "y.tail()"
   ]
  },
  {
   "cell_type": "code",
   "execution_count": 29,
   "metadata": {},
   "outputs": [
    {
     "name": "stdout",
     "output_type": "stream",
     "text": [
      "(808, 5) (808,)\n",
      "(347, 5) (347,)\n"
     ]
    }
   ],
   "source": [
    "from sklearn.model_selection import train_test_split\n",
    "x_train, x_test , y_train , y_test = train_test_split(x,y,test_size=0.3, random_state=42, stratify =y)\n",
    "print(x_train.shape, y_train.shape)\n",
    "print(x_test.shape, y_test.shape)"
   ]
  },
  {
   "cell_type": "code",
   "execution_count": 30,
   "metadata": {},
   "outputs": [
    {
     "data": {
      "text/plain": [
       "DecisionTreeClassifier(max_depth=3, min_samples_leaf=5)"
      ]
     },
     "execution_count": 30,
     "metadata": {},
     "output_type": "execute_result"
    }
   ],
   "source": [
    "from sklearn.tree import DecisionTreeClassifier\n",
    "dtr = DecisionTreeClassifier(criterion ='gini', max_depth=3, min_samples_leaf=5)\n",
    "dtr"
   ]
  },
  {
   "cell_type": "code",
   "execution_count": 31,
   "metadata": {},
   "outputs": [],
   "source": [
    "dtr = dtr.fit(x_train, y_train)"
   ]
  },
  {
   "cell_type": "code",
   "execution_count": 32,
   "metadata": {},
   "outputs": [],
   "source": [
    "y_pred =dtr.predict(x_test)"
   ]
  },
  {
   "cell_type": "code",
   "execution_count": 33,
   "metadata": {},
   "outputs": [
    {
     "name": "stdout",
     "output_type": "stream",
     "text": [
      "              precision    recall  f1-score   support\n",
      "\n",
      "           0       0.40      0.22      0.28       160\n",
      "           1       0.52      0.72      0.60       187\n",
      "\n",
      "    accuracy                           0.49       347\n",
      "   macro avg       0.46      0.47      0.44       347\n",
      "weighted avg       0.46      0.49      0.45       347\n",
      "\n"
     ]
    }
   ],
   "source": [
    "from sklearn.metrics import classification_report\n",
    "report = classification_report(y_test, y_pred)\n",
    "print(report)"
   ]
  },
  {
   "cell_type": "code",
   "execution_count": 34,
   "metadata": {},
   "outputs": [
    {
     "name": "stdout",
     "output_type": "stream",
     "text": [
      "Accuracy: 0.48703170028818443\n"
     ]
    }
   ],
   "source": [
    "from sklearn import metrics\n",
    "print(\"Accuracy:\",metrics.accuracy_score(y_test, y_pred))"
   ]
  },
  {
   "cell_type": "code",
   "execution_count": 35,
   "metadata": {},
   "outputs": [],
   "source": [
    "from sklearn.ensemble import RandomForestClassifier\n",
    "rfc=RandomForestClassifier(n_estimators=100)\n",
    "rfc.fit(x_train,y_train)\n",
    "y_pred=rfc.predict(x_test)"
   ]
  },
  {
   "cell_type": "code",
   "execution_count": 36,
   "metadata": {},
   "outputs": [
    {
     "name": "stdout",
     "output_type": "stream",
     "text": [
      "Accuracy: 0.5360230547550432\n"
     ]
    }
   ],
   "source": [
    "print(\"Accuracy:\",metrics.accuracy_score(y_test, y_pred))"
   ]
  },
  {
   "cell_type": "code",
   "execution_count": 37,
   "metadata": {},
   "outputs": [],
   "source": [
    "from sklearn.naive_bayes import GaussianNB\n",
    "gnb = GaussianNB()\n",
    "model = gnb.fit(x_train, y_train)"
   ]
  },
  {
   "cell_type": "code",
   "execution_count": 38,
   "metadata": {},
   "outputs": [
    {
     "name": "stdout",
     "output_type": "stream",
     "text": [
      "[1 0 1 1 1 0 1 1 1 1 1 1 1 0 1 1 1 0 1 1 1 1 0 0 1 1 1 1 0 0 0 1 1 1 1 1 1\n",
      " 0 1 1 0 1 1 1 1 1 1 1 1 1 0 1 1 1 1 1 1 1 0 1 1 1 1 0 1 0 1 1 1 1 1 1 1 1\n",
      " 0 1 0 1 1 1 1 1 1 1 1 1 1 1 0 1 1 0 1 1 1 1 1 1 1 1 0 1 0 1 1 1 1 1 1 1 1\n",
      " 1 1 1 1 1 1 1 1 1 1 1 0 1 1 1 1 1 0 1 1 1 0 1 1 1 1 1 1 1 1 0 0 0 1 1 1 1\n",
      " 1 0 0 0 1 1 1 1 1 1 1 1 0 1 1 1 1 1 1 1 1 1 1 1 1 1 1 0 1 1 1 1 1 1 1 1 1\n",
      " 1 1 1 1 1 1 1 1 1 1 1 1 1 0 1 0 1 1 1 1 1 1 0 1 1 1 1 1 1 1 1 1 1 1 1 1 0\n",
      " 1 1 1 1 1 1 1 1 0 1 0 1 1 0 0 0 1 0 0 0 1 1 1 1 1 1 1 1 1 1 1 1 1 1 1 1 1\n",
      " 1 1 1 1 1 1 1 1 1 1 1 1 1 1 1 1 1 1 0 1 1 1 1 0 1 1 1 1 1 1 1 1 1 1 1 1 1\n",
      " 1 1 1 1 1 1 0 1 1 1 1 1 0 1 1 1 1 1 1 1 1 1 0 1 1 0 1 0 1 1 1 1 1 1 1 1 1\n",
      " 1 1 1 1 1 1 1 1 1 1 1 1 1 1]\n"
     ]
    }
   ],
   "source": [
    "preds = gnb.predict(x_test)\n",
    "print(preds)"
   ]
  },
  {
   "cell_type": "code",
   "execution_count": 39,
   "metadata": {},
   "outputs": [
    {
     "name": "stdout",
     "output_type": "stream",
     "text": [
      "Accuracy: 0.5072046109510087\n"
     ]
    }
   ],
   "source": [
    "from sklearn import metrics\n",
    "print(\"Accuracy:\",metrics.accuracy_score(y_test, preds))"
   ]
  },
  {
   "cell_type": "markdown",
   "metadata": {},
   "source": [
    "Hence , RandomForestClassifier performing better"
   ]
  }
 ],
 "metadata": {
  "kernelspec": {
   "display_name": "Python 3",
   "language": "python",
   "name": "python3"
  },
  "language_info": {
   "codemirror_mode": {
    "name": "ipython",
    "version": 3
   },
   "file_extension": ".py",
   "mimetype": "text/x-python",
   "name": "python",
   "nbconvert_exporter": "python",
   "pygments_lexer": "ipython3",
   "version": "3.7.9"
  }
 },
 "nbformat": 4,
 "nbformat_minor": 4
}
